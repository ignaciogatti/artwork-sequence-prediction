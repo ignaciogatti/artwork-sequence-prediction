{
 "cells": [
  {
   "cell_type": "markdown",
   "metadata": {},
   "source": [
    "# Artist representation\n",
    "\n",
    "The goal of this notebook is to generate an artist representation based on his work"
   ]
  },
  {
   "cell_type": "code",
   "execution_count": null,
   "metadata": {},
   "outputs": [],
   "source": [
    "import pandas as pd\n",
    "import numpy as np\n",
    "import os"
   ]
  },
  {
   "cell_type": "code",
   "execution_count": null,
   "metadata": {},
   "outputs": [],
   "source": [
    "BASE_PATH = '/root/work/datasets/'\n",
    "BASE_SEQUENCE_PATH = os.path.join(BASE_PATH, 'artwork_sequence')\n"
   ]
  },
  {
   "cell_type": "code",
   "execution_count": null,
   "metadata": {},
   "outputs": [],
   "source": [
    "sequence_path={\n",
    "    \n",
    "    'base_path' : BASE_SEQUENCE_PATH,\n",
    "    'path_metadata' : os.path.join(BASE_SEQUENCE_PATH, 'all_metadata.csv'),\n",
    "    'path_matrix' : os.path.join(BASE_SEQUENCE_PATH, 'all_code_matrix.npy'),\n",
    "    'result_artist_list' : os.path.join(BASE_SEQUENCE_PATH, 'all_artists.csv'),\n",
    "    'result_artist_matrix' : os.path.join(BASE_SEQUENCE_PATH, 'all_artist_code_matrix'),\n",
    "    'result_metadata_artist_matrix' : os.path.join(BASE_SEQUENCE_PATH, 'all_metadata_artist_code_matrix')\n",
    "}\n"
   ]
  },
  {
   "cell_type": "code",
   "execution_count": null,
   "metadata": {},
   "outputs": [],
   "source": [
    "all_data_path={\n",
    "    'base_path' : BASE_PATH,\n",
    "    'path_metadata' : os.path.join(BASE_PATH, 'train_mayors_style_encoded.csv'),\n",
    "    'path_matrix' : os.path.join(BASE_PATH, 'train_mayors_style_encode.npy'),\n",
    "    'result_artist_list' : os.path.join(BASE_PATH, 'all_artists.csv'),\n",
    "    'result_artist_matrix' : os.path.join(BASE_PATH, 'all_artist_code_matrix'),\n",
    "    'result_metadata_artist_matrix' : os.path.join(BASE_PATH, 'train_mayors_style_artist_code_matrix')\n",
    "}\n"
   ]
  },
  {
   "cell_type": "code",
   "execution_count": null,
   "metadata": {},
   "outputs": [],
   "source": [
    "work_path = all_data_path"
   ]
  },
  {
   "cell_type": "markdown",
   "metadata": {},
   "source": [
    "## Load dataset"
   ]
  },
  {
   "cell_type": "code",
   "execution_count": null,
   "metadata": {},
   "outputs": [],
   "source": [
    "def get_all_metadata(path_metadata, path_matrix):\n",
    "    df_all_metadata = pd.read_csv(path_metadata)\n",
    "    \n",
    "    all_metadata_matrix = np.load(path_matrix)\n",
    "    \n",
    "    return (df_all_metadata, all_metadata_matrix)"
   ]
  },
  {
   "cell_type": "markdown",
   "metadata": {},
   "source": [
    "**Load metadata**"
   ]
  },
  {
   "cell_type": "code",
   "execution_count": null,
   "metadata": {},
   "outputs": [],
   "source": [
    "df_all_metadata, all_metadata_matrix = get_all_metadata(work_path['path_metadata'], work_path['path_matrix'])\n",
    "\n",
    "df_all_metadata = df_all_metadata.rename(columns={\"artist\": \"author\"})"
   ]
  },
  {
   "cell_type": "code",
   "execution_count": null,
   "metadata": {},
   "outputs": [],
   "source": [
    "print(df_all_metadata.shape)\n",
    "print(all_metadata_matrix.shape)"
   ]
  },
  {
   "cell_type": "code",
   "execution_count": null,
   "metadata": {},
   "outputs": [],
   "source": [
    "df_all_metadata.head()"
   ]
  },
  {
   "cell_type": "markdown",
   "metadata": {},
   "source": [
    "### Get artists"
   ]
  },
  {
   "cell_type": "code",
   "execution_count": null,
   "metadata": {},
   "outputs": [],
   "source": [
    "artists = df_all_metadata['author']\n",
    "artists = artists.drop_duplicates()\n",
    "artists = artists.to_frame()\n",
    "artists.shape"
   ]
  },
  {
   "cell_type": "markdown",
   "metadata": {},
   "source": [
    "### Compute artist's work mean"
   ]
  },
  {
   "cell_type": "code",
   "execution_count": null,
   "metadata": {},
   "outputs": [],
   "source": [
    "def get_artist_work_mean(artist, df_all_metadata,all_metadata_matrix):\n",
    "    \n",
    "    #Search artist's work\n",
    "    df_artist_work = df_all_metadata[df_all_metadata['author'] == artist]\n",
    "    artist_work_matrix = all_metadata_matrix[df_artist_work.index]\n",
    "    \n",
    "    #Compute the work mean\n",
    "    artist_work_mean = np.mean(artist_work_matrix, axis=0)\n",
    "    \n",
    "    return artist_work_mean\n",
    "    "
   ]
  },
  {
   "cell_type": "code",
   "execution_count": null,
   "metadata": {},
   "outputs": [],
   "source": [
    "artists['work mean'] = artists['author'].apply(get_artist_work_mean, args=(df_all_metadata, all_metadata_matrix))\n",
    "artists.head()"
   ]
  },
  {
   "cell_type": "markdown",
   "metadata": {},
   "source": [
    "## Add artist's work mean to the dataset"
   ]
  },
  {
   "cell_type": "code",
   "execution_count": null,
   "metadata": {},
   "outputs": [],
   "source": [
    "df_all_metadata = pd.merge(df_all_metadata, artists, left_on='author', right_on='author', how='left')\n",
    "df_all_metadata.head()"
   ]
  },
  {
   "cell_type": "code",
   "execution_count": null,
   "metadata": {},
   "outputs": [],
   "source": [
    "df_all_metadata.shape"
   ]
  },
  {
   "cell_type": "markdown",
   "metadata": {},
   "source": [
    "### Save data"
   ]
  },
  {
   "cell_type": "code",
   "execution_count": null,
   "metadata": {},
   "outputs": [],
   "source": [
    "artists_to_save = artists['author'].to_frame()\n",
    "artists_to_save.to_csv(work_path['result_artist_list'], index=False)"
   ]
  },
  {
   "cell_type": "code",
   "execution_count": null,
   "metadata": {},
   "outputs": [],
   "source": [
    "artists_code_list = list(artists['work mean'].values)\n",
    "artists_code_matrix = np.vstack(artists_code_list)\n",
    "np.save(work_path['result_artist_matrix'], artists_code_matrix)"
   ]
  },
  {
   "cell_type": "code",
   "execution_count": null,
   "metadata": {},
   "outputs": [],
   "source": [
    "artists_metadata_code_list = list(df_all_metadata['work mean'].values)\n",
    "artists_metadata_code_matrix = np.vstack(artists_metadata_code_list)\n",
    "np.save(work_path['result_metadata_artist_matrix'], artists_metadata_code_matrix)"
   ]
  },
  {
   "cell_type": "code",
   "execution_count": null,
   "metadata": {},
   "outputs": [],
   "source": []
  }
 ],
 "metadata": {
  "kernelspec": {
   "display_name": "Python 3",
   "language": "python",
   "name": "python3"
  },
  "language_info": {
   "codemirror_mode": {
    "name": "ipython",
    "version": 3
   },
   "file_extension": ".py",
   "mimetype": "text/x-python",
   "name": "python",
   "nbconvert_exporter": "python",
   "pygments_lexer": "ipython3",
   "version": "3.5.2"
  }
 },
 "nbformat": 4,
 "nbformat_minor": 2
}
