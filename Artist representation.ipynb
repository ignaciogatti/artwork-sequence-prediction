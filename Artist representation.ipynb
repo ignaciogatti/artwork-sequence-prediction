{
 "cells": [
  {
   "cell_type": "markdown",
   "metadata": {},
   "source": [
    "# Artist representation\n",
    "\n",
    "The goal of this notebook is to generate an artist representation based on his work"
   ]
  },
  {
   "cell_type": "code",
   "execution_count": 1,
   "metadata": {},
   "outputs": [],
   "source": [
    "import pandas as pd\n",
    "import numpy as np\n",
    "import os"
   ]
  },
  {
   "cell_type": "code",
   "execution_count": 2,
   "metadata": {},
   "outputs": [],
   "source": [
    "BASE_PATH = '/root/work/datasets/'\n",
    "BASE_SEQUENCE_PATH = os.path.join(BASE_PATH, 'artwork_sequence')\n",
    "EMBEDDINGS_PATH = os.path.join(BASE_PATH, 'Word Embeddings Pretrained Vectors')"
   ]
  },
  {
   "cell_type": "markdown",
   "metadata": {},
   "source": [
    "## Load dataset"
   ]
  },
  {
   "cell_type": "markdown",
   "metadata": {},
   "source": [
    "**Load metadata**"
   ]
  },
  {
   "cell_type": "code",
   "execution_count": 3,
   "metadata": {},
   "outputs": [
    {
     "data": {
      "text/html": [
       "<div>\n",
       "<style scoped>\n",
       "    .dataframe tbody tr th:only-of-type {\n",
       "        vertical-align: middle;\n",
       "    }\n",
       "\n",
       "    .dataframe tbody tr th {\n",
       "        vertical-align: top;\n",
       "    }\n",
       "\n",
       "    .dataframe thead th {\n",
       "        text-align: right;\n",
       "    }\n",
       "</style>\n",
       "<table border=\"1\" class=\"dataframe\">\n",
       "  <thead>\n",
       "    <tr style=\"text-align: right;\">\n",
       "      <th></th>\n",
       "      <th>id</th>\n",
       "      <th>author</th>\n",
       "      <th>data</th>\n",
       "      <th>image_url</th>\n",
       "      <th>title</th>\n",
       "      <th>tour_path</th>\n",
       "    </tr>\n",
       "  </thead>\n",
       "  <tbody>\n",
       "    <tr>\n",
       "      <th>0</th>\n",
       "      <td>1</td>\n",
       "      <td>n.v. haagsche plateelfabriek rozenburg</td>\n",
       "      <td>1914</td>\n",
       "      <td>https://lh3.googleusercontent.com/IJn7rB4WvYvv...</td>\n",
       "      <td>vaas beschilderd met paarse seringen en op een...</td>\n",
       "      <td>/root/work/datasets/artwork_sequence/rijksmuse...</td>\n",
       "    </tr>\n",
       "    <tr>\n",
       "      <th>1</th>\n",
       "      <td>2</td>\n",
       "      <td>n.v. haagsche plateelfabriek rozenburg</td>\n",
       "      <td>1900</td>\n",
       "      <td>https://lh3.googleusercontent.com/l0ccWh5aCgP5...</td>\n",
       "      <td>vaas</td>\n",
       "      <td>/root/work/datasets/artwork_sequence/rijksmuse...</td>\n",
       "    </tr>\n",
       "    <tr>\n",
       "      <th>2</th>\n",
       "      <td>3</td>\n",
       "      <td>n.v. haagsche plateelfabriek rozenburg</td>\n",
       "      <td>1900</td>\n",
       "      <td>https://lh3.googleusercontent.com/uNQWFg-BhiPZ...</td>\n",
       "      <td>vase with lily decoration</td>\n",
       "      <td>/root/work/datasets/artwork_sequence/rijksmuse...</td>\n",
       "    </tr>\n",
       "    <tr>\n",
       "      <th>3</th>\n",
       "      <td>4</td>\n",
       "      <td>n.v. haagsche plateelfabriek rozenburg</td>\n",
       "      <td>1902</td>\n",
       "      <td>https://lh3.googleusercontent.com/QRdRjQDGyvDp...</td>\n",
       "      <td>vaas beschilderd met takken met seringen en ee...</td>\n",
       "      <td>/root/work/datasets/artwork_sequence/rijksmuse...</td>\n",
       "    </tr>\n",
       "    <tr>\n",
       "      <th>4</th>\n",
       "      <td>6</td>\n",
       "      <td>theo colenbrander</td>\n",
       "      <td>1886</td>\n",
       "      <td>https://lh3.googleusercontent.com/TZqVQVxb-1kl...</td>\n",
       "      <td>garniture of five vases</td>\n",
       "      <td>/root/work/datasets/artwork_sequence/rijksmuse...</td>\n",
       "    </tr>\n",
       "  </tbody>\n",
       "</table>\n",
       "</div>"
      ],
      "text/plain": [
       "   id                                  author  data  \\\n",
       "0   1  n.v. haagsche plateelfabriek rozenburg  1914   \n",
       "1   2  n.v. haagsche plateelfabriek rozenburg  1900   \n",
       "2   3  n.v. haagsche plateelfabriek rozenburg  1900   \n",
       "3   4  n.v. haagsche plateelfabriek rozenburg  1902   \n",
       "4   6                       theo colenbrander  1886   \n",
       "\n",
       "                                           image_url  \\\n",
       "0  https://lh3.googleusercontent.com/IJn7rB4WvYvv...   \n",
       "1  https://lh3.googleusercontent.com/l0ccWh5aCgP5...   \n",
       "2  https://lh3.googleusercontent.com/uNQWFg-BhiPZ...   \n",
       "3  https://lh3.googleusercontent.com/QRdRjQDGyvDp...   \n",
       "4  https://lh3.googleusercontent.com/TZqVQVxb-1kl...   \n",
       "\n",
       "                                               title  \\\n",
       "0  vaas beschilderd met paarse seringen en op een...   \n",
       "1                                               vaas   \n",
       "2                          vase with lily decoration   \n",
       "3  vaas beschilderd met takken met seringen en ee...   \n",
       "4                            garniture of five vases   \n",
       "\n",
       "                                           tour_path  \n",
       "0  /root/work/datasets/artwork_sequence/rijksmuse...  \n",
       "1  /root/work/datasets/artwork_sequence/rijksmuse...  \n",
       "2  /root/work/datasets/artwork_sequence/rijksmuse...  \n",
       "3  /root/work/datasets/artwork_sequence/rijksmuse...  \n",
       "4  /root/work/datasets/artwork_sequence/rijksmuse...  "
      ]
     },
     "execution_count": 3,
     "metadata": {},
     "output_type": "execute_result"
    }
   ],
   "source": [
    "df_all_metadata = pd.read_csv(os.path.join(BASE_SEQUENCE_PATH, 'all_metadata.csv'))\n",
    "df_all_metadata.head()"
   ]
  },
  {
   "cell_type": "code",
   "execution_count": 4,
   "metadata": {},
   "outputs": [
    {
     "data": {
      "text/plain": [
       "(633, 6)"
      ]
     },
     "execution_count": 4,
     "metadata": {},
     "output_type": "execute_result"
    }
   ],
   "source": [
    "df_all_metadata.shape"
   ]
  },
  {
   "cell_type": "markdown",
   "metadata": {},
   "source": [
    "**Load artwork's code**"
   ]
  },
  {
   "cell_type": "code",
   "execution_count": 5,
   "metadata": {},
   "outputs": [
    {
     "data": {
      "text/plain": [
       "(633, 300)"
      ]
     },
     "execution_count": 5,
     "metadata": {},
     "output_type": "execute_result"
    }
   ],
   "source": [
    "all_metadata_matrix = np.load(os.path.join(BASE_SEQUENCE_PATH, 'all_code_matrix.npy'))\n",
    "all_metadata_matrix.shape"
   ]
  },
  {
   "cell_type": "markdown",
   "metadata": {},
   "source": [
    "### Get artists"
   ]
  },
  {
   "cell_type": "code",
   "execution_count": 6,
   "metadata": {},
   "outputs": [
    {
     "data": {
      "text/plain": [
       "(356, 1)"
      ]
     },
     "execution_count": 6,
     "metadata": {},
     "output_type": "execute_result"
    }
   ],
   "source": [
    "artists = df_all_metadata['author']\n",
    "artists = artists.drop_duplicates()\n",
    "artists = artists.to_frame()\n",
    "artists.shape"
   ]
  },
  {
   "cell_type": "markdown",
   "metadata": {},
   "source": [
    "### Compute artist's work mean"
   ]
  },
  {
   "cell_type": "code",
   "execution_count": 7,
   "metadata": {},
   "outputs": [],
   "source": [
    "def get_artist_work_mean(artist, df_all_metadata,all_metadata_matrix):\n",
    "    \n",
    "    #Search artist's work\n",
    "    df_artist_work = df_all_metadata[df_all_metadata['author'] == artist]\n",
    "    artist_work_matrix = all_metadata_matrix[df_artist_work.index]\n",
    "    \n",
    "    #Compute the work mean\n",
    "    artist_work_mean = np.mean(artist_work_matrix, axis=0)\n",
    "    \n",
    "    return artist_work_mean\n",
    "    "
   ]
  },
  {
   "cell_type": "code",
   "execution_count": 8,
   "metadata": {},
   "outputs": [
    {
     "data": {
      "text/html": [
       "<div>\n",
       "<style scoped>\n",
       "    .dataframe tbody tr th:only-of-type {\n",
       "        vertical-align: middle;\n",
       "    }\n",
       "\n",
       "    .dataframe tbody tr th {\n",
       "        vertical-align: top;\n",
       "    }\n",
       "\n",
       "    .dataframe thead th {\n",
       "        text-align: right;\n",
       "    }\n",
       "</style>\n",
       "<table border=\"1\" class=\"dataframe\">\n",
       "  <thead>\n",
       "    <tr style=\"text-align: right;\">\n",
       "      <th></th>\n",
       "      <th>author</th>\n",
       "      <th>work mean</th>\n",
       "    </tr>\n",
       "  </thead>\n",
       "  <tbody>\n",
       "    <tr>\n",
       "      <th>0</th>\n",
       "      <td>n.v. haagsche plateelfabriek rozenburg</td>\n",
       "      <td>[-0.107390165, 0.19273052, 1.124429, 0.8956701...</td>\n",
       "    </tr>\n",
       "    <tr>\n",
       "      <th>4</th>\n",
       "      <td>theo colenbrander</td>\n",
       "      <td>[-0.051470514, 0.067177355, 0.8284261, 0.66352...</td>\n",
       "    </tr>\n",
       "    <tr>\n",
       "      <th>5</th>\n",
       "      <td>manufacture de sevres</td>\n",
       "      <td>[-0.07540219, 0.18844432, 1.2512336, 0.6224126...</td>\n",
       "    </tr>\n",
       "    <tr>\n",
       "      <th>6</th>\n",
       "      <td>rene lalique</td>\n",
       "      <td>[0.01522399, 0.15122974, 1.1221374, 0.7420414,...</td>\n",
       "    </tr>\n",
       "    <tr>\n",
       "      <th>7</th>\n",
       "      <td>lucien gaillard</td>\n",
       "      <td>[-0.055912737, 0.052373398, 1.2759172, 0.86524...</td>\n",
       "    </tr>\n",
       "  </tbody>\n",
       "</table>\n",
       "</div>"
      ],
      "text/plain": [
       "                                   author  \\\n",
       "0  n.v. haagsche plateelfabriek rozenburg   \n",
       "4                       theo colenbrander   \n",
       "5                   manufacture de sevres   \n",
       "6                            rene lalique   \n",
       "7                         lucien gaillard   \n",
       "\n",
       "                                           work mean  \n",
       "0  [-0.107390165, 0.19273052, 1.124429, 0.8956701...  \n",
       "4  [-0.051470514, 0.067177355, 0.8284261, 0.66352...  \n",
       "5  [-0.07540219, 0.18844432, 1.2512336, 0.6224126...  \n",
       "6  [0.01522399, 0.15122974, 1.1221374, 0.7420414,...  \n",
       "7  [-0.055912737, 0.052373398, 1.2759172, 0.86524...  "
      ]
     },
     "execution_count": 8,
     "metadata": {},
     "output_type": "execute_result"
    }
   ],
   "source": [
    "artists['work mean'] = artists['author'].apply(get_artist_work_mean, args=(df_all_metadata, all_metadata_matrix))\n",
    "artists.head()"
   ]
  },
  {
   "cell_type": "markdown",
   "metadata": {},
   "source": [
    "### Save data"
   ]
  },
  {
   "cell_type": "code",
   "execution_count": 10,
   "metadata": {},
   "outputs": [],
   "source": [
    "artists_to_save = artists['author'].to_frame()\n",
    "artists_to_save.to_csv(os.path.join(BASE_SEQUENCE_PATH, 'all_artists.csv'), index=False)"
   ]
  },
  {
   "cell_type": "code",
   "execution_count": 17,
   "metadata": {},
   "outputs": [],
   "source": [
    "artists_code_list = list(artists['work mean'].values)\n",
    "artists_code_matrix = np.vstack(artists_code_list)"
   ]
  },
  {
   "cell_type": "code",
   "execution_count": 18,
   "metadata": {},
   "outputs": [
    {
     "data": {
      "text/plain": [
       "(356, 300)"
      ]
     },
     "execution_count": 18,
     "metadata": {},
     "output_type": "execute_result"
    }
   ],
   "source": [
    "artists_code_matrix.shape"
   ]
  }
 ],
 "metadata": {
  "kernelspec": {
   "display_name": "Python 3",
   "language": "python",
   "name": "python3"
  },
  "language_info": {
   "codemirror_mode": {
    "name": "ipython",
    "version": 3
   },
   "file_extension": ".py",
   "mimetype": "text/x-python",
   "name": "python",
   "nbconvert_exporter": "python",
   "pygments_lexer": "ipython3",
   "version": "3.5.2"
  }
 },
 "nbformat": 4,
 "nbformat_minor": 2
}
