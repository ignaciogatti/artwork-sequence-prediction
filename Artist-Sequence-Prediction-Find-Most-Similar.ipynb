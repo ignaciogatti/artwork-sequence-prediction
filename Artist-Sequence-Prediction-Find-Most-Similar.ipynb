{
 "cells": [
  {
   "cell_type": "markdown",
   "metadata": {},
   "source": [
    "# Artist Sequence prediction find most similar"
   ]
  },
  {
   "cell_type": "code",
   "execution_count": null,
   "metadata": {},
   "outputs": [],
   "source": [
    "import numpy as np\n",
    "import pandas as pd\n",
    "import tensorflow as tf\n",
    "import os"
   ]
  },
  {
   "cell_type": "code",
   "execution_count": null,
   "metadata": {},
   "outputs": [],
   "source": [
    "BASE_PATH = '/root/work/artwork_sequence/train_test_configuration'\n",
    "MULTI_CONFIG_PATH = os.path.join(BASE_PATH, 'multivariate')\n",
    "UNI_CONFIG_PATH = os.path.join(BASE_PATH, 'univariate')\n",
    "UNI_PRED_MULTI_CONFIG_PATH = os.path.join(BASE_PATH, 'univariate_predict_multiple')\n",
    "ARTIST_CODE_CONFIG_PATH = os.path.join(BASE_PATH,'artist_code')"
   ]
  },
  {
   "cell_type": "code",
   "execution_count": null,
   "metadata": {},
   "outputs": [],
   "source": [
    "window_index = 3\n",
    "\n",
    "museum_sequence_path = {\n",
    "    'x_train' : os.path.join(BASE_PATH, 'X_train.csv'),\n",
    "    'x_test' : os.path.join(BASE_PATH, 'X_test.csv'),\n",
    "    'x_train_matrix' : os.path.join(BASE_PATH, 'X_train_matrix.npy'),\n",
    "    'x_test_matrix' : os.path.join(BASE_PATH, 'X_test_matrix.npy'),\n",
    "    'artist_code_train_matrix' : os.path.join(BASE_PATH, 'artist_code_train_matrix.npy'),\n",
    "    'artist_code_test_matrix' : os.path.join(BASE_PATH, 'artist_code_test_matrix.npy')\n",
    "}\n",
    "museum_sequence_path"
   ]
  },
  {
   "cell_type": "code",
   "execution_count": null,
   "metadata": {},
   "outputs": [],
   "source": [
    "def get_trained_weights_path(CONFIG_PATH, window_size):\n",
    "    trained_weights_path = {\n",
    "            'weights_folder' : os.path.join(CONFIG_PATH, 'config_'+str(window_size)+'/trained_model_weights')\n",
    "        }\n",
    "\n",
    "    return trained_weights_path\n"
   ]
  },
  {
   "cell_type": "markdown",
   "metadata": {},
   "source": [
    "## Load data"
   ]
  },
  {
   "cell_type": "code",
   "execution_count": null,
   "metadata": {},
   "outputs": [],
   "source": [
    "df_x_train = pd.read_csv(museum_sequence_path['x_train'], index_col=0)\n",
    "df_x_test = pd.read_csv(museum_sequence_path['x_test'], index_col=0)\n",
    "x_train_matrix = np.load(museum_sequence_path['x_train_matrix'])\n",
    "x_test_matrix = np.load(museum_sequence_path['x_test_matrix'])\n",
    "artist_code_train_matrix = np.load(museum_sequence_path['artist_code_train_matrix'])\n",
    "artist_code_test_matrix = np.load(museum_sequence_path['artist_code_test_matrix'])\n",
    "df_x_train.head()"
   ]
  },
  {
   "cell_type": "code",
   "execution_count": null,
   "metadata": {},
   "outputs": [],
   "source": [
    "x_train_matrix.shape"
   ]
  },
  {
   "cell_type": "markdown",
   "metadata": {},
   "source": [
    "**Reduce artits code matrix**"
   ]
  },
  {
   "cell_type": "code",
   "execution_count": null,
   "metadata": {},
   "outputs": [],
   "source": [
    "artist_code_train_matrix = np.mean(artist_code_train_matrix, axis=1)\n",
    "artist_code_test_matrix = np.mean(artist_code_test_matrix, axis=1)"
   ]
  },
  {
   "cell_type": "markdown",
   "metadata": {},
   "source": [
    "## Reset Tensorflow session"
   ]
  },
  {
   "cell_type": "code",
   "execution_count": null,
   "metadata": {},
   "outputs": [],
   "source": [
    "tf.keras.backend.clear_session()"
   ]
  },
  {
   "cell_type": "markdown",
   "metadata": {},
   "source": [
    "## Config data to fit with the model input"
   ]
  },
  {
   "cell_type": "markdown",
   "metadata": {},
   "source": [
    "**Define timeline**"
   ]
  },
  {
   "cell_type": "code",
   "execution_count": null,
   "metadata": {},
   "outputs": [],
   "source": [
    "timeline = np.arange(x_test_matrix.shape[0])\n",
    "timeline.shape"
   ]
  },
  {
   "cell_type": "code",
   "execution_count": null,
   "metadata": {},
   "outputs": [],
   "source": [
    "split_time = x_train_matrix.shape[0]\n",
    "\n",
    "X = x_test_matrix\n",
    "\n",
    "#length of the history\n",
    "window_size = window_index\n",
    "\n",
    "#Number of artwork's feature\n",
    "n_features = X.shape[1]\n",
    "\n",
    "#Number of feature to take into account\n",
    "n_influence_features=10\n",
    "\n",
    "batch_size = 128\n",
    "shuffle_buffer_size = 300"
   ]
  },
  {
   "cell_type": "markdown",
   "metadata": {},
   "source": [
    "## Create and Load model"
   ]
  },
  {
   "cell_type": "markdown",
   "metadata": {},
   "source": [
    "**Get artwork's models**"
   ]
  },
  {
   "cell_type": "code",
   "execution_count": null,
   "metadata": {},
   "outputs": [],
   "source": [
    "from Sequence_prediction_factory import Sequence_prediction_multivariate, Sequence_prediction_univariate"
   ]
  },
  {
   "cell_type": "code",
   "execution_count": null,
   "metadata": {},
   "outputs": [],
   "source": [
    "model_univariate = Sequence_prediction_univariate(\n",
    "    X=X, \n",
    "    shuffle_buffer_size=shuffle_buffer_size, \n",
    "    split_time=split_time, \n",
    "    train_batch_size=batch_size, \n",
    "    val_batch_size=batch_size,\n",
    "    CONFIG_PATH=UNI_CONFIG_PATH)"
   ]
  },
  {
   "cell_type": "code",
   "execution_count": null,
   "metadata": {},
   "outputs": [],
   "source": [
    "model_multivariate = Sequence_prediction_multivariate(\n",
    "    X=X, \n",
    "    shuffle_buffer_size=shuffle_buffer_size, \n",
    "    split_time=split_time, \n",
    "    train_batch_size=batch_size, \n",
    "    val_batch_size=batch_size,  \n",
    "    n_influence_features=n_influence_features,\n",
    "    CONFIG_PATH=MULTI_CONFIG_PATH)"
   ]
  },
  {
   "cell_type": "code",
   "execution_count": null,
   "metadata": {},
   "outputs": [],
   "source": [
    "model_prediction = model_univariate"
   ]
  },
  {
   "cell_type": "code",
   "execution_count": null,
   "metadata": {},
   "outputs": [],
   "source": [
    "n_features = X.shape[1]\n",
    "#Get and define the RNN model \n",
    "model_prediction.set_window_size(window_size)\n",
    "model = model_prediction.get_model()\n",
    "model.define_model(conv_filter=16, lstm_filter=32, dense_filter=16, prediction_length=1)\n",
    "model.get_model().summary()"
   ]
  },
  {
   "cell_type": "markdown",
   "metadata": {},
   "source": [
    "**Get artist model**"
   ]
  },
  {
   "cell_type": "code",
   "execution_count": null,
   "metadata": {},
   "outputs": [],
   "source": [
    "from Prediction_artist_model import  Prediction_artist_model"
   ]
  },
  {
   "cell_type": "code",
   "execution_count": null,
   "metadata": {},
   "outputs": [],
   "source": [
    "artist_model = Prediction_artist_model(\n",
    "            X=artist_code_test_matrix,\n",
    "            split_time=split_time,\n",
    "            train_batch_size=batch_size, \n",
    "            val_batch_size=batch_size, \n",
    "            window_size=window_size, \n",
    "            shuffle_buffer=shuffle_buffer_size)"
   ]
  },
  {
   "cell_type": "code",
   "execution_count": null,
   "metadata": {},
   "outputs": [],
   "source": [
    "artist_model.define_model(conv_filter=20, lstm_filter=40, dense_filter=20, prediction_length=1)\n",
    "artist_model.get_model().summary()"
   ]
  },
  {
   "cell_type": "markdown",
   "metadata": {},
   "source": [
    "## Predict tour"
   ]
  },
  {
   "cell_type": "code",
   "execution_count": null,
   "metadata": {},
   "outputs": [],
   "source": [
    "from utils_plot import plot_series, plot_train_history, plot_prediction"
   ]
  },
  {
   "cell_type": "markdown",
   "metadata": {},
   "source": [
    "**Select a tour**"
   ]
  },
  {
   "cell_type": "code",
   "execution_count": null,
   "metadata": {},
   "outputs": [],
   "source": [
    "df_x_test['tour_path'].values[0]"
   ]
  },
  {
   "cell_type": "code",
   "execution_count": null,
   "metadata": {},
   "outputs": [],
   "source": [
    "images_path = os.path.join(df_x_test['tour_path'].values[0], 'images')\n",
    "tour_length = len(os.listdir(images_path))\n",
    "X_tour = x_test_matrix[:tour_length]\n",
    "X_tour.shape"
   ]
  },
  {
   "cell_type": "code",
   "execution_count": null,
   "metadata": {},
   "outputs": [],
   "source": [
    "metadata_path = os.path.join(df_x_test['tour_path'].values[0], 'metadata.csv')\n",
    "df_X_tour = pd.read_csv(metadata_path)\n",
    "df_X_tour.head()"
   ]
  },
  {
   "cell_type": "markdown",
   "metadata": {},
   "source": [
    "**Function to predict the tour**"
   ]
  },
  {
   "cell_type": "code",
   "execution_count": null,
   "metadata": {},
   "outputs": [],
   "source": [
    "def model_forecast(model, series, window_size, batch_size):\n",
    "    if len(series.shape) == 1:\n",
    "            series = tf.expand_dims(series, axis=-1)\n",
    "    ds = tf.data.Dataset.from_tensor_slices(series)\n",
    "    ds = ds.window(window_size, shift=1, drop_remainder=True)\n",
    "    ds = ds.flat_map(lambda w: w.batch(window_size))\n",
    "    ds = ds.map(lambda w: (w[:]))\n",
    "    ds = ds.batch(batch_size)\n",
    "    forecast = model.predict(ds)\n",
    "    return forecast"
   ]
  },
  {
   "cell_type": "markdown",
   "metadata": {},
   "source": [
    "### Predict artists"
   ]
  },
  {
   "cell_type": "code",
   "execution_count": null,
   "metadata": {},
   "outputs": [],
   "source": [
    "artist_model.load_weights(get_trained_weights_path(ARTIST_CODE_CONFIG_PATH, window_size))\n",
    "rnn_artist_forecast = model_forecast(artist_model.get_model(), artist_code_test_matrix, window_size, batch_size)\n",
    "rnn_artist_forecast = rnn_artist_forecast[1:,-1]\n",
    "rnn_artist_forecast.shape"
   ]
  },
  {
   "cell_type": "code",
   "execution_count": null,
   "metadata": {},
   "outputs": [],
   "source": [
    "x_valid = artist_code_test_matrix[window_size:]\n",
    "plot = plot_series(timeline[window_size:], [(x_valid, 'x_valid'), (rnn_artist_forecast, 'rnn')])\n",
    "plot.title('Forescast artwork sequence')"
   ]
  },
  {
   "cell_type": "markdown",
   "metadata": {},
   "source": [
    "### Predict artworks "
   ]
  },
  {
   "cell_type": "markdown",
   "metadata": {},
   "source": [
    "**Predict feature tours**"
   ]
  },
  {
   "cell_type": "code",
   "execution_count": null,
   "metadata": {},
   "outputs": [],
   "source": [
    "df_evaluation = pd.DataFrame({'feature' : [],\n",
    "                             'forecast': [],\n",
    "                             'x_valid':[],\n",
    "                             'mae':[]})\n",
    "df_evaluation"
   ]
  },
  {
   "cell_type": "code",
   "execution_count": null,
   "metadata": {},
   "outputs": [],
   "source": [
    "model = model_prediction.get_model()\n",
    "model.define_model(conv_filter=16, lstm_filter=32, dense_filter=16, prediction_length=1)\n",
    "\n",
    "for feature in range(n_features):\n",
    "    \n",
    "    #Load weights for feature i\n",
    "    model.set_index(feature)\n",
    "    model.load_weights(get_trained_weights_path(UNI_CONFIG_PATH, window_size))\n",
    "    \n",
    "    #Define feature to take into account for prediction\n",
    "    x_influence_features = model.get_indexes_features()\n",
    "    x_influence_features = np.insert(arr=x_influence_features, obj=0, values=int(feature))\n",
    "    x_feature = X[:,x_influence_features.astype(int)]\n",
    "    \n",
    "    #Predict feature i\n",
    "    rnn_forecast = model_forecast(model.get_model(), x_feature, window_size, batch_size)\n",
    "    rnn_forecast = rnn_forecast[1:,-1]\n",
    "\n",
    "    #Get validation dataset \n",
    "    x_valid = x_feature[window_size:, 0]\n",
    "\n",
    "    #Compute MAE\n",
    "    mae = tf.keras.metrics.mean_absolute_error(x_valid, rnn_forecast).numpy().mean()\n",
    "\n",
    "    df_evaluation = df_evaluation.append({'feature' : feature,\n",
    "                    'forecast': rnn_forecast,\n",
    "                    'x_valid':x_valid,\n",
    "                    'mae':mae\n",
    "                   }, \n",
    "                   ignore_index=True)\n",
    "\n",
    "df_evaluation.head()"
   ]
  },
  {
   "cell_type": "code",
   "execution_count": null,
   "metadata": {},
   "outputs": [],
   "source": [
    "df_evaluation['mae'].mean()"
   ]
  },
  {
   "cell_type": "markdown",
   "metadata": {},
   "source": [
    "**Plot forecast for a single feature**"
   ]
  },
  {
   "cell_type": "code",
   "execution_count": null,
   "metadata": {},
   "outputs": [],
   "source": [
    "feature = 4\n",
    "rnn_forecast = df_evaluation.loc[feature,'forecast']\n",
    "#discard the first artworks\n",
    "x_valid = df_evaluation.loc[feature,'x_valid']\n",
    "timeline = np.arange(rnn_forecast.shape[0])"
   ]
  },
  {
   "cell_type": "code",
   "execution_count": null,
   "metadata": {},
   "outputs": [],
   "source": [
    "plot = plot_series(timeline, [(x_valid, 'x_valid'), (rnn_forecast, 'rnn')])\n",
    "plot.title('Forescast artwork sequence')\n",
    "#plot.savefig(os.path.join(PLOT_PATH, 'forescast_sequence_2.png'))\n",
    "plot.show()"
   ]
  },
  {
   "cell_type": "markdown",
   "metadata": {},
   "source": [
    "## Find most similar artwork"
   ]
  },
  {
   "cell_type": "markdown",
   "metadata": {},
   "source": [
    "**Load artwork's repository**"
   ]
  },
  {
   "cell_type": "code",
   "execution_count": null,
   "metadata": {},
   "outputs": [],
   "source": [
    "BASE_PATH = '/root/work/datasets/artwork_sequence/'"
   ]
  },
  {
   "cell_type": "code",
   "execution_count": null,
   "metadata": {},
   "outputs": [],
   "source": [
    "df_all_metadata = pd.read_csv(os.path.join(BASE_PATH, 'all_metadata.csv'))\n",
    "all_data_matrix = np.load(os.path.join(BASE_PATH, 'all_code_matrix.npy' ))\n",
    "\n",
    "df_all_artists = pd.read_csv(os.path.join(BASE_PATH, 'all_artists.csv'))\n",
    "all_artists_code_matrix = np.load(os.path.join(BASE_PATH, 'all_artists_code_matrix.npy' ))\n",
    "all_artists_code_matrix_reduce = np.mean(all_artists_code_matrix, axis=1)"
   ]
  },
  {
   "cell_type": "code",
   "execution_count": null,
   "metadata": {},
   "outputs": [],
   "source": [
    "print(df_all_metadata.shape)\n",
    "print(all_data_matrix.shape)\n",
    "\n",
    "print(df_all_artists.shape)\n",
    "print(all_artists_code_matrix_reduce.shape)"
   ]
  },
  {
   "cell_type": "markdown",
   "metadata": {},
   "source": [
    "### Most similar artist"
   ]
  },
  {
   "cell_type": "code",
   "execution_count": null,
   "metadata": {},
   "outputs": [],
   "source": [
    "def get_most_similar_artist(p, df_all_artists, all_artists_code_matrix_reduce):\n",
    "    \n",
    "    #Find nearest value. Try to take a couple\n",
    "    nearest_index_sort = np.abs(all_artists_code_matrix_reduce - p).argsort()\n",
    "\n",
    "    #Find most similar\n",
    "    return list(df_all_artists.iloc[nearest_index_sort[:2]]['author'].values)\n",
    "    "
   ]
  },
  {
   "cell_type": "code",
   "execution_count": null,
   "metadata": {},
   "outputs": [],
   "source": [
    "predicted_artists = pd.Series(rnn_artist_forecast, name=\"prediction\")\n",
    "predicted_artists = predicted_artists.to_frame()\n",
    "predicted_artists.head()"
   ]
  },
  {
   "cell_type": "code",
   "execution_count": null,
   "metadata": {},
   "outputs": [],
   "source": [
    "predicted_artists['author'] = predicted_artists['prediction'].apply(get_most_similar_artist, args=(df_all_artists, all_artists_code_matrix_reduce,))\n",
    "predicted_artists.head()"
   ]
  },
  {
   "cell_type": "code",
   "execution_count": null,
   "metadata": {},
   "outputs": [],
   "source": [
    "predicted_artists.shape"
   ]
  },
  {
   "cell_type": "markdown",
   "metadata": {},
   "source": [
    "### Most similar artwork"
   ]
  },
  {
   "cell_type": "markdown",
   "metadata": {},
   "source": [
    "**Reconstruct predicted codes**"
   ]
  },
  {
   "cell_type": "code",
   "execution_count": null,
   "metadata": {},
   "outputs": [],
   "source": [
    "forescast = df_evaluation['forecast']\n",
    "forescast.head()"
   ]
  },
  {
   "cell_type": "code",
   "execution_count": null,
   "metadata": {},
   "outputs": [],
   "source": [
    "forescast[0].shape"
   ]
  },
  {
   "cell_type": "code",
   "execution_count": null,
   "metadata": {},
   "outputs": [],
   "source": [
    "feature_list = list(forescast.values)"
   ]
  },
  {
   "cell_type": "code",
   "execution_count": null,
   "metadata": {},
   "outputs": [],
   "source": [
    "forecast_matrix = np.stack(feature_list)\n",
    "forecast_matrix = forecast_matrix.T\n",
    "forecast_matrix.shape"
   ]
  },
  {
   "cell_type": "markdown",
   "metadata": {},
   "source": [
    "**Helper function to avoid duplicated artworks in a recommendation**"
   ]
  },
  {
   "cell_type": "code",
   "execution_count": null,
   "metadata": {},
   "outputs": [],
   "source": [
    "def drop_selected_artwork(indexes, df_all_metadata, all_data_matrix):\n",
    "    \n",
    "    #Remove from metadata\n",
    "    df_removed = df_all_metadata.copy()\n",
    "    df_removed = df_removed.drop(indexes)\n",
    "    df_removed = df_removed.reset_index(drop=True)\n",
    "    \n",
    "    #Remove from code matrix\n",
    "    code_matrix = all_data_matrix.copy()\n",
    "    code_matrix = np.delete(code_matrix, indexes, 0)\n",
    "    \n",
    "    return df_removed, code_matrix"
   ]
  },
  {
   "cell_type": "markdown",
   "metadata": {},
   "source": [
    "**Compute cosine similarity**"
   ]
  },
  {
   "cell_type": "code",
   "execution_count": null,
   "metadata": {},
   "outputs": [],
   "source": [
    "from sklearn.metrics.pairwise import cosine_similarity, cosine_distances,euclidean_distances\n",
    "\n",
    "def get_predicted_tour(forecast_matrix, all_data_matrix, df_all_metadata, predicted_artists):\n",
    "    #Define dataframe to save the predicted tour\n",
    "    predicted_tour_code_list = []\n",
    "    df_predicted_tour = pd.DataFrame({ 'title' : [],\n",
    "                             'author' : [],\n",
    "                             'sim_value' : [],\n",
    "                             'tour_path': [],\n",
    "                             'image_url':[]})\n",
    "    \n",
    "    for i in range(forecast_matrix.shape[0]):\n",
    "        #Find code\n",
    "        code = forecast_matrix[i].reshape((1,-1))\n",
    "        \n",
    "        #Define a valid subset\n",
    "        artists = predicted_artists['author'][i]\n",
    "        df_artist_work = df_artist_work = df_all_metadata[df_all_metadata['author'].isin(artists)]\n",
    "        artist_work_matrix =all_data_matrix[df_all_metadata[df_all_metadata['author'].isin(artists)].index]\n",
    "\n",
    "        #Compute cosine similarity\n",
    "        sim_matrix = cosine_similarity(code, artist_work_matrix)\n",
    "        #sim_matrix = euclidean_distances(code, all_data_matrix)\n",
    "\n",
    "        #sort indexes\n",
    "        sort_index = np.argsort(sim_matrix.reshape((-1,)))\n",
    "\n",
    "        #Find most similar\n",
    "        sim_artwork_index = sort_index[-1]\n",
    "\n",
    "        #Save in dataframe \n",
    "        df_predicted_tour = df_predicted_tour.append({'title' : df_artist_work.iloc[sim_artwork_index]['title'],\n",
    "                        'author': df_artist_work.iloc[sim_artwork_index]['author'],\n",
    "                        'tour_path':df_artist_work.iloc[sim_artwork_index]['tour_path'],\n",
    "                        'image_url':df_artist_work.iloc[sim_artwork_index]['image_url'],\n",
    "                        'sim_value':sim_matrix[:,sim_artwork_index][0]\n",
    "                       }, \n",
    "                       ignore_index=True)\n",
    "\n",
    "        #Save predicted artwork's code\n",
    "        predicted_tour_code_list.append(artist_work_matrix[sim_artwork_index])\n",
    "\n",
    "        #Remove selected artworks\n",
    "        #df_all_metadata, all_data_matrix = drop_selected_artwork([sim_artwork_index], df_all_metadata, all_data_matrix)\n",
    "\n",
    "\n",
    "\n",
    "    return (df_predicted_tour, predicted_tour_code_list)"
   ]
  },
  {
   "cell_type": "code",
   "execution_count": null,
   "metadata": {},
   "outputs": [],
   "source": [
    "df_predicted_tour, predicted_tour_code_list = get_predicted_tour(forecast_matrix, all_data_matrix, df_all_metadata, predicted_artists)\n",
    "df_predicted_tour.shape"
   ]
  },
  {
   "cell_type": "code",
   "execution_count": null,
   "metadata": {},
   "outputs": [],
   "source": [
    "predicted_tour_code_matrix = np.vstack(predicted_tour_code_list)\n",
    "predicted_tour_code_matrix.shape"
   ]
  },
  {
   "cell_type": "markdown",
   "metadata": {},
   "source": [
    "### Compute mae between predicted tour and valid tour"
   ]
  },
  {
   "cell_type": "code",
   "execution_count": null,
   "metadata": {},
   "outputs": [],
   "source": [
    "from sklearn.metrics import mean_absolute_error"
   ]
  },
  {
   "cell_type": "code",
   "execution_count": null,
   "metadata": {},
   "outputs": [],
   "source": [
    "x_valid_artwork = df_evaluation['x_valid']\n",
    "x_valid_artwork.head()"
   ]
  },
  {
   "cell_type": "code",
   "execution_count": null,
   "metadata": {},
   "outputs": [],
   "source": [
    "artwork_feature_list = list(x_valid_artwork.values)\n",
    "artwork_matrix = np.stack(artwork_feature_list)\n",
    "artwork_matrix = artwork_matrix.T\n",
    "artwork_matrix.shape"
   ]
  },
  {
   "cell_type": "code",
   "execution_count": null,
   "metadata": {},
   "outputs": [],
   "source": [
    "np.mean(mean_absolute_error(predicted_tour_code_matrix, artwork_matrix, multioutput='raw_values' ))"
   ]
  },
  {
   "cell_type": "code",
   "execution_count": null,
   "metadata": {},
   "outputs": [],
   "source": [
    "np.mean(mean_absolute_error(forecast_matrix.T, artwork_matrix.T, multioutput='raw_values' ))"
   ]
  },
  {
   "cell_type": "code",
   "execution_count": null,
   "metadata": {},
   "outputs": [],
   "source": []
  },
  {
   "cell_type": "code",
   "execution_count": null,
   "metadata": {},
   "outputs": [],
   "source": [
    "df_X_tour"
   ]
  },
  {
   "cell_type": "code",
   "execution_count": null,
   "metadata": {},
   "outputs": [],
   "source": [
    "df_predicted_tour.head(12)"
   ]
  }
 ],
 "metadata": {
  "kernelspec": {
   "display_name": "Python 3",
   "language": "python",
   "name": "python3"
  },
  "language_info": {
   "codemirror_mode": {
    "name": "ipython",
    "version": 3
   },
   "file_extension": ".py",
   "mimetype": "text/x-python",
   "name": "python",
   "nbconvert_exporter": "python",
   "pygments_lexer": "ipython3",
   "version": "3.5.2"
  }
 },
 "nbformat": 4,
 "nbformat_minor": 2
}
