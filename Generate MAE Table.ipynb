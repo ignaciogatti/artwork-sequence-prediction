{
 "cells": [
  {
   "cell_type": "markdown",
   "metadata": {},
   "source": [
    "# Generate MAE table"
   ]
  },
  {
   "cell_type": "code",
   "execution_count": null,
   "metadata": {},
   "outputs": [],
   "source": [
    "import numpy as np\n",
    "import pandas as pd\n",
    "import os"
   ]
  },
  {
   "cell_type": "markdown",
   "metadata": {},
   "source": [
    "## Config path"
   ]
  },
  {
   "cell_type": "code",
   "execution_count": null,
   "metadata": {},
   "outputs": [],
   "source": [
    "BASE_PATH = '/root/work/datasets/artwork_sequence/'\n",
    "RESULT_PATH = '/root/work/artwork_sequence/predicted_tours'\n",
    "PLOT_PATH = '/root/work/artwork_sequence/plots'"
   ]
  },
  {
   "cell_type": "code",
   "execution_count": null,
   "metadata": {},
   "outputs": [],
   "source": [
    "def get_predicted_tour_path(window_index):\n",
    "    predicted_tour_base_path = os.path.join(RESULT_PATH,'config_'+str(window_index))\n",
    "\n",
    "    predicted_tour_path = {\n",
    "        'sequence_most_similar' : os.path.join(predicted_tour_base_path,'generated_sequence_based_previous_most_similar'),\n",
    "        'sequence_rnn' : os.path.join(predicted_tour_base_path,'generated_sequence_rnn'),\n",
    "       # 'sequence_rnn_multivariate' : os.path.join(predicted_tour_base_path,'generated_sequence_rnn_multivariate'),\n",
    "        'sequence_rnn_code_embedding' : os.path.join(predicted_tour_base_path,'generated_sequence_rnn_code_embedding'),\n",
    "        #'sequence_rnn_artist_code_embedding' : os.path.join(predicted_tour_base_path, 'generated_sequence_rnn_artist_code_embedding')\n",
    "\n",
    "\n",
    "    }\n",
    "\n",
    "    return predicted_tour_path"
   ]
  },
  {
   "cell_type": "code",
   "execution_count": null,
   "metadata": {},
   "outputs": [],
   "source": [
    "window_indexes = list(range(3,9))\n",
    "\n",
    "window_config = {}\n",
    "\n",
    "for index in window_indexes:\n",
    "    window_config[index] = get_predicted_tour_path(index)\n",
    "    "
   ]
  },
  {
   "cell_type": "markdown",
   "metadata": {},
   "source": [
    "## Load data"
   ]
  },
  {
   "cell_type": "code",
   "execution_count": null,
   "metadata": {},
   "outputs": [],
   "source": [
    "def load_mae_data(predicted_tour_path):\n",
    "    #load data\n",
    "    mae_dict = {}\n",
    "    for key, value in predicted_tour_path.items():\n",
    "        mae_dict[key] = pd.read_csv(os.path.join(value,'mae.csv'))\n",
    "    \n",
    "    #Add model name to the dataframe\n",
    "    for key, df in mae_dict.items():\n",
    "        df['model'] = key\n",
    "\n",
    "    #Concat all dataframe in one to plot MAE\n",
    "    df_mae = pd.concat(list(mae_dict.values()))\n",
    "    df_mae = df_mae.reset_index(drop=False)\n",
    "\n",
    "    return df_mae"
   ]
  },
  {
   "cell_type": "code",
   "execution_count": null,
   "metadata": {},
   "outputs": [],
   "source": [
    "window_mae = {}\n",
    "\n",
    "for index, path in window_config.items():\n",
    "    window_mae[index] = load_mae_data(path)"
   ]
  },
  {
   "cell_type": "markdown",
   "metadata": {},
   "source": [
    "## Get mean and std by window"
   ]
  },
  {
   "cell_type": "code",
   "execution_count": null,
   "metadata": {},
   "outputs": [],
   "source": [
    "window_mean_std = {}\n",
    "\n",
    "for index, df in window_mae.items():\n",
    "    #Compute mean and std\n",
    "    df_mean_std = df.groupby('model')['mae'].agg(['mean', 'std'])\n",
    "    df_mean_std = df_mean_std.reset_index()\n",
    "    df_mean_std['window_size'] = index\n",
    "    window_mean_std[index] = df_mean_std"
   ]
  },
  {
   "cell_type": "code",
   "execution_count": null,
   "metadata": {},
   "outputs": [],
   "source": [
    "window_mean_std[3]"
   ]
  },
  {
   "cell_type": "markdown",
   "metadata": {},
   "source": [
    "**Append all tables**"
   ]
  },
  {
   "cell_type": "code",
   "execution_count": null,
   "metadata": {},
   "outputs": [],
   "source": [
    "df_all_mean_std = pd.concat(window_mean_std.values())\n",
    "df_all_mean_std = df_all_mean_std.reset_index(drop=True)\n",
    "df_all_mean_std.head()"
   ]
  },
  {
   "cell_type": "markdown",
   "metadata": {},
   "source": [
    "**Save data**"
   ]
  },
  {
   "cell_type": "code",
   "execution_count": null,
   "metadata": {},
   "outputs": [],
   "source": [
    "df_all_mean_std.to_excel(os.path.join(RESULT_PATH,'all_mean_std.xlsx'))"
   ]
  }
 ],
 "metadata": {
  "kernelspec": {
   "display_name": "Python 3",
   "language": "python",
   "name": "python3"
  },
  "language_info": {
   "codemirror_mode": {
    "name": "ipython",
    "version": 3
   },
   "file_extension": ".py",
   "mimetype": "text/x-python",
   "name": "python",
   "nbconvert_exporter": "python",
   "pygments_lexer": "ipython3",
   "version": "3.5.2"
  }
 },
 "nbformat": 4,
 "nbformat_minor": 2
}
