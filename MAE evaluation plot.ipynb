{
 "cells": [
  {
   "cell_type": "markdown",
   "metadata": {},
   "source": [
    "# MAE  evaluation plots"
   ]
  },
  {
   "cell_type": "code",
   "execution_count": null,
   "metadata": {},
   "outputs": [],
   "source": [
    "import numpy as np\n",
    "import pandas as pd\n",
    "import os"
   ]
  },
  {
   "cell_type": "markdown",
   "metadata": {},
   "source": [
    "## Config path"
   ]
  },
  {
   "cell_type": "code",
   "execution_count": null,
   "metadata": {},
   "outputs": [],
   "source": [
    "BASE_PATH = '/root/work/datasets/artwork_sequence/'\n",
    "RESULT_PATH = '/root/work/artwork_sequence/predicted_tours'\n",
    "PLOT_PATH = '/root/work/artwork_sequence/plots'"
   ]
  },
  {
   "cell_type": "code",
   "execution_count": null,
   "metadata": {},
   "outputs": [],
   "source": [
    "def get_predicted_tour_path(window_index):\n",
    "    predicted_tour_base_path = os.path.join(RESULT_PATH,'config_'+str(window_index))\n",
    "\n",
    "    predicted_tour_path = {\n",
    "        'sequence_most_similar' : os.path.join(predicted_tour_base_path,'generated_sequence_based_previous_most_similar'),\n",
    "        'sequence_rnn' : os.path.join(predicted_tour_base_path,'generated_sequence_rnn'),\n",
    "       # 'sequence_rnn_multivariate' : os.path.join(predicted_tour_base_path,'generated_sequence_rnn_multivariate'),\n",
    "        'sequence_rnn_code_embedding' : os.path.join(predicted_tour_base_path,'generated_sequence_rnn_code_embedding'),\n",
    "        'sequence_rnn_artist_code_embedding' : os.path.join(predicted_tour_base_path, 'generated_sequence_rnn_artist_code_embedding')\n",
    "\n",
    "\n",
    "    }\n",
    "\n",
    "    return predicted_tour_path"
   ]
  },
  {
   "cell_type": "code",
   "execution_count": null,
   "metadata": {},
   "outputs": [],
   "source": [
    "window_indexes = list(range(3,9))\n",
    "\n",
    "window_config = {}\n",
    "\n",
    "for index in window_indexes:\n",
    "    window_config[index] = get_predicted_tour_path(index)\n",
    "    "
   ]
  },
  {
   "cell_type": "markdown",
   "metadata": {},
   "source": [
    "## Load data"
   ]
  },
  {
   "cell_type": "code",
   "execution_count": null,
   "metadata": {},
   "outputs": [],
   "source": [
    "def load_mae_data(predicted_tour_path):\n",
    "    #load data\n",
    "    mae_dict = {}\n",
    "    for key, value in predicted_tour_path.items():\n",
    "        mae_dict[key] = pd.read_csv(os.path.join(value,'mae.csv'))\n",
    "    \n",
    "    #Add model name to the dataframe\n",
    "    for key, df in mae_dict.items():\n",
    "        df['model'] = key\n",
    "\n",
    "    #Concat all dataframe in one to plot MAE\n",
    "    df_mae = pd.concat(list(mae_dict.values()))\n",
    "    df_mae = df_mae.reset_index(drop=False)\n",
    "\n",
    "    return df_mae"
   ]
  },
  {
   "cell_type": "code",
   "execution_count": null,
   "metadata": {},
   "outputs": [],
   "source": [
    "window_mae = {}\n",
    "\n",
    "for index, path in window_config.items():\n",
    "    window_mae[index] = load_mae_data(path)"
   ]
  },
  {
   "cell_type": "markdown",
   "metadata": {},
   "source": [
    "## Plot MAE"
   ]
  },
  {
   "cell_type": "code",
   "execution_count": null,
   "metadata": {},
   "outputs": [],
   "source": [
    "import numpy as np\n",
    "import matplotlib.pyplot as plt\n",
    "import seaborn as sns"
   ]
  },
  {
   "cell_type": "markdown",
   "metadata": {},
   "source": [
    "#### Plot mae for each tour"
   ]
  },
  {
   "cell_type": "code",
   "execution_count": null,
   "metadata": {},
   "outputs": [],
   "source": [
    "#Define nums of cols and rows in the plot\n",
    "ncols = 2\n",
    "nrows = len(window_indexes)//ncols\n",
    "\n",
    "#Divide indixes in two set for plot\n",
    "low_half_indexes = window_indexes[:len(window_indexes)//ncols]\n",
    "high_half_indexes = window_indexes[len(window_indexes)//ncols:]"
   ]
  },
  {
   "cell_type": "code",
   "execution_count": null,
   "metadata": {},
   "outputs": [],
   "source": [
    "list(window_mae.keys())"
   ]
  },
  {
   "cell_type": "code",
   "execution_count": null,
   "metadata": {},
   "outputs": [],
   "source": [
    "fig, axs = plt.subplots(nrows=nrows, ncols=ncols, figsize=(16,10))\n",
    "\n",
    "fig.suptitle('MAE', fontsize=20)\n",
    "\n",
    "index = window_indexes[0]\n",
    "\n",
    "for i in range(ncols):\n",
    "    for j in range(nrows):\n",
    "        df_mae = window_mae[index]\n",
    "        #Plot\n",
    "        ax = sns.lineplot('index', 'mae', hue='model', data=df_mae, ax=axs[j,i])\n",
    "        ax.set_title('Window size ' + str(index), fontdict={'fontsize': 14, 'fontweight': 'medium'} )\n",
    "        ax.set_xlabel(\"Tour\",fontsize=12)\n",
    "        ax.set_ylabel(\"mae\",fontsize=12)\n",
    "        ax.set_ylim(bottom=0.2, top=0.65)\n",
    "\n",
    "        index +=1\n",
    "        \n",
    "    \n",
    "\n",
    "fig.tight_layout(rect=[0, 0.03, 1, 0.9])\n",
    "plt.show()"
   ]
  },
  {
   "cell_type": "code",
   "execution_count": null,
   "metadata": {},
   "outputs": [],
   "source": [
    "fig.savefig(os.path.join(PLOT_PATH,\"mae_tour.png\"), dpi=100)"
   ]
  },
  {
   "cell_type": "markdown",
   "metadata": {},
   "source": [
    "### Plot Global MAE"
   ]
  },
  {
   "cell_type": "code",
   "execution_count": null,
   "metadata": {},
   "outputs": [],
   "source": [
    "def get_mae_global(model):\n",
    "    \n",
    "    df_mae_global = pd.DataFrame({ 'model' : [],\n",
    "                         'index' : [],\n",
    "                         'mae_global' : []})\n",
    "    \n",
    "    \n",
    "    for index in window_indexes:\n",
    "        df_mae = window_mae[index]\n",
    "        mean_mae = df_mae[df_mae['model'] == model]['mae'].mean()\n",
    "        \n",
    "        #Save MAE\n",
    "        df_mae_global = df_mae_global.append(\n",
    "            {'model' : model,\n",
    "             'index': index,\n",
    "             'mae_global': mean_mae\n",
    "            }, \n",
    "           ignore_index=True)\n",
    "\n",
    "    \n",
    "    return df_mae_global"
   ]
  },
  {
   "cell_type": "code",
   "execution_count": null,
   "metadata": {},
   "outputs": [],
   "source": [
    "models = list(get_predicted_tour_path(3).keys())\n",
    "\n",
    "df_mae_global_list = []\n",
    "\n",
    "for m in models:\n",
    "    df_mae_global = get_mae_global(m)\n",
    "    df_mae_global_list.append(df_mae_global)\n",
    "\n",
    "df_mae_global = pd.concat(df_mae_global_list)"
   ]
  },
  {
   "cell_type": "code",
   "execution_count": null,
   "metadata": {},
   "outputs": [],
   "source": [
    "fig= plt.figure(figsize=(10,8))\n",
    "\n",
    "ax = sns.lineplot(x=\"index\", y='mae_global', hue='model', data=df_mae_global)\n",
    "\n",
    "ax.set_xlabel(\"Window size\",fontsize=12)\n",
    "ax.set_ylabel(\"mae\",fontsize=12)\n",
    "ax.set_ylim(bottom=0.35, top=0.55)"
   ]
  },
  {
   "cell_type": "code",
   "execution_count": null,
   "metadata": {},
   "outputs": [],
   "source": [
    "fig.savefig(os.path.join(PLOT_PATH,\"mae_global.png\"), dpi=100)"
   ]
  },
  {
   "cell_type": "markdown",
   "metadata": {},
   "source": [
    "**MAE  Global for each model**"
   ]
  },
  {
   "cell_type": "code",
   "execution_count": null,
   "metadata": {},
   "outputs": [],
   "source": [
    "df_mae_global[['model', 'mae_global']].groupby('model').mean()"
   ]
  }
 ],
 "metadata": {
  "kernelspec": {
   "display_name": "Python 3",
   "language": "python",
   "name": "python3"
  },
  "language_info": {
   "codemirror_mode": {
    "name": "ipython",
    "version": 3
   },
   "file_extension": ".py",
   "mimetype": "text/x-python",
   "name": "python",
   "nbconvert_exporter": "python",
   "pygments_lexer": "ipython3",
   "version": "3.5.2"
  }
 },
 "nbformat": 4,
 "nbformat_minor": 2
}
