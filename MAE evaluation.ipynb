{
 "cells": [
  {
   "cell_type": "markdown",
   "metadata": {},
   "source": [
    "# MAE evaluation"
   ]
  },
  {
   "cell_type": "code",
   "execution_count": null,
   "metadata": {},
   "outputs": [],
   "source": [
    "import numpy as np\n",
    "import pandas as pd\n",
    "import os\n",
    "from sklearn.metrics import mean_absolute_error"
   ]
  },
  {
   "cell_type": "code",
   "execution_count": null,
   "metadata": {},
   "outputs": [],
   "source": [
    "BASE_PATH = '/root/work/datasets/artwork_sequence/'\n",
    "CONFIG_PATH = '/root/work/artwork_sequence/train_test_configuration'\n",
    "RESULT_PATH = '/root/work/artwork_sequence/predicted_tours/generated_sequence_based_previous_most_similar'"
   ]
  },
  {
   "cell_type": "markdown",
   "metadata": {},
   "source": [
    "## Load data"
   ]
  },
  {
   "cell_type": "markdown",
   "metadata": {},
   "source": [
    "**Load all metadata**"
   ]
  },
  {
   "cell_type": "code",
   "execution_count": null,
   "metadata": {},
   "outputs": [],
   "source": [
    "df_all_metadata = pd.read_csv(os.path.join(BASE_PATH, 'all_metadata.csv'))\n",
    "all_data_matrix = np.load(os.path.join(BASE_PATH, 'all_code_matrix.npy' ))"
   ]
  },
  {
   "cell_type": "code",
   "execution_count": null,
   "metadata": {},
   "outputs": [],
   "source": [
    "print(df_all_metadata.shape)\n",
    "print(all_data_matrix.shape)"
   ]
  },
  {
   "cell_type": "markdown",
   "metadata": {},
   "source": [
    "**Load tours**"
   ]
  },
  {
   "cell_type": "code",
   "execution_count": null,
   "metadata": {},
   "outputs": [],
   "source": [
    "museum_sequence_path = {\n",
    "    'x_train' : os.path.join(CONFIG_PATH, 'X_train.csv'),\n",
    "    'x_test' : os.path.join(CONFIG_PATH, 'X_test.csv'),\n",
    "    'x_train_matrix' : os.path.join(CONFIG_PATH, 'X_train_matrix.npy'),\n",
    "    'x_test_matrix' : os.path.join(CONFIG_PATH, 'X_test_matrix.npy')\n",
    "}\n",
    "museum_sequence_path"
   ]
  },
  {
   "cell_type": "code",
   "execution_count": null,
   "metadata": {},
   "outputs": [],
   "source": [
    "df_x_train = pd.read_csv(museum_sequence_path['x_train'], index_col=0)\n",
    "df_x_test = pd.read_csv(museum_sequence_path['x_test'], index_col=0)\n",
    "x_train_matrix = np.load(museum_sequence_path['x_train_matrix'])\n",
    "x_test_matrix = np.load(museum_sequence_path['x_test_matrix'])\n",
    "df_x_train.head()"
   ]
  },
  {
   "cell_type": "code",
   "execution_count": null,
   "metadata": {},
   "outputs": [],
   "source": [
    "tour_list = df_x_test['tour_path'].values"
   ]
  },
  {
   "cell_type": "markdown",
   "metadata": {},
   "source": [
    "## Load model"
   ]
  },
  {
   "cell_type": "code",
   "execution_count": null,
   "metadata": {},
   "outputs": [],
   "source": [
    "from Sequence_generator_based_previous_most_similar import Sequence_generator_based_previous_most_similar"
   ]
  },
  {
   "cell_type": "code",
   "execution_count": null,
   "metadata": {},
   "outputs": [],
   "source": [
    "def get_model(X_tour, window_size, all_data_matrix, df_X_tour,df_all_metadata):\n",
    "\n",
    "    seq_generator_most_sim = Sequence_generator_based_previous_most_similar( \n",
    "        X_tour=X_tour, \n",
    "        window_size=window_size, \n",
    "        all_data_matrix=all_data_matrix, \n",
    "        df_X_tour=df_X_tour, \n",
    "        df_all_metadata=df_all_metadata )\n",
    "    \n",
    "    return seq_generator_most_sim"
   ]
  },
  {
   "cell_type": "markdown",
   "metadata": {},
   "source": [
    "## Compute MAE"
   ]
  },
  {
   "cell_type": "code",
   "execution_count": null,
   "metadata": {},
   "outputs": [],
   "source": [
    "df_mae = pd.DataFrame({ 'model' : [],\n",
    "                         'tour' : [],\n",
    "                         'mae' : []})\n",
    "df_mae"
   ]
  },
  {
   "cell_type": "code",
   "execution_count": null,
   "metadata": {},
   "outputs": [],
   "source": [
    "index = 0\n",
    "window_size = 3\n",
    "\n",
    "for tour in tour_list:\n",
    "    #Get tour\n",
    "    images_path = os.path.join(tour, 'images')\n",
    "    tour_length = len(os.listdir(images_path))\n",
    "    X_tour = x_test_matrix[index: index + tour_length]\n",
    "    \n",
    "    metadata_path = os.path.join(tour, 'metadata.csv')\n",
    "    df_X_tour = pd.read_csv(metadata_path)\n",
    "    \n",
    "    index += tour_length \n",
    "    \n",
    "    #Define model\n",
    "    model = get_model(\n",
    "        X_tour=X_tour, \n",
    "        all_data_matrix=all_data_matrix, \n",
    "        df_X_tour=df_X_tour, \n",
    "        df_all_metadata=df_all_metadata, \n",
    "        window_size=window_size)\n",
    "    \n",
    "    df_predicted_tour = model.predict_tour()\n",
    "    \n",
    "    #Compute MAE\n",
    "    forecast_matrix = model.get_predicted_tour_matrix()\n",
    "    mae = np.mean(mean_absolute_error( X_tour[window_size:,:].T, forecast_matrix.T, multioutput='raw_values' ))\n",
    "    \n",
    "    #Save tour\n",
    "    tour_name = tour.split('/')[-1]\n",
    "    df_predicted_tour.to_csv(os.path.join(RESULT_PATH, 'predicted_' + tour_name + '.csv'), index=False)\n",
    "    \n",
    "    #Save MAE\n",
    "    df_mae = df_mae.append(\n",
    "        {'model' : model.get_name(),\n",
    "         'tour': tour_name,\n",
    "         'mae': mae\n",
    "        }, \n",
    "       ignore_index=True)\n",
    "\n",
    "df_mae"
   ]
  },
  {
   "cell_type": "code",
   "execution_count": null,
   "metadata": {},
   "outputs": [],
   "source": [
    "df_mae['mae'].mean()"
   ]
  },
  {
   "cell_type": "code",
   "execution_count": null,
   "metadata": {},
   "outputs": [],
   "source": []
  }
 ],
 "metadata": {
  "kernelspec": {
   "display_name": "Python 3",
   "language": "python",
   "name": "python3"
  },
  "language_info": {
   "codemirror_mode": {
    "name": "ipython",
    "version": 3
   },
   "file_extension": ".py",
   "mimetype": "text/x-python",
   "name": "python",
   "nbconvert_exporter": "python",
   "pygments_lexer": "ipython3",
   "version": "3.5.2"
  }
 },
 "nbformat": 4,
 "nbformat_minor": 2
}
