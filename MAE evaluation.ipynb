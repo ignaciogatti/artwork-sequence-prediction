{
 "cells": [
  {
   "cell_type": "markdown",
   "metadata": {},
   "source": [
    "# MAE evaluation"
   ]
  },
  {
   "cell_type": "code",
   "execution_count": null,
   "metadata": {},
   "outputs": [],
   "source": [
    "import numpy as np\n",
    "import pandas as pd\n",
    "import os\n",
    "from sklearn.metrics import mean_absolute_error\n",
    "import gc"
   ]
  },
  {
   "cell_type": "code",
   "execution_count": null,
   "metadata": {},
   "outputs": [],
   "source": [
    "BASE_PATH = '/root/work/datasets/artwork_sequence/'\n",
    "CONFIG_PATH = '/root/work/artwork_sequence/train_test_configuration'\n",
    "RESULT_PATH = '/root/work/artwork_sequence/predicted_tours'"
   ]
  },
  {
   "cell_type": "markdown",
   "metadata": {},
   "source": [
    "## Load data"
   ]
  },
  {
   "cell_type": "markdown",
   "metadata": {},
   "source": [
    "**Load all metadata**"
   ]
  },
  {
   "cell_type": "code",
   "execution_count": null,
   "metadata": {},
   "outputs": [],
   "source": [
    "df_all_metadata = pd.read_csv(os.path.join(BASE_PATH, 'all_metadata.csv'))\n",
    "all_data_matrix = np.load(os.path.join(BASE_PATH, 'all_code_matrix.npy' ))"
   ]
  },
  {
   "cell_type": "code",
   "execution_count": null,
   "metadata": {},
   "outputs": [],
   "source": [
    "print(df_all_metadata.shape)\n",
    "print(all_data_matrix.shape)"
   ]
  },
  {
   "cell_type": "markdown",
   "metadata": {},
   "source": [
    "**Load tours**"
   ]
  },
  {
   "cell_type": "code",
   "execution_count": null,
   "metadata": {},
   "outputs": [],
   "source": [
    "window_index = 5\n",
    "\n",
    "museum_sequence_path = {\n",
    "    'x_train' : os.path.join(CONFIG_PATH, 'X_train.csv'),\n",
    "    'x_test' : os.path.join(CONFIG_PATH, 'X_test.csv'),\n",
    "    'x_train_matrix' : os.path.join(CONFIG_PATH, 'X_train_matrix.npy'),\n",
    "    'x_test_matrix' : os.path.join(CONFIG_PATH, 'X_test_matrix.npy'),\n",
    "    'weights_folder' : os.path.join(CONFIG_PATH, 'config_'+str(window_index)+'/trained_model_weights'),\n",
    "    'results_folder' : os.path.join(RESULT_PATH,'config_'+str(window_index))\n",
    "}\n",
    "museum_sequence_path"
   ]
  },
  {
   "cell_type": "code",
   "execution_count": null,
   "metadata": {},
   "outputs": [],
   "source": [
    "df_x_train = pd.read_csv(museum_sequence_path['x_train'], index_col=0)\n",
    "df_x_test = pd.read_csv(museum_sequence_path['x_test'], index_col=0)\n",
    "x_train_matrix = np.load(museum_sequence_path['x_train_matrix'])\n",
    "x_test_matrix = np.load(museum_sequence_path['x_test_matrix'])\n",
    "df_x_train.head()"
   ]
  },
  {
   "cell_type": "code",
   "execution_count": null,
   "metadata": {},
   "outputs": [],
   "source": [
    "tour_list = df_x_test['tour_path'].values"
   ]
  },
  {
   "cell_type": "markdown",
   "metadata": {},
   "source": [
    "## Load model"
   ]
  },
  {
   "cell_type": "code",
   "execution_count": null,
   "metadata": {},
   "outputs": [],
   "source": [
    "from Sequence_generator_based_previous_most_similar import Sequence_generator_based_previous_most_similar\n",
    "from Sequence_geneartion_rnn import Sequence_generator_rnn\n",
    "from Generator_model_factory import Generator_model_factory, Generator_model_most_similar, Generator_model_rnn"
   ]
  },
  {
   "cell_type": "markdown",
   "metadata": {},
   "source": [
    "## Compute MAE"
   ]
  },
  {
   "cell_type": "markdown",
   "metadata": {},
   "source": [
    "**Define window size to work**"
   ]
  },
  {
   "cell_type": "code",
   "execution_count": null,
   "metadata": {},
   "outputs": [],
   "source": [
    "window_size = window_index"
   ]
  },
  {
   "cell_type": "markdown",
   "metadata": {},
   "source": [
    "**Define models**"
   ]
  },
  {
   "cell_type": "code",
   "execution_count": null,
   "metadata": {},
   "outputs": [],
   "source": [
    "gen_model_most_sim = Generator_model_most_similar( \n",
    "        all_data_matrix=all_data_matrix, \n",
    "        df_all_metadata=df_all_metadata, \n",
    "        window_size=window_size)"
   ]
  },
  {
   "cell_type": "code",
   "execution_count": null,
   "metadata": {},
   "outputs": [],
   "source": [
    "split_time = x_train_matrix.shape[0]\n",
    "gen_model_rnn = Generator_model_rnn(\n",
    "    X=x_test_matrix, \n",
    "    all_data_matrix=all_data_matrix, \n",
    "    batch_size=128, \n",
    "    df_all_metadata=df_all_metadata, \n",
    "    museum_sequence_path=museum_sequence_path, \n",
    "    shuffle_buffer_size=300, \n",
    "    split_time=split_time, \n",
    "    window_size=window_size)"
   ]
  },
  {
   "cell_type": "code",
   "execution_count": null,
   "metadata": {},
   "outputs": [],
   "source": [
    "gen_models = [gen_model_most_sim, gen_model_rnn]\n"
   ]
  },
  {
   "cell_type": "markdown",
   "metadata": {},
   "source": [
    "**Define MAE dataframe**"
   ]
  },
  {
   "cell_type": "code",
   "execution_count": null,
   "metadata": {},
   "outputs": [],
   "source": [
    "def get_mae_dataframe():\n",
    "\n",
    "    df_mae = pd.DataFrame({ 'model' : [],\n",
    "                             'tour' : [],\n",
    "                             'mae' : []})\n",
    "    return df_mae"
   ]
  },
  {
   "cell_type": "code",
   "execution_count": null,
   "metadata": {
    "scrolled": true
   },
   "outputs": [],
   "source": [
    "#iterate over all model with the same window\n",
    "\n",
    "for gen_model in gen_models:\n",
    "    #index to get current tour\n",
    "    index = 0\n",
    "    \n",
    "    #Get sequence generator model\n",
    "    model = gen_model.get_model()\n",
    "    \n",
    "    #Dataframe to save mae\n",
    "    df_mae = get_mae_dataframe()\n",
    "    for tour in tour_list:\n",
    "        #Get tour\n",
    "        images_path = os.path.join(tour, 'images')\n",
    "        tour_length = len(os.listdir(images_path))\n",
    "        X_tour = x_test_matrix[index: index + tour_length]\n",
    "\n",
    "        metadata_path = os.path.join(tour, 'metadata.csv')\n",
    "        df_X_tour = pd.read_csv(metadata_path)\n",
    "\n",
    "        index += tour_length \n",
    "\n",
    "        #Define model\n",
    "        model.set_tour(X_tour=X_tour, df_X_tour=df_X_tour)\n",
    "\n",
    "        df_predicted_tour = model.predict_tour()\n",
    "\n",
    "        #Compute MAE\n",
    "        forecast_matrix = model.get_predicted_tour_matrix()\n",
    "        #In case the window size was bigger than the tour size\n",
    "        if forecast_matrix.shape[0] != 0:\n",
    "            mae = np.mean(mean_absolute_error( X_tour[window_size:,:].T, forecast_matrix.T, multioutput='raw_values' ))\n",
    "\n",
    "            #Save tour\n",
    "            tour_name = tour.split('/')[-1]\n",
    "            target_path = os.path.join(museum_sequence_path['results_folder'], gen_model.__str__())\n",
    "            df_predicted_tour.to_csv(os.path.join(target_path, 'predicted_' + tour_name + '.csv'), index=False)\n",
    "\n",
    "            #Save MAE\n",
    "            df_mae = df_mae.append(\n",
    "                {'model' : model.get_name(),\n",
    "                 'tour': tour_name,\n",
    "                 'mae': mae\n",
    "                }, \n",
    "               ignore_index=True)\n",
    "        \n",
    "    target_path = os.path.join(museum_sequence_path['results_folder'], gen_model.__str__())\n",
    "    df_mae.to_csv(os.path.join(target_path, 'mae.csv'), index=False)\n",
    "\n",
    "    #Clear memory\n",
    "    model.del_data()\n",
    "    del model\n",
    "    del df_mae\n",
    "    gc.collect()"
   ]
  },
  {
   "cell_type": "code",
   "execution_count": null,
   "metadata": {},
   "outputs": [],
   "source": [
    "df_mae['mae'].mean()"
   ]
  },
  {
   "cell_type": "code",
   "execution_count": null,
   "metadata": {},
   "outputs": [],
   "source": []
  }
 ],
 "metadata": {
  "kernelspec": {
   "display_name": "Python 3",
   "language": "python",
   "name": "python3"
  },
  "language_info": {
   "codemirror_mode": {
    "name": "ipython",
    "version": 3
   },
   "file_extension": ".py",
   "mimetype": "text/x-python",
   "name": "python",
   "nbconvert_exporter": "python",
   "pygments_lexer": "ipython3",
   "version": "3.5.2"
  }
 },
 "nbformat": 4,
 "nbformat_minor": 2
}
