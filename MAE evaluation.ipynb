{
 "cells": [
  {
   "cell_type": "markdown",
   "metadata": {},
   "source": [
    "# MAE evaluation"
   ]
  },
  {
   "cell_type": "code",
   "execution_count": 1,
   "metadata": {},
   "outputs": [],
   "source": [
    "import numpy as np\n",
    "import pandas as pd\n",
    "import os\n",
    "from sklearn.metrics import mean_absolute_error"
   ]
  },
  {
   "cell_type": "code",
   "execution_count": 2,
   "metadata": {},
   "outputs": [],
   "source": [
    "BASE_PATH = '/root/work/datasets/artwork_sequence/'\n",
    "CONFIG_PATH = '/root/work/artwork_sequence/train_test_configuration'\n",
    "RESULT_PATH = '/root/work/artwork_sequence/predicted_tours/generated_sequence_based_previous_most_similar'\n",
    "#RESULT_PATH = '/root/work/artwork_sequence/predicted_tours/generated_sequence_rnn'"
   ]
  },
  {
   "cell_type": "markdown",
   "metadata": {},
   "source": [
    "## Load data"
   ]
  },
  {
   "cell_type": "markdown",
   "metadata": {},
   "source": [
    "**Load all metadata**"
   ]
  },
  {
   "cell_type": "code",
   "execution_count": 3,
   "metadata": {},
   "outputs": [],
   "source": [
    "df_all_metadata = pd.read_csv(os.path.join(BASE_PATH, 'all_metadata.csv'))\n",
    "all_data_matrix = np.load(os.path.join(BASE_PATH, 'all_code_matrix.npy' ))"
   ]
  },
  {
   "cell_type": "code",
   "execution_count": 4,
   "metadata": {},
   "outputs": [
    {
     "name": "stdout",
     "output_type": "stream",
     "text": [
      "(633, 6)\n",
      "(633, 300)\n"
     ]
    }
   ],
   "source": [
    "print(df_all_metadata.shape)\n",
    "print(all_data_matrix.shape)"
   ]
  },
  {
   "cell_type": "markdown",
   "metadata": {},
   "source": [
    "**Load tours**"
   ]
  },
  {
   "cell_type": "code",
   "execution_count": 5,
   "metadata": {},
   "outputs": [
    {
     "data": {
      "text/plain": [
       "{'weights_folder': '/root/work/artwork_sequence/train_test_configuration/config_3/trained_model_weights',\n",
       " 'x_test': '/root/work/artwork_sequence/train_test_configuration/X_test.csv',\n",
       " 'x_test_matrix': '/root/work/artwork_sequence/train_test_configuration/X_test_matrix.npy',\n",
       " 'x_train': '/root/work/artwork_sequence/train_test_configuration/X_train.csv',\n",
       " 'x_train_matrix': '/root/work/artwork_sequence/train_test_configuration/X_train_matrix.npy'}"
      ]
     },
     "execution_count": 5,
     "metadata": {},
     "output_type": "execute_result"
    }
   ],
   "source": [
    "window_index = 3\n",
    "\n",
    "museum_sequence_path = {\n",
    "    'x_train' : os.path.join(CONFIG_PATH, 'X_train.csv'),\n",
    "    'x_test' : os.path.join(CONFIG_PATH, 'X_test.csv'),\n",
    "    'x_train_matrix' : os.path.join(CONFIG_PATH, 'X_train_matrix.npy'),\n",
    "    'x_test_matrix' : os.path.join(CONFIG_PATH, 'X_test_matrix.npy'),\n",
    "    'weights_folder' : os.path.join(CONFIG_PATH, 'config_'+str(window_index)+'/trained_model_weights')\n",
    "}\n",
    "museum_sequence_path"
   ]
  },
  {
   "cell_type": "code",
   "execution_count": 6,
   "metadata": {},
   "outputs": [
    {
     "data": {
      "text/html": [
       "<div>\n",
       "<style scoped>\n",
       "    .dataframe tbody tr th:only-of-type {\n",
       "        vertical-align: middle;\n",
       "    }\n",
       "\n",
       "    .dataframe tbody tr th {\n",
       "        vertical-align: top;\n",
       "    }\n",
       "\n",
       "    .dataframe thead th {\n",
       "        text-align: right;\n",
       "    }\n",
       "</style>\n",
       "<table border=\"1\" class=\"dataframe\">\n",
       "  <thead>\n",
       "    <tr style=\"text-align: right;\">\n",
       "      <th></th>\n",
       "      <th>tour_path</th>\n",
       "    </tr>\n",
       "  </thead>\n",
       "  <tbody>\n",
       "    <tr>\n",
       "      <th>20</th>\n",
       "      <td>/root/work/datasets/artwork_sequence/rijksmuse...</td>\n",
       "    </tr>\n",
       "    <tr>\n",
       "      <th>7</th>\n",
       "      <td>/root/work/datasets/artwork_sequence/rijksmuse...</td>\n",
       "    </tr>\n",
       "    <tr>\n",
       "      <th>40</th>\n",
       "      <td>/root/work/datasets/artwork_sequence/prado_cra...</td>\n",
       "    </tr>\n",
       "    <tr>\n",
       "      <th>0</th>\n",
       "      <td>/root/work/datasets/artwork_sequence/rijksmuse...</td>\n",
       "    </tr>\n",
       "    <tr>\n",
       "      <th>23</th>\n",
       "      <td>/root/work/datasets/artwork_sequence/prado_cra...</td>\n",
       "    </tr>\n",
       "  </tbody>\n",
       "</table>\n",
       "</div>"
      ],
      "text/plain": [
       "                                            tour_path\n",
       "20  /root/work/datasets/artwork_sequence/rijksmuse...\n",
       "7   /root/work/datasets/artwork_sequence/rijksmuse...\n",
       "40  /root/work/datasets/artwork_sequence/prado_cra...\n",
       "0   /root/work/datasets/artwork_sequence/rijksmuse...\n",
       "23  /root/work/datasets/artwork_sequence/prado_cra..."
      ]
     },
     "execution_count": 6,
     "metadata": {},
     "output_type": "execute_result"
    }
   ],
   "source": [
    "df_x_train = pd.read_csv(museum_sequence_path['x_train'], index_col=0)\n",
    "df_x_test = pd.read_csv(museum_sequence_path['x_test'], index_col=0)\n",
    "x_train_matrix = np.load(museum_sequence_path['x_train_matrix'])\n",
    "x_test_matrix = np.load(museum_sequence_path['x_test_matrix'])\n",
    "df_x_train.head()"
   ]
  },
  {
   "cell_type": "code",
   "execution_count": 7,
   "metadata": {},
   "outputs": [],
   "source": [
    "tour_list = df_x_test['tour_path'].values"
   ]
  },
  {
   "cell_type": "markdown",
   "metadata": {},
   "source": [
    "## Load model"
   ]
  },
  {
   "cell_type": "code",
   "execution_count": 9,
   "metadata": {},
   "outputs": [],
   "source": [
    "from Sequence_generator_based_previous_most_similar import Sequence_generator_based_previous_most_similar\n",
    "from Sequence_geneartion_rnn import Sequence_generator_rnn\n",
    "from Generator_model_factory import Generator_model_factory, Generator_model_most_similar, Generator_model_rnn"
   ]
  },
  {
   "cell_type": "markdown",
   "metadata": {},
   "source": [
    "## Compute MAE"
   ]
  },
  {
   "cell_type": "markdown",
   "metadata": {},
   "source": [
    "**Define models**"
   ]
  },
  {
   "cell_type": "code",
   "execution_count": null,
   "metadata": {},
   "outputs": [],
   "source": [
    "gen_model_most_sim = Generator_model_most_similar( \n",
    "        all_data_matrix=all_data_matrix, \n",
    "        df_all_metadata=df_all_metadata, \n",
    "        window_size=3)"
   ]
  },
  {
   "cell_type": "code",
   "execution_count": 12,
   "metadata": {},
   "outputs": [],
   "source": [
    "split_time = x_train_matrix.shape[0]\n",
    "gen_model_rnn = Generator_model_rnn(\n",
    "    X=x_test_matrix, \n",
    "    all_data_matrix=all_data_matrix, \n",
    "    batch_size=128, \n",
    "    df_all_metadata=df_all_metadata, \n",
    "    museum_sequence_path=museum_sequence_path, \n",
    "    shuffle_buffer_size=300, \n",
    "    split_time=split_time, \n",
    "    window_size=window_index)"
   ]
  },
  {
   "cell_type": "code",
   "execution_count": null,
   "metadata": {},
   "outputs": [],
   "source": [
    "gen_models = {\n",
    "    'gen_model_most_sim' : gen_model_most_sim,\n",
    "    'gen_model_rnn' : gen_model_rnn\n",
    "}"
   ]
  },
  {
   "cell_type": "code",
   "execution_count": 10,
   "metadata": {},
   "outputs": [
    {
     "data": {
      "text/html": [
       "<div>\n",
       "<style scoped>\n",
       "    .dataframe tbody tr th:only-of-type {\n",
       "        vertical-align: middle;\n",
       "    }\n",
       "\n",
       "    .dataframe tbody tr th {\n",
       "        vertical-align: top;\n",
       "    }\n",
       "\n",
       "    .dataframe thead th {\n",
       "        text-align: right;\n",
       "    }\n",
       "</style>\n",
       "<table border=\"1\" class=\"dataframe\">\n",
       "  <thead>\n",
       "    <tr style=\"text-align: right;\">\n",
       "      <th></th>\n",
       "      <th>mae</th>\n",
       "      <th>model</th>\n",
       "      <th>tour</th>\n",
       "    </tr>\n",
       "  </thead>\n",
       "  <tbody>\n",
       "  </tbody>\n",
       "</table>\n",
       "</div>"
      ],
      "text/plain": [
       "Empty DataFrame\n",
       "Columns: [mae, model, tour]\n",
       "Index: []"
      ]
     },
     "execution_count": 10,
     "metadata": {},
     "output_type": "execute_result"
    }
   ],
   "source": [
    "df_mae = pd.DataFrame({ 'model' : [],\n",
    "                         'tour' : [],\n",
    "                         'mae' : []})\n",
    "df_mae"
   ]
  },
  {
   "cell_type": "code",
   "execution_count": null,
   "metadata": {},
   "outputs": [
    {
     "name": "stdout",
     "output_type": "stream",
     "text": [
      "WARNING:tensorflow:Entity <function standard_lstm at 0x7fe535b899d8> could not be transformed and will be executed as-is. Please report this to the AutoGraph team. When filing the bug, set the verbosity to 10 (on Linux, `export AUTOGRAPH_VERBOSITY=10`) and attach the full output. Cause: converting <function standard_lstm at 0x7fe535b899d8>: AttributeError: module 'gast' has no attribute 'Num'\n",
      "WARNING: Entity <function standard_lstm at 0x7fe535b899d8> could not be transformed and will be executed as-is. Please report this to the AutoGraph team. When filing the bug, set the verbosity to 10 (on Linux, `export AUTOGRAPH_VERBOSITY=10`) and attach the full output. Cause: converting <function standard_lstm at 0x7fe535b899d8>: AttributeError: module 'gast' has no attribute 'Num'\n",
      "WARNING:tensorflow:Entity <function cudnn_lstm at 0x7fe535b89a60> could not be transformed and will be executed as-is. Please report this to the AutoGraph team. When filing the bug, set the verbosity to 10 (on Linux, `export AUTOGRAPH_VERBOSITY=10`) and attach the full output. Cause: converting <function cudnn_lstm at 0x7fe535b89a60>: AttributeError: module 'gast' has no attribute 'Num'\n",
      "WARNING: Entity <function cudnn_lstm at 0x7fe535b89a60> could not be transformed and will be executed as-is. Please report this to the AutoGraph team. When filing the bug, set the verbosity to 10 (on Linux, `export AUTOGRAPH_VERBOSITY=10`) and attach the full output. Cause: converting <function cudnn_lstm at 0x7fe535b89a60>: AttributeError: module 'gast' has no attribute 'Num'\n",
      "WARNING:tensorflow:Entity <function standard_lstm at 0x7fe535b899d8> could not be transformed and will be executed as-is. Please report this to the AutoGraph team. When filing the bug, set the verbosity to 10 (on Linux, `export AUTOGRAPH_VERBOSITY=10`) and attach the full output. Cause: converting <function standard_lstm at 0x7fe535b899d8>: AttributeError: module 'gast' has no attribute 'Num'\n",
      "WARNING: Entity <function standard_lstm at 0x7fe535b899d8> could not be transformed and will be executed as-is. Please report this to the AutoGraph team. When filing the bug, set the verbosity to 10 (on Linux, `export AUTOGRAPH_VERBOSITY=10`) and attach the full output. Cause: converting <function standard_lstm at 0x7fe535b899d8>: AttributeError: module 'gast' has no attribute 'Num'\n",
      "WARNING:tensorflow:Entity <function cudnn_lstm at 0x7fe535b89a60> could not be transformed and will be executed as-is. Please report this to the AutoGraph team. When filing the bug, set the verbosity to 10 (on Linux, `export AUTOGRAPH_VERBOSITY=10`) and attach the full output. Cause: converting <function cudnn_lstm at 0x7fe535b89a60>: AttributeError: module 'gast' has no attribute 'Num'\n",
      "WARNING: Entity <function cudnn_lstm at 0x7fe535b89a60> could not be transformed and will be executed as-is. Please report this to the AutoGraph team. When filing the bug, set the verbosity to 10 (on Linux, `export AUTOGRAPH_VERBOSITY=10`) and attach the full output. Cause: converting <function cudnn_lstm at 0x7fe535b89a60>: AttributeError: module 'gast' has no attribute 'Num'\n"
     ]
    }
   ],
   "source": [
    "index = 0\n",
    "window_size = 3\n",
    " \n",
    "\n",
    "for tour in tour_list:\n",
    "    #Get tour\n",
    "    images_path = os.path.join(tour, 'images')\n",
    "    tour_length = len(os.listdir(images_path))\n",
    "    X_tour = x_test_matrix[index: index + tour_length]\n",
    "    \n",
    "    metadata_path = os.path.join(tour, 'metadata.csv')\n",
    "    df_X_tour = pd.read_csv(metadata_path)\n",
    "    \n",
    "    index += tour_length \n",
    "    \n",
    "    #Define model\n",
    "    gen_model.set_tour(X_tour=X_tour, df_X_tour=df_X_tour)\n",
    "    model = gen_model.get_model()\n",
    "    \n",
    "    df_predicted_tour = model.predict_tour()\n",
    "    \n",
    "    #Compute MAE\n",
    "    forecast_matrix = model.get_predicted_tour_matrix()\n",
    "    mae = np.mean(mean_absolute_error( X_tour[window_size:,:].T, forecast_matrix.T, multioutput='raw_values' ))\n",
    "    \n",
    "    #Save tour\n",
    "    tour_name = tour.split('/')[-1]\n",
    "    df_predicted_tour.to_csv(os.path.join(RESULT_PATH, 'predicted_' + tour_name + '.csv'), index=False)\n",
    "    \n",
    "    #Save MAE\n",
    "    df_mae = df_mae.append(\n",
    "        {'model' : model.get_name(),\n",
    "         'tour': tour_name,\n",
    "         'mae': mae\n",
    "        }, \n",
    "       ignore_index=True)\n",
    "\n",
    "df_mae"
   ]
  },
  {
   "cell_type": "code",
   "execution_count": null,
   "metadata": {},
   "outputs": [],
   "source": [
    "df_mae['mae'].mean()"
   ]
  },
  {
   "cell_type": "code",
   "execution_count": null,
   "metadata": {},
   "outputs": [],
   "source": []
  }
 ],
 "metadata": {
  "kernelspec": {
   "display_name": "Python 3",
   "language": "python",
   "name": "python3"
  },
  "language_info": {
   "codemirror_mode": {
    "name": "ipython",
    "version": 3
   },
   "file_extension": ".py",
   "mimetype": "text/x-python",
   "name": "python",
   "nbconvert_exporter": "python",
   "pygments_lexer": "ipython3",
   "version": "3.5.2"
  }
 },
 "nbformat": 4,
 "nbformat_minor": 2
}
