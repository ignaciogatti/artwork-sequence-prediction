{
 "cells": [
  {
   "cell_type": "markdown",
   "metadata": {},
   "source": [
    "# MAE evaluation"
   ]
  },
  {
   "cell_type": "code",
   "execution_count": null,
   "metadata": {},
   "outputs": [],
   "source": [
    "import numpy as np\n",
    "import pandas as pd\n",
    "import os\n",
    "from sklearn.metrics import mean_absolute_error\n",
    "import gc\n",
    "from multivariate_fretech_distance import compute_fretech_distance"
   ]
  },
  {
   "cell_type": "code",
   "execution_count": null,
   "metadata": {},
   "outputs": [],
   "source": [
    "BASE_PATH = '/root/work/datasets/artwork_sequence/'\n",
    "\n",
    "CONFIG_BASE_PATH = '/root/work/artwork_sequence/train_test_configuration'\n",
    "\n",
    "MULTI_CONFIG_PATH = os.path.join(CONFIG_BASE_PATH,'multivariate')\n",
    "UNI_CONFIG_PATH = os.path.join(CONFIG_BASE_PATH,'univariate')\n",
    "UNI_PREDICT_MULTI_CONFIG_PATH = os.path.join(CONFIG_BASE_PATH,'univariate_predict_multiple')\n",
    "EMB_CONFIG_PATH = os.path.join(CONFIG_BASE_PATH,'word_embeddings')\n",
    "CODE_EMB_CONFIG_PATH = os.path.join(CONFIG_BASE_PATH,'code_embedding')\n",
    "ARTIST_CODE_EMB_CONFIG_PATH = os.path.join(CONFIG_BASE_PATH,'artist_code_embedding')\n",
    "\n",
    "RESULT_PATH = '/root/work/artwork_sequence/predicted_tours'"
   ]
  },
  {
   "cell_type": "code",
   "execution_count": null,
   "metadata": {},
   "outputs": [],
   "source": [
    "museum_sequence_path = {\n",
    "    'x_train' : os.path.join(CONFIG_BASE_PATH, 'X_train.csv'),\n",
    "    'x_test' : os.path.join(CONFIG_BASE_PATH, 'X_test.csv'),\n",
    "    'x_train_matrix' : os.path.join(CONFIG_BASE_PATH, 'X_train_matrix.npy'),\n",
    "    'x_test_matrix' : os.path.join(CONFIG_BASE_PATH, 'X_test_matrix.npy'),\n",
    "    'embedding_train_matrix' : os.path.join(CONFIG_BASE_PATH, 'embedding_train_matrix.npy'),\n",
    "    'embedding_test_matrix' : os.path.join(CONFIG_BASE_PATH, 'embedding_test_matrix.npy'),\n",
    "    'artist_code_train_matrix' : os.path.join(CONFIG_BASE_PATH, 'artist_code_train_matrix.npy'),\n",
    "    'artist_code_test_matrix' : os.path.join(CONFIG_BASE_PATH, 'artist_code_test_matrix.npy'),\n",
    "    'all_metadata' : os.path.join(BASE_PATH, 'all_metadata.csv'),\n",
    "    'all_data_matrix' : os.path.join(BASE_PATH, 'all_code_matrix.npy' ),\n",
    "    'all_embedding_matrix' : os.path.join(BASE_PATH, 'all_embedding_matrix.npy' ),\n",
    "    'all_artists' : os.path.join(CONFIG_BASE_PATH, 'all_artists.csv'),\n",
    "    'all_artists_code_matrix' : os.path.join(CONFIG_BASE_PATH, 'all_artists_code_matrix.npy')\n",
    "}\n",
    "museum_sequence_path"
   ]
  },
  {
   "cell_type": "markdown",
   "metadata": {},
   "source": [
    "## Load data"
   ]
  },
  {
   "cell_type": "markdown",
   "metadata": {},
   "source": [
    "**Load all artwork's data**"
   ]
  },
  {
   "cell_type": "code",
   "execution_count": null,
   "metadata": {},
   "outputs": [],
   "source": [
    "df_all_metadata = pd.read_csv(museum_sequence_path['all_metadata'])\n",
    "all_data_matrix = np.load(museum_sequence_path['all_data_matrix'])\n",
    "all_embedding_matrix = np.load(museum_sequence_path['all_embedding_matrix'])\n",
    "\n",
    "df_all_artists = pd.read_csv(museum_sequence_path['all_artists'])\n",
    "all_artists_code_matrix = np.load(museum_sequence_path['all_artists_code_matrix'])"
   ]
  },
  {
   "cell_type": "code",
   "execution_count": null,
   "metadata": {},
   "outputs": [],
   "source": [
    "print(df_all_metadata.shape)\n",
    "print(all_data_matrix.shape)\n",
    "print(all_embedding_matrix.shape)\n",
    "print(df_all_artists.shape)\n",
    "print(all_artists_code_matrix.shape)"
   ]
  },
  {
   "cell_type": "markdown",
   "metadata": {},
   "source": [
    "**Organize artist_code_matrix to have the all_metadata shape**"
   ]
  },
  {
   "cell_type": "code",
   "execution_count": null,
   "metadata": {},
   "outputs": [],
   "source": [
    "def get_artist_code(author, df_all_artists, all_artists_code_matrix):\n",
    "    index = df_all_artists[df_all_artists['author'] == author].index[0]\n",
    "    return all_artists_code_matrix[index, :]"
   ]
  },
  {
   "cell_type": "code",
   "execution_count": null,
   "metadata": {},
   "outputs": [],
   "source": [
    "df_all_metadata['artist code'] = df_all_metadata['author'].apply(get_artist_code, args=(df_all_artists, all_artists_code_matrix))\n",
    "all_artists_code_list = list(df_all_metadata['artist code'].values)\n",
    "all_artists_code_matrix = np.vstack(all_artists_code_list)\n",
    "all_artists_code_matrix.shape"
   ]
  },
  {
   "cell_type": "markdown",
   "metadata": {},
   "source": [
    "**Load tours dataset**"
   ]
  },
  {
   "cell_type": "code",
   "execution_count": null,
   "metadata": {},
   "outputs": [],
   "source": [
    "df_x_train = pd.read_csv(museum_sequence_path['x_train'], index_col=0)\n",
    "df_x_test = pd.read_csv(museum_sequence_path['x_test'], index_col=0)\n",
    "\n",
    "x_train_matrix = np.load(museum_sequence_path['x_train_matrix'])\n",
    "x_test_matrix = np.load(museum_sequence_path['x_test_matrix'])\n",
    "\n",
    "embedding_train_matrix = np.load(museum_sequence_path['embedding_train_matrix'])\n",
    "embedding_test_matrix = np.load(museum_sequence_path['embedding_test_matrix'])\n",
    "\n",
    "artist_code_train_matrix = np.load(museum_sequence_path['artist_code_train_matrix'])\n",
    "artist_code_test_matrix = np.load(museum_sequence_path['artist_code_test_matrix'])"
   ]
  },
  {
   "cell_type": "code",
   "execution_count": null,
   "metadata": {},
   "outputs": [],
   "source": [
    "print(df_x_train.shape)\n",
    "print(df_x_test.shape)\n",
    "\n",
    "print(x_train_matrix.shape)\n",
    "print(x_test_matrix.shape)\n",
    "\n",
    "print(embedding_train_matrix.shape)\n",
    "print(embedding_test_matrix.shape)\n",
    "\n",
    "print(artist_code_train_matrix.shape)\n",
    "print(artist_code_test_matrix.shape)"
   ]
  },
  {
   "cell_type": "code",
   "execution_count": null,
   "metadata": {},
   "outputs": [],
   "source": [
    "tour_list = df_x_test['tour_path'].values"
   ]
  },
  {
   "cell_type": "markdown",
   "metadata": {},
   "source": [
    "## Load model"
   ]
  },
  {
   "cell_type": "code",
   "execution_count": null,
   "metadata": {},
   "outputs": [],
   "source": [
    "from Generator_model_factory import Generator_model_factory, Generator_model_most_similar, Generator_model_rnn, Generator_model_rnn_multivariate, Generator_model_rnn_embedding, Generator_model_rnn_code_embeding"
   ]
  },
  {
   "cell_type": "markdown",
   "metadata": {},
   "source": [
    "## Compute MAE"
   ]
  },
  {
   "cell_type": "markdown",
   "metadata": {},
   "source": [
    "**Define window size to work**"
   ]
  },
  {
   "cell_type": "code",
   "execution_count": null,
   "metadata": {},
   "outputs": [],
   "source": [
    "window_size = 3"
   ]
  },
  {
   "cell_type": "markdown",
   "metadata": {},
   "source": [
    "**Define models**"
   ]
  },
  {
   "cell_type": "code",
   "execution_count": null,
   "metadata": {},
   "outputs": [],
   "source": [
    "gen_model_most_sim = Generator_model_most_similar(\n",
    "        X=x_test_matrix,\n",
    "        all_data_matrix=all_data_matrix, \n",
    "        df_all_metadata=df_all_metadata, \n",
    "        window_size=window_size)"
   ]
  },
  {
   "cell_type": "code",
   "execution_count": null,
   "metadata": {},
   "outputs": [],
   "source": [
    "split_time = x_train_matrix.shape[0]\n",
    "gen_model_rnn = Generator_model_rnn(\n",
    "    X=x_test_matrix, \n",
    "    all_data_matrix=all_data_matrix, \n",
    "    batch_size=128, \n",
    "    df_all_metadata=df_all_metadata, \n",
    "    CONFIG_PATH=UNI_CONFIG_PATH, \n",
    "    shuffle_buffer_size=300, \n",
    "    split_time=split_time, \n",
    "    window_size=window_size,\n",
    "    conv_filter=20, \n",
    "    lstm_filter=40, \n",
    "    dense_filter=16, \n",
    "    prediction_length=1)"
   ]
  },
  {
   "cell_type": "code",
   "execution_count": null,
   "metadata": {},
   "outputs": [],
   "source": [
    "gen_model_rnn_multi = Generator_model_rnn_multivariate(\n",
    "    X=x_test_matrix,\n",
    "    all_data_matrix=all_data_matrix,\n",
    "    batch_size=128,\n",
    "    df_all_metadata=df_all_metadata,\n",
    "    CONFIG_PATH=MULTI_CONFIG_PATH,\n",
    "    shuffle_buffer_size=300,\n",
    "    split_time=split_time, window_size=window_size,\n",
    "    n_influence_features=10)"
   ]
  },
  {
   "cell_type": "code",
   "execution_count": null,
   "metadata": {},
   "outputs": [],
   "source": [
    "gen_model_rnn_embedding = Generator_model_rnn_embedding(\n",
    "    X=x_test_matrix,\n",
    "    all_data_matrix=all_data_matrix,\n",
    "    batch_size=128,\n",
    "    df_all_metadata=df_all_metadata,\n",
    "    CONFIG_PATH=EMB_CONFIG_PATH,\n",
    "    shuffle_buffer_size=300,\n",
    "    split_time=split_time, window_size=window_size,\n",
    "    X_embedding=embedding_test_matrix,\n",
    "    conv_filter=20, \n",
    "    lstm_filter=40, \n",
    "    dense_filter=20, \n",
    "    prediction_length=1)"
   ]
  },
  {
   "cell_type": "code",
   "execution_count": null,
   "metadata": {
    "code_folding": []
   },
   "outputs": [],
   "source": [
    "all_data_code_embedding_matrix = np.hstack((all_data_matrix, all_embedding_matrix))\n",
    "x_embedding_test_matrix = np.hstack((x_test_matrix, embedding_test_matrix))\n",
    "\n",
    "gen_model_rnn_code_embedding = Generator_model_rnn(\n",
    "    X=x_embedding_test_matrix, \n",
    "    all_data_matrix=all_data_code_embedding_matrix, \n",
    "    batch_size=128, \n",
    "    df_all_metadata=df_all_metadata, \n",
    "    CONFIG_PATH=CODE_EMB_CONFIG_PATH, \n",
    "    shuffle_buffer_size=300, \n",
    "    split_time=split_time, \n",
    "    window_size=window_size,\n",
    "    conv_filter=20, \n",
    "    lstm_filter=40, \n",
    "    dense_filter=20, \n",
    "    prediction_length=1,\n",
    "    name= 'generated_sequence_rnn_code_embedding')"
   ]
  },
  {
   "cell_type": "code",
   "execution_count": null,
   "metadata": {},
   "outputs": [],
   "source": [
    "artist_code_test_matrix = np.mean(artist_code_test_matrix, axis=1)\n",
    "x_artist_code_embedding_test_matrix = np.hstack((x_embedding_test_matrix, artist_code_test_matrix.reshape((-1, 1))))\n",
    "\n",
    "\n",
    "all_artists_code_mean_matrix = np.mean(all_artists_code_matrix, axis=1)\n",
    "all_data_artist_code_embedding_matrix = np.hstack((all_data_code_embedding_matrix, all_artists_code_mean_matrix.reshape((-1, 1))))\n",
    "\n",
    "gen_model_rnn_artist_code_embedding = Generator_model_rnn(\n",
    "    X=x_artist_code_embedding_test_matrix, \n",
    "    all_data_matrix=all_data_artist_code_embedding_matrix, \n",
    "    batch_size=128, \n",
    "    df_all_metadata=df_all_metadata, \n",
    "    CONFIG_PATH=ARTIST_CODE_EMB_CONFIG_PATH, \n",
    "    shuffle_buffer_size=300, \n",
    "    split_time=split_time, \n",
    "    window_size=window_size,\n",
    "    conv_filter=20, \n",
    "    lstm_filter=40, \n",
    "    dense_filter=20, \n",
    "    prediction_length=1,\n",
    "    name= 'generated_sequence_rnn_artist_code_embedding')"
   ]
  },
  {
   "cell_type": "code",
   "execution_count": null,
   "metadata": {},
   "outputs": [],
   "source": [
    "#gen_models = [gen_model_most_sim, gen_model_rnn, gen_model_rnn_multi]\n",
    "gen_models = [gen_model_most_sim, gen_model_rnn, gen_model_rnn_code_embedding, gen_model_rnn_artist_code_embedding]\n",
    "#gen_models = [gen_model_rnn_artist_code_embedding]"
   ]
  },
  {
   "cell_type": "markdown",
   "metadata": {},
   "source": [
    "**Define MAE dataframe**"
   ]
  },
  {
   "cell_type": "code",
   "execution_count": null,
   "metadata": {},
   "outputs": [],
   "source": [
    "def get_mae_dataframe():\n",
    "\n",
    "    df_mae = pd.DataFrame({ 'model' : [],\n",
    "                             'tour' : [],\n",
    "                             'mae' : [],\n",
    "                             'fretech_dist':[]})\n",
    "    return df_mae"
   ]
  },
  {
   "cell_type": "markdown",
   "metadata": {},
   "source": [
    "**Define Result path**"
   ]
  },
  {
   "cell_type": "code",
   "execution_count": null,
   "metadata": {},
   "outputs": [],
   "source": [
    "def get_result_path(window_size):\n",
    "    return os.path.join(RESULT_PATH,'config_'+str(window_size))\n",
    "    "
   ]
  },
  {
   "cell_type": "code",
   "execution_count": null,
   "metadata": {
    "scrolled": true
   },
   "outputs": [],
   "source": [
    "#iterate over all model with the same window\n",
    "\n",
    "for gen_model in gen_models:\n",
    "    #index to get current tour\n",
    "    index = 0\n",
    "    \n",
    "    #Get sequence generator model\n",
    "    model = gen_model.get_model()\n",
    "    \n",
    "    #Dataframe to save mae\n",
    "    df_mae = get_mae_dataframe()\n",
    "    \n",
    "    #Define path to save the results\n",
    "    target_path = os.path.join(get_result_path(window_size), gen_model.__str__())\n",
    "    if not os.path.exists(target_path):\n",
    "        os.makedirs(target_path)\n",
    "            \n",
    "    for tour in tour_list:\n",
    "        #Get tour\n",
    "        images_path = os.path.join(tour, 'images')\n",
    "        tour_length = len(os.listdir(images_path))\n",
    "        #Get code for artworks tour\n",
    "        X_tour = gen_model.get_tour_data(index, tour_length)\n",
    "        #Get embedding for artworks tour\n",
    "        X_embedding_tour = embedding_test_matrix[index: index + tour_length]\n",
    "\n",
    "        metadata_path = os.path.join(tour, 'metadata.csv')\n",
    "        df_X_tour = pd.read_csv(metadata_path)\n",
    "\n",
    "        index += tour_length \n",
    "\n",
    "        #Define model\n",
    "        model.set_tour(X_tour=X_tour, df_X_tour=df_X_tour, X_embedding_tour= X_embedding_tour)\n",
    "\n",
    "        df_predicted_tour = model.predict_tour()\n",
    "        \n",
    "\n",
    "        #Compute MAE\n",
    "        forecast_matrix = model.get_predicted_tour_matrix()\n",
    "        X_true = model.get_tour()\n",
    "        #In case the window size was bigger than the tour size\n",
    "        if forecast_matrix.shape[0] != 0:\n",
    "            print(forecast_matrix.T.shape)\n",
    "            mae = np.mean(mean_absolute_error( X_true[window_size:,:].T, forecast_matrix.T, multioutput='raw_values' ))\n",
    "            \n",
    "            fretech_dist = compute_fretech_distance(forecast_matrix, X_true[window_size:,:])\n",
    "\n",
    "            #Save tour\n",
    "            tour_name = tour.split('/')[-1]\n",
    "            df_predicted_tour.to_csv(os.path.join(target_path, 'predicted_' + tour_name + '.csv'), index=False)\n",
    "\n",
    "            #Save MAE\n",
    "            df_mae = df_mae.append(\n",
    "                {'model' : model.get_name(),\n",
    "                 'tour': tour_name,\n",
    "                 'mae': mae,\n",
    "                 'fretech_dist' : fretech_dist\n",
    "                }, \n",
    "               ignore_index=True)\n",
    "        break\n",
    "    break\n",
    "    df_mae.to_csv(os.path.join(target_path, 'mae.csv'), index=False)\n",
    "\n",
    "    #Clear memory\n",
    "    model.del_data()\n",
    "    del model\n",
    "    del df_mae\n",
    "    #gc.collect()"
   ]
  },
  {
   "cell_type": "code",
   "execution_count": null,
   "metadata": {},
   "outputs": [],
   "source": [
    "#df_mae['mae'].mean()"
   ]
  },
  {
   "cell_type": "code",
   "execution_count": null,
   "metadata": {},
   "outputs": [],
   "source": []
  }
 ],
 "metadata": {
  "kernelspec": {
   "display_name": "Python 3",
   "language": "python",
   "name": "python3"
  },
  "language_info": {
   "codemirror_mode": {
    "name": "ipython",
    "version": 3
   },
   "file_extension": ".py",
   "mimetype": "text/x-python",
   "name": "python",
   "nbconvert_exporter": "python",
   "pygments_lexer": "ipython3",
   "version": "3.5.2"
  }
 },
 "nbformat": 4,
 "nbformat_minor": 2
}
