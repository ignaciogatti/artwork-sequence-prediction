{
 "cells": [
  {
   "cell_type": "code",
   "execution_count": null,
   "metadata": {},
   "outputs": [],
   "source": [
    "import pandas as pd\n",
    "import numpy as np\n",
    "import unicodedata\n",
    "import os"
   ]
  },
  {
   "cell_type": "code",
   "execution_count": null,
   "metadata": {},
   "outputs": [],
   "source": [
    "BASE_PATH = '/root/work/datasets/'\n",
    "BASE_SEQUENCE_PATH = '/root/work/datasets/artwork_sequence/'"
   ]
  },
  {
   "cell_type": "markdown",
   "metadata": {},
   "source": [
    "**Normalize data function**"
   ]
  },
  {
   "cell_type": "code",
   "execution_count": null,
   "metadata": {},
   "outputs": [],
   "source": [
    "def normalize_title(title):\n",
    "    return unicodedata.normalize('NFKD', title.lower()).encode('ASCII', 'ignore').decode('utf8')"
   ]
  },
  {
   "cell_type": "markdown",
   "metadata": {},
   "source": [
    "## Load data"
   ]
  },
  {
   "cell_type": "markdown",
   "metadata": {},
   "source": [
    "**Load tours metadata**"
   ]
  },
  {
   "cell_type": "code",
   "execution_count": null,
   "metadata": {},
   "outputs": [],
   "source": [
    "df_tours = pd.read_csv(os.path.join(BASE_SEQUENCE_PATH, 'all_metadata.csv'))\n",
    "df_tours.head()"
   ]
  },
  {
   "cell_type": "code",
   "execution_count": null,
   "metadata": {},
   "outputs": [],
   "source": [
    "df_tours.shape"
   ]
  },
  {
   "cell_type": "markdown",
   "metadata": {},
   "source": [
    "**Load wikiArts metadata**"
   ]
  },
  {
   "cell_type": "code",
   "execution_count": null,
   "metadata": {},
   "outputs": [],
   "source": [
    "df_all_data = pd.read_csv(os.path.join(BASE_PATH,'all_data_info.csv'))\n",
    "df_all_data = df_all_data[['artist', 'date', 'genre', 'style', 'title']]\n",
    "df_all_data = df_all_data.dropna()\n",
    "df_all_data.head()"
   ]
  },
  {
   "cell_type": "code",
   "execution_count": null,
   "metadata": {},
   "outputs": [],
   "source": [
    "df_all_data.shape"
   ]
  },
  {
   "cell_type": "markdown",
   "metadata": {},
   "source": [
    "**Normalize data**"
   ]
  },
  {
   "cell_type": "code",
   "execution_count": null,
   "metadata": {},
   "outputs": [],
   "source": [
    "df_all_data['artist'] = df_all_data['artist'].apply(normalize_title)\n",
    "df_all_data['genre'] = df_all_data['genre'].apply(normalize_title)\n",
    "df_all_data['style'] = df_all_data['style'].apply(normalize_title)\n",
    "df_all_data['title'] = df_all_data['title'].apply(normalize_title)\n",
    "df_all_data.head()"
   ]
  },
  {
   "cell_type": "code",
   "execution_count": null,
   "metadata": {},
   "outputs": [],
   "source": [
    "df_all_artists = df_all_data['artist'].drop_duplicates()\n",
    "df_all_artists.shape"
   ]
  },
  {
   "cell_type": "code",
   "execution_count": null,
   "metadata": {},
   "outputs": [],
   "source": [
    "df_all_artists.head()"
   ]
  },
  {
   "cell_type": "markdown",
   "metadata": {},
   "source": [
    "## Find artist name in WikiArt"
   ]
  },
  {
   "cell_type": "code",
   "execution_count": null,
   "metadata": {},
   "outputs": [],
   "source": [
    "import re\n",
    "\n",
    "'''\n",
    "reverse name transform last name, first name -> first name last name\n",
    "'''\n",
    "\n",
    "\n",
    "def reverse_name(name):\n",
    "    \n",
    "    name_cleaned = re.sub(r'\\(.+\\)', '', name)\n",
    "    name_cleaned = re.sub(r' (de|y)( |$)', ' ', name_cleaned)\n",
    "    #name_cleaned = re.sub(r'(\\(|\\))', '', name_cleaned)\n",
    "    name_splitted = name_cleaned.split(', ')\n",
    "    name_splitted.reverse()\n",
    "    return ' '.join(name_splitted)\n",
    "    "
   ]
  },
  {
   "cell_type": "code",
   "execution_count": null,
   "metadata": {},
   "outputs": [],
   "source": [
    "df_tours['name reverse'] = df_tours['author'].apply(reverse_name)\n",
    "\n",
    "df_tours.head()"
   ]
  },
  {
   "cell_type": "code",
   "execution_count": null,
   "metadata": {},
   "outputs": [],
   "source": [
    "from itertools import combinations\n",
    "\n",
    "\n",
    "def name_in_wikiart(name_reverse):\n",
    "    \n",
    "    name_splitted = name_reverse.split(' ')\n",
    "    for n in range(len(name_splitted),0,-1):\n",
    "        posible_combs = list(combinations(name_splitted, n))\n",
    "        for c in posible_combs:\n",
    "            regex = '.*'.join(c)\n",
    "            regex = re.sub(r'(\\(|\\))', '', regex)\n",
    "            wikiarts_names = df_all_artists[df_all_artists.str.contains(regex)].values\n",
    "            #Find one example\n",
    "            if len(wikiarts_names) == 1:\n",
    "                return wikiarts_names[0]\n",
    "            #Find different examples\n",
    "            elif len(wikiarts_names) > 1:\n",
    "                for name in wikiarts_names:\n",
    "                    if name == name_splitted[0] :\n",
    "                        return name\n",
    "                return wikiarts_names[0]\n",
    "    return 'anonimous'"
   ]
  },
  {
   "cell_type": "code",
   "execution_count": null,
   "metadata": {},
   "outputs": [],
   "source": [
    "df_tours['wikiart name'] = df_tours['name reverse'].apply(name_in_wikiart)\n",
    "df_tours.head()"
   ]
  },
  {
   "cell_type": "markdown",
   "metadata": {},
   "source": [
    "## Find artwork metadata"
   ]
  },
  {
   "cell_type": "code",
   "execution_count": null,
   "metadata": {},
   "outputs": [],
   "source": [
    "from itertools import combinations\n",
    "\n",
    "def get_style_genre_artwork(row, df_all_data, feature):\n",
    "    \n",
    "    #Anonimous artist\n",
    "    if row['wikiart name'] == 'anonimous':\n",
    "        return'no value'\n",
    "\n",
    "    #Get all the artworks related to the artist\n",
    "    df_metadata_artist = df_all_data[(df_all_data['artist']==row['wikiart name'])]\n",
    "    \n",
    "    title = row['title']\n",
    "    \n",
    "    title_split = title.split(' ')\n",
    "\n",
    "    for n in range(len(title_split),0,-1):\n",
    "        posible_combs = list(combinations(title_split, n))\n",
    "        for c in posible_combs:\n",
    "            regex = '.*'.join(c)\n",
    "            regex = re.sub(r'(\\(|\\))', '', regex)\n",
    "            wikiart_feature = df_metadata_artist[df_metadata_artist['title'].str.contains(regex)][feature].values\n",
    "            if len(wikiart_feature) >0:\n",
    "                return wikiart_feature[0]\n",
    "            \n",
    "    return 'no value'\n"
   ]
  },
  {
   "cell_type": "code",
   "execution_count": null,
   "metadata": {},
   "outputs": [],
   "source": [
    "df_tours['style'] = df_tours.apply(func=get_style_genre_artwork, axis=1, args=[df_all_data, 'style'])\n",
    "df_tours.head()"
   ]
  },
  {
   "cell_type": "code",
   "execution_count": null,
   "metadata": {},
   "outputs": [],
   "source": [
    "df_tours['genre'] = df_tours.apply(func=get_style_genre_artwork, axis=1, args=[df_all_data, 'genre'])\n",
    "df_tours.head()"
   ]
  },
  {
   "cell_type": "code",
   "execution_count": null,
   "metadata": {},
   "outputs": [],
   "source": [
    "df_tours.to_csv(os.path.join(BASE_SEQUENCE_PATH, 'all_metadata_with_style_genre.csv'), index=False)"
   ]
  }
 ],
 "metadata": {
  "kernelspec": {
   "display_name": "Python 3",
   "language": "python",
   "name": "python3"
  },
  "language_info": {
   "codemirror_mode": {
    "name": "ipython",
    "version": 3
   },
   "file_extension": ".py",
   "mimetype": "text/x-python",
   "name": "python",
   "nbconvert_exporter": "python",
   "pygments_lexer": "ipython3",
   "version": "3.5.2"
  }
 },
 "nbformat": 4,
 "nbformat_minor": 2
}
