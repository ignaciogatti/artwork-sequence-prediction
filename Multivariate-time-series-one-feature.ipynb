{
 "cells": [
  {
   "cell_type": "markdown",
   "metadata": {},
   "source": [
    "# Multivariate time serie prediction for one feature"
   ]
  },
  {
   "cell_type": "code",
   "execution_count": 2,
   "metadata": {},
   "outputs": [
    {
     "name": "stdout",
     "output_type": "stream",
     "text": [
      "2.0.0-beta1\n"
     ]
    }
   ],
   "source": [
    "import numpy as np\n",
    "import pandas as pd\n",
    "import tensorflow as tf\n",
    "import os\n",
    "from utils_plot import plot_series, plot_train_history, plot_prediction\n",
    "import matplotlib.pyplot as plt\n",
    "print(tf.__version__)"
   ]
  },
  {
   "cell_type": "code",
   "execution_count": 3,
   "metadata": {},
   "outputs": [],
   "source": [
    "CONFIG_PATH = '/root/work/artwork_sequence/train_test_configuration'\n",
    "PLOT_PATH = '/root/work/artwork_sequence/plots'"
   ]
  },
  {
   "cell_type": "code",
   "execution_count": 4,
   "metadata": {},
   "outputs": [
    {
     "data": {
      "text/plain": [
       "{'x_test': '/root/work/artwork_sequence/train_test_configuration/X_test.csv',\n",
       " 'x_test_matrix': '/root/work/artwork_sequence/train_test_configuration/X_test_matrix.npy',\n",
       " 'x_train': '/root/work/artwork_sequence/train_test_configuration/X_train.csv',\n",
       " 'x_train_matrix': '/root/work/artwork_sequence/train_test_configuration/X_train_matrix.npy'}"
      ]
     },
     "execution_count": 4,
     "metadata": {},
     "output_type": "execute_result"
    }
   ],
   "source": [
    "museum_sequence_path = {\n",
    "    'x_train' : os.path.join(CONFIG_PATH, 'X_train.csv'),\n",
    "    'x_test' : os.path.join(CONFIG_PATH, 'X_test.csv'),\n",
    "    'x_train_matrix' : os.path.join(CONFIG_PATH, 'X_train_matrix.npy'),\n",
    "    'x_test_matrix' : os.path.join(CONFIG_PATH, 'X_test_matrix.npy')\n",
    "}\n",
    "museum_sequence_path"
   ]
  },
  {
   "cell_type": "markdown",
   "metadata": {},
   "source": [
    "## Load data"
   ]
  },
  {
   "cell_type": "code",
   "execution_count": 5,
   "metadata": {},
   "outputs": [
    {
     "data": {
      "text/html": [
       "<div>\n",
       "<style scoped>\n",
       "    .dataframe tbody tr th:only-of-type {\n",
       "        vertical-align: middle;\n",
       "    }\n",
       "\n",
       "    .dataframe tbody tr th {\n",
       "        vertical-align: top;\n",
       "    }\n",
       "\n",
       "    .dataframe thead th {\n",
       "        text-align: right;\n",
       "    }\n",
       "</style>\n",
       "<table border=\"1\" class=\"dataframe\">\n",
       "  <thead>\n",
       "    <tr style=\"text-align: right;\">\n",
       "      <th></th>\n",
       "      <th>tour_path</th>\n",
       "    </tr>\n",
       "  </thead>\n",
       "  <tbody>\n",
       "    <tr>\n",
       "      <th>20</th>\n",
       "      <td>/root/work/datasets/artwork_sequence/rijksmuse...</td>\n",
       "    </tr>\n",
       "    <tr>\n",
       "      <th>7</th>\n",
       "      <td>/root/work/datasets/artwork_sequence/rijksmuse...</td>\n",
       "    </tr>\n",
       "    <tr>\n",
       "      <th>40</th>\n",
       "      <td>/root/work/datasets/artwork_sequence/prado_cra...</td>\n",
       "    </tr>\n",
       "    <tr>\n",
       "      <th>0</th>\n",
       "      <td>/root/work/datasets/artwork_sequence/rijksmuse...</td>\n",
       "    </tr>\n",
       "    <tr>\n",
       "      <th>23</th>\n",
       "      <td>/root/work/datasets/artwork_sequence/prado_cra...</td>\n",
       "    </tr>\n",
       "  </tbody>\n",
       "</table>\n",
       "</div>"
      ],
      "text/plain": [
       "                                            tour_path\n",
       "20  /root/work/datasets/artwork_sequence/rijksmuse...\n",
       "7   /root/work/datasets/artwork_sequence/rijksmuse...\n",
       "40  /root/work/datasets/artwork_sequence/prado_cra...\n",
       "0   /root/work/datasets/artwork_sequence/rijksmuse...\n",
       "23  /root/work/datasets/artwork_sequence/prado_cra..."
      ]
     },
     "execution_count": 5,
     "metadata": {},
     "output_type": "execute_result"
    }
   ],
   "source": [
    "df_x_train = pd.read_csv(museum_sequence_path['x_train'], index_col=0)\n",
    "df_x_test = pd.read_csv(museum_sequence_path['x_test'], index_col=0)\n",
    "x_train_matrix = np.load(museum_sequence_path['x_train_matrix'])\n",
    "x_test_matrix = np.load(museum_sequence_path['x_test_matrix'])\n",
    "df_x_train.head()"
   ]
  },
  {
   "cell_type": "markdown",
   "metadata": {},
   "source": [
    "# Config data to fit with the model input\n",
    "\n",
    "\n",
    "Because the **Prediction feature model** split the data into training and validation dataset, it is necessary to give all the data in only one block"
   ]
  },
  {
   "cell_type": "markdown",
   "metadata": {},
   "source": [
    "**Define timeline**"
   ]
  },
  {
   "cell_type": "code",
   "execution_count": 6,
   "metadata": {},
   "outputs": [
    {
     "data": {
      "text/plain": [
       "(859,)"
      ]
     },
     "execution_count": 6,
     "metadata": {},
     "output_type": "execute_result"
    }
   ],
   "source": [
    "time = np.arange(x_train_matrix.shape[0] + x_test_matrix.shape[0])\n",
    "time.shape"
   ]
  },
  {
   "cell_type": "markdown",
   "metadata": {},
   "source": [
    "## Split dataset"
   ]
  },
  {
   "cell_type": "markdown",
   "metadata": {},
   "source": [
    "**Define window size**"
   ]
  },
  {
   "cell_type": "code",
   "execution_count": 8,
   "metadata": {},
   "outputs": [],
   "source": [
    "split_time = x_train_matrix.shape[0]\n",
    "\n",
    "X = np.concatenate((x_train_matrix, x_test_matrix))\n",
    "#Define feature to predict\n",
    "feature_to_predict = 0\n",
    "x_feature = X[:,feature_to_predict]\n",
    "\n",
    "#Define influence features\n",
    "n_features = X.shape[1]\n",
    "indexes_features = np.random.choice(np.delete(np.arange(X.shape[1]), feature_to_predict), 3, replace=False)\n",
    "\n",
    "x_inflence_features = X[:, list(indexes_features)]\n",
    "\n",
    "#the length mean average of the tours\n",
    "window_size = 4\n",
    "\n",
    "batch_size = 128\n",
    "shuffle_buffer_size = 300"
   ]
  },
  {
   "cell_type": "code",
   "execution_count": 9,
   "metadata": {},
   "outputs": [
    {
     "data": {
      "text/plain": [
       "4"
      ]
     },
     "execution_count": 9,
     "metadata": {},
     "output_type": "execute_result"
    }
   ],
   "source": [
    "#Stack feature to predict with influences features\n",
    "x_feature = np.hstack(tup=(x_feature.reshape((-1,1)), x_inflence_features))\n",
    "\n",
    "n_features = x_feature.shape[1]\n",
    "n_features"
   ]
  },
  {
   "cell_type": "markdown",
   "metadata": {},
   "source": [
    "**Create windowed dataset**"
   ]
  },
  {
   "cell_type": "code",
   "execution_count": 11,
   "metadata": {},
   "outputs": [],
   "source": [
    "from Prediction_model_feature import Windowed_Dataset"
   ]
  },
  {
   "cell_type": "code",
   "execution_count": 12,
   "metadata": {},
   "outputs": [],
   "source": [
    "dataset = Windowed_Dataset(x_feature,\n",
    "                           split_time=split_time,\n",
    "                           window_size=window_size, \n",
    "                           shuffle_buffer=shuffle_buffer_size,\n",
    "                           train_batch_size=batch_size,\n",
    "                            val_batch_size=batch_size)"
   ]
  },
  {
   "cell_type": "code",
   "execution_count": 13,
   "metadata": {},
   "outputs": [],
   "source": [
    "train_set = dataset.get_train_dataset()\n",
    "val_set = dataset.get_val_dataset()"
   ]
  },
  {
   "cell_type": "markdown",
   "metadata": {},
   "source": [
    "**Plot example**"
   ]
  },
  {
   "cell_type": "code",
   "execution_count": 14,
   "metadata": {},
   "outputs": [
    {
     "name": "stdout",
     "output_type": "stream",
     "text": [
      "(4, 4)\n",
      "0.0003882437\n"
     ]
    },
    {
     "data": {
      "image/png": "[encoded data removed]",
      "text/plain": [
       "<matplotlib.figure.Figure at 0x7f681494d320>"
      ]
     },
     "metadata": {},
     "output_type": "display_data"
    }
   ],
   "source": [
    "for x, y in train_set.take(1):\n",
    "    print(x[0].numpy().shape)\n",
    "    print(y[0].numpy())\n",
    "    plot = plot_prediction([x[0][:, 0].numpy(), y[0].numpy()] , 'Sample example')\n",
    "    #Necessary to save before you plot\n",
    "    #plot.savefig(os.path.join(PLOT_PATH, 'sample_example.png'))\n",
    "    plot.show()\n",
    "    "
   ]
  },
  {
   "cell_type": "markdown",
   "metadata": {},
   "source": [
    "## Define model"
   ]
  },
  {
   "cell_type": "code",
   "execution_count": 20,
   "metadata": {},
   "outputs": [],
   "source": [
    "def define_model(ws, nf=1):\n",
    "\n",
    "    tf.keras.backend.clear_session()\n",
    "    tf.random.set_seed(51)\n",
    "    np.random.seed(51)\n",
    "\n",
    "    model = tf.keras.models.Sequential([\n",
    "      tf.keras.layers.Conv1D(filters=32, kernel_size=5,\n",
    "                          strides=1, padding=\"causal\",\n",
    "                          activation=\"relu\",\n",
    "                          input_shape=[ws, nf]),\n",
    "      tf.keras.layers.LSTM(64, return_sequences=True),\n",
    "      tf.keras.layers.LSTM(32),\n",
    "      tf.keras.layers.Dense(16, activation=\"relu\"),\n",
    "      tf.keras.layers.Dense(8, activation=\"relu\"),\n",
    "      tf.keras.layers.Dense(1, name=\"prediction\"),\n",
    "      tf.keras.layers.Lambda(lambda x: x * 400)\n",
    "    ],\n",
    "    name=\"Sequence_Feature_1\")\n",
    "    \n",
    "    return model"
   ]
  },
  {
   "cell_type": "code",
   "execution_count": 24,
   "metadata": {},
   "outputs": [
    {
     "name": "stdout",
     "output_type": "stream",
     "text": [
      "WARNING:tensorflow:Entity <function standard_lstm at 0x7f682a0f17b8> could not be transformed and will be executed as-is. Please report this to the AutoGraph team. When filing the bug, set the verbosity to 10 (on Linux, `export AUTOGRAPH_VERBOSITY=10`) and attach the full output. Cause: converting <function standard_lstm at 0x7f682a0f17b8>: AttributeError: module 'gast' has no attribute 'Num'\n",
      "WARNING: Entity <function standard_lstm at 0x7f682a0f17b8> could not be transformed and will be executed as-is. Please report this to the AutoGraph team. When filing the bug, set the verbosity to 10 (on Linux, `export AUTOGRAPH_VERBOSITY=10`) and attach the full output. Cause: converting <function standard_lstm at 0x7f682a0f17b8>: AttributeError: module 'gast' has no attribute 'Num'\n",
      "WARNING:tensorflow:Entity <function cudnn_lstm at 0x7f682a0f1840> could not be transformed and will be executed as-is. Please report this to the AutoGraph team. When filing the bug, set the verbosity to 10 (on Linux, `export AUTOGRAPH_VERBOSITY=10`) and attach the full output. Cause: converting <function cudnn_lstm at 0x7f682a0f1840>: AttributeError: module 'gast' has no attribute 'Num'\n",
      "WARNING: Entity <function cudnn_lstm at 0x7f682a0f1840> could not be transformed and will be executed as-is. Please report this to the AutoGraph team. When filing the bug, set the verbosity to 10 (on Linux, `export AUTOGRAPH_VERBOSITY=10`) and attach the full output. Cause: converting <function cudnn_lstm at 0x7f682a0f1840>: AttributeError: module 'gast' has no attribute 'Num'\n",
      "WARNING:tensorflow:Entity <function standard_lstm at 0x7f682a0f17b8> could not be transformed and will be executed as-is. Please report this to the AutoGraph team. When filing the bug, set the verbosity to 10 (on Linux, `export AUTOGRAPH_VERBOSITY=10`) and attach the full output. Cause: converting <function standard_lstm at 0x7f682a0f17b8>: AttributeError: module 'gast' has no attribute 'Num'\n",
      "WARNING: Entity <function standard_lstm at 0x7f682a0f17b8> could not be transformed and will be executed as-is. Please report this to the AutoGraph team. When filing the bug, set the verbosity to 10 (on Linux, `export AUTOGRAPH_VERBOSITY=10`) and attach the full output. Cause: converting <function standard_lstm at 0x7f682a0f17b8>: AttributeError: module 'gast' has no attribute 'Num'\n",
      "WARNING:tensorflow:Entity <function cudnn_lstm at 0x7f682a0f1840> could not be transformed and will be executed as-is. Please report this to the AutoGraph team. When filing the bug, set the verbosity to 10 (on Linux, `export AUTOGRAPH_VERBOSITY=10`) and attach the full output. Cause: converting <function cudnn_lstm at 0x7f682a0f1840>: AttributeError: module 'gast' has no attribute 'Num'\n",
      "WARNING: Entity <function cudnn_lstm at 0x7f682a0f1840> could not be transformed and will be executed as-is. Please report this to the AutoGraph team. When filing the bug, set the verbosity to 10 (on Linux, `export AUTOGRAPH_VERBOSITY=10`) and attach the full output. Cause: converting <function cudnn_lstm at 0x7f682a0f1840>: AttributeError: module 'gast' has no attribute 'Num'\n",
      "Model: \"Sequence_Feature_1\"\n",
      "_________________________________________________________________\n",
      "Layer (type)                 Output Shape              Param #   \n",
      "=================================================================\n",
      "conv1d (Conv1D)              (None, 4, 32)             672       \n",
      "_________________________________________________________________\n",
      "lstm (LSTM)                  (None, 4, 64)             24832     \n",
      "_________________________________________________________________\n",
      "lstm_1 (LSTM)                (None, 32)                12416     \n",
      "_________________________________________________________________\n",
      "dense (Dense)                (None, 16)                528       \n",
      "_________________________________________________________________\n",
      "dense_1 (Dense)              (None, 8)                 136       \n",
      "_________________________________________________________________\n",
      "prediction (Dense)           (None, 1)                 9         \n",
      "_________________________________________________________________\n",
      "lambda (Lambda)              (None, 1)                 0         \n",
      "=================================================================\n",
      "Total params: 38,593\n",
      "Trainable params: 38,593\n",
      "Non-trainable params: 0\n",
      "_________________________________________________________________\n"
     ]
    }
   ],
   "source": [
    "model = define_model(window_size, n_features)\n",
    "model.summary()"
   ]
  },
  {
   "cell_type": "markdown",
   "metadata": {},
   "source": [
    "**Train with different leraning rates**"
   ]
  },
  {
   "cell_type": "code",
   "execution_count": 25,
   "metadata": {},
   "outputs": [],
   "source": [
    "lr_schedule = tf.keras.callbacks.LearningRateScheduler(\n",
    "    lambda epoch: 1e-8 * 10**(epoch / 20))\n",
    "optimizer = tf.keras.optimizers.SGD(lr=1e-8, momentum=0.9)\n",
    "model.compile(loss=tf.keras.losses.Huber(),\n",
    "              optimizer=optimizer,\n",
    "              metrics=[\"mae\"])"
   ]
  },
  {
   "cell_type": "code",
   "execution_count": 26,
   "metadata": {},
   "outputs": [
    {
     "name": "stdout",
     "output_type": "stream",
     "text": [
      "Epoch 1/100\n",
      "WARNING:tensorflow:From /usr/local/lib/python3.5/dist-packages/tensorflow/python/ops/math_grad.py:1250: add_dispatch_support.<locals>.wrapper (from tensorflow.python.ops.array_ops) is deprecated and will be removed in a future version.\n",
      "Instructions for updating:\n",
      "Use tf.where in 2.0, which has the same broadcast rule as np.where\n",
      "5/5 [==============================] - 4s 816ms/step - loss: 4.8935 - mae: 5.3895\n",
      "Epoch 2/100\n",
      "5/5 [==============================] - 0s 40ms/step - loss: 4.8174 - mae: 5.3124\n",
      "Epoch 3/100\n",
      "5/5 [==============================] - 0s 38ms/step - loss: 4.6851 - mae: 5.1796\n",
      "Epoch 4/100\n",
      "5/5 [==============================] - 0s 35ms/step - loss: 4.5122 - mae: 5.0051\n",
      "Epoch 5/100\n",
      "5/5 [==============================] - 0s 40ms/step - loss: 4.3075 - mae: 4.7978\n",
      "Epoch 6/100\n",
      "5/5 [==============================] - 0s 37ms/step - loss: 4.0774 - mae: 4.5644\n",
      "Epoch 7/100\n",
      "5/5 [==============================] - 0s 39ms/step - loss: 3.8272 - mae: 4.3102\n",
      "Epoch 8/100\n",
      "5/5 [==============================] - 0s 33ms/step - loss: 3.5619 - mae: 4.0417\n",
      "Epoch 9/100\n",
      "5/5 [==============================] - 0s 38ms/step - loss: 3.2894 - mae: 3.7647\n",
      "Epoch 10/100\n",
      "5/5 [==============================] - 0s 37ms/step - loss: 3.0190 - mae: 3.4871\n",
      "Epoch 11/100\n",
      "5/5 [==============================] - 0s 37ms/step - loss: 2.7629 - mae: 3.2288\n",
      "Epoch 12/100\n",
      "5/5 [==============================] - 0s 34ms/step - loss: 2.5313 - mae: 2.9934\n",
      "Epoch 13/100\n",
      "5/5 [==============================] - 0s 38ms/step - loss: 2.3308 - mae: 2.7934\n",
      "Epoch 14/100\n",
      "5/5 [==============================] - 0s 37ms/step - loss: 2.1670 - mae: 2.6294\n",
      "Epoch 15/100\n",
      "5/5 [==============================] - 0s 39ms/step - loss: 2.0400 - mae: 2.5016\n",
      "Epoch 16/100\n",
      "5/5 [==============================] - 0s 34ms/step - loss: 1.9468 - mae: 2.4090\n",
      "Epoch 17/100\n",
      "5/5 [==============================] - 0s 36ms/step - loss: 1.8823 - mae: 2.3416\n",
      "Epoch 18/100\n",
      "5/5 [==============================] - 0s 49ms/step - loss: 1.8390 - mae: 2.2949\n",
      "Epoch 19/100\n",
      "5/5 [==============================] - 0s 43ms/step - loss: 1.8079 - mae: 2.2643\n",
      "Epoch 20/100\n",
      "5/5 [==============================] - 0s 39ms/step - loss: 1.7816 - mae: 2.2374\n",
      "Epoch 21/100\n",
      "5/5 [==============================] - 0s 37ms/step - loss: 1.7536 - mae: 2.2086\n",
      "Epoch 22/100\n",
      "5/5 [==============================] - 0s 35ms/step - loss: 1.7188 - mae: 2.1729\n",
      "Epoch 23/100\n",
      "5/5 [==============================] - 0s 35ms/step - loss: 1.6753 - mae: 2.1272\n",
      "Epoch 24/100\n",
      "5/5 [==============================] - 0s 37ms/step - loss: 1.6256 - mae: 2.0744\n",
      "Epoch 25/100\n",
      "5/5 [==============================] - 0s 39ms/step - loss: 1.5710 - mae: 2.0177\n",
      "Epoch 26/100\n",
      "5/5 [==============================] - 0s 34ms/step - loss: 1.5123 - mae: 1.9557\n",
      "Epoch 27/100\n",
      "5/5 [==============================] - 0s 32ms/step - loss: 1.4503 - mae: 1.8912\n",
      "Epoch 28/100\n",
      "5/5 [==============================] - 0s 32ms/step - loss: 1.3844 - mae: 1.8232\n",
      "Epoch 29/100\n",
      "5/5 [==============================] - 0s 43ms/step - loss: 1.3177 - mae: 1.7555\n",
      "Epoch 30/100\n",
      "5/5 [==============================] - 0s 34ms/step - loss: 1.2523 - mae: 1.6878\n",
      "Epoch 31/100\n",
      "5/5 [==============================] - 0s 37ms/step - loss: 1.1943 - mae: 1.6272\n",
      "Epoch 32/100\n",
      "5/5 [==============================] - 0s 34ms/step - loss: 1.1515 - mae: 1.5840\n",
      "Epoch 33/100\n",
      "5/5 [==============================] - 0s 34ms/step - loss: 1.1179 - mae: 1.5525\n",
      "Epoch 34/100\n",
      "5/5 [==============================] - 0s 31ms/step - loss: 1.0925 - mae: 1.5253\n",
      "Epoch 35/100\n",
      "5/5 [==============================] - 0s 32ms/step - loss: 1.0702 - mae: 1.4979\n",
      "Epoch 36/100\n",
      "5/5 [==============================] - 0s 31ms/step - loss: 1.0454 - mae: 1.4724\n",
      "Epoch 37/100\n",
      "5/5 [==============================] - 0s 35ms/step - loss: 1.0154 - mae: 1.4437\n",
      "Epoch 38/100\n",
      "5/5 [==============================] - 0s 33ms/step - loss: 0.9800 - mae: 1.4093\n",
      "Epoch 39/100\n",
      "5/5 [==============================] - 0s 37ms/step - loss: 0.9401 - mae: 1.3677\n",
      "Epoch 40/100\n",
      "5/5 [==============================] - 0s 33ms/step - loss: 0.8922 - mae: 1.3165\n",
      "Epoch 41/100\n",
      "5/5 [==============================] - 0s 33ms/step - loss: 0.8385 - mae: 1.2610\n",
      "Epoch 42/100\n",
      "5/5 [==============================] - 0s 33ms/step - loss: 0.7779 - mae: 1.1967\n",
      "Epoch 43/100\n",
      "5/5 [==============================] - 0s 33ms/step - loss: 0.7181 - mae: 1.1307\n",
      "Epoch 44/100\n",
      "5/5 [==============================] - 0s 33ms/step - loss: 0.6585 - mae: 1.0666\n",
      "Epoch 45/100\n",
      "5/5 [==============================] - 0s 32ms/step - loss: 0.5956 - mae: 0.9946\n",
      "Epoch 46/100\n",
      "5/5 [==============================] - 0s 33ms/step - loss: 0.5332 - mae: 0.9239\n",
      "Epoch 47/100\n",
      "5/5 [==============================] - 0s 32ms/step - loss: 0.4851 - mae: 0.8693\n",
      "Epoch 48/100\n",
      "5/5 [==============================] - 0s 32ms/step - loss: 0.4575 - mae: 0.8377\n",
      "Epoch 49/100\n",
      "5/5 [==============================] - 0s 32ms/step - loss: 0.4407 - mae: 0.8197\n",
      "Epoch 50/100\n",
      "5/5 [==============================] - 0s 33ms/step - loss: 0.4273 - mae: 0.8034\n",
      "Epoch 51/100\n",
      "5/5 [==============================] - 0s 34ms/step - loss: 0.4175 - mae: 0.7906\n",
      "Epoch 52/100\n",
      "5/5 [==============================] - 0s 28ms/step - loss: 0.4111 - mae: 0.7842\n",
      "Epoch 53/100\n",
      "5/5 [==============================] - 0s 32ms/step - loss: 0.4063 - mae: 0.7799\n",
      "Epoch 54/100\n",
      "5/5 [==============================] - 0s 30ms/step - loss: 0.4016 - mae: 0.7754\n",
      "Epoch 55/100\n",
      "5/5 [==============================] - 0s 28ms/step - loss: 0.3994 - mae: 0.7733\n",
      "Epoch 56/100\n",
      "5/5 [==============================] - 0s 30ms/step - loss: 0.3968 - mae: 0.7717\n",
      "Epoch 57/100\n",
      "5/5 [==============================] - 0s 30ms/step - loss: 0.3943 - mae: 0.7710\n",
      "Epoch 58/100\n",
      "5/5 [==============================] - 0s 29ms/step - loss: 0.3923 - mae: 0.7690\n",
      "Epoch 59/100\n",
      "5/5 [==============================] - 0s 35ms/step - loss: 0.3935 - mae: 0.7710\n",
      "Epoch 60/100\n",
      "5/5 [==============================] - 0s 31ms/step - loss: 0.3964 - mae: 0.7740\n",
      "Epoch 61/100\n",
      "5/5 [==============================] - 0s 31ms/step - loss: 0.3918 - mae: 0.7713\n",
      "Epoch 62/100\n",
      "5/5 [==============================] - 0s 30ms/step - loss: 0.3744 - mae: 0.7586\n",
      "Epoch 63/100\n",
      "5/5 [==============================] - 0s 30ms/step - loss: 0.3710 - mae: 0.7577\n",
      "Epoch 64/100\n",
      "5/5 [==============================] - 0s 30ms/step - loss: 0.3853 - mae: 0.7696\n",
      "Epoch 65/100\n",
      "5/5 [==============================] - 0s 30ms/step - loss: 0.3656 - mae: 0.7482\n",
      "Epoch 66/100\n",
      "5/5 [==============================] - 0s 30ms/step - loss: 0.4127 - mae: 0.7985\n",
      "Epoch 67/100\n",
      "5/5 [==============================] - 0s 32ms/step - loss: 0.4214 - mae: 0.8057\n",
      "Epoch 68/100\n",
      "5/5 [==============================] - 0s 30ms/step - loss: 0.4867 - mae: 0.8796\n",
      "Epoch 69/100\n",
      "5/5 [==============================] - 0s 30ms/step - loss: 0.6060 - mae: 1.0119\n",
      "Epoch 70/100\n",
      "5/5 [==============================] - 0s 31ms/step - loss: 0.7423 - mae: 1.1657\n",
      "Epoch 71/100\n",
      "5/5 [==============================] - 0s 29ms/step - loss: 0.8847 - mae: 1.3163\n",
      "Epoch 72/100\n",
      "5/5 [==============================] - 0s 30ms/step - loss: 1.0919 - mae: 1.5458\n",
      "Epoch 73/100\n",
      "5/5 [==============================] - 0s 31ms/step - loss: 0.9996 - mae: 1.4301\n",
      "Epoch 74/100\n",
      "5/5 [==============================] - 0s 29ms/step - loss: 3.6766 - mae: 4.1358\n",
      "Epoch 75/100\n",
      "5/5 [==============================] - 0s 29ms/step - loss: 2.7694 - mae: 3.2086\n",
      "Epoch 76/100\n",
      "5/5 [==============================] - 0s 29ms/step - loss: 3.4506 - mae: 3.9363\n",
      "Epoch 77/100\n",
      "5/5 [==============================] - 0s 30ms/step - loss: 4.9493 - mae: 5.4233\n",
      "Epoch 78/100\n",
      "5/5 [==============================] - 0s 33ms/step - loss: 4.4880 - mae: 4.9965\n",
      "Epoch 79/100\n",
      "5/5 [==============================] - 0s 36ms/step - loss: 7.0856 - mae: 7.6263\n",
      "Epoch 80/100\n",
      "5/5 [==============================] - 0s 37ms/step - loss: 15.6885 - mae: 16.2335\n",
      "Epoch 81/100\n",
      "5/5 [==============================] - 0s 36ms/step - loss: 13.8252 - mae: 14.2999\n",
      "Epoch 82/100\n",
      "5/5 [==============================] - 0s 37ms/step - loss: 14.9766 - mae: 15.5632\n",
      "Epoch 83/100\n",
      "5/5 [==============================] - 0s 33ms/step - loss: 22.5114 - mae: 22.9483\n",
      "Epoch 84/100\n"
     ]
    },
    {
     "name": "stdout",
     "output_type": "stream",
     "text": [
      "5/5 [==============================] - 0s 35ms/step - loss: 17.6952 - mae: 18.0545\n",
      "Epoch 85/100\n",
      "5/5 [==============================] - 0s 36ms/step - loss: 20.8454 - mae: 21.5116\n",
      "Epoch 86/100\n",
      "5/5 [==============================] - 0s 34ms/step - loss: 33.1630 - mae: 33.6111\n",
      "Epoch 87/100\n",
      "5/5 [==============================] - 0s 34ms/step - loss: 25.3378 - mae: 25.6538\n",
      "Epoch 88/100\n",
      "5/5 [==============================] - 0s 39ms/step - loss: 29.7552 - mae: 30.4853\n",
      "Epoch 89/100\n",
      "5/5 [==============================] - 0s 33ms/step - loss: 47.0112 - mae: 47.4363\n",
      "Epoch 90/100\n",
      "5/5 [==============================] - 0s 33ms/step - loss: 36.2524 - mae: 36.4963\n",
      "Epoch 91/100\n",
      "5/5 [==============================] - 0s 35ms/step - loss: 42.2174 - mae: 43.0391\n",
      "Epoch 92/100\n",
      "5/5 [==============================] - 0s 38ms/step - loss: 66.4198 - mae: 66.8083\n",
      "Epoch 93/100\n",
      "5/5 [==============================] - 0s 38ms/step - loss: 51.0779 - mae: 51.2085\n",
      "Epoch 94/100\n",
      "5/5 [==============================] - 0s 35ms/step - loss: 59.8416 - mae: 60.8010\n",
      "Epoch 95/100\n",
      "5/5 [==============================] - 0s 37ms/step - loss: 94.2658 - mae: 94.6155\n",
      "Epoch 96/100\n",
      "5/5 [==============================] - 0s 37ms/step - loss: 72.7086 - mae: 72.6952\n",
      "Epoch 97/100\n",
      "5/5 [==============================] - 0s 30ms/step - loss: 84.7367 - mae: 85.8803\n",
      "Epoch 98/100\n",
      "5/5 [==============================] - 0s 38ms/step - loss: 133.1114 - mae: 133.3915\n",
      "Epoch 99/100\n",
      "5/5 [==============================] - 0s 36ms/step - loss: 102.5536 - mae: 102.3198\n",
      "Epoch 100/100\n",
      "5/5 [==============================] - 0s 33ms/step - loss: 119.8974 - mae: 121.3118\n"
     ]
    }
   ],
   "source": [
    "history = model.fit(train_set, epochs=100, callbacks=[lr_schedule])"
   ]
  },
  {
   "cell_type": "markdown",
   "metadata": {},
   "source": [
    "**Find best learning rate**"
   ]
  },
  {
   "cell_type": "code",
   "execution_count": 27,
   "metadata": {},
   "outputs": [
    {
     "data": {
      "image/png": "[encoded data removed]",
      "text/plain": [
       "<matplotlib.figure.Figure at 0x7f679ecbcc50>"
      ]
     },
     "metadata": {},
     "output_type": "display_data"
    }
   ],
   "source": [
    "import matplotlib.pyplot as plt\n",
    "\n",
    "plt.semilogx(history.history[\"lr\"], history.history[\"loss\"])\n",
    "plt.axis([1e-8, 1e-4, 0, 60])\n",
    "plt.title('Learning rate history')\n",
    "plt.xlabel(\"Learning rate\")\n",
    "plt.ylabel(\"Loss\")\n",
    "\n",
    "plt.savefig(os.path.join(PLOT_PATH, 'learning_rate.png'))\n",
    "plt.show()"
   ]
  },
  {
   "cell_type": "markdown",
   "metadata": {},
   "source": [
    "**Train with the best learning rate**"
   ]
  },
  {
   "cell_type": "code",
   "execution_count": 30,
   "metadata": {},
   "outputs": [
    {
     "name": "stdout",
     "output_type": "stream",
     "text": [
      "WARNING:tensorflow:Entity <function standard_lstm at 0x7f682a0f17b8> could not be transformed and will be executed as-is. Please report this to the AutoGraph team. When filing the bug, set the verbosity to 10 (on Linux, `export AUTOGRAPH_VERBOSITY=10`) and attach the full output. Cause: converting <function standard_lstm at 0x7f682a0f17b8>: AttributeError: module 'gast' has no attribute 'Num'\n",
      "WARNING: Entity <function standard_lstm at 0x7f682a0f17b8> could not be transformed and will be executed as-is. Please report this to the AutoGraph team. When filing the bug, set the verbosity to 10 (on Linux, `export AUTOGRAPH_VERBOSITY=10`) and attach the full output. Cause: converting <function standard_lstm at 0x7f682a0f17b8>: AttributeError: module 'gast' has no attribute 'Num'\n",
      "WARNING:tensorflow:Entity <function cudnn_lstm at 0x7f682a0f1840> could not be transformed and will be executed as-is. Please report this to the AutoGraph team. When filing the bug, set the verbosity to 10 (on Linux, `export AUTOGRAPH_VERBOSITY=10`) and attach the full output. Cause: converting <function cudnn_lstm at 0x7f682a0f1840>: AttributeError: module 'gast' has no attribute 'Num'\n",
      "WARNING: Entity <function cudnn_lstm at 0x7f682a0f1840> could not be transformed and will be executed as-is. Please report this to the AutoGraph team. When filing the bug, set the verbosity to 10 (on Linux, `export AUTOGRAPH_VERBOSITY=10`) and attach the full output. Cause: converting <function cudnn_lstm at 0x7f682a0f1840>: AttributeError: module 'gast' has no attribute 'Num'\n",
      "WARNING:tensorflow:Entity <function standard_lstm at 0x7f682a0f17b8> could not be transformed and will be executed as-is. Please report this to the AutoGraph team. When filing the bug, set the verbosity to 10 (on Linux, `export AUTOGRAPH_VERBOSITY=10`) and attach the full output. Cause: converting <function standard_lstm at 0x7f682a0f17b8>: AttributeError: module 'gast' has no attribute 'Num'\n",
      "WARNING: Entity <function standard_lstm at 0x7f682a0f17b8> could not be transformed and will be executed as-is. Please report this to the AutoGraph team. When filing the bug, set the verbosity to 10 (on Linux, `export AUTOGRAPH_VERBOSITY=10`) and attach the full output. Cause: converting <function standard_lstm at 0x7f682a0f17b8>: AttributeError: module 'gast' has no attribute 'Num'\n",
      "WARNING:tensorflow:Entity <function cudnn_lstm at 0x7f682a0f1840> could not be transformed and will be executed as-is. Please report this to the AutoGraph team. When filing the bug, set the verbosity to 10 (on Linux, `export AUTOGRAPH_VERBOSITY=10`) and attach the full output. Cause: converting <function cudnn_lstm at 0x7f682a0f1840>: AttributeError: module 'gast' has no attribute 'Num'\n",
      "WARNING: Entity <function cudnn_lstm at 0x7f682a0f1840> could not be transformed and will be executed as-is. Please report this to the AutoGraph team. When filing the bug, set the verbosity to 10 (on Linux, `export AUTOGRAPH_VERBOSITY=10`) and attach the full output. Cause: converting <function cudnn_lstm at 0x7f682a0f1840>: AttributeError: module 'gast' has no attribute 'Num'\n",
      "Epoch 1/30\n",
      "5/5 [==============================] - 6s 1s/step - loss: 3.4206 - mae: 3.9066 - val_loss: 0.0000e+00 - val_mae: 0.0000e+00\n",
      "Epoch 2/30\n",
      "5/5 [==============================] - 0s 41ms/step - loss: 2.7180 - mae: 3.1975 - val_loss: 2.3664 - val_mae: 2.8098\n",
      "Epoch 3/30\n",
      "5/5 [==============================] - 0s 43ms/step - loss: 1.6358 - mae: 2.0961 - val_loss: 2.0104 - val_mae: 2.5114\n",
      "Epoch 4/30\n",
      "5/5 [==============================] - 0s 42ms/step - loss: 1.7318 - mae: 2.1879 - val_loss: 0.9183 - val_mae: 1.3047\n",
      "Epoch 5/30\n",
      "5/5 [==============================] - 0s 44ms/step - loss: 1.3726 - mae: 1.8249 - val_loss: 1.0778 - val_mae: 1.4959\n",
      "Epoch 6/30\n",
      "5/5 [==============================] - 0s 42ms/step - loss: 0.9865 - mae: 1.4068 - val_loss: 1.1474 - val_mae: 1.5822\n",
      "Epoch 7/30\n",
      "5/5 [==============================] - 0s 46ms/step - loss: 0.9147 - mae: 1.3242 - val_loss: 0.7542 - val_mae: 1.1825\n",
      "Epoch 8/30\n",
      "5/5 [==============================] - 0s 42ms/step - loss: 0.8061 - mae: 1.2326 - val_loss: 0.6203 - val_mae: 1.0390\n",
      "Epoch 9/30\n",
      "5/5 [==============================] - 0s 43ms/step - loss: 0.6625 - mae: 1.0619 - val_loss: 0.5793 - val_mae: 0.9780\n",
      "Epoch 10/30\n",
      "5/5 [==============================] - 0s 43ms/step - loss: 0.5748 - mae: 0.9703 - val_loss: 0.5149 - val_mae: 0.9150\n",
      "Epoch 11/30\n",
      "5/5 [==============================] - 0s 45ms/step - loss: 0.5095 - mae: 0.9024 - val_loss: 0.4385 - val_mae: 0.8179\n",
      "Epoch 12/30\n",
      "5/5 [==============================] - 0s 46ms/step - loss: 0.4792 - mae: 0.8606 - val_loss: 0.4216 - val_mae: 0.7956\n",
      "Epoch 13/30\n",
      "5/5 [==============================] - 0s 44ms/step - loss: 0.4587 - mae: 0.8446 - val_loss: 0.4264 - val_mae: 0.8060\n",
      "Epoch 14/30\n",
      "5/5 [==============================] - 0s 44ms/step - loss: 0.4393 - mae: 0.8182 - val_loss: 0.4258 - val_mae: 0.8016\n",
      "Epoch 15/30\n",
      "5/5 [==============================] - 0s 43ms/step - loss: 0.4321 - mae: 0.8097 - val_loss: 0.4287 - val_mae: 0.8119\n",
      "Epoch 16/30\n",
      "5/5 [==============================] - 0s 43ms/step - loss: 0.4242 - mae: 0.8011 - val_loss: 0.4256 - val_mae: 0.8029\n",
      "Epoch 17/30\n",
      "5/5 [==============================] - 0s 41ms/step - loss: 0.4188 - mae: 0.7915 - val_loss: 0.4245 - val_mae: 0.8040\n",
      "Epoch 18/30\n",
      "5/5 [==============================] - 0s 44ms/step - loss: 0.4158 - mae: 0.7903 - val_loss: 0.4232 - val_mae: 0.8020\n",
      "Epoch 19/30\n",
      "5/5 [==============================] - 0s 43ms/step - loss: 0.4126 - mae: 0.7847 - val_loss: 0.4223 - val_mae: 0.7984\n",
      "Epoch 20/30\n",
      "5/5 [==============================] - 0s 48ms/step - loss: 0.4103 - mae: 0.7828 - val_loss: 0.4213 - val_mae: 0.7987\n",
      "Epoch 21/30\n",
      "5/5 [==============================] - 0s 51ms/step - loss: 0.4080 - mae: 0.7805 - val_loss: 0.4206 - val_mae: 0.7953\n",
      "Epoch 22/30\n",
      "5/5 [==============================] - 0s 53ms/step - loss: 0.4057 - mae: 0.7776 - val_loss: 0.4201 - val_mae: 0.7956\n",
      "Epoch 23/30\n",
      "5/5 [==============================] - 0s 53ms/step - loss: 0.4042 - mae: 0.7775 - val_loss: 0.4200 - val_mae: 0.7945\n",
      "Epoch 24/30\n",
      "5/5 [==============================] - 0s 52ms/step - loss: 0.4025 - mae: 0.7756 - val_loss: 0.4200 - val_mae: 0.7946\n",
      "Epoch 25/30\n",
      "5/5 [==============================] - 0s 55ms/step - loss: 0.4010 - mae: 0.7751 - val_loss: 0.4198 - val_mae: 0.7952\n",
      "Epoch 26/30\n",
      "5/5 [==============================] - 0s 52ms/step - loss: 0.3993 - mae: 0.7738 - val_loss: 0.4196 - val_mae: 0.7947\n",
      "Epoch 27/30\n",
      "5/5 [==============================] - 0s 51ms/step - loss: 0.3973 - mae: 0.7722 - val_loss: 0.4190 - val_mae: 0.7955\n",
      "Epoch 28/30\n",
      "5/5 [==============================] - 0s 50ms/step - loss: 0.3952 - mae: 0.7708 - val_loss: 0.4182 - val_mae: 0.7952\n",
      "Epoch 29/30\n",
      "5/5 [==============================] - 0s 51ms/step - loss: 0.3930 - mae: 0.7686 - val_loss: 0.4170 - val_mae: 0.7949\n",
      "Epoch 30/30\n",
      "5/5 [==============================] - 0s 53ms/step - loss: 0.3909 - mae: 0.7668 - val_loss: 0.4151 - val_mae: 0.7936\n"
     ]
    }
   ],
   "source": [
    "model = define_model(window_size, n_features)\n",
    "\n",
    "optimizer = tf.keras.optimizers.SGD(lr=1.5e-6, momentum=0.9)\n",
    "model.compile(loss=tf.keras.losses.Huber(),\n",
    "              optimizer=optimizer,\n",
    "              metrics=[\"mae\"])\n",
    "history = model.fit(train_set,\n",
    "                    epochs=30,\n",
    "                    validation_data=val_set)"
   ]
  },
  {
   "cell_type": "code",
   "execution_count": 31,
   "metadata": {},
   "outputs": [
    {
     "data": {
      "image/png": "[encoded data removed]",
      "text/plain": [
       "<matplotlib.figure.Figure at 0x7f679e71e9b0>"
      ]
     },
     "metadata": {},
     "output_type": "display_data"
    }
   ],
   "source": [
    "plot = plot_train_history(history, \"Train history\")\n",
    "plot.savefig(os.path.join(PLOT_PATH, 'train_history.png'))\n",
    "plot.show()"
   ]
  },
  {
   "cell_type": "markdown",
   "metadata": {},
   "source": [
    "## Evaluate model"
   ]
  },
  {
   "cell_type": "code",
   "execution_count": null,
   "metadata": {},
   "outputs": [],
   "source": [
    "for x, y in val_set.take(1):\n",
    "    prediction = model.predict(x)[0]\n",
    "    plot = plot_prediction([x[0][:, 0].numpy(), y[0].numpy(), prediction[0]] , 'Feature prediction model')\n",
    "    plot.savefig(os.path.join(PLOT_PATH, 'prediction_single_point.png'))\n",
    "    plot.show()"
   ]
  },
  {
   "cell_type": "markdown",
   "metadata": {},
   "source": [
    "**Forecast all future**"
   ]
  },
  {
   "cell_type": "code",
   "execution_count": null,
   "metadata": {},
   "outputs": [],
   "source": [
    "def model_forecast(model, series, window_size, batch_size):\n",
    "    #series = tf.expand_dims(series, axis=-1)\n",
    "    ds = tf.data.Dataset.from_tensor_slices(series)\n",
    "    ds = ds.window(window_size, shift=1, drop_remainder=True)\n",
    "    ds = ds.flat_map(lambda w: w.batch(window_size))\n",
    "    ds = ds.map(lambda w: (w[:]))\n",
    "    ds = ds.batch(batch_size)\n",
    "    forecast = model.predict(ds)\n",
    "    return forecast"
   ]
  },
  {
   "cell_type": "code",
   "execution_count": null,
   "metadata": {},
   "outputs": [],
   "source": [
    "rnn_forecast = model_forecast(model, x_feature, window_size, batch_size)"
   ]
  },
  {
   "cell_type": "code",
   "execution_count": null,
   "metadata": {},
   "outputs": [],
   "source": [
    "rnn_forecast = rnn_forecast[split_time-window_size+1:,-1]"
   ]
  },
  {
   "cell_type": "code",
   "execution_count": null,
   "metadata": {},
   "outputs": [],
   "source": [
    "rnn_forecast.shape"
   ]
  },
  {
   "cell_type": "markdown",
   "metadata": {},
   "source": [
    "**Plot serie**"
   ]
  },
  {
   "cell_type": "code",
   "execution_count": null,
   "metadata": {},
   "outputs": [],
   "source": [
    "plot = plot_series(time[split_time:], [(rnn_forecast, 'rnn')])\n",
    "plot.show()"
   ]
  },
  {
   "cell_type": "code",
   "execution_count": null,
   "metadata": {},
   "outputs": [],
   "source": [
    "x_valid = x_feature[split_time:]\n",
    "plot = plot_series(time[split_time:], [(x_valid[:,0], 'x_valid'), (rnn_forecast, 'rnn')])\n",
    "plot.title('Forescast artwork sequence')\n",
    "plot.savefig(os.path.join(PLOT_PATH, 'forescast_sequence.png'))"
   ]
  },
  {
   "cell_type": "code",
   "execution_count": null,
   "metadata": {},
   "outputs": [],
   "source": [
    "tf.keras.metrics.mean_absolute_error(x_valid[:,0], rnn_forecast).numpy().mean()"
   ]
  }
 ],
 "metadata": {
  "kernelspec": {
   "display_name": "Python 3",
   "language": "python",
   "name": "python3"
  },
  "language_info": {
   "codemirror_mode": {
    "name": "ipython",
    "version": 3
   },
   "file_extension": ".py",
   "mimetype": "text/x-python",
   "name": "python",
   "nbconvert_exporter": "python",
   "pygments_lexer": "ipython3",
   "version": "3.5.2"
  }
 },
 "nbformat": 4,
 "nbformat_minor": 2
}
