{
 "cells": [
  {
   "cell_type": "code",
   "execution_count": null,
   "metadata": {},
   "outputs": [],
   "source": [
    "#series = tf.expand_dims(x_feature, axis=-1)\n",
    "series = x_feature\n",
    "ds = tf.data.Dataset.from_tensor_slices(series)\n",
    "ds = ds.window(window_size + 1, shift=1, drop_remainder=True)\n",
    "ds = ds.flat_map(lambda w: w.batch(window_size + 1))\n",
    "#ds = ds.shuffle(3)\n",
    "ds = ds.map(lambda w: (w[:-1], w[-1,0]))\n",
    "ds = ds.batch(batch_size).prefetch(1)"
   ]
  }
 ],
 "metadata": {
  "kernelspec": {
   "display_name": "Python 3",
   "language": "python",
   "name": "python3"
  },
  "language_info": {
   "codemirror_mode": {
    "name": "ipython",
    "version": 3
   },
   "file_extension": ".py",
   "mimetype": "text/x-python",
   "name": "python",
   "nbconvert_exporter": "python",
   "pygments_lexer": "ipython3",
   "version": "3.5.2"
  }
 },
 "nbformat": 4,
 "nbformat_minor": 2
}
