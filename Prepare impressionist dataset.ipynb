{
 "cells": [
  {
   "cell_type": "code",
   "execution_count": 1,
   "metadata": {},
   "outputs": [],
   "source": [
    "import pandas as pd\n",
    "import numpy as np"
   ]
  },
  {
   "cell_type": "markdown",
   "metadata": {},
   "source": [
    "## Load Data"
   ]
  },
  {
   "cell_type": "markdown",
   "metadata": {},
   "source": [
    "**Load metadata**"
   ]
  },
  {
   "cell_type": "code",
   "execution_count": 2,
   "metadata": {},
   "outputs": [
    {
     "data": {
      "text/html": [
       "<div>\n",
       "<table border=\"1\" class=\"dataframe\">\n",
       "  <thead>\n",
       "    <tr style=\"text-align: right;\">\n",
       "      <th></th>\n",
       "      <th>filename</th>\n",
       "      <th>title</th>\n",
       "      <th>style</th>\n",
       "      <th>genre</th>\n",
       "      <th>date</th>\n",
       "      <th>artist</th>\n",
       "      <th>imageUrl</th>\n",
       "    </tr>\n",
       "  </thead>\n",
       "  <tbody>\n",
       "    <tr>\n",
       "      <th>0</th>\n",
       "      <td>70944.jpg</td>\n",
       "      <td>Forbidden Land</td>\n",
       "      <td>Surrealism</td>\n",
       "      <td>landscape</td>\n",
       "      <td>1937.0</td>\n",
       "      <td>Wolfgang Paalen</td>\n",
       "      <td>https://uploads6.wikiart.org/images/wolfgang-p...</td>\n",
       "    </tr>\n",
       "    <tr>\n",
       "      <th>1</th>\n",
       "      <td>99442.jpg</td>\n",
       "      <td>Storm at sea</td>\n",
       "      <td>Romanticism</td>\n",
       "      <td>marina</td>\n",
       "      <td>1873</td>\n",
       "      <td>Ivan Aivazovsky</td>\n",
       "      <td>https://uploads4.wikiart.org/images/ivan-aivaz...</td>\n",
       "    </tr>\n",
       "    <tr>\n",
       "      <th>2</th>\n",
       "      <td>28908.jpg</td>\n",
       "      <td>Yachting in the Mediterranean</td>\n",
       "      <td>Realism</td>\n",
       "      <td>genre painting</td>\n",
       "      <td>1896</td>\n",
       "      <td>Julius LeBlanc Stewart</td>\n",
       "      <td>https://uploads4.wikiart.org/images/julius-leb...</td>\n",
       "    </tr>\n",
       "    <tr>\n",
       "      <th>3</th>\n",
       "      <td>7486.jpg</td>\n",
       "      <td>Death of Eleazer</td>\n",
       "      <td>Romanticism</td>\n",
       "      <td>religious painting</td>\n",
       "      <td>1866</td>\n",
       "      <td>Gustave Dore</td>\n",
       "      <td>https://uploads5.wikiart.org/images/gustave-do...</td>\n",
       "    </tr>\n",
       "    <tr>\n",
       "      <th>4</th>\n",
       "      <td>35766.jpg</td>\n",
       "      <td>The-Deluge</td>\n",
       "      <td>Romanticism</td>\n",
       "      <td>religious painting</td>\n",
       "      <td>NaN</td>\n",
       "      <td>Gustave Dore</td>\n",
       "      <td>https://uploads3.wikiart.org/images/gustave-do...</td>\n",
       "    </tr>\n",
       "  </tbody>\n",
       "</table>\n",
       "</div>"
      ],
      "text/plain": [
       "    filename                          title        style               genre  \\\n",
       "0  70944.jpg                 Forbidden Land   Surrealism           landscape   \n",
       "1  99442.jpg                   Storm at sea  Romanticism              marina   \n",
       "2  28908.jpg  Yachting in the Mediterranean      Realism      genre painting   \n",
       "3   7486.jpg               Death of Eleazer  Romanticism  religious painting   \n",
       "4  35766.jpg                     The-Deluge  Romanticism  religious painting   \n",
       "\n",
       "     date                  artist  \\\n",
       "0  1937.0         Wolfgang Paalen   \n",
       "1    1873         Ivan Aivazovsky   \n",
       "2    1896  Julius LeBlanc Stewart   \n",
       "3    1866            Gustave Dore   \n",
       "4     NaN            Gustave Dore   \n",
       "\n",
       "                                            imageUrl  \n",
       "0  https://uploads6.wikiart.org/images/wolfgang-p...  \n",
       "1  https://uploads4.wikiart.org/images/ivan-aivaz...  \n",
       "2  https://uploads4.wikiart.org/images/julius-leb...  \n",
       "3  https://uploads5.wikiart.org/images/gustave-do...  \n",
       "4  https://uploads3.wikiart.org/images/gustave-do...  "
      ]
     },
     "execution_count": 2,
     "metadata": {},
     "output_type": "execute_result"
    }
   ],
   "source": [
    "df_artworks = pd.read_csv('/root/work/datasets/train_mayors_style_encoded_with_url.csv')\n",
    "df_artworks.head()"
   ]
  },
  {
   "cell_type": "code",
   "execution_count": 3,
   "metadata": {},
   "outputs": [
    {
     "data": {
      "text/plain": [
       "(46010, 7)"
      ]
     },
     "execution_count": 3,
     "metadata": {},
     "output_type": "execute_result"
    }
   ],
   "source": [
    "df_artworks.shape"
   ]
  },
  {
   "cell_type": "markdown",
   "metadata": {},
   "source": [
    "**Load matrix**"
   ]
  },
  {
   "cell_type": "code",
   "execution_count": 4,
   "metadata": {},
   "outputs": [
    {
     "data": {
      "text/plain": [
       "(46010, 100)"
      ]
     },
     "execution_count": 4,
     "metadata": {},
     "output_type": "execute_result"
    }
   ],
   "source": [
    "artwork_code_matrix = np.load('/root/work/datasets/train_mayors_style_w_encoded.npy')\n",
    "artwork_code_matrix.shape"
   ]
  },
  {
   "cell_type": "markdown",
   "metadata": {},
   "source": [
    "### Get Impressionist artworks"
   ]
  },
  {
   "cell_type": "code",
   "execution_count": 5,
   "metadata": {},
   "outputs": [
    {
     "data": {
      "text/html": [
       "<div>\n",
       "<table border=\"1\" class=\"dataframe\">\n",
       "  <thead>\n",
       "    <tr style=\"text-align: right;\">\n",
       "      <th></th>\n",
       "      <th>filename</th>\n",
       "      <th>title</th>\n",
       "      <th>style</th>\n",
       "      <th>genre</th>\n",
       "      <th>date</th>\n",
       "      <th>artist</th>\n",
       "      <th>imageUrl</th>\n",
       "    </tr>\n",
       "  </thead>\n",
       "  <tbody>\n",
       "    <tr>\n",
       "      <th>48</th>\n",
       "      <td>95360.jpg</td>\n",
       "      <td>Interior (The Rape)</td>\n",
       "      <td>Impressionism</td>\n",
       "      <td>interior</td>\n",
       "      <td>1869</td>\n",
       "      <td>Edgar Degas</td>\n",
       "      <td>https://uploads5.wikiart.org/images/edgar-dega...</td>\n",
       "    </tr>\n",
       "    <tr>\n",
       "      <th>80</th>\n",
       "      <td>49757.jpg</td>\n",
       "      <td>The Manneport, Rock Arch West of Etretat</td>\n",
       "      <td>Impressionism</td>\n",
       "      <td>landscape</td>\n",
       "      <td>1883</td>\n",
       "      <td>Claude Monet</td>\n",
       "      <td>https://uploads5.wikiart.org/images/claude-mon...</td>\n",
       "    </tr>\n",
       "    <tr>\n",
       "      <th>95</th>\n",
       "      <td>53841.jpg</td>\n",
       "      <td>Rodez</td>\n",
       "      <td>Impressionism</td>\n",
       "      <td>cityscape</td>\n",
       "      <td>c.1923</td>\n",
       "      <td>Paul Signac</td>\n",
       "      <td>https://uploads6.wikiart.org/images/paul-signa...</td>\n",
       "    </tr>\n",
       "    <tr>\n",
       "      <th>125</th>\n",
       "      <td>81912.jpg</td>\n",
       "      <td>The Look at Montauban in rain</td>\n",
       "      <td>Impressionism</td>\n",
       "      <td>landscape</td>\n",
       "      <td>c.1922</td>\n",
       "      <td>Paul Signac</td>\n",
       "      <td>https://uploads3.wikiart.org/images/paul-signa...</td>\n",
       "    </tr>\n",
       "    <tr>\n",
       "      <th>129</th>\n",
       "      <td>17146.jpg</td>\n",
       "      <td>Prayer in the Saint Pierre Cathedral in Geneva</td>\n",
       "      <td>Impressionism</td>\n",
       "      <td>genre painting</td>\n",
       "      <td>1882</td>\n",
       "      <td>Ferdinand Hodler</td>\n",
       "      <td>https://uploads3.wikiart.org/images/ferdinand-...</td>\n",
       "    </tr>\n",
       "  </tbody>\n",
       "</table>\n",
       "</div>"
      ],
      "text/plain": [
       "      filename                                           title          style  \\\n",
       "48   95360.jpg                             Interior (The Rape)  Impressionism   \n",
       "80   49757.jpg        The Manneport, Rock Arch West of Etretat  Impressionism   \n",
       "95   53841.jpg                                           Rodez  Impressionism   \n",
       "125  81912.jpg                   The Look at Montauban in rain  Impressionism   \n",
       "129  17146.jpg  Prayer in the Saint Pierre Cathedral in Geneva  Impressionism   \n",
       "\n",
       "              genre    date            artist  \\\n",
       "48         interior    1869       Edgar Degas   \n",
       "80        landscape    1883      Claude Monet   \n",
       "95        cityscape  c.1923       Paul Signac   \n",
       "125       landscape  c.1922       Paul Signac   \n",
       "129  genre painting    1882  Ferdinand Hodler   \n",
       "\n",
       "                                              imageUrl  \n",
       "48   https://uploads5.wikiart.org/images/edgar-dega...  \n",
       "80   https://uploads5.wikiart.org/images/claude-mon...  \n",
       "95   https://uploads6.wikiart.org/images/paul-signa...  \n",
       "125  https://uploads3.wikiart.org/images/paul-signa...  \n",
       "129  https://uploads3.wikiart.org/images/ferdinand-...  "
      ]
     },
     "execution_count": 5,
     "metadata": {},
     "output_type": "execute_result"
    }
   ],
   "source": [
    "df_impressionist = df_artworks[df_artworks['style'] == 'Impressionism']\n",
    "df_impressionist.head()"
   ]
  },
  {
   "cell_type": "code",
   "execution_count": 6,
   "metadata": {},
   "outputs": [
    {
     "data": {
      "text/plain": [
       "(8220, 7)"
      ]
     },
     "execution_count": 6,
     "metadata": {},
     "output_type": "execute_result"
    }
   ],
   "source": [
    "df_impressionist.shape"
   ]
  },
  {
   "cell_type": "markdown",
   "metadata": {},
   "source": [
    "**NaN values**"
   ]
  },
  {
   "cell_type": "code",
   "execution_count": 7,
   "metadata": {},
   "outputs": [
    {
     "data": {
      "text/plain": [
       "False    6355\n",
       "True     1865\n",
       "Name: date, dtype: int64"
      ]
     },
     "execution_count": 7,
     "metadata": {},
     "output_type": "execute_result"
    }
   ],
   "source": [
    "df_impressionist['date'].isnull().value_counts()"
   ]
  },
  {
   "cell_type": "code",
   "execution_count": 8,
   "metadata": {},
   "outputs": [
    {
     "data": {
      "text/html": [
       "<div>\n",
       "<table border=\"1\" class=\"dataframe\">\n",
       "  <thead>\n",
       "    <tr style=\"text-align: right;\">\n",
       "      <th></th>\n",
       "      <th>filename</th>\n",
       "      <th>title</th>\n",
       "      <th>style</th>\n",
       "      <th>genre</th>\n",
       "      <th>date</th>\n",
       "      <th>artist</th>\n",
       "      <th>imageUrl</th>\n",
       "    </tr>\n",
       "  </thead>\n",
       "  <tbody>\n",
       "    <tr>\n",
       "      <th>48</th>\n",
       "      <td>95360.jpg</td>\n",
       "      <td>Interior (The Rape)</td>\n",
       "      <td>Impressionism</td>\n",
       "      <td>interior</td>\n",
       "      <td>1869</td>\n",
       "      <td>Edgar Degas</td>\n",
       "      <td>https://uploads5.wikiart.org/images/edgar-dega...</td>\n",
       "    </tr>\n",
       "    <tr>\n",
       "      <th>80</th>\n",
       "      <td>49757.jpg</td>\n",
       "      <td>The Manneport, Rock Arch West of Etretat</td>\n",
       "      <td>Impressionism</td>\n",
       "      <td>landscape</td>\n",
       "      <td>1883</td>\n",
       "      <td>Claude Monet</td>\n",
       "      <td>https://uploads5.wikiart.org/images/claude-mon...</td>\n",
       "    </tr>\n",
       "    <tr>\n",
       "      <th>95</th>\n",
       "      <td>53841.jpg</td>\n",
       "      <td>Rodez</td>\n",
       "      <td>Impressionism</td>\n",
       "      <td>cityscape</td>\n",
       "      <td>c.1923</td>\n",
       "      <td>Paul Signac</td>\n",
       "      <td>https://uploads6.wikiart.org/images/paul-signa...</td>\n",
       "    </tr>\n",
       "    <tr>\n",
       "      <th>125</th>\n",
       "      <td>81912.jpg</td>\n",
       "      <td>The Look at Montauban in rain</td>\n",
       "      <td>Impressionism</td>\n",
       "      <td>landscape</td>\n",
       "      <td>c.1922</td>\n",
       "      <td>Paul Signac</td>\n",
       "      <td>https://uploads3.wikiart.org/images/paul-signa...</td>\n",
       "    </tr>\n",
       "    <tr>\n",
       "      <th>129</th>\n",
       "      <td>17146.jpg</td>\n",
       "      <td>Prayer in the Saint Pierre Cathedral in Geneva</td>\n",
       "      <td>Impressionism</td>\n",
       "      <td>genre painting</td>\n",
       "      <td>1882</td>\n",
       "      <td>Ferdinand Hodler</td>\n",
       "      <td>https://uploads3.wikiart.org/images/ferdinand-...</td>\n",
       "    </tr>\n",
       "  </tbody>\n",
       "</table>\n",
       "</div>"
      ],
      "text/plain": [
       "      filename                                           title          style  \\\n",
       "48   95360.jpg                             Interior (The Rape)  Impressionism   \n",
       "80   49757.jpg        The Manneport, Rock Arch West of Etretat  Impressionism   \n",
       "95   53841.jpg                                           Rodez  Impressionism   \n",
       "125  81912.jpg                   The Look at Montauban in rain  Impressionism   \n",
       "129  17146.jpg  Prayer in the Saint Pierre Cathedral in Geneva  Impressionism   \n",
       "\n",
       "              genre    date            artist  \\\n",
       "48         interior    1869       Edgar Degas   \n",
       "80        landscape    1883      Claude Monet   \n",
       "95        cityscape  c.1923       Paul Signac   \n",
       "125       landscape  c.1922       Paul Signac   \n",
       "129  genre painting    1882  Ferdinand Hodler   \n",
       "\n",
       "                                              imageUrl  \n",
       "48   https://uploads5.wikiart.org/images/edgar-dega...  \n",
       "80   https://uploads5.wikiart.org/images/claude-mon...  \n",
       "95   https://uploads6.wikiart.org/images/paul-signa...  \n",
       "125  https://uploads3.wikiart.org/images/paul-signa...  \n",
       "129  https://uploads3.wikiart.org/images/ferdinand-...  "
      ]
     },
     "execution_count": 8,
     "metadata": {},
     "output_type": "execute_result"
    }
   ],
   "source": [
    "df_impressionist = df_impressionist.dropna(subset=['date'])\n",
    "df_impressionist.head()"
   ]
  },
  {
   "cell_type": "markdown",
   "metadata": {},
   "source": [
    "**Normalize artist name**"
   ]
  },
  {
   "cell_type": "code",
   "execution_count": 9,
   "metadata": {},
   "outputs": [],
   "source": [
    "import unicodedata\n",
    "\n",
    "def normalize_title(title):\n",
    "    return unicodedata.normalize('NFKD', title.lower()).encode('ASCII', 'ignore').decode('utf8')"
   ]
  },
  {
   "cell_type": "code",
   "execution_count": 10,
   "metadata": {},
   "outputs": [],
   "source": [
    "df_impressionist['artist'] = df_impressionist['artist'].apply(normalize_title)"
   ]
  },
  {
   "cell_type": "markdown",
   "metadata": {},
   "source": [
    "**Normalize date**"
   ]
  },
  {
   "cell_type": "code",
   "execution_count": 11,
   "metadata": {},
   "outputs": [
    {
     "data": {
      "text/plain": [
       "48       1869\n",
       "80       1883\n",
       "95     c.1923\n",
       "125    c.1922\n",
       "129      1882\n",
       "Name: date, dtype: object"
      ]
     },
     "execution_count": 11,
     "metadata": {},
     "output_type": "execute_result"
    }
   ],
   "source": [
    "dates = df_impressionist['date']\n",
    "dates.head()"
   ]
  },
  {
   "cell_type": "code",
   "execution_count": 12,
   "metadata": {},
   "outputs": [
    {
     "name": "stderr",
     "output_type": "stream",
     "text": [
      "/usr/local/lib/python3.5/dist-packages/ipykernel_launcher.py:1: FutureWarning: currently extract(expand=None) means expand=False (return Index/Series/DataFrame) but in a future version of pandas this will be changed to expand=True (return DataFrame)\n",
      "  \"\"\"Entry point for launching an IPython kernel.\n"
     ]
    },
    {
     "data": {
      "text/html": [
       "<div>\n",
       "<table border=\"1\" class=\"dataframe\">\n",
       "  <thead>\n",
       "    <tr style=\"text-align: right;\">\n",
       "      <th></th>\n",
       "      <th>begining</th>\n",
       "      <th>date</th>\n",
       "      <th>end</th>\n",
       "    </tr>\n",
       "  </thead>\n",
       "  <tbody>\n",
       "    <tr>\n",
       "      <th>48</th>\n",
       "      <td>NaN</td>\n",
       "      <td>1869</td>\n",
       "      <td>NaN</td>\n",
       "    </tr>\n",
       "    <tr>\n",
       "      <th>80</th>\n",
       "      <td>NaN</td>\n",
       "      <td>1883</td>\n",
       "      <td>NaN</td>\n",
       "    </tr>\n",
       "    <tr>\n",
       "      <th>95</th>\n",
       "      <td>c.</td>\n",
       "      <td>1923</td>\n",
       "      <td>NaN</td>\n",
       "    </tr>\n",
       "    <tr>\n",
       "      <th>125</th>\n",
       "      <td>c.</td>\n",
       "      <td>1922</td>\n",
       "      <td>NaN</td>\n",
       "    </tr>\n",
       "    <tr>\n",
       "      <th>129</th>\n",
       "      <td>NaN</td>\n",
       "      <td>1882</td>\n",
       "      <td>NaN</td>\n",
       "    </tr>\n",
       "  </tbody>\n",
       "</table>\n",
       "</div>"
      ],
      "text/plain": [
       "    begining  date  end\n",
       "48       NaN  1869  NaN\n",
       "80       NaN  1883  NaN\n",
       "95        c.  1923  NaN\n",
       "125       c.  1922  NaN\n",
       "129      NaN  1882  NaN"
      ]
     },
     "execution_count": 12,
     "metadata": {},
     "output_type": "execute_result"
    }
   ],
   "source": [
    "dates_normalize = dates.str.extract(r'(?P<begining>.+)?(?P<date>\\d\\d\\d\\d)(?P<end>.+)?')\n",
    "dates_normalize.head()"
   ]
  },
  {
   "cell_type": "code",
   "execution_count": 13,
   "metadata": {},
   "outputs": [
    {
     "data": {
      "text/html": [
       "<div>\n",
       "<table border=\"1\" class=\"dataframe\">\n",
       "  <thead>\n",
       "    <tr style=\"text-align: right;\">\n",
       "      <th></th>\n",
       "      <th>filename</th>\n",
       "      <th>title</th>\n",
       "      <th>style</th>\n",
       "      <th>genre</th>\n",
       "      <th>date</th>\n",
       "      <th>artist</th>\n",
       "      <th>imageUrl</th>\n",
       "    </tr>\n",
       "  </thead>\n",
       "  <tbody>\n",
       "    <tr>\n",
       "      <th>48</th>\n",
       "      <td>95360.jpg</td>\n",
       "      <td>Interior (The Rape)</td>\n",
       "      <td>Impressionism</td>\n",
       "      <td>interior</td>\n",
       "      <td>1869</td>\n",
       "      <td>edgar degas</td>\n",
       "      <td>https://uploads5.wikiart.org/images/edgar-dega...</td>\n",
       "    </tr>\n",
       "    <tr>\n",
       "      <th>80</th>\n",
       "      <td>49757.jpg</td>\n",
       "      <td>The Manneport, Rock Arch West of Etretat</td>\n",
       "      <td>Impressionism</td>\n",
       "      <td>landscape</td>\n",
       "      <td>1883</td>\n",
       "      <td>claude monet</td>\n",
       "      <td>https://uploads5.wikiart.org/images/claude-mon...</td>\n",
       "    </tr>\n",
       "    <tr>\n",
       "      <th>95</th>\n",
       "      <td>53841.jpg</td>\n",
       "      <td>Rodez</td>\n",
       "      <td>Impressionism</td>\n",
       "      <td>cityscape</td>\n",
       "      <td>1923</td>\n",
       "      <td>paul signac</td>\n",
       "      <td>https://uploads6.wikiart.org/images/paul-signa...</td>\n",
       "    </tr>\n",
       "    <tr>\n",
       "      <th>125</th>\n",
       "      <td>81912.jpg</td>\n",
       "      <td>The Look at Montauban in rain</td>\n",
       "      <td>Impressionism</td>\n",
       "      <td>landscape</td>\n",
       "      <td>1922</td>\n",
       "      <td>paul signac</td>\n",
       "      <td>https://uploads3.wikiart.org/images/paul-signa...</td>\n",
       "    </tr>\n",
       "    <tr>\n",
       "      <th>129</th>\n",
       "      <td>17146.jpg</td>\n",
       "      <td>Prayer in the Saint Pierre Cathedral in Geneva</td>\n",
       "      <td>Impressionism</td>\n",
       "      <td>genre painting</td>\n",
       "      <td>1882</td>\n",
       "      <td>ferdinand hodler</td>\n",
       "      <td>https://uploads3.wikiart.org/images/ferdinand-...</td>\n",
       "    </tr>\n",
       "  </tbody>\n",
       "</table>\n",
       "</div>"
      ],
      "text/plain": [
       "      filename                                           title          style  \\\n",
       "48   95360.jpg                             Interior (The Rape)  Impressionism   \n",
       "80   49757.jpg        The Manneport, Rock Arch West of Etretat  Impressionism   \n",
       "95   53841.jpg                                           Rodez  Impressionism   \n",
       "125  81912.jpg                   The Look at Montauban in rain  Impressionism   \n",
       "129  17146.jpg  Prayer in the Saint Pierre Cathedral in Geneva  Impressionism   \n",
       "\n",
       "              genre  date            artist  \\\n",
       "48         interior  1869       edgar degas   \n",
       "80        landscape  1883      claude monet   \n",
       "95        cityscape  1923       paul signac   \n",
       "125       landscape  1922       paul signac   \n",
       "129  genre painting  1882  ferdinand hodler   \n",
       "\n",
       "                                              imageUrl  \n",
       "48   https://uploads5.wikiart.org/images/edgar-dega...  \n",
       "80   https://uploads5.wikiart.org/images/claude-mon...  \n",
       "95   https://uploads6.wikiart.org/images/paul-signa...  \n",
       "125  https://uploads3.wikiart.org/images/paul-signa...  \n",
       "129  https://uploads3.wikiart.org/images/ferdinand-...  "
      ]
     },
     "execution_count": 13,
     "metadata": {},
     "output_type": "execute_result"
    }
   ],
   "source": [
    "df_impressionist['date'] = dates_normalize['date']\n",
    "df_impressionist.head()"
   ]
  },
  {
   "cell_type": "markdown",
   "metadata": {},
   "source": [
    "### Sort values"
   ]
  },
  {
   "cell_type": "code",
   "execution_count": 14,
   "metadata": {},
   "outputs": [
    {
     "data": {
      "text/html": [
       "<div>\n",
       "<table border=\"1\" class=\"dataframe\">\n",
       "  <thead>\n",
       "    <tr style=\"text-align: right;\">\n",
       "      <th></th>\n",
       "      <th>filename</th>\n",
       "      <th>title</th>\n",
       "      <th>style</th>\n",
       "      <th>genre</th>\n",
       "      <th>date</th>\n",
       "      <th>artist</th>\n",
       "      <th>imageUrl</th>\n",
       "    </tr>\n",
       "  </thead>\n",
       "  <tbody>\n",
       "    <tr>\n",
       "      <th>13855</th>\n",
       "      <td>44196.jpg</td>\n",
       "      <td>La Hacienda Buenavista en Ponce, Puerto Rico</td>\n",
       "      <td>Impressionism</td>\n",
       "      <td>landscape</td>\n",
       "      <td>1840</td>\n",
       "      <td>francisco oller</td>\n",
       "      <td>https://uploads8.wikiart.org/images/francisco-...</td>\n",
       "    </tr>\n",
       "    <tr>\n",
       "      <th>36603</th>\n",
       "      <td>50608.jpg</td>\n",
       "      <td>Woman and Child on a Bridge</td>\n",
       "      <td>Impressionism</td>\n",
       "      <td>genre painting</td>\n",
       "      <td>1848</td>\n",
       "      <td>honore daumier</td>\n",
       "      <td>https://uploads4.wikiart.org/images/honore-dau...</td>\n",
       "    </tr>\n",
       "    <tr>\n",
       "      <th>1313</th>\n",
       "      <td>27526.jpg</td>\n",
       "      <td>On the Shore</td>\n",
       "      <td>Impressionism</td>\n",
       "      <td>genre painting</td>\n",
       "      <td>1853</td>\n",
       "      <td>honore daumier</td>\n",
       "      <td>https://uploads7.wikiart.org/images/honore-dau...</td>\n",
       "    </tr>\n",
       "    <tr>\n",
       "      <th>35617</th>\n",
       "      <td>102063.jpg</td>\n",
       "      <td>Bathers</td>\n",
       "      <td>Impressionism</td>\n",
       "      <td>genre painting</td>\n",
       "      <td>1853</td>\n",
       "      <td>honore daumier</td>\n",
       "      <td>https://uploads4.wikiart.org/images/honore-dau...</td>\n",
       "    </tr>\n",
       "    <tr>\n",
       "      <th>1502</th>\n",
       "      <td>66688.jpg</td>\n",
       "      <td>Study for the Self Portrait</td>\n",
       "      <td>Impressionism</td>\n",
       "      <td>self-portrait</td>\n",
       "      <td>1855</td>\n",
       "      <td>edgar degas</td>\n",
       "      <td>https://uploads6.wikiart.org/images/edgar-dega...</td>\n",
       "    </tr>\n",
       "  </tbody>\n",
       "</table>\n",
       "</div>"
      ],
      "text/plain": [
       "         filename                                         title  \\\n",
       "13855   44196.jpg  La Hacienda Buenavista en Ponce, Puerto Rico   \n",
       "36603   50608.jpg                   Woman and Child on a Bridge   \n",
       "1313    27526.jpg                                  On the Shore   \n",
       "35617  102063.jpg                                       Bathers   \n",
       "1502    66688.jpg                   Study for the Self Portrait   \n",
       "\n",
       "               style           genre  date           artist  \\\n",
       "13855  Impressionism       landscape  1840  francisco oller   \n",
       "36603  Impressionism  genre painting  1848   honore daumier   \n",
       "1313   Impressionism  genre painting  1853   honore daumier   \n",
       "35617  Impressionism  genre painting  1853   honore daumier   \n",
       "1502   Impressionism   self-portrait  1855      edgar degas   \n",
       "\n",
       "                                                imageUrl  \n",
       "13855  https://uploads8.wikiart.org/images/francisco-...  \n",
       "36603  https://uploads4.wikiart.org/images/honore-dau...  \n",
       "1313   https://uploads7.wikiart.org/images/honore-dau...  \n",
       "35617  https://uploads4.wikiart.org/images/honore-dau...  \n",
       "1502   https://uploads6.wikiart.org/images/edgar-dega...  "
      ]
     },
     "execution_count": 14,
     "metadata": {},
     "output_type": "execute_result"
    }
   ],
   "source": [
    "df_impressionist_sorted = df_impressionist.sort_values(by=['date', 'artist'], ascending=True)\n",
    "df_impressionist_sorted.head()"
   ]
  },
  {
   "cell_type": "markdown",
   "metadata": {},
   "source": [
    "### Get artwork's code"
   ]
  },
  {
   "cell_type": "code",
   "execution_count": 15,
   "metadata": {},
   "outputs": [
    {
     "data": {
      "text/plain": [
       "(6355, 100)"
      ]
     },
     "execution_count": 15,
     "metadata": {},
     "output_type": "execute_result"
    }
   ],
   "source": [
    "matrix_sorted = artwork_code_matrix[df_impressionist_sorted.index]\n",
    "matrix_sorted.shape"
   ]
  },
  {
   "cell_type": "code",
   "execution_count": 16,
   "metadata": {},
   "outputs": [
    {
     "data": {
      "text/plain": [
       "array([-0.18733734, -0.7107996 ,  0.2520979 , -0.17679693, -0.60448617,\n",
       "        0.10720313,  2.1172245 ,  1.2336361 , -0.23950386, -0.4110453 ,\n",
       "       -0.2546481 ,  0.36813372, -0.29154047, -0.41856167, -0.03077362,\n",
       "       -0.18250334, -0.65798277,  0.76718646,  0.9617817 , -0.17786421,\n",
       "       -0.16553105, -0.47963133,  0.11038253, -0.39510176, -0.2166926 ,\n",
       "       -0.39048964,  0.04394746, -0.48526707,  0.25912058,  1.3549267 ,\n",
       "        0.06388462, -0.1721779 , -0.16312343, -0.20455246, -0.55944425,\n",
       "       -0.23970237, -0.31799254, -0.33271417, -0.08630779,  0.46668637,\n",
       "       -0.46433797, -0.08583858,  1.2002717 , -0.40400964, -0.21918252,\n",
       "       -0.01095881, -0.15159182, -0.21558967, -0.1024729 , -0.14038943,\n",
       "       -0.40729037,  0.06979251, -0.2389057 , -0.3315314 , -0.19975021,\n",
       "        1.3818963 , -0.19873004, -0.19333676, -0.35796562, -0.39401227,\n",
       "       -0.15066484,  0.5918576 , -0.21019451, -0.24923305,  1.0728569 ,\n",
       "       -0.14889121, -0.29143173, -0.09621882,  0.08412094, -0.46653643,\n",
       "        1.5774698 , -0.13998859, -0.20254493,  1.2100155 ,  2.1257162 ,\n",
       "       -0.06356465, -0.13680027,  1.963495  ,  0.06476319, -0.13724314,\n",
       "        0.07289886, -0.24667159, -0.30874482, -0.28710133, -0.17297179,\n",
       "       -0.04038661, -0.41180012, -0.21443763, -0.3433766 ,  0.14627308,\n",
       "       -0.4454207 , -0.1049903 ,  0.46174693, -0.46720138, -0.4004992 ,\n",
       "       -0.15443297, -0.13650571,  1.9006069 , -0.22969444, -0.13687043],\n",
       "      dtype=float32)"
      ]
     },
     "execution_count": 16,
     "metadata": {},
     "output_type": "execute_result"
    }
   ],
   "source": [
    "matrix_sorted[0]"
   ]
  },
  {
   "cell_type": "markdown",
   "metadata": {},
   "source": [
    "### Save data"
   ]
  },
  {
   "cell_type": "code",
   "execution_count": 18,
   "metadata": {},
   "outputs": [],
   "source": [
    "df_impressionist_sorted.to_csv('impressionsist_sorted.csv', index=False)"
   ]
  },
  {
   "cell_type": "code",
   "execution_count": 19,
   "metadata": {},
   "outputs": [],
   "source": [
    "np.save('impressionist_sorted_matrix',matrix_sorted)"
   ]
  }
 ],
 "metadata": {
  "kernelspec": {
   "display_name": "Python 3",
   "language": "python",
   "name": "python3"
  },
  "language_info": {
   "codemirror_mode": {
    "name": "ipython",
    "version": 3
   },
   "file_extension": ".py",
   "mimetype": "text/x-python",
   "name": "python",
   "nbconvert_exporter": "python",
   "pygments_lexer": "ipython3",
   "version": "3.5.2"
  }
 },
 "nbformat": 4,
 "nbformat_minor": 2
}
