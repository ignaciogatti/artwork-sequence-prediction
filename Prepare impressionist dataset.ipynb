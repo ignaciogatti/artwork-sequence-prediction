{
 "cells": [
  {
   "cell_type": "code",
   "execution_count": 1,
   "metadata": {},
   "outputs": [],
   "source": [
    "import pandas as pd\n",
    "import numpy as np\n",
    "import os"
   ]
  },
  {
   "cell_type": "markdown",
   "metadata": {},
   "source": [
    "## Load Data"
   ]
  },
  {
   "cell_type": "code",
   "execution_count": 2,
   "metadata": {},
   "outputs": [],
   "source": [
    "CONFIG_PATH = '/root/work/artwork_sequence/train_test_configuration'\n",
    "DATASET_PATH = '/root/work/datasets'"
   ]
  },
  {
   "cell_type": "markdown",
   "metadata": {},
   "source": [
    "**Load metadata**"
   ]
  },
  {
   "cell_type": "code",
   "execution_count": 3,
   "metadata": {},
   "outputs": [
    {
     "data": {
      "text/html": [
       "<div>\n",
       "<style scoped>\n",
       "    .dataframe tbody tr th:only-of-type {\n",
       "        vertical-align: middle;\n",
       "    }\n",
       "\n",
       "    .dataframe tbody tr th {\n",
       "        vertical-align: top;\n",
       "    }\n",
       "\n",
       "    .dataframe thead th {\n",
       "        text-align: right;\n",
       "    }\n",
       "</style>\n",
       "<table border=\"1\" class=\"dataframe\">\n",
       "  <thead>\n",
       "    <tr style=\"text-align: right;\">\n",
       "      <th></th>\n",
       "      <th>filename</th>\n",
       "      <th>title</th>\n",
       "      <th>style</th>\n",
       "      <th>genre</th>\n",
       "      <th>date</th>\n",
       "      <th>artist</th>\n",
       "      <th>imageUrl</th>\n",
       "    </tr>\n",
       "  </thead>\n",
       "  <tbody>\n",
       "    <tr>\n",
       "      <th>0</th>\n",
       "      <td>70944.jpg</td>\n",
       "      <td>Forbidden Land</td>\n",
       "      <td>Surrealism</td>\n",
       "      <td>landscape</td>\n",
       "      <td>1937.0</td>\n",
       "      <td>Wolfgang Paalen</td>\n",
       "      <td>https://uploads6.wikiart.org/images/wolfgang-p...</td>\n",
       "    </tr>\n",
       "    <tr>\n",
       "      <th>1</th>\n",
       "      <td>99442.jpg</td>\n",
       "      <td>Storm at sea</td>\n",
       "      <td>Romanticism</td>\n",
       "      <td>marina</td>\n",
       "      <td>1873</td>\n",
       "      <td>Ivan Aivazovsky</td>\n",
       "      <td>https://uploads4.wikiart.org/images/ivan-aivaz...</td>\n",
       "    </tr>\n",
       "    <tr>\n",
       "      <th>2</th>\n",
       "      <td>28908.jpg</td>\n",
       "      <td>Yachting in the Mediterranean</td>\n",
       "      <td>Realism</td>\n",
       "      <td>genre painting</td>\n",
       "      <td>1896</td>\n",
       "      <td>Julius LeBlanc Stewart</td>\n",
       "      <td>https://uploads4.wikiart.org/images/julius-leb...</td>\n",
       "    </tr>\n",
       "    <tr>\n",
       "      <th>3</th>\n",
       "      <td>7486.jpg</td>\n",
       "      <td>Death of Eleazer</td>\n",
       "      <td>Romanticism</td>\n",
       "      <td>religious painting</td>\n",
       "      <td>1866</td>\n",
       "      <td>Gustave Dore</td>\n",
       "      <td>https://uploads5.wikiart.org/images/gustave-do...</td>\n",
       "    </tr>\n",
       "    <tr>\n",
       "      <th>4</th>\n",
       "      <td>35766.jpg</td>\n",
       "      <td>The-Deluge</td>\n",
       "      <td>Romanticism</td>\n",
       "      <td>religious painting</td>\n",
       "      <td>NaN</td>\n",
       "      <td>Gustave Dore</td>\n",
       "      <td>https://uploads3.wikiart.org/images/gustave-do...</td>\n",
       "    </tr>\n",
       "  </tbody>\n",
       "</table>\n",
       "</div>"
      ],
      "text/plain": [
       "    filename                          title        style               genre  \\\n",
       "0  70944.jpg                 Forbidden Land   Surrealism           landscape   \n",
       "1  99442.jpg                   Storm at sea  Romanticism              marina   \n",
       "2  28908.jpg  Yachting in the Mediterranean      Realism      genre painting   \n",
       "3   7486.jpg               Death of Eleazer  Romanticism  religious painting   \n",
       "4  35766.jpg                     The-Deluge  Romanticism  religious painting   \n",
       "\n",
       "     date                  artist  \\\n",
       "0  1937.0         Wolfgang Paalen   \n",
       "1    1873         Ivan Aivazovsky   \n",
       "2    1896  Julius LeBlanc Stewart   \n",
       "3    1866            Gustave Dore   \n",
       "4     NaN            Gustave Dore   \n",
       "\n",
       "                                            imageUrl  \n",
       "0  https://uploads6.wikiart.org/images/wolfgang-p...  \n",
       "1  https://uploads4.wikiart.org/images/ivan-aivaz...  \n",
       "2  https://uploads4.wikiart.org/images/julius-leb...  \n",
       "3  https://uploads5.wikiart.org/images/gustave-do...  \n",
       "4  https://uploads3.wikiart.org/images/gustave-do...  "
      ]
     },
     "execution_count": 3,
     "metadata": {},
     "output_type": "execute_result"
    }
   ],
   "source": [
    "df_artworks = pd.read_csv(os.path.join(DATASET_PATH,'train_mayors_style_encoded_with_url.csv'))\n",
    "df_artworks.head()"
   ]
  },
  {
   "cell_type": "code",
   "execution_count": 4,
   "metadata": {},
   "outputs": [
    {
     "data": {
      "text/plain": [
       "(46010, 7)"
      ]
     },
     "execution_count": 4,
     "metadata": {},
     "output_type": "execute_result"
    }
   ],
   "source": [
    "df_artworks.shape"
   ]
  },
  {
   "cell_type": "markdown",
   "metadata": {},
   "source": [
    "**Load code matrix**"
   ]
  },
  {
   "cell_type": "code",
   "execution_count": 5,
   "metadata": {},
   "outputs": [
    {
     "data": {
      "text/plain": [
       "(46010, 300)"
      ]
     },
     "execution_count": 5,
     "metadata": {},
     "output_type": "execute_result"
    }
   ],
   "source": [
    "artwork_code_matrix = np.load(os.path.join(DATASET_PATH, 'train_mayors_style_encode.npy'))\n",
    "artwork_code_matrix.shape"
   ]
  },
  {
   "cell_type": "markdown",
   "metadata": {},
   "source": [
    "**Load embedding matrix**"
   ]
  },
  {
   "cell_type": "code",
   "execution_count": 6,
   "metadata": {},
   "outputs": [
    {
     "data": {
      "text/plain": [
       "(46010, 100)"
      ]
     },
     "execution_count": 6,
     "metadata": {},
     "output_type": "execute_result"
    }
   ],
   "source": [
    "artwork_embedding_matrix = np.load(os.path.join(DATASET_PATH, 'train_mayors_style_embedding.npy'))\n",
    "artwork_embedding_matrix.shape"
   ]
  },
  {
   "cell_type": "markdown",
   "metadata": {},
   "source": [
    "### Get artworks by style and sorted by date"
   ]
  },
  {
   "cell_type": "markdown",
   "metadata": {},
   "source": [
    "**Normalize artist name**"
   ]
  },
  {
   "cell_type": "code",
   "execution_count": 9,
   "metadata": {},
   "outputs": [],
   "source": [
    "import unicodedata\n",
    "\n",
    "def normalize_title(title):\n",
    "    return unicodedata.normalize('NFKD', title.lower()).encode('ASCII', 'ignore').decode('utf8')"
   ]
  },
  {
   "cell_type": "markdown",
   "metadata": {},
   "source": [
    "**Normalize date**"
   ]
  },
  {
   "cell_type": "code",
   "execution_count": 10,
   "metadata": {},
   "outputs": [],
   "source": [
    "def normalize_date(dates):\n",
    "    dates_norm = dates.str.extract(r'(?P<begining>.+)?(?P<date>\\d\\d\\d\\d)(?P<end>.+)?')\n",
    "    return dates_norm['date']\n",
    "    "
   ]
  },
  {
   "cell_type": "markdown",
   "metadata": {},
   "source": [
    "**Drop corrupt data**"
   ]
  },
  {
   "cell_type": "code",
   "execution_count": 11,
   "metadata": {},
   "outputs": [],
   "source": [
    "def drop_corrupt_data(df):\n",
    "     #Drop NaN date\n",
    "    df = df.dropna(subset=['date'])\n",
    "    #Drop NaN image url\n",
    "    df = df.dropna(subset=['imageUrl'])\n",
    "    \n",
    "    return df\n",
    "    "
   ]
  },
  {
   "cell_type": "code",
   "execution_count": 12,
   "metadata": {},
   "outputs": [
    {
     "data": {
      "text/html": [
       "<div>\n",
       "<style scoped>\n",
       "    .dataframe tbody tr th:only-of-type {\n",
       "        vertical-align: middle;\n",
       "    }\n",
       "\n",
       "    .dataframe tbody tr th {\n",
       "        vertical-align: top;\n",
       "    }\n",
       "\n",
       "    .dataframe thead th {\n",
       "        text-align: right;\n",
       "    }\n",
       "</style>\n",
       "<table border=\"1\" class=\"dataframe\">\n",
       "  <thead>\n",
       "    <tr style=\"text-align: right;\">\n",
       "      <th></th>\n",
       "      <th>filename</th>\n",
       "      <th>title</th>\n",
       "      <th>style</th>\n",
       "      <th>genre</th>\n",
       "      <th>date</th>\n",
       "      <th>artist</th>\n",
       "      <th>imageUrl</th>\n",
       "    </tr>\n",
       "  </thead>\n",
       "  <tbody>\n",
       "    <tr>\n",
       "      <th>0</th>\n",
       "      <td>70944.jpg</td>\n",
       "      <td>Forbidden Land</td>\n",
       "      <td>Surrealism</td>\n",
       "      <td>landscape</td>\n",
       "      <td>1937</td>\n",
       "      <td>wolfgang paalen</td>\n",
       "      <td>https://uploads6.wikiart.org/images/wolfgang-p...</td>\n",
       "    </tr>\n",
       "    <tr>\n",
       "      <th>1</th>\n",
       "      <td>99442.jpg</td>\n",
       "      <td>Storm at sea</td>\n",
       "      <td>Romanticism</td>\n",
       "      <td>marina</td>\n",
       "      <td>1873</td>\n",
       "      <td>ivan aivazovsky</td>\n",
       "      <td>https://uploads4.wikiart.org/images/ivan-aivaz...</td>\n",
       "    </tr>\n",
       "    <tr>\n",
       "      <th>2</th>\n",
       "      <td>28908.jpg</td>\n",
       "      <td>Yachting in the Mediterranean</td>\n",
       "      <td>Realism</td>\n",
       "      <td>genre painting</td>\n",
       "      <td>1896</td>\n",
       "      <td>julius leblanc stewart</td>\n",
       "      <td>https://uploads4.wikiart.org/images/julius-leb...</td>\n",
       "    </tr>\n",
       "    <tr>\n",
       "      <th>3</th>\n",
       "      <td>7486.jpg</td>\n",
       "      <td>Death of Eleazer</td>\n",
       "      <td>Romanticism</td>\n",
       "      <td>religious painting</td>\n",
       "      <td>1866</td>\n",
       "      <td>gustave dore</td>\n",
       "      <td>https://uploads5.wikiart.org/images/gustave-do...</td>\n",
       "    </tr>\n",
       "    <tr>\n",
       "      <th>5</th>\n",
       "      <td>28363.jpg</td>\n",
       "      <td>Still Life with Flowers and Gold Cups of Honor</td>\n",
       "      <td>Baroque</td>\n",
       "      <td>still life</td>\n",
       "      <td>1612</td>\n",
       "      <td>clara peeters</td>\n",
       "      <td>https://uploads0.wikiart.org/images/clara-peet...</td>\n",
       "    </tr>\n",
       "  </tbody>\n",
       "</table>\n",
       "</div>"
      ],
      "text/plain": [
       "    filename                                           title        style  \\\n",
       "0  70944.jpg                                  Forbidden Land   Surrealism   \n",
       "1  99442.jpg                                    Storm at sea  Romanticism   \n",
       "2  28908.jpg                   Yachting in the Mediterranean      Realism   \n",
       "3   7486.jpg                                Death of Eleazer  Romanticism   \n",
       "5  28363.jpg  Still Life with Flowers and Gold Cups of Honor      Baroque   \n",
       "\n",
       "                genre  date                  artist  \\\n",
       "0           landscape  1937         wolfgang paalen   \n",
       "1              marina  1873         ivan aivazovsky   \n",
       "2      genre painting  1896  julius leblanc stewart   \n",
       "3  religious painting  1866            gustave dore   \n",
       "5          still life  1612           clara peeters   \n",
       "\n",
       "                                            imageUrl  \n",
       "0  https://uploads6.wikiart.org/images/wolfgang-p...  \n",
       "1  https://uploads4.wikiart.org/images/ivan-aivaz...  \n",
       "2  https://uploads4.wikiart.org/images/julius-leb...  \n",
       "3  https://uploads5.wikiart.org/images/gustave-do...  \n",
       "5  https://uploads0.wikiart.org/images/clara-peet...  "
      ]
     },
     "execution_count": 12,
     "metadata": {},
     "output_type": "execute_result"
    }
   ],
   "source": [
    "df_artworks_clean = drop_corrupt_data(df_artworks)\n",
    "#Normalize artist name\n",
    "df_artworks_clean['artist'] = df_artworks_clean['artist'].apply(normalize_title)\n",
    "#Normalize date\n",
    "df_artworks_clean['date'] = normalize_date(df_artworks_clean['date'])\n",
    "\n",
    "df_artworks_clean.head()"
   ]
  },
  {
   "cell_type": "code",
   "execution_count": 13,
   "metadata": {},
   "outputs": [
    {
     "data": {
      "text/plain": [
       "(30862, 7)"
      ]
     },
     "execution_count": 13,
     "metadata": {},
     "output_type": "execute_result"
    }
   ],
   "source": [
    "df_artworks_clean.shape"
   ]
  },
  {
   "cell_type": "markdown",
   "metadata": {},
   "source": [
    "**Get artworks by style**"
   ]
  },
  {
   "cell_type": "code",
   "execution_count": 14,
   "metadata": {},
   "outputs": [],
   "source": [
    "df_style_grouped = df_artworks_clean.groupby('style')"
   ]
  },
  {
   "cell_type": "markdown",
   "metadata": {},
   "source": [
    "**Get genres presents in all periods**"
   ]
  },
  {
   "cell_type": "code",
   "execution_count": 15,
   "metadata": {},
   "outputs": [
    {
     "data": {
      "text/plain": [
       "array(['flower painting', 'still life', 'interior', 'portrait', 'marina',\n",
       "       'history painting', 'self-portrait', 'sketch and study',\n",
       "       'nude painting (nu)', 'allegorical painting',\n",
       "       'mythological painting', 'religious painting', 'genre painting',\n",
       "       'animal painting', 'illustration', 'landscape', 'cityscape',\n",
       "       'literary painting'], dtype='<U21')"
      ]
     },
     "execution_count": 15,
     "metadata": {},
     "output_type": "execute_result"
    }
   ],
   "source": [
    "df_grouped = df_artworks_clean.groupby('style')\n",
    "genres_set = []\n",
    "\n",
    "for name, group in df_grouped:\n",
    "    genres_set.append(set(group['genre'].unique()))\n",
    "    \n",
    "ref_set = genres_set[0]\n",
    "\n",
    "for gen_set in genres_set:\n",
    "    ref_set = ref_set.intersection(gen_set)\n",
    "\n",
    "common_genres = np.array(list(ref_set))\n",
    "common_genres"
   ]
  },
  {
   "cell_type": "markdown",
   "metadata": {},
   "source": [
    "## Generate random samples"
   ]
  },
  {
   "cell_type": "code",
   "execution_count": 17,
   "metadata": {},
   "outputs": [
    {
     "data": {
      "text/plain": [
       "(27000, 7)"
      ]
     },
     "execution_count": 17,
     "metadata": {},
     "output_type": "execute_result"
    }
   ],
   "source": [
    "samples_tour_list = []\n",
    "\n",
    "for i in range(1000):\n",
    "    df_tour_lists = []\n",
    "    #choose a genre\n",
    "    genre = np.random.choice(common_genres, 1)[0]\n",
    "    for name, group in df_style_grouped:\n",
    "        group_genre = group[group['genre'] == genre]\n",
    "        df_tour_lists.append(group_genre.sample(3, replace=True))\n",
    "        \n",
    "    df_tours = pd.concat(df_tour_lists)\n",
    "    df_tours = df_tours.sort_values(by=['date'])\n",
    "    samples_tour_list.append(df_tours)\n",
    "\n",
    "df_style_tours = pd.concat(samples_tour_list)\n",
    "df_style_tours.shape"
   ]
  },
  {
   "cell_type": "code",
   "execution_count": null,
   "metadata": {},
   "outputs": [],
   "source": []
  },
  {
   "cell_type": "markdown",
   "metadata": {},
   "source": [
    "### Get artwork's code and embedding"
   ]
  },
  {
   "cell_type": "code",
   "execution_count": null,
   "metadata": {},
   "outputs": [],
   "source": [
    "matrix_sorted = artwork_code_matrix[df_style_tours.index]\n",
    "matrix_sorted.shape"
   ]
  },
  {
   "cell_type": "code",
   "execution_count": null,
   "metadata": {},
   "outputs": [],
   "source": [
    "embedding_matrix_sorted = artwork_embedding_matrix[df_style_tours.index]\n",
    "embedding_matrix_sorted.shape"
   ]
  },
  {
   "cell_type": "markdown",
   "metadata": {},
   "source": [
    "### Save data"
   ]
  },
  {
   "cell_type": "code",
   "execution_count": null,
   "metadata": {},
   "outputs": [],
   "source": [
    "df_tours.to_csv(os.path.join(CONFIG_PATH, 'style_tours.csv'), index=True)"
   ]
  },
  {
   "cell_type": "code",
   "execution_count": null,
   "metadata": {},
   "outputs": [],
   "source": [
    "np.save(os.path.join(CONFIG_PATH, 'style_tours_matrix'),matrix_sorted)"
   ]
  },
  {
   "cell_type": "code",
   "execution_count": null,
   "metadata": {},
   "outputs": [],
   "source": [
    "np.save(os.path.join(CONFIG_PATH, 'style_tours_embedding_matrix'),embedding_matrix_sorted)"
   ]
  }
 ],
 "metadata": {
  "kernelspec": {
   "display_name": "Python 3",
   "language": "python",
   "name": "python3"
  },
  "language_info": {
   "codemirror_mode": {
    "name": "ipython",
    "version": 3
   },
   "file_extension": ".py",
   "mimetype": "text/x-python",
   "name": "python",
   "nbconvert_exporter": "python",
   "pygments_lexer": "ipython3",
   "version": "3.5.2"
  }
 },
 "nbformat": 4,
 "nbformat_minor": 2
}
