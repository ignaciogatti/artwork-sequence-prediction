{
 "cells": [
  {
   "cell_type": "markdown",
   "metadata": {},
   "source": [
    "# Prepare artist dataset"
   ]
  },
  {
   "cell_type": "code",
   "execution_count": null,
   "metadata": {},
   "outputs": [],
   "source": [
    "import os\n",
    "import pandas as pd\n",
    "import numpy as np"
   ]
  },
  {
   "cell_type": "code",
   "execution_count": null,
   "metadata": {},
   "outputs": [],
   "source": [
    "BASE_PATH = '/root/work/artwork_sequence/train_test_configuration'\n",
    "DATASET_PATH = '/root/work/datasets/artwork_sequence/'"
   ]
  },
  {
   "cell_type": "code",
   "execution_count": null,
   "metadata": {},
   "outputs": [],
   "source": [
    "museum_sequence_path = {\n",
    "    'x_train' : os.path.join(BASE_PATH, 'X_train.csv'),\n",
    "    'x_test' : os.path.join(BASE_PATH, 'X_test.csv'),\n",
    "    'all_artists_code_matrix' : os.path.join(DATASET_PATH, 'all_artists_code_matrix.npy'),\n",
    "    'all_artists' : os.path.join(DATASET_PATH, 'all_artists.csv')\n",
    "}\n",
    "museum_sequence_path"
   ]
  },
  {
   "cell_type": "markdown",
   "metadata": {},
   "source": [
    "## Load train test dataset and embeddings"
   ]
  },
  {
   "cell_type": "code",
   "execution_count": null,
   "metadata": {},
   "outputs": [],
   "source": [
    "df_x_train = pd.read_csv(museum_sequence_path['x_train'], index_col=0)\n",
    "df_x_test = pd.read_csv(museum_sequence_path['x_test'], index_col=0)\n",
    "df_all_artists = pd.read_csv(museum_sequence_path['all_artists'])\n",
    "all_artists_code_matrix = np.load(museum_sequence_path['all_artists_code_matrix'])\n",
    "df_x_train.head()"
   ]
  },
  {
   "cell_type": "code",
   "execution_count": null,
   "metadata": {},
   "outputs": [],
   "source": [
    "df_all_artists.head()"
   ]
  },
  {
   "cell_type": "markdown",
   "metadata": {},
   "source": [
    "## Define artist code matrix"
   ]
  },
  {
   "cell_type": "code",
   "execution_count": null,
   "metadata": {},
   "outputs": [],
   "source": [
    "def get_artist_code(row, df_all_artists, all_artists_code_matrix):\n",
    "    index = df_all_artists[df_all_artists['author']==row['author']].index.values[0]\n",
    "    return all_artists_code_matrix[index]"
   ]
  },
  {
   "cell_type": "code",
   "execution_count": null,
   "metadata": {},
   "outputs": [],
   "source": [
    "def get_artist_matrix(df, df_all_artists, all_artists_code_matrix):\n",
    "    tour_path_list = list(df['tour_path'].values)\n",
    "    X_artist_code_list = []\n",
    "    for path in tour_path_list:\n",
    "        #Get the matadata path \n",
    "        metadata_path = os.path.join(path, 'metadata.csv')\n",
    "        df = pd.read_csv(metadata_path)\n",
    "\n",
    "        #Find the artist code for each artwork\n",
    "        df['artist_code'] = df.apply(get_artist_code, axis=1, args=(df_all_artists, all_artists_code_matrix, ) )\n",
    "\n",
    "        #define artist code matrix for the tour\n",
    "        artists_list = list(df['artist_code'].values)\n",
    "        artists_code_matrix = np.stack(artists_list)\n",
    "        #Save\n",
    "        X_artist_code_list.append(artists_code_matrix)\n",
    "\n",
    "    return np.concatenate(X_artist_code_list)"
   ]
  },
  {
   "cell_type": "code",
   "execution_count": null,
   "metadata": {},
   "outputs": [],
   "source": [
    "artist_code_train_matrix = get_artist_matrix(df_x_train, df_all_artists, all_artists_code_matrix)\n",
    "artist_code_test_matrix = get_artist_matrix(df_x_test, df_all_artists, all_artists_code_matrix)"
   ]
  },
  {
   "cell_type": "code",
   "execution_count": null,
   "metadata": {},
   "outputs": [],
   "source": [
    "artist_code_train_matrix.shape"
   ]
  },
  {
   "cell_type": "markdown",
   "metadata": {},
   "source": [
    "**Save code artists**"
   ]
  },
  {
   "cell_type": "code",
   "execution_count": null,
   "metadata": {},
   "outputs": [],
   "source": [
    "np.save(os.path.join(BASE_PATH, 'artist_code_train_matrix' ), artist_code_train_matrix)\n",
    "np.save(os.path.join(BASE_PATH, 'artist_code_test_matrix' ), artist_code_test_matrix)"
   ]
  }
 ],
 "metadata": {
  "kernelspec": {
   "display_name": "Python 3",
   "language": "python",
   "name": "python3"
  },
  "language_info": {
   "codemirror_mode": {
    "name": "ipython",
    "version": 3
   },
   "file_extension": ".py",
   "mimetype": "text/x-python",
   "name": "python",
   "nbconvert_exporter": "python",
   "pygments_lexer": "ipython3",
   "version": "3.5.2"
  }
 },
 "nbformat": 4,
 "nbformat_minor": 2
}
