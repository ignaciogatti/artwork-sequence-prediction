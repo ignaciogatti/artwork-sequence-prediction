{
 "cells": [
  {
   "cell_type": "code",
   "execution_count": null,
   "metadata": {},
   "outputs": [],
   "source": [
    "import os\n",
    "import pandas as pd\n",
    "import numpy as np"
   ]
  },
  {
   "cell_type": "code",
   "execution_count": null,
   "metadata": {},
   "outputs": [],
   "source": [
    "BASE_PATH = '/root/work/datasets/artwork_sequence/'\n",
    "CONFIGURATION_PATH = '/root/work/artwork_sequence/'"
   ]
  },
  {
   "cell_type": "markdown",
   "metadata": {},
   "source": [
    "## Map tours to unique id"
   ]
  },
  {
   "cell_type": "code",
   "execution_count": null,
   "metadata": {},
   "outputs": [],
   "source": [
    "folders_dict = {}\n",
    "index = 0\n",
    "#List museums\n",
    "for folder in os.listdir(BASE_PATH):\n",
    "    museum_path = os.path.join(BASE_PATH, folder)\n",
    "    #List tours inside the museum\n",
    "    if os.path.isdir(museum_path):\n",
    "        for tour_folder in os.listdir(museum_path):\n",
    "            #skip .ipynb checkpoint folder\n",
    "            if (not tour_folder.startswith('.')) or (not os):\n",
    "\n",
    "                tour_path = os.path.join(museum_path, tour_folder)\n",
    "                folders_dict[index] = tour_path\n",
    "                index +=1\n",
    "\n",
    "print(len(folders_dict))"
   ]
  },
  {
   "cell_type": "markdown",
   "metadata": {},
   "source": [
    "**Put data into a Dataframe**"
   ]
  },
  {
   "cell_type": "code",
   "execution_count": null,
   "metadata": {},
   "outputs": [],
   "source": [
    "df_tours = pd.DataFrame.from_dict(folders_dict, orient='index', columns=['tour_path'])\n",
    "df_tours.head()"
   ]
  },
  {
   "cell_type": "code",
   "execution_count": null,
   "metadata": {},
   "outputs": [],
   "source": [
    "df_tours['tour_path'][0]"
   ]
  },
  {
   "cell_type": "markdown",
   "metadata": {},
   "source": [
    "## Train Test split data"
   ]
  },
  {
   "cell_type": "code",
   "execution_count": null,
   "metadata": {},
   "outputs": [],
   "source": [
    "from sklearn.model_selection import train_test_split"
   ]
  },
  {
   "cell_type": "code",
   "execution_count": null,
   "metadata": {},
   "outputs": [],
   "source": [
    "X = df_tours\n",
    "y = [1]*len(X)"
   ]
  },
  {
   "cell_type": "code",
   "execution_count": null,
   "metadata": {},
   "outputs": [],
   "source": [
    "X_train, X_test, y_train, y_test = train_test_split(X, y)"
   ]
  },
  {
   "cell_type": "markdown",
   "metadata": {},
   "source": [
    "**Save train test data configuration**"
   ]
  },
  {
   "cell_type": "code",
   "execution_count": null,
   "metadata": {},
   "outputs": [],
   "source": [
    "df_tours['train_test'] = 'Train'\n",
    "df_tours.loc[X_test.index, 'train_test'] = 'Test'\n",
    "df_tours.head(10)"
   ]
  },
  {
   "cell_type": "code",
   "execution_count": null,
   "metadata": {},
   "outputs": [],
   "source": [
    "config_folder = os.path.join(CONFIGURATION_PATH, 'train_test_configuration/config_0')\n",
    "if not os.path.exists(config_folder):\n",
    "    os.makedirs(config_folder)"
   ]
  },
  {
   "cell_type": "code",
   "execution_count": null,
   "metadata": {},
   "outputs": [],
   "source": [
    "df_tours.to_csv(os.path.join(config_folder, 'config.csv'), index=False)\n",
    "\n",
    "#Because the training and testing data is shuffled\n",
    "X_train.to_csv(os.path.join(config_folder, 'X_train.csv'), index=True)\n",
    "X_test.to_csv(os.path.join(config_folder, 'X_test.csv'), index=True)"
   ]
  },
  {
   "cell_type": "markdown",
   "metadata": {},
   "source": [
    "**Save train and test code matrix**"
   ]
  },
  {
   "cell_type": "code",
   "execution_count": null,
   "metadata": {},
   "outputs": [],
   "source": [
    "def get_code_matrix(X):\n",
    "    X_list = []\n",
    "    for path in X.values:\n",
    "        matrix_path = os.path.join(path[0], 'code_matrix.npy')\n",
    "        code_matrix = np.load(matrix_path)\n",
    "        X_list.append(code_matrix)\n",
    "\n",
    "    X_matrix = np.concatenate(X_list)    \n",
    "    return X_matrix"
   ]
  },
  {
   "cell_type": "code",
   "execution_count": null,
   "metadata": {},
   "outputs": [],
   "source": [
    "#X_train_matrix\n",
    "X_train_matrix = get_code_matrix(X_train)\n",
    "X_train_matrix.shape"
   ]
  },
  {
   "cell_type": "code",
   "execution_count": null,
   "metadata": {},
   "outputs": [],
   "source": [
    "#X_test_matrix\n",
    "X_test_matrix = get_code_matrix(X_test)\n",
    "X_test_matrix.shape"
   ]
  },
  {
   "cell_type": "code",
   "execution_count": null,
   "metadata": {},
   "outputs": [],
   "source": [
    "np.save(os.path.join(config_folder, 'X_train_matrix' ), X_train_matrix)\n",
    "np.save(os.path.join(config_folder, 'X_test_matrix' ), X_test_matrix)"
   ]
  },
  {
   "cell_type": "markdown",
   "metadata": {},
   "source": [
    "## Merge all data from the tours"
   ]
  },
  {
   "cell_type": "code",
   "execution_count": null,
   "metadata": {},
   "outputs": [],
   "source": [
    "metadata_list = []\n",
    "index = 0\n",
    "#List museums\n",
    "for folder in os.listdir(BASE_PATH):\n",
    "    museum_path = os.path.join(BASE_PATH, folder)\n",
    "    #List tours inside the museum\n",
    "    if os.path.isdir(museum_path):\n",
    "        for tour_folder in os.listdir(museum_path):\n",
    "            #skip .ipynb checkpoint folder\n",
    "            if not tour_folder.startswith('.'):\n",
    "                tour_path = os.path.join(museum_path, tour_folder)\n",
    "                #Get metadata\n",
    "                df = pd.read_csv(os.path.join(tour_path, 'metadata.csv'))\n",
    "                df['tour_path'] = tour_path\n",
    "                metadata_list.append(df)\n",
    "\n",
    "print(len(metadata_list))\n"
   ]
  },
  {
   "cell_type": "markdown",
   "metadata": {},
   "source": [
    "**Tour length mean**"
   ]
  },
  {
   "cell_type": "code",
   "execution_count": null,
   "metadata": {},
   "outputs": [],
   "source": [
    "length_tours = []\n",
    "for df in metadata_list:\n",
    "    length_tours.append(df.shape[0])\n",
    "np.mean(length_tours)"
   ]
  },
  {
   "cell_type": "code",
   "execution_count": null,
   "metadata": {},
   "outputs": [],
   "source": [
    "PLOT_PATH = '/root/work/artwork_sequence/plots'"
   ]
  },
  {
   "cell_type": "code",
   "execution_count": null,
   "metadata": {},
   "outputs": [],
   "source": [
    "import matplotlib.pyplot as plt\n",
    "\n",
    "plot = pd.Series(length_tours).hist()\n",
    "plt.title('Tour length distribution')\n",
    "plt.xticks(np.arange(0, 61, 5))\n",
    "plt.yticks(np.arange(0, 22, 2))\n",
    "plt.xlabel('Length')\n",
    "plt.savefig(os.path.join(PLOT_PATH, 'tour_length_hist.png'))"
   ]
  },
  {
   "cell_type": "markdown",
   "metadata": {},
   "source": [
    "**Merge unique artworks**"
   ]
  },
  {
   "cell_type": "code",
   "execution_count": null,
   "metadata": {},
   "outputs": [],
   "source": [
    "all_metadata = pd.concat(metadata_list)\n",
    "all_metadata.head()"
   ]
  },
  {
   "cell_type": "code",
   "execution_count": null,
   "metadata": {},
   "outputs": [],
   "source": [
    "all_metadata.shape"
   ]
  },
  {
   "cell_type": "code",
   "execution_count": null,
   "metadata": {},
   "outputs": [],
   "source": [
    "all_metadata = all_metadata.drop_duplicates(subset=['author', 'title'])\n",
    "all_metadata.head()"
   ]
  },
  {
   "cell_type": "code",
   "execution_count": null,
   "metadata": {},
   "outputs": [],
   "source": [
    "all_metadata['tour_path'].iloc[0]"
   ]
  },
  {
   "cell_type": "code",
   "execution_count": null,
   "metadata": {},
   "outputs": [],
   "source": [
    "all_metadata.shape"
   ]
  },
  {
   "cell_type": "code",
   "execution_count": null,
   "metadata": {},
   "outputs": [],
   "source": [
    "all_metadata.to_csv(os.path.join(BASE_PATH, 'all_metadata.csv'), index=False)"
   ]
  }
 ],
 "metadata": {
  "kernelspec": {
   "display_name": "Python 3",
   "language": "python",
   "name": "python3"
  },
  "language_info": {
   "codemirror_mode": {
    "name": "ipython",
    "version": 3
   },
   "file_extension": ".py",
   "mimetype": "text/x-python",
   "name": "python",
   "nbconvert_exporter": "python",
   "pygments_lexer": "ipython3",
   "version": "3.5.2"
  }
 },
 "nbformat": 4,
 "nbformat_minor": 2
}
