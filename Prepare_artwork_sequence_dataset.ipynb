{
 "cells": [
  {
   "cell_type": "code",
   "execution_count": 1,
   "metadata": {},
   "outputs": [],
   "source": [
    "import os\n",
    "import pandas as pd\n",
    "import numpy as np"
   ]
  },
  {
   "cell_type": "code",
   "execution_count": 2,
   "metadata": {},
   "outputs": [],
   "source": [
    "BASE_PATH = '/root/work/datasets/artwork_sequence/'\n",
    "CONFIGURATION_PATH = '/root/work/artwork_sequence/'"
   ]
  },
  {
   "cell_type": "markdown",
   "metadata": {},
   "source": [
    "## Map tours to unique id"
   ]
  },
  {
   "cell_type": "code",
   "execution_count": null,
   "metadata": {},
   "outputs": [],
   "source": [
    "folders_dict = {}\n",
    "index = 0\n",
    "#List museums\n",
    "for folder in os.listdir(BASE_PATH):\n",
    "    museum_path = os.path.join(BASE_PATH, folder)\n",
    "    #List tours inside the museum\n",
    "    for tour_folder in os.listdir(museum_path):\n",
    "        #skip .ipynb checkpoint folder\n",
    "        if not tour_folder.startswith('.'):\n",
    "        \n",
    "            tour_path = os.path.join(museum_path, tour_folder)\n",
    "            folders_dict[index] = tour_path\n",
    "            index +=1\n",
    "\n",
    "print(len(folders_dict))"
   ]
  },
  {
   "cell_type": "markdown",
   "metadata": {},
   "source": [
    "**Put data into a Dataframe**"
   ]
  },
  {
   "cell_type": "code",
   "execution_count": null,
   "metadata": {},
   "outputs": [],
   "source": [
    "df_tours = pd.DataFrame.from_dict(folders_dict, orient='index', columns=['tour_path'])\n",
    "df_tours.head()"
   ]
  },
  {
   "cell_type": "markdown",
   "metadata": {},
   "source": [
    "## Train Test split data"
   ]
  },
  {
   "cell_type": "code",
   "execution_count": null,
   "metadata": {},
   "outputs": [],
   "source": [
    "from sklearn.model_selection import train_test_split"
   ]
  },
  {
   "cell_type": "code",
   "execution_count": null,
   "metadata": {},
   "outputs": [],
   "source": [
    "X = df_tours\n",
    "y = [1]*len(X)"
   ]
  },
  {
   "cell_type": "code",
   "execution_count": null,
   "metadata": {},
   "outputs": [],
   "source": [
    "X_train, X_test, y_train, y_test = train_test_split(X, y)"
   ]
  },
  {
   "cell_type": "markdown",
   "metadata": {},
   "source": [
    "**Save train test data configuration**"
   ]
  },
  {
   "cell_type": "code",
   "execution_count": null,
   "metadata": {},
   "outputs": [],
   "source": [
    "df_tours['train_test'] = 'Train'\n",
    "df_tours.loc[X_test.index, 'train_test'] = 'Test'\n",
    "df_tours.head(10)"
   ]
  },
  {
   "cell_type": "code",
   "execution_count": null,
   "metadata": {},
   "outputs": [],
   "source": [
    "config_folder = os.path.join(CONFIGURATION_PATH, 'train_test_configuration/config_0')\n",
    "if not os.path.exists(config_folder):\n",
    "    os.makedirs(config_folder)"
   ]
  },
  {
   "cell_type": "code",
   "execution_count": null,
   "metadata": {},
   "outputs": [],
   "source": [
    "df_tours.to_csv(os.path.join(config_folder, 'config.csv'), index=False)\n",
    "\n",
    "#Because the training and testing data is shuffled\n",
    "X_train.to_csv(os.path.join(config_folder, 'X_train.csv'), index=True)\n",
    "X_test.to_csv(os.path.join(config_folder, 'X_test.csv'), index=True)"
   ]
  },
  {
   "cell_type": "markdown",
   "metadata": {},
   "source": [
    "**Save train and test code matrix**"
   ]
  },
  {
   "cell_type": "code",
   "execution_count": null,
   "metadata": {},
   "outputs": [],
   "source": [
    "def get_code_matrix(X):\n",
    "    X_list = []\n",
    "    for path in X.values:\n",
    "        matrix_path = os.path.join(path[0], 'code_matrix.npy')\n",
    "        code_matrix = np.load(matrix_path)\n",
    "        X_list.append(code_matrix)\n",
    "\n",
    "    X_matrix = np.concatenate(X_list)    \n",
    "    return X_matrix"
   ]
  },
  {
   "cell_type": "code",
   "execution_count": null,
   "metadata": {},
   "outputs": [],
   "source": [
    "#X_train_matrix\n",
    "X_train_matrix = get_code_matrix(X_train)\n",
    "X_train_matrix.shape"
   ]
  },
  {
   "cell_type": "code",
   "execution_count": null,
   "metadata": {},
   "outputs": [],
   "source": [
    "#X_test_matrix\n",
    "X_test_matrix = get_code_matrix(X_test)\n",
    "X_test_matrix.shape"
   ]
  },
  {
   "cell_type": "code",
   "execution_count": null,
   "metadata": {},
   "outputs": [],
   "source": [
    "np.save(os.path.join(config_folder, 'X_train_matrix' ), X_train_matrix)\n",
    "np.save(os.path.join(config_folder, 'X_test_matrix' ), X_test_matrix)"
   ]
  },
  {
   "cell_type": "markdown",
   "metadata": {},
   "source": [
    "## Merge all data from the tours"
   ]
  },
  {
   "cell_type": "code",
   "execution_count": 3,
   "metadata": {},
   "outputs": [
    {
     "name": "stdout",
     "output_type": "stream",
     "text": [
      "52\n"
     ]
    }
   ],
   "source": [
    "metadata_list = []\n",
    "index = 0\n",
    "#List museums\n",
    "for folder in os.listdir(BASE_PATH):\n",
    "    museum_path = os.path.join(BASE_PATH, folder)\n",
    "    #List tours inside the museum\n",
    "    if os.path.isdir(museum_path):\n",
    "        for tour_folder in os.listdir(museum_path):\n",
    "            #skip .ipynb checkpoint folder\n",
    "            if not tour_folder.startswith('.'):\n",
    "                tour_path = os.path.join(museum_path, tour_folder)\n",
    "                #Get metadata\n",
    "                df = pd.read_csv(os.path.join(tour_path, 'metadata.csv'))\n",
    "                df['tour_path'] = tour_path\n",
    "                metadata_list.append(df)\n",
    "\n",
    "print(len(metadata_list))\n"
   ]
  },
  {
   "cell_type": "markdown",
   "metadata": {},
   "source": [
    "**Tour length mean**"
   ]
  },
  {
   "cell_type": "code",
   "execution_count": 4,
   "metadata": {},
   "outputs": [
    {
     "data": {
      "text/plain": [
       "16.51923076923077"
      ]
     },
     "execution_count": 4,
     "metadata": {},
     "output_type": "execute_result"
    }
   ],
   "source": [
    "length_tours = []\n",
    "for df in metadata_list:\n",
    "    length_tours.append(df.shape[0])\n",
    "np.mean(length_tours)"
   ]
  },
  {
   "cell_type": "code",
   "execution_count": 20,
   "metadata": {},
   "outputs": [],
   "source": [
    "PLOT_PATH = '/root/work/artwork_sequence/plots'"
   ]
  },
  {
   "cell_type": "code",
   "execution_count": 22,
   "metadata": {},
   "outputs": [
    {
     "data": {
      "image/png": "[encoded data removed]",
      "text/plain": [
       "<matplotlib.figure.Figure at 0x7f7f1761e780>"
      ]
     },
     "metadata": {},
     "output_type": "display_data"
    }
   ],
   "source": [
    "import matplotlib.pyplot as plt\n",
    "\n",
    "plot = pd.Series(length_tours).hist()\n",
    "plt.title('Tour length distribution')\n",
    "plt.xticks(np.arange(0, 61, 5))\n",
    "plt.yticks(np.arange(0, 22, 2))\n",
    "plt.xlabel('Length')\n",
    "plt.savefig(os.path.join(PLOT_PATH, 'tour_length_hist.png'))"
   ]
  },
  {
   "cell_type": "markdown",
   "metadata": {},
   "source": [
    "**Merge unique artworks**"
   ]
  },
  {
   "cell_type": "code",
   "execution_count": 23,
   "metadata": {},
   "outputs": [
    {
     "data": {
      "text/html": [
       "<div>\n",
       "<style scoped>\n",
       "    .dataframe tbody tr th:only-of-type {\n",
       "        vertical-align: middle;\n",
       "    }\n",
       "\n",
       "    .dataframe tbody tr th {\n",
       "        vertical-align: top;\n",
       "    }\n",
       "\n",
       "    .dataframe thead th {\n",
       "        text-align: right;\n",
       "    }\n",
       "</style>\n",
       "<table border=\"1\" class=\"dataframe\">\n",
       "  <thead>\n",
       "    <tr style=\"text-align: right;\">\n",
       "      <th></th>\n",
       "      <th>id</th>\n",
       "      <th>author</th>\n",
       "      <th>data</th>\n",
       "      <th>image_url</th>\n",
       "      <th>title</th>\n",
       "      <th>tour_path</th>\n",
       "    </tr>\n",
       "  </thead>\n",
       "  <tbody>\n",
       "    <tr>\n",
       "      <th>0</th>\n",
       "      <td>1</td>\n",
       "      <td>n.v. haagsche plateelfabriek rozenburg</td>\n",
       "      <td>1914</td>\n",
       "      <td>https://lh3.googleusercontent.com/IJn7rB4WvYvv...</td>\n",
       "      <td>vaas beschilderd met paarse seringen en op een...</td>\n",
       "      <td>/root/work/datasets/artwork_sequence/rijksmuse...</td>\n",
       "    </tr>\n",
       "    <tr>\n",
       "      <th>1</th>\n",
       "      <td>2</td>\n",
       "      <td>n.v. haagsche plateelfabriek rozenburg</td>\n",
       "      <td>1900</td>\n",
       "      <td>https://lh3.googleusercontent.com/l0ccWh5aCgP5...</td>\n",
       "      <td>vaas</td>\n",
       "      <td>/root/work/datasets/artwork_sequence/rijksmuse...</td>\n",
       "    </tr>\n",
       "    <tr>\n",
       "      <th>2</th>\n",
       "      <td>3</td>\n",
       "      <td>n.v. haagsche plateelfabriek rozenburg</td>\n",
       "      <td>1900</td>\n",
       "      <td>https://lh3.googleusercontent.com/uNQWFg-BhiPZ...</td>\n",
       "      <td>vase with lily decoration</td>\n",
       "      <td>/root/work/datasets/artwork_sequence/rijksmuse...</td>\n",
       "    </tr>\n",
       "    <tr>\n",
       "      <th>3</th>\n",
       "      <td>4</td>\n",
       "      <td>n.v. haagsche plateelfabriek rozenburg</td>\n",
       "      <td>1902</td>\n",
       "      <td>https://lh3.googleusercontent.com/QRdRjQDGyvDp...</td>\n",
       "      <td>vaas beschilderd met takken met seringen en ee...</td>\n",
       "      <td>/root/work/datasets/artwork_sequence/rijksmuse...</td>\n",
       "    </tr>\n",
       "    <tr>\n",
       "      <th>4</th>\n",
       "      <td>5</td>\n",
       "      <td>n.v. haagsche plateelfabriek rozenburg</td>\n",
       "      <td>1914</td>\n",
       "      <td>https://lh3.googleusercontent.com/aVqlVZ6B8oqc...</td>\n",
       "      <td>vaas beschilderd met paarse seringen en op een...</td>\n",
       "      <td>/root/work/datasets/artwork_sequence/rijksmuse...</td>\n",
       "    </tr>\n",
       "  </tbody>\n",
       "</table>\n",
       "</div>"
      ],
      "text/plain": [
       "   id                                  author  data  \\\n",
       "0   1  n.v. haagsche plateelfabriek rozenburg  1914   \n",
       "1   2  n.v. haagsche plateelfabriek rozenburg  1900   \n",
       "2   3  n.v. haagsche plateelfabriek rozenburg  1900   \n",
       "3   4  n.v. haagsche plateelfabriek rozenburg  1902   \n",
       "4   5  n.v. haagsche plateelfabriek rozenburg  1914   \n",
       "\n",
       "                                           image_url  \\\n",
       "0  https://lh3.googleusercontent.com/IJn7rB4WvYvv...   \n",
       "1  https://lh3.googleusercontent.com/l0ccWh5aCgP5...   \n",
       "2  https://lh3.googleusercontent.com/uNQWFg-BhiPZ...   \n",
       "3  https://lh3.googleusercontent.com/QRdRjQDGyvDp...   \n",
       "4  https://lh3.googleusercontent.com/aVqlVZ6B8oqc...   \n",
       "\n",
       "                                               title  \\\n",
       "0  vaas beschilderd met paarse seringen en op een...   \n",
       "1                                               vaas   \n",
       "2                          vase with lily decoration   \n",
       "3  vaas beschilderd met takken met seringen en ee...   \n",
       "4  vaas beschilderd met paarse seringen en op een...   \n",
       "\n",
       "                                           tour_path  \n",
       "0  /root/work/datasets/artwork_sequence/rijksmuse...  \n",
       "1  /root/work/datasets/artwork_sequence/rijksmuse...  \n",
       "2  /root/work/datasets/artwork_sequence/rijksmuse...  \n",
       "3  /root/work/datasets/artwork_sequence/rijksmuse...  \n",
       "4  /root/work/datasets/artwork_sequence/rijksmuse...  "
      ]
     },
     "execution_count": 23,
     "metadata": {},
     "output_type": "execute_result"
    }
   ],
   "source": [
    "all_metadata = pd.concat(metadata_list)\n",
    "all_metadata.head()"
   ]
  },
  {
   "cell_type": "code",
   "execution_count": 24,
   "metadata": {},
   "outputs": [
    {
     "data": {
      "text/plain": [
       "(859, 6)"
      ]
     },
     "execution_count": 24,
     "metadata": {},
     "output_type": "execute_result"
    }
   ],
   "source": [
    "all_metadata.shape"
   ]
  },
  {
   "cell_type": "code",
   "execution_count": 25,
   "metadata": {},
   "outputs": [
    {
     "data": {
      "text/html": [
       "<div>\n",
       "<style scoped>\n",
       "    .dataframe tbody tr th:only-of-type {\n",
       "        vertical-align: middle;\n",
       "    }\n",
       "\n",
       "    .dataframe tbody tr th {\n",
       "        vertical-align: top;\n",
       "    }\n",
       "\n",
       "    .dataframe thead th {\n",
       "        text-align: right;\n",
       "    }\n",
       "</style>\n",
       "<table border=\"1\" class=\"dataframe\">\n",
       "  <thead>\n",
       "    <tr style=\"text-align: right;\">\n",
       "      <th></th>\n",
       "      <th>id</th>\n",
       "      <th>author</th>\n",
       "      <th>data</th>\n",
       "      <th>image_url</th>\n",
       "      <th>title</th>\n",
       "      <th>tour_path</th>\n",
       "    </tr>\n",
       "  </thead>\n",
       "  <tbody>\n",
       "    <tr>\n",
       "      <th>0</th>\n",
       "      <td>1</td>\n",
       "      <td>n.v. haagsche plateelfabriek rozenburg</td>\n",
       "      <td>1914</td>\n",
       "      <td>https://lh3.googleusercontent.com/IJn7rB4WvYvv...</td>\n",
       "      <td>vaas beschilderd met paarse seringen en op een...</td>\n",
       "      <td>/root/work/datasets/artwork_sequence/rijksmuse...</td>\n",
       "    </tr>\n",
       "    <tr>\n",
       "      <th>1</th>\n",
       "      <td>2</td>\n",
       "      <td>n.v. haagsche plateelfabriek rozenburg</td>\n",
       "      <td>1900</td>\n",
       "      <td>https://lh3.googleusercontent.com/l0ccWh5aCgP5...</td>\n",
       "      <td>vaas</td>\n",
       "      <td>/root/work/datasets/artwork_sequence/rijksmuse...</td>\n",
       "    </tr>\n",
       "    <tr>\n",
       "      <th>2</th>\n",
       "      <td>3</td>\n",
       "      <td>n.v. haagsche plateelfabriek rozenburg</td>\n",
       "      <td>1900</td>\n",
       "      <td>https://lh3.googleusercontent.com/uNQWFg-BhiPZ...</td>\n",
       "      <td>vase with lily decoration</td>\n",
       "      <td>/root/work/datasets/artwork_sequence/rijksmuse...</td>\n",
       "    </tr>\n",
       "    <tr>\n",
       "      <th>3</th>\n",
       "      <td>4</td>\n",
       "      <td>n.v. haagsche plateelfabriek rozenburg</td>\n",
       "      <td>1902</td>\n",
       "      <td>https://lh3.googleusercontent.com/QRdRjQDGyvDp...</td>\n",
       "      <td>vaas beschilderd met takken met seringen en ee...</td>\n",
       "      <td>/root/work/datasets/artwork_sequence/rijksmuse...</td>\n",
       "    </tr>\n",
       "    <tr>\n",
       "      <th>5</th>\n",
       "      <td>6</td>\n",
       "      <td>theo colenbrander</td>\n",
       "      <td>1886</td>\n",
       "      <td>https://lh3.googleusercontent.com/TZqVQVxb-1kl...</td>\n",
       "      <td>garniture of five vases</td>\n",
       "      <td>/root/work/datasets/artwork_sequence/rijksmuse...</td>\n",
       "    </tr>\n",
       "  </tbody>\n",
       "</table>\n",
       "</div>"
      ],
      "text/plain": [
       "   id                                  author  data  \\\n",
       "0   1  n.v. haagsche plateelfabriek rozenburg  1914   \n",
       "1   2  n.v. haagsche plateelfabriek rozenburg  1900   \n",
       "2   3  n.v. haagsche plateelfabriek rozenburg  1900   \n",
       "3   4  n.v. haagsche plateelfabriek rozenburg  1902   \n",
       "5   6                       theo colenbrander  1886   \n",
       "\n",
       "                                           image_url  \\\n",
       "0  https://lh3.googleusercontent.com/IJn7rB4WvYvv...   \n",
       "1  https://lh3.googleusercontent.com/l0ccWh5aCgP5...   \n",
       "2  https://lh3.googleusercontent.com/uNQWFg-BhiPZ...   \n",
       "3  https://lh3.googleusercontent.com/QRdRjQDGyvDp...   \n",
       "5  https://lh3.googleusercontent.com/TZqVQVxb-1kl...   \n",
       "\n",
       "                                               title  \\\n",
       "0  vaas beschilderd met paarse seringen en op een...   \n",
       "1                                               vaas   \n",
       "2                          vase with lily decoration   \n",
       "3  vaas beschilderd met takken met seringen en ee...   \n",
       "5                            garniture of five vases   \n",
       "\n",
       "                                           tour_path  \n",
       "0  /root/work/datasets/artwork_sequence/rijksmuse...  \n",
       "1  /root/work/datasets/artwork_sequence/rijksmuse...  \n",
       "2  /root/work/datasets/artwork_sequence/rijksmuse...  \n",
       "3  /root/work/datasets/artwork_sequence/rijksmuse...  \n",
       "5  /root/work/datasets/artwork_sequence/rijksmuse...  "
      ]
     },
     "execution_count": 25,
     "metadata": {},
     "output_type": "execute_result"
    }
   ],
   "source": [
    "all_metadata = all_metadata.drop_duplicates(subset=['author', 'title'])\n",
    "all_metadata.head()"
   ]
  },
  {
   "cell_type": "code",
   "execution_count": 35,
   "metadata": {},
   "outputs": [
    {
     "data": {
      "text/plain": [
       "'/root/work/datasets/artwork_sequence/rijksmuseum_crawler/tour_21'"
      ]
     },
     "execution_count": 35,
     "metadata": {},
     "output_type": "execute_result"
    }
   ],
   "source": [
    "all_metadata['tour_path'].iloc[0]"
   ]
  },
  {
   "cell_type": "code",
   "execution_count": 26,
   "metadata": {},
   "outputs": [
    {
     "data": {
      "text/plain": [
       "(633, 6)"
      ]
     },
     "execution_count": 26,
     "metadata": {},
     "output_type": "execute_result"
    }
   ],
   "source": [
    "all_metadata.shape"
   ]
  },
  {
   "cell_type": "code",
   "execution_count": null,
   "metadata": {},
   "outputs": [],
   "source": [
    "all_metadata.to_csv(os.path.join(BASE_PATH, 'all_metadata.csv'), index=False)"
   ]
  }
 ],
 "metadata": {
  "kernelspec": {
   "display_name": "Python 3",
   "language": "python",
   "name": "python3"
  },
  "language_info": {
   "codemirror_mode": {
    "name": "ipython",
    "version": 3
   },
   "file_extension": ".py",
   "mimetype": "text/x-python",
   "name": "python",
   "nbconvert_exporter": "python",
   "pygments_lexer": "ipython3",
   "version": "3.5.2"
  }
 },
 "nbformat": 4,
 "nbformat_minor": 2
}
