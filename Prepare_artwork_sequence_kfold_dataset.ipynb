{
 "cells": [
  {
   "cell_type": "code",
   "execution_count": null,
   "metadata": {},
   "outputs": [],
   "source": [
    "import os\n",
    "import pandas as pd\n",
    "import numpy as np"
   ]
  },
  {
   "cell_type": "code",
   "execution_count": null,
   "metadata": {},
   "outputs": [],
   "source": [
    "BASE_PATH = '/root/work/datasets/artwork_sequence/'\n",
    "CONFIGURATION_PATH = '/root/work/artwork_sequence/'"
   ]
  },
  {
   "cell_type": "markdown",
   "metadata": {},
   "source": [
    "## Map tours to unique id"
   ]
  },
  {
   "cell_type": "code",
   "execution_count": null,
   "metadata": {},
   "outputs": [],
   "source": [
    "folders_dict = {}\n",
    "index = 0\n",
    "#List museums\n",
    "for folder in os.listdir(BASE_PATH):\n",
    "    museum_path = os.path.join(BASE_PATH, folder)\n",
    "    #List tours inside the museum\n",
    "    if os.path.isdir(museum_path):\n",
    "        for tour_folder in os.listdir(museum_path):\n",
    "            #skip .ipynb checkpoint folder\n",
    "            if (not tour_folder.startswith('.')) or (not os):\n",
    "\n",
    "                tour_path = os.path.join(museum_path, tour_folder)\n",
    "                folders_dict[index] = tour_path\n",
    "                index +=1\n",
    "\n",
    "print(len(folders_dict))"
   ]
  },
  {
   "cell_type": "markdown",
   "metadata": {},
   "source": [
    "**Put data into a Dataframe**"
   ]
  },
  {
   "cell_type": "code",
   "execution_count": null,
   "metadata": {},
   "outputs": [],
   "source": [
    "df_tours = pd.DataFrame.from_dict(folders_dict, orient='index', columns=['tour_path'])\n",
    "df_tours.head()"
   ]
  },
  {
   "cell_type": "code",
   "execution_count": null,
   "metadata": {},
   "outputs": [],
   "source": [
    "df_tours['tour_path'][0]"
   ]
  },
  {
   "cell_type": "markdown",
   "metadata": {},
   "source": [
    "## Generate K-fold validation data"
   ]
  },
  {
   "cell_type": "code",
   "execution_count": null,
   "metadata": {},
   "outputs": [],
   "source": [
    "from sklearn.model_selection import KFold"
   ]
  },
  {
   "cell_type": "code",
   "execution_count": null,
   "metadata": {},
   "outputs": [],
   "source": [
    "X = df_tours\n",
    "y = [1]*len(X)"
   ]
  },
  {
   "cell_type": "code",
   "execution_count": null,
   "metadata": {},
   "outputs": [],
   "source": [
    "kf = KFold(n_splits=10)"
   ]
  },
  {
   "cell_type": "code",
   "execution_count": null,
   "metadata": {},
   "outputs": [],
   "source": [
    "kf.get_n_splits(X)"
   ]
  },
  {
   "cell_type": "markdown",
   "metadata": {},
   "source": [
    "**Save k-fold data configuration**"
   ]
  },
  {
   "cell_type": "code",
   "execution_count": null,
   "metadata": {},
   "outputs": [],
   "source": [
    "config_folder = os.path.join(CONFIGURATION_PATH, 'kfold')\n",
    "if not os.path.exists(config_folder):\n",
    "    os.makedirs(config_folder)"
   ]
  },
  {
   "cell_type": "code",
   "execution_count": null,
   "metadata": {},
   "outputs": [],
   "source": [
    "def get_code_matrix(X):\n",
    "    X_list = []\n",
    "    for path in X.values:\n",
    "        matrix_path = os.path.join(path[0], 'code_matrix.npy')\n",
    "        code_matrix = np.load(matrix_path)\n",
    "        X_list.append(code_matrix)\n",
    "\n",
    "    X_matrix = np.concatenate(X_list)    \n",
    "    return X_matrix"
   ]
  },
  {
   "cell_type": "code",
   "execution_count": null,
   "metadata": {},
   "outputs": [],
   "source": [
    "def save_data_configuration(df, train_indexes, test_indexes, path):\n",
    "    \n",
    "    #Define train and test data\n",
    "    X_train = df.loc[train_indexes]\n",
    "    X_test = df.loc[test_indexes]\n",
    "    \n",
    "    #X_train_matrix\n",
    "    X_train_matrix = get_code_matrix(X_train)\n",
    "    X_test_matrix = get_code_matrix(X_test)\n",
    "\n",
    "    #Save data\n",
    "    X_train.to_csv(os.path.join(path, 'X_train.csv'), index=True)\n",
    "    X_test.to_csv(os.path.join(path, 'X_test.csv'), index=True)\n",
    "    \n",
    "    np.save(os.path.join(path, 'X_train_matrix' ), X_train_matrix)\n",
    "    np.save(os.path.join(path, 'X_test_matrix' ), X_test_matrix)"
   ]
  },
  {
   "cell_type": "code",
   "execution_count": null,
   "metadata": {},
   "outputs": [],
   "source": [
    "k = 0\n",
    "for train_index, test_index in kf.split(X):\n",
    "    #Create folder\n",
    "    k_folder_path = os.path.join(config_folder, 'folder_' + str(k))\n",
    "    if not os.path.exists(k_folder_path):\n",
    "        os.makedirs(k_folder_path)\n",
    "    \n",
    "    #Save data\n",
    "    save_data_configuration(X, train_index, test_index, k_folder_path)\n",
    "    k += 1 \n",
    "    "
   ]
  },
  {
   "cell_type": "markdown",
   "metadata": {},
   "source": [
    "## Test data generation"
   ]
  },
  {
   "cell_type": "code",
   "execution_count": null,
   "metadata": {},
   "outputs": [],
   "source": [
    "## Define path ##\n",
    "k_folder_path = os.path.join(config_folder, 'folder_' + str(0))"
   ]
  },
  {
   "cell_type": "code",
   "execution_count": null,
   "metadata": {},
   "outputs": [],
   "source": [
    "df_x_train = pd.read_csv(os.path.join(k_folder_path, 'X_train.csv'), index_col=0)\n",
    "df_x_test = pd.read_csv(os.path.join(k_folder_path, 'X_test.csv'), index_col=0)\n",
    "\n",
    "x_train_matrix = np.load(os.path.join(k_folder_path, 'X_train_matrix.npy'))\n",
    "x_test_matrix = np.load(os.path.join(k_folder_path, 'X_test_matrix.npy'))"
   ]
  },
  {
   "cell_type": "code",
   "execution_count": null,
   "metadata": {},
   "outputs": [],
   "source": [
    "df_x_train.head()"
   ]
  },
  {
   "cell_type": "code",
   "execution_count": null,
   "metadata": {},
   "outputs": [],
   "source": [
    "df_x_train.shape"
   ]
  },
  {
   "cell_type": "code",
   "execution_count": null,
   "metadata": {},
   "outputs": [],
   "source": [
    "x_train_matrix.shape"
   ]
  }
 ],
 "metadata": {
  "kernelspec": {
   "display_name": "Python 3",
   "language": "python",
   "name": "python3"
  },
  "language_info": {
   "codemirror_mode": {
    "name": "ipython",
    "version": 3
   },
   "file_extension": ".py",
   "mimetype": "text/x-python",
   "name": "python",
   "nbconvert_exporter": "python",
   "pygments_lexer": "ipython3",
   "version": "3.5.2"
  }
 },
 "nbformat": 4,
 "nbformat_minor": 2
}
