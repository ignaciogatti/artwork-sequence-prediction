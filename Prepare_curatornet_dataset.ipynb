{
 "cells": [
  {
   "cell_type": "code",
   "execution_count": 1,
   "metadata": {},
   "outputs": [],
   "source": [
    "import pandas as pd\n",
    "import numpy as np\n",
    "import os"
   ]
  },
  {
   "cell_type": "markdown",
   "metadata": {},
   "source": [
    "## Load data"
   ]
  },
  {
   "cell_type": "code",
   "execution_count": 2,
   "metadata": {},
   "outputs": [],
   "source": [
    "BASE_PATH = '/root/work/artwork_sequence/train_test_configuration'\n",
    "DATASET_PATH = '/root/work/datasets/'\n",
    "\n",
    "CURATORNET_DATA_PATH = os.path.join(DATASET_PATH,'curatornet_data')"
   ]
  },
  {
   "cell_type": "markdown",
   "metadata": {},
   "source": [
    "**Load purchases metadata**"
   ]
  },
  {
   "cell_type": "code",
   "execution_count": 3,
   "metadata": {},
   "outputs": [
    {
     "data": {
      "text/html": [
       "<div>\n",
       "<style scoped>\n",
       "    .dataframe tbody tr th:only-of-type {\n",
       "        vertical-align: middle;\n",
       "    }\n",
       "\n",
       "    .dataframe tbody tr th {\n",
       "        vertical-align: top;\n",
       "    }\n",
       "\n",
       "    .dataframe thead th {\n",
       "        text-align: right;\n",
       "    }\n",
       "</style>\n",
       "<table border=\"1\" class=\"dataframe\">\n",
       "  <thead>\n",
       "    <tr style=\"text-align: right;\">\n",
       "      <th></th>\n",
       "      <th>user_id_hash</th>\n",
       "      <th>purchase_timestamp</th>\n",
       "      <th>purchased_artwork_ids_hash</th>\n",
       "    </tr>\n",
       "  </thead>\n",
       "  <tbody>\n",
       "    <tr>\n",
       "      <th>0</th>\n",
       "      <td>faaecc910173fcca8b146c66db26b99f</td>\n",
       "      <td>1416</td>\n",
       "      <td>['f196009db1ba9607150abf0570e0fffe']</td>\n",
       "    </tr>\n",
       "    <tr>\n",
       "      <th>1</th>\n",
       "      <td>90d6d470c21861aaa739b2811ac0df3c</td>\n",
       "      <td>1418</td>\n",
       "      <td>['ccccb1b02d3130e435e05a4eea7d11fd']</td>\n",
       "    </tr>\n",
       "    <tr>\n",
       "      <th>2</th>\n",
       "      <td>67c7793eefa4aca1cd9a18029b26efc6</td>\n",
       "      <td>1420</td>\n",
       "      <td>['7bbc45a178aef2c041f4376ecdc26b23']</td>\n",
       "    </tr>\n",
       "    <tr>\n",
       "      <th>3</th>\n",
       "      <td>8c872e88b91f7077527d8c7bf8892fbd</td>\n",
       "      <td>1424</td>\n",
       "      <td>['5775ae42d3cef7ea7f56b800a8d7cffc']</td>\n",
       "    </tr>\n",
       "    <tr>\n",
       "      <th>4</th>\n",
       "      <td>0df5dbca3f2feb725c6a5d410d7b8617</td>\n",
       "      <td>1427</td>\n",
       "      <td>['33a6be0dba2afaae343967d2a6a80964']</td>\n",
       "    </tr>\n",
       "  </tbody>\n",
       "</table>\n",
       "</div>"
      ],
      "text/plain": [
       "                       user_id_hash  purchase_timestamp  \\\n",
       "0  faaecc910173fcca8b146c66db26b99f                1416   \n",
       "1  90d6d470c21861aaa739b2811ac0df3c                1418   \n",
       "2  67c7793eefa4aca1cd9a18029b26efc6                1420   \n",
       "3  8c872e88b91f7077527d8c7bf8892fbd                1424   \n",
       "4  0df5dbca3f2feb725c6a5d410d7b8617                1427   \n",
       "\n",
       "             purchased_artwork_ids_hash  \n",
       "0  ['f196009db1ba9607150abf0570e0fffe']  \n",
       "1  ['ccccb1b02d3130e435e05a4eea7d11fd']  \n",
       "2  ['7bbc45a178aef2c041f4376ecdc26b23']  \n",
       "3  ['5775ae42d3cef7ea7f56b800a8d7cffc']  \n",
       "4  ['33a6be0dba2afaae343967d2a6a80964']  "
      ]
     },
     "execution_count": 3,
     "metadata": {},
     "output_type": "execute_result"
    }
   ],
   "source": [
    "df_ugallety_purchases = pd.read_csv(os.path.join(CURATORNET_DATA_PATH, 'ugallery_purchases.csv'))\n",
    "df_ugallety_purchases.head()"
   ]
  },
  {
   "cell_type": "code",
   "execution_count": 4,
   "metadata": {},
   "outputs": [],
   "source": [
    "from ast import literal_eval\n",
    "\n",
    "#necessary to cast the list\n",
    "df_ugallety_purchases['purchased_artwork_ids_hash'] = df_ugallety_purchases['purchased_artwork_ids_hash'].apply(literal_eval)"
   ]
  },
  {
   "cell_type": "code",
   "execution_count": 5,
   "metadata": {},
   "outputs": [
    {
     "name": "stdout",
     "output_type": "stream",
     "text": [
      "(4897, 3)\n"
     ]
    }
   ],
   "source": [
    "print(df_ugallety_purchases.shape)"
   ]
  },
  {
   "cell_type": "code",
   "execution_count": 6,
   "metadata": {},
   "outputs": [
    {
     "name": "stdout",
     "output_type": "stream",
     "text": [
      "2919\n"
     ]
    }
   ],
   "source": [
    "print(len(df_ugallety_purchases['user_id_hash'].unique()))"
   ]
  },
  {
   "cell_type": "code",
   "execution_count": 7,
   "metadata": {},
   "outputs": [
    {
     "data": {
      "text/plain": [
       "dtype('int64')"
      ]
     },
     "execution_count": 7,
     "metadata": {},
     "output_type": "execute_result"
    }
   ],
   "source": [
    "df_ugallety_purchases['purchase_timestamp'].dtype"
   ]
  },
  {
   "cell_type": "code",
   "execution_count": 8,
   "metadata": {},
   "outputs": [
    {
     "data": {
      "text/plain": [
       "dtype('O')"
      ]
     },
     "execution_count": 8,
     "metadata": {},
     "output_type": "execute_result"
    }
   ],
   "source": [
    "df_ugallety_purchases['purchased_artwork_ids_hash'].dtype"
   ]
  },
  {
   "cell_type": "code",
   "execution_count": 9,
   "metadata": {},
   "outputs": [
    {
     "data": {
      "text/plain": [
       "['f196009db1ba9607150abf0570e0fffe']"
      ]
     },
     "execution_count": 9,
     "metadata": {},
     "output_type": "execute_result"
    }
   ],
   "source": [
    "df_ugallety_purchases['purchased_artwork_ids_hash'][0]"
   ]
  },
  {
   "cell_type": "markdown",
   "metadata": {},
   "source": [
    "### Load inventory"
   ]
  },
  {
   "cell_type": "markdown",
   "metadata": {},
   "source": [
    "**Load inventory metadata**"
   ]
  },
  {
   "cell_type": "code",
   "execution_count": 10,
   "metadata": {},
   "outputs": [
    {
     "data": {
      "text/html": [
       "<div>\n",
       "<style scoped>\n",
       "    .dataframe tbody tr th:only-of-type {\n",
       "        vertical-align: middle;\n",
       "    }\n",
       "\n",
       "    .dataframe tbody tr th {\n",
       "        vertical-align: top;\n",
       "    }\n",
       "\n",
       "    .dataframe thead th {\n",
       "        text-align: right;\n",
       "    }\n",
       "</style>\n",
       "<table border=\"1\" class=\"dataframe\">\n",
       "  <thead>\n",
       "    <tr style=\"text-align: right;\">\n",
       "      <th></th>\n",
       "      <th>artwork_id_hash</th>\n",
       "      <th>artist_id_hash</th>\n",
       "      <th>upload_timestamp</th>\n",
       "    </tr>\n",
       "  </thead>\n",
       "  <tbody>\n",
       "    <tr>\n",
       "      <th>0</th>\n",
       "      <td>9338d925a4f391d049f1cb55be83206d</td>\n",
       "      <td>ac648ab20e0c330dcfaa912644abcc2f</td>\n",
       "      <td>0</td>\n",
       "    </tr>\n",
       "    <tr>\n",
       "      <th>1</th>\n",
       "      <td>6ff620bdd4b7143ef7ef9a43ae35379f</td>\n",
       "      <td>dfc6c382d6584b22b5ba75c62cdb0c56</td>\n",
       "      <td>0</td>\n",
       "    </tr>\n",
       "    <tr>\n",
       "      <th>2</th>\n",
       "      <td>ec4708be07b9b92dfd3c98b92d5b273e</td>\n",
       "      <td>e836b4d62ec611a38ce9dd6e394a65e1</td>\n",
       "      <td>1</td>\n",
       "    </tr>\n",
       "    <tr>\n",
       "      <th>3</th>\n",
       "      <td>bb8fe17afcd2b8a8700155b79980a7d9</td>\n",
       "      <td>942050a4fd56327fb69ecb8b81948ded</td>\n",
       "      <td>2</td>\n",
       "    </tr>\n",
       "    <tr>\n",
       "      <th>4</th>\n",
       "      <td>6e4d56f3158cb58ec8879a89c822a2fa</td>\n",
       "      <td>6db6ff91c3f32433405a103ff4748703</td>\n",
       "      <td>2</td>\n",
       "    </tr>\n",
       "  </tbody>\n",
       "</table>\n",
       "</div>"
      ],
      "text/plain": [
       "                    artwork_id_hash                    artist_id_hash  \\\n",
       "0  9338d925a4f391d049f1cb55be83206d  ac648ab20e0c330dcfaa912644abcc2f   \n",
       "1  6ff620bdd4b7143ef7ef9a43ae35379f  dfc6c382d6584b22b5ba75c62cdb0c56   \n",
       "2  ec4708be07b9b92dfd3c98b92d5b273e  e836b4d62ec611a38ce9dd6e394a65e1   \n",
       "3  bb8fe17afcd2b8a8700155b79980a7d9  942050a4fd56327fb69ecb8b81948ded   \n",
       "4  6e4d56f3158cb58ec8879a89c822a2fa  6db6ff91c3f32433405a103ff4748703   \n",
       "\n",
       "   upload_timestamp  \n",
       "0                 0  \n",
       "1                 0  \n",
       "2                 1  \n",
       "3                 2  \n",
       "4                 2  "
      ]
     },
     "execution_count": 10,
     "metadata": {},
     "output_type": "execute_result"
    }
   ],
   "source": [
    "df_ugallety_inventory = pd.read_csv(os.path.join(CURATORNET_DATA_PATH, 'ugallery_inventory.csv'))\n",
    "df_ugallety_inventory.head()"
   ]
  },
  {
   "cell_type": "code",
   "execution_count": 11,
   "metadata": {},
   "outputs": [
    {
     "name": "stdout",
     "output_type": "stream",
     "text": [
      "(7742, 3)\n"
     ]
    }
   ],
   "source": [
    "print(df_ugallety_inventory.shape)"
   ]
  },
  {
   "cell_type": "markdown",
   "metadata": {},
   "source": [
    "**Load inventory embeddings matrix**"
   ]
  },
  {
   "cell_type": "code",
   "execution_count": 12,
   "metadata": {},
   "outputs": [
    {
     "data": {
      "text/plain": [
       "(13297, 2)"
      ]
     },
     "execution_count": 12,
     "metadata": {},
     "output_type": "execute_result"
    }
   ],
   "source": [
    "artwork_embeddings_matrix = np.load(os.path.join(CURATORNET_DATA_PATH, 'ugallery_resnet50_embeddings.npy'), allow_pickle=True)\n",
    "artwork_embeddings_matrix.shape"
   ]
  },
  {
   "cell_type": "code",
   "execution_count": 13,
   "metadata": {},
   "outputs": [
    {
     "data": {
      "text/plain": [
       "(2048,)"
      ]
     },
     "execution_count": 13,
     "metadata": {},
     "output_type": "execute_result"
    }
   ],
   "source": [
    "artwork_embeddings_matrix[0][1].shape"
   ]
  },
  {
   "cell_type": "markdown",
   "metadata": {},
   "source": [
    "**Put inventory embeddings into a Dataframe**"
   ]
  },
  {
   "cell_type": "code",
   "execution_count": 14,
   "metadata": {},
   "outputs": [
    {
     "data": {
      "text/html": [
       "<div>\n",
       "<style scoped>\n",
       "    .dataframe tbody tr th:only-of-type {\n",
       "        vertical-align: middle;\n",
       "    }\n",
       "\n",
       "    .dataframe tbody tr th {\n",
       "        vertical-align: top;\n",
       "    }\n",
       "\n",
       "    .dataframe thead th {\n",
       "        text-align: right;\n",
       "    }\n",
       "</style>\n",
       "<table border=\"1\" class=\"dataframe\">\n",
       "  <thead>\n",
       "    <tr style=\"text-align: right;\">\n",
       "      <th></th>\n",
       "      <th>artwork_id_hash</th>\n",
       "      <th>embedding</th>\n",
       "    </tr>\n",
       "  </thead>\n",
       "  <tbody>\n",
       "    <tr>\n",
       "      <th>0</th>\n",
       "      <td>c387b61cb93fb3582a4142462c1def76</td>\n",
       "      <td>[0.1990714818239212, 0.006244166754186153, 0.0...</td>\n",
       "    </tr>\n",
       "    <tr>\n",
       "      <th>1</th>\n",
       "      <td>0564f934173235e66f4b0a7c67676b07</td>\n",
       "      <td>[0.03063206374645233, 1.3171874284744263, 0.04...</td>\n",
       "    </tr>\n",
       "    <tr>\n",
       "      <th>2</th>\n",
       "      <td>33bab6152af45e0c885e3f7e63376402</td>\n",
       "      <td>[0.008715911768376827, 0.25640636682510376, 0....</td>\n",
       "    </tr>\n",
       "    <tr>\n",
       "      <th>3</th>\n",
       "      <td>06464f49577d4df1937b4ef4e6c98806</td>\n",
       "      <td>[1.179708480834961, 0.0721529871225357, 0.0287...</td>\n",
       "    </tr>\n",
       "    <tr>\n",
       "      <th>4</th>\n",
       "      <td>490730a98a83f150a6fd967993762eb3</td>\n",
       "      <td>[0.1705358475446701, 0.0, 0.0, 0.0654701590538...</td>\n",
       "    </tr>\n",
       "  </tbody>\n",
       "</table>\n",
       "</div>"
      ],
      "text/plain": [
       "                    artwork_id_hash  \\\n",
       "0  c387b61cb93fb3582a4142462c1def76   \n",
       "1  0564f934173235e66f4b0a7c67676b07   \n",
       "2  33bab6152af45e0c885e3f7e63376402   \n",
       "3  06464f49577d4df1937b4ef4e6c98806   \n",
       "4  490730a98a83f150a6fd967993762eb3   \n",
       "\n",
       "                                           embedding  \n",
       "0  [0.1990714818239212, 0.006244166754186153, 0.0...  \n",
       "1  [0.03063206374645233, 1.3171874284744263, 0.04...  \n",
       "2  [0.008715911768376827, 0.25640636682510376, 0....  \n",
       "3  [1.179708480834961, 0.0721529871225357, 0.0287...  \n",
       "4  [0.1705358475446701, 0.0, 0.0, 0.0654701590538...  "
      ]
     },
     "execution_count": 14,
     "metadata": {},
     "output_type": "execute_result"
    }
   ],
   "source": [
    "df_artwork_embeddings = pd.DataFrame({'artwork_id_hash':[], 'embedding':[]})\n",
    "df_artwork_embeddings\n",
    "\n",
    "for i in range(len(artwork_embeddings_matrix)):\n",
    "    df_artwork_embeddings = df_artwork_embeddings.append({\n",
    "        'artwork_id_hash': artwork_embeddings_matrix[i][0],\n",
    "        'embedding': artwork_embeddings_matrix[i][1]\n",
    "    },\n",
    "    ignore_index=True)\n",
    "    \n",
    "df_artwork_embeddings.head()"
   ]
  },
  {
   "cell_type": "markdown",
   "metadata": {},
   "source": [
    "**Find embeddings for artwoks in the inventory**"
   ]
  },
  {
   "cell_type": "code",
   "execution_count": 15,
   "metadata": {},
   "outputs": [
    {
     "data": {
      "text/html": [
       "<div>\n",
       "<style scoped>\n",
       "    .dataframe tbody tr th:only-of-type {\n",
       "        vertical-align: middle;\n",
       "    }\n",
       "\n",
       "    .dataframe tbody tr th {\n",
       "        vertical-align: top;\n",
       "    }\n",
       "\n",
       "    .dataframe thead th {\n",
       "        text-align: right;\n",
       "    }\n",
       "</style>\n",
       "<table border=\"1\" class=\"dataframe\">\n",
       "  <thead>\n",
       "    <tr style=\"text-align: right;\">\n",
       "      <th></th>\n",
       "      <th>artwork_id_hash</th>\n",
       "      <th>embedding</th>\n",
       "    </tr>\n",
       "  </thead>\n",
       "  <tbody>\n",
       "    <tr>\n",
       "      <th>0</th>\n",
       "      <td>c387b61cb93fb3582a4142462c1def76</td>\n",
       "      <td>[0.1990714818239212, 0.006244166754186153, 0.0...</td>\n",
       "    </tr>\n",
       "    <tr>\n",
       "      <th>1</th>\n",
       "      <td>0564f934173235e66f4b0a7c67676b07</td>\n",
       "      <td>[0.03063206374645233, 1.3171874284744263, 0.04...</td>\n",
       "    </tr>\n",
       "    <tr>\n",
       "      <th>3</th>\n",
       "      <td>06464f49577d4df1937b4ef4e6c98806</td>\n",
       "      <td>[1.179708480834961, 0.0721529871225357, 0.0287...</td>\n",
       "    </tr>\n",
       "    <tr>\n",
       "      <th>4</th>\n",
       "      <td>490730a98a83f150a6fd967993762eb3</td>\n",
       "      <td>[0.1705358475446701, 0.0, 0.0, 0.0654701590538...</td>\n",
       "    </tr>\n",
       "    <tr>\n",
       "      <th>7</th>\n",
       "      <td>6c400d5c59a663a9d6ed9ae0eb236f68</td>\n",
       "      <td>[0.21649250388145447, 0.18539881706237793, 0.0...</td>\n",
       "    </tr>\n",
       "  </tbody>\n",
       "</table>\n",
       "</div>"
      ],
      "text/plain": [
       "                    artwork_id_hash  \\\n",
       "0  c387b61cb93fb3582a4142462c1def76   \n",
       "1  0564f934173235e66f4b0a7c67676b07   \n",
       "3  06464f49577d4df1937b4ef4e6c98806   \n",
       "4  490730a98a83f150a6fd967993762eb3   \n",
       "7  6c400d5c59a663a9d6ed9ae0eb236f68   \n",
       "\n",
       "                                           embedding  \n",
       "0  [0.1990714818239212, 0.006244166754186153, 0.0...  \n",
       "1  [0.03063206374645233, 1.3171874284744263, 0.04...  \n",
       "3  [1.179708480834961, 0.0721529871225357, 0.0287...  \n",
       "4  [0.1705358475446701, 0.0, 0.0, 0.0654701590538...  \n",
       "7  [0.21649250388145447, 0.18539881706237793, 0.0...  "
      ]
     },
     "execution_count": 15,
     "metadata": {},
     "output_type": "execute_result"
    }
   ],
   "source": [
    "df_embeddings_inventory = df_artwork_embeddings[df_artwork_embeddings['artwork_id_hash'].isin(df_ugallety_inventory['artwork_id_hash'])]\n",
    "df_embeddings_inventory.head()"
   ]
  },
  {
   "cell_type": "code",
   "execution_count": 16,
   "metadata": {},
   "outputs": [
    {
     "data": {
      "text/plain": [
       "(7742, 2)"
      ]
     },
     "execution_count": 16,
     "metadata": {},
     "output_type": "execute_result"
    }
   ],
   "source": [
    "df_embeddings_inventory.shape"
   ]
  },
  {
   "cell_type": "markdown",
   "metadata": {},
   "source": [
    "## AVA dataset"
   ]
  },
  {
   "cell_type": "code",
   "execution_count": 17,
   "metadata": {},
   "outputs": [],
   "source": [
    "import numpy as np\n",
    "import matplotlib.pyplot as plt\n",
    "import seaborn as sns"
   ]
  },
  {
   "cell_type": "markdown",
   "metadata": {},
   "source": [
    "**Basic information**"
   ]
  },
  {
   "cell_type": "code",
   "execution_count": 18,
   "metadata": {},
   "outputs": [
    {
     "data": {
      "text/plain": [
       "<matplotlib.axes._subplots.AxesSubplot at 0x7f1ff188f1d0>"
      ]
     },
     "execution_count": 18,
     "metadata": {},
     "output_type": "execute_result"
    },
    {
     "data": {
      "image/png": "[encoded data removed]",
      "text/plain": [
       "<Figure size 432x288 with 1 Axes>"
      ]
     },
     "metadata": {},
     "output_type": "display_data"
    }
   ],
   "source": [
    "inventory = len(df_ugallety_inventory['artwork_id_hash'].unique())\n",
    "embeddings = len(df_artwork_embeddings['artwork_id_hash'].unique())\n",
    "users = len(df_ugallety_purchases['user_id_hash'].unique())\n",
    "\n",
    "sns.barplot(x=['inventory', 'embeddings', 'users'],y=[inventory,embeddings, users])"
   ]
  },
  {
   "cell_type": "markdown",
   "metadata": {},
   "source": [
    "**Purchase's distribution per user**"
   ]
  },
  {
   "cell_type": "code",
   "execution_count": 19,
   "metadata": {},
   "outputs": [
    {
     "data": {
      "text/plain": [
       "user_id_hash\n",
       "000175ea2475cf82bbd483aea9d66a5c     1\n",
       "000d30d70c64dda2c97c78769844843d     3\n",
       "0024f0ac16006eb8314f60230156f3f9     1\n",
       "0026cfda7eec74c9087bf1fc96a21ad4     6\n",
       "002dc725ee583da01a00c4031552064c    21\n",
       "Name: purchases, dtype: int64"
      ]
     },
     "execution_count": 19,
     "metadata": {},
     "output_type": "execute_result"
    }
   ],
   "source": [
    "purchases_per_user = df_ugallety_purchases.groupby('user_id_hash').count()['purchased_artwork_ids_hash']\n",
    "purchases_per_user = purchases_per_user.rename('purchases')\n",
    "purchases_per_user.head()"
   ]
  },
  {
   "cell_type": "code",
   "execution_count": 20,
   "metadata": {},
   "outputs": [
    {
     "data": {
      "text/plain": [
       "<matplotlib.axes._subplots.AxesSubplot at 0x7f1fef8094e0>"
      ]
     },
     "execution_count": 20,
     "metadata": {},
     "output_type": "execute_result"
    },
    {
     "data": {
      "image/png": "[encoded data removed]",
      "text/plain": [
       "<Figure size 432x288 with 1 Axes>"
      ]
     },
     "metadata": {},
     "output_type": "display_data"
    }
   ],
   "source": [
    "sns.distplot(purchases_per_user)"
   ]
  },
  {
   "cell_type": "code",
   "execution_count": 21,
   "metadata": {},
   "outputs": [
    {
     "data": {
      "text/plain": [
       "<matplotlib.axes._subplots.AxesSubplot at 0x7f1fef728978>"
      ]
     },
     "execution_count": 21,
     "metadata": {},
     "output_type": "execute_result"
    },
    {
     "data": {
      "image/png": "[encoded data removed]",
      "text/plain": [
       "<Figure size 432x288 with 1 Axes>"
      ]
     },
     "metadata": {},
     "output_type": "display_data"
    }
   ],
   "source": [
    "sns.distplot(purchases_per_user[(1<purchases_per_user) & (purchases_per_user<15)])"
   ]
  },
  {
   "cell_type": "markdown",
   "metadata": {},
   "source": [
    "## Find user sequence"
   ]
  },
  {
   "cell_type": "markdown",
   "metadata": {},
   "source": [
    "**Take purchase sequence with, at least, 3 purchases**"
   ]
  },
  {
   "cell_type": "code",
   "execution_count": 22,
   "metadata": {},
   "outputs": [
    {
     "data": {
      "text/plain": [
       "user_id_hash\n",
       "000d30d70c64dda2c97c78769844843d     3\n",
       "0026cfda7eec74c9087bf1fc96a21ad4     6\n",
       "002dc725ee583da01a00c4031552064c    21\n",
       "00a117bf90fa4cce171cdaf3f82990ab     4\n",
       "00b46c48bb90dae8fcff3d6779f45644     5\n",
       "Name: purchases, dtype: int64"
      ]
     },
     "execution_count": 22,
     "metadata": {},
     "output_type": "execute_result"
    }
   ],
   "source": [
    "purchases_per_user_greater_than = purchases_per_user[(2<purchases_per_user)]\n",
    "purchases_per_user_greater_than.head()"
   ]
  },
  {
   "cell_type": "code",
   "execution_count": 23,
   "metadata": {},
   "outputs": [
    {
     "data": {
      "text/html": [
       "<div>\n",
       "<style scoped>\n",
       "    .dataframe tbody tr th:only-of-type {\n",
       "        vertical-align: middle;\n",
       "    }\n",
       "\n",
       "    .dataframe tbody tr th {\n",
       "        vertical-align: top;\n",
       "    }\n",
       "\n",
       "    .dataframe thead th {\n",
       "        text-align: right;\n",
       "    }\n",
       "</style>\n",
       "<table border=\"1\" class=\"dataframe\">\n",
       "  <thead>\n",
       "    <tr style=\"text-align: right;\">\n",
       "      <th></th>\n",
       "      <th>user_id_hash</th>\n",
       "      <th>purchase_timestamp</th>\n",
       "      <th>purchased_artwork_ids_hash</th>\n",
       "    </tr>\n",
       "  </thead>\n",
       "  <tbody>\n",
       "    <tr>\n",
       "      <th>4</th>\n",
       "      <td>0df5dbca3f2feb725c6a5d410d7b8617</td>\n",
       "      <td>1427</td>\n",
       "      <td>[33a6be0dba2afaae343967d2a6a80964]</td>\n",
       "    </tr>\n",
       "    <tr>\n",
       "      <th>5</th>\n",
       "      <td>e1e1a69aa5871973082028492101f119</td>\n",
       "      <td>1428</td>\n",
       "      <td>[b6fc99a3b0e095c4527950607d09c5a4]</td>\n",
       "    </tr>\n",
       "    <tr>\n",
       "      <th>6</th>\n",
       "      <td>bc3fa64cc02d8f346493cfefa069158e</td>\n",
       "      <td>1429</td>\n",
       "      <td>[96e2f95e86c78832f8c583ea3af06bd1]</td>\n",
       "    </tr>\n",
       "    <tr>\n",
       "      <th>10</th>\n",
       "      <td>7ad6745f3bbd4381a711599703623c88</td>\n",
       "      <td>1439</td>\n",
       "      <td>[b512e5ecc5cc4616731ce60e00bb731e]</td>\n",
       "    </tr>\n",
       "    <tr>\n",
       "      <th>13</th>\n",
       "      <td>97b4a760b728bcc465e3d7456b0c6a9a</td>\n",
       "      <td>1448</td>\n",
       "      <td>[20d0fe19c82d11417c5e9900a2987710]</td>\n",
       "    </tr>\n",
       "  </tbody>\n",
       "</table>\n",
       "</div>"
      ],
      "text/plain": [
       "                        user_id_hash  purchase_timestamp  \\\n",
       "4   0df5dbca3f2feb725c6a5d410d7b8617                1427   \n",
       "5   e1e1a69aa5871973082028492101f119                1428   \n",
       "6   bc3fa64cc02d8f346493cfefa069158e                1429   \n",
       "10  7ad6745f3bbd4381a711599703623c88                1439   \n",
       "13  97b4a760b728bcc465e3d7456b0c6a9a                1448   \n",
       "\n",
       "            purchased_artwork_ids_hash  \n",
       "4   [33a6be0dba2afaae343967d2a6a80964]  \n",
       "5   [b6fc99a3b0e095c4527950607d09c5a4]  \n",
       "6   [96e2f95e86c78832f8c583ea3af06bd1]  \n",
       "10  [b512e5ecc5cc4616731ce60e00bb731e]  \n",
       "13  [20d0fe19c82d11417c5e9900a2987710]  "
      ]
     },
     "execution_count": 23,
     "metadata": {},
     "output_type": "execute_result"
    }
   ],
   "source": [
    "df_ugallety_purchases_greather_than = df_ugallety_purchases[df_ugallety_purchases['user_id_hash'].isin(purchases_per_user_greater_than.index)]\n",
    "df_ugallety_purchases_greather_than.head()"
   ]
  },
  {
   "cell_type": "markdown",
   "metadata": {},
   "source": [
    "## Define dataset"
   ]
  },
  {
   "cell_type": "markdown",
   "metadata": {},
   "source": [
    "**Helper functions**"
   ]
  },
  {
   "cell_type": "code",
   "execution_count": 24,
   "metadata": {},
   "outputs": [],
   "source": [
    "def get_dataframe():\n",
    "    return pd.DataFrame(\n",
    "    {\n",
    "        'user_id_hash':[],\n",
    "        'purchase_timestamp':[],\n",
    "        'purchased_artwork_ids_hash':[]\n",
    "    \n",
    "    })"
   ]
  },
  {
   "cell_type": "code",
   "execution_count": 25,
   "metadata": {},
   "outputs": [],
   "source": [
    "def split_into_multiple_columns(df_timeline_purchase):\n",
    "    \n",
    "    #Dataframe to return\n",
    "    df_timeline_purchase_single_value = pd.DataFrame(\n",
    "    {\n",
    "        'user_id_hash':[],\n",
    "        'purchase_timestamp':[],\n",
    "        'purchased_artwork_id_hash':[]\n",
    "    \n",
    "    })\n",
    "    \n",
    "    #Iterate over each row\n",
    "    for index, row in df_timeline_purchase.iterrows():\n",
    "        #Split purchases\n",
    "        for i in range(len(row['purchased_artwork_ids_hash'])):\n",
    "            df_timeline_purchase_single_value = df_timeline_purchase_single_value.append({\n",
    "                'user_id_hash': row['user_id_hash'],\n",
    "                'purchase_timestamp': row['purchase_timestamp'],\n",
    "                'purchased_artwork_id_hash':row['purchased_artwork_ids_hash'][i]\n",
    "            },\n",
    "            ignore_index=True)\n",
    "    \n",
    "    return df_timeline_purchase_single_value\n"
   ]
  },
  {
   "cell_type": "code",
   "execution_count": 26,
   "metadata": {},
   "outputs": [],
   "source": [
    "def get_embedding(x, df_embeddings_inventory):\n",
    "\n",
    "    emb = df_embeddings_inventory[df_embeddings_inventory['artwork_id_hash'] == x]['embedding']\n",
    "    return emb.values[0]"
   ]
  },
  {
   "cell_type": "markdown",
   "metadata": {},
   "source": [
    "### Last purchase dataset"
   ]
  },
  {
   "cell_type": "markdown",
   "metadata": {},
   "source": [
    "**Generate sequence dataset**"
   ]
  },
  {
   "cell_type": "code",
   "execution_count": 27,
   "metadata": {},
   "outputs": [],
   "source": [
    "#Split into train and test\n",
    "df_timeline_purchase_train = get_dataframe()\n",
    "df_timeline_purchase_test = get_dataframe()\n",
    "\n",
    "#Group purchases by user id\n",
    "purchased_grouped = df_ugallety_purchases_greather_than.groupby('user_id_hash')\n",
    "\n",
    "for user_id, df in purchased_grouped:\n",
    "    #sort by purchase timestamp\n",
    "    df_sorted = df.sort_values('purchase_timestamp', axis=0)\n",
    "    \n",
    "    #concat results\n",
    "    df_timeline_purchase_train = pd.concat([df_timeline_purchase_train, df_sorted.iloc[:-1]], sort=True)\n",
    "    \n",
    "    df_timeline_purchase_test = df_timeline_purchase_test.append(df_sorted.iloc[-1], ignore_index=True, sort=True)"
   ]
  },
  {
   "cell_type": "code",
   "execution_count": 28,
   "metadata": {},
   "outputs": [
    {
     "data": {
      "text/html": [
       "<div>\n",
       "<style scoped>\n",
       "    .dataframe tbody tr th:only-of-type {\n",
       "        vertical-align: middle;\n",
       "    }\n",
       "\n",
       "    .dataframe tbody tr th {\n",
       "        vertical-align: top;\n",
       "    }\n",
       "\n",
       "    .dataframe thead th {\n",
       "        text-align: right;\n",
       "    }\n",
       "</style>\n",
       "<table border=\"1\" class=\"dataframe\">\n",
       "  <thead>\n",
       "    <tr style=\"text-align: right;\">\n",
       "      <th></th>\n",
       "      <th>purchase_timestamp</th>\n",
       "      <th>purchased_artwork_ids_hash</th>\n",
       "      <th>user_id_hash</th>\n",
       "    </tr>\n",
       "  </thead>\n",
       "  <tbody>\n",
       "    <tr>\n",
       "      <th>721</th>\n",
       "      <td>3179.0</td>\n",
       "      <td>[46cc289e8e526da4537bb323174ea634, b69c9c3a4a5...</td>\n",
       "      <td>000d30d70c64dda2c97c78769844843d</td>\n",
       "    </tr>\n",
       "    <tr>\n",
       "      <th>852</th>\n",
       "      <td>3471.0</td>\n",
       "      <td>[a215668a82da104a936dd54d98048424]</td>\n",
       "      <td>000d30d70c64dda2c97c78769844843d</td>\n",
       "    </tr>\n",
       "    <tr>\n",
       "      <th>1269</th>\n",
       "      <td>4332.0</td>\n",
       "      <td>[ec9865933f6e7dd4957186cd6d25f592]</td>\n",
       "      <td>0026cfda7eec74c9087bf1fc96a21ad4</td>\n",
       "    </tr>\n",
       "    <tr>\n",
       "      <th>1299</th>\n",
       "      <td>4399.0</td>\n",
       "      <td>[87a4e4fb1f97fd93cf1c1170f463a8ee]</td>\n",
       "      <td>0026cfda7eec74c9087bf1fc96a21ad4</td>\n",
       "    </tr>\n",
       "    <tr>\n",
       "      <th>1325</th>\n",
       "      <td>4446.0</td>\n",
       "      <td>[90054fca370e406c9654e507dc5e1688]</td>\n",
       "      <td>0026cfda7eec74c9087bf1fc96a21ad4</td>\n",
       "    </tr>\n",
       "  </tbody>\n",
       "</table>\n",
       "</div>"
      ],
      "text/plain": [
       "      purchase_timestamp                         purchased_artwork_ids_hash  \\\n",
       "721               3179.0  [46cc289e8e526da4537bb323174ea634, b69c9c3a4a5...   \n",
       "852               3471.0                 [a215668a82da104a936dd54d98048424]   \n",
       "1269              4332.0                 [ec9865933f6e7dd4957186cd6d25f592]   \n",
       "1299              4399.0                 [87a4e4fb1f97fd93cf1c1170f463a8ee]   \n",
       "1325              4446.0                 [90054fca370e406c9654e507dc5e1688]   \n",
       "\n",
       "                          user_id_hash  \n",
       "721   000d30d70c64dda2c97c78769844843d  \n",
       "852   000d30d70c64dda2c97c78769844843d  \n",
       "1269  0026cfda7eec74c9087bf1fc96a21ad4  \n",
       "1299  0026cfda7eec74c9087bf1fc96a21ad4  \n",
       "1325  0026cfda7eec74c9087bf1fc96a21ad4  "
      ]
     },
     "execution_count": 28,
     "metadata": {},
     "output_type": "execute_result"
    }
   ],
   "source": [
    "df_timeline_purchase_train.head()"
   ]
  },
  {
   "cell_type": "code",
   "execution_count": 29,
   "metadata": {},
   "outputs": [
    {
     "data": {
      "text/html": [
       "<div>\n",
       "<style scoped>\n",
       "    .dataframe tbody tr th:only-of-type {\n",
       "        vertical-align: middle;\n",
       "    }\n",
       "\n",
       "    .dataframe tbody tr th {\n",
       "        vertical-align: top;\n",
       "    }\n",
       "\n",
       "    .dataframe thead th {\n",
       "        text-align: right;\n",
       "    }\n",
       "</style>\n",
       "<table border=\"1\" class=\"dataframe\">\n",
       "  <thead>\n",
       "    <tr style=\"text-align: right;\">\n",
       "      <th></th>\n",
       "      <th>purchase_timestamp</th>\n",
       "      <th>purchased_artwork_ids_hash</th>\n",
       "      <th>user_id_hash</th>\n",
       "    </tr>\n",
       "  </thead>\n",
       "  <tbody>\n",
       "    <tr>\n",
       "      <th>0</th>\n",
       "      <td>3474.0</td>\n",
       "      <td>[f6128fa6760b35b479edc6e7b7f48bee]</td>\n",
       "      <td>000d30d70c64dda2c97c78769844843d</td>\n",
       "    </tr>\n",
       "    <tr>\n",
       "      <th>1</th>\n",
       "      <td>9005.0</td>\n",
       "      <td>[505bc35f0cce5292a09e606768e09da1]</td>\n",
       "      <td>0026cfda7eec74c9087bf1fc96a21ad4</td>\n",
       "    </tr>\n",
       "    <tr>\n",
       "      <th>2</th>\n",
       "      <td>7059.0</td>\n",
       "      <td>[7869559edaa438c628d9f9da66260007]</td>\n",
       "      <td>002dc725ee583da01a00c4031552064c</td>\n",
       "    </tr>\n",
       "    <tr>\n",
       "      <th>3</th>\n",
       "      <td>12468.0</td>\n",
       "      <td>[5d51971d5dbcff63b8b2371d5f52e65c]</td>\n",
       "      <td>00a117bf90fa4cce171cdaf3f82990ab</td>\n",
       "    </tr>\n",
       "    <tr>\n",
       "      <th>4</th>\n",
       "      <td>9108.0</td>\n",
       "      <td>[feeea5252425a5bdafff5389b9ac5850]</td>\n",
       "      <td>00b46c48bb90dae8fcff3d6779f45644</td>\n",
       "    </tr>\n",
       "  </tbody>\n",
       "</table>\n",
       "</div>"
      ],
      "text/plain": [
       "   purchase_timestamp          purchased_artwork_ids_hash  \\\n",
       "0              3474.0  [f6128fa6760b35b479edc6e7b7f48bee]   \n",
       "1              9005.0  [505bc35f0cce5292a09e606768e09da1]   \n",
       "2              7059.0  [7869559edaa438c628d9f9da66260007]   \n",
       "3             12468.0  [5d51971d5dbcff63b8b2371d5f52e65c]   \n",
       "4              9108.0  [feeea5252425a5bdafff5389b9ac5850]   \n",
       "\n",
       "                       user_id_hash  \n",
       "0  000d30d70c64dda2c97c78769844843d  \n",
       "1  0026cfda7eec74c9087bf1fc96a21ad4  \n",
       "2  002dc725ee583da01a00c4031552064c  \n",
       "3  00a117bf90fa4cce171cdaf3f82990ab  \n",
       "4  00b46c48bb90dae8fcff3d6779f45644  "
      ]
     },
     "execution_count": 29,
     "metadata": {},
     "output_type": "execute_result"
    }
   ],
   "source": [
    "df_timeline_purchase_test.head()"
   ]
  },
  {
   "cell_type": "markdown",
   "metadata": {},
   "source": [
    "**Split purchased artworks into multiple columns**"
   ]
  },
  {
   "cell_type": "code",
   "execution_count": 30,
   "metadata": {},
   "outputs": [
    {
     "data": {
      "text/html": [
       "<div>\n",
       "<style scoped>\n",
       "    .dataframe tbody tr th:only-of-type {\n",
       "        vertical-align: middle;\n",
       "    }\n",
       "\n",
       "    .dataframe tbody tr th {\n",
       "        vertical-align: top;\n",
       "    }\n",
       "\n",
       "    .dataframe thead th {\n",
       "        text-align: right;\n",
       "    }\n",
       "</style>\n",
       "<table border=\"1\" class=\"dataframe\">\n",
       "  <thead>\n",
       "    <tr style=\"text-align: right;\">\n",
       "      <th></th>\n",
       "      <th>purchase_timestamp</th>\n",
       "      <th>purchased_artwork_id_hash</th>\n",
       "      <th>user_id_hash</th>\n",
       "    </tr>\n",
       "  </thead>\n",
       "  <tbody>\n",
       "    <tr>\n",
       "      <th>0</th>\n",
       "      <td>3179.0</td>\n",
       "      <td>46cc289e8e526da4537bb323174ea634</td>\n",
       "      <td>000d30d70c64dda2c97c78769844843d</td>\n",
       "    </tr>\n",
       "    <tr>\n",
       "      <th>1</th>\n",
       "      <td>3179.0</td>\n",
       "      <td>b69c9c3a4a54d64359e4e33ff7af89b2</td>\n",
       "      <td>000d30d70c64dda2c97c78769844843d</td>\n",
       "    </tr>\n",
       "    <tr>\n",
       "      <th>2</th>\n",
       "      <td>3179.0</td>\n",
       "      <td>17f864ccb6505a49768f3c4c9cea19aa</td>\n",
       "      <td>000d30d70c64dda2c97c78769844843d</td>\n",
       "    </tr>\n",
       "    <tr>\n",
       "      <th>3</th>\n",
       "      <td>3471.0</td>\n",
       "      <td>a215668a82da104a936dd54d98048424</td>\n",
       "      <td>000d30d70c64dda2c97c78769844843d</td>\n",
       "    </tr>\n",
       "    <tr>\n",
       "      <th>4</th>\n",
       "      <td>4332.0</td>\n",
       "      <td>ec9865933f6e7dd4957186cd6d25f592</td>\n",
       "      <td>0026cfda7eec74c9087bf1fc96a21ad4</td>\n",
       "    </tr>\n",
       "  </tbody>\n",
       "</table>\n",
       "</div>"
      ],
      "text/plain": [
       "   purchase_timestamp         purchased_artwork_id_hash  \\\n",
       "0              3179.0  46cc289e8e526da4537bb323174ea634   \n",
       "1              3179.0  b69c9c3a4a54d64359e4e33ff7af89b2   \n",
       "2              3179.0  17f864ccb6505a49768f3c4c9cea19aa   \n",
       "3              3471.0  a215668a82da104a936dd54d98048424   \n",
       "4              4332.0  ec9865933f6e7dd4957186cd6d25f592   \n",
       "\n",
       "                       user_id_hash  \n",
       "0  000d30d70c64dda2c97c78769844843d  \n",
       "1  000d30d70c64dda2c97c78769844843d  \n",
       "2  000d30d70c64dda2c97c78769844843d  \n",
       "3  000d30d70c64dda2c97c78769844843d  \n",
       "4  0026cfda7eec74c9087bf1fc96a21ad4  "
      ]
     },
     "execution_count": 30,
     "metadata": {},
     "output_type": "execute_result"
    }
   ],
   "source": [
    "df_timeline_purchase_train = split_into_multiple_columns(df_timeline_purchase_train)\n",
    "df_timeline_purchase_train.head()"
   ]
  },
  {
   "cell_type": "code",
   "execution_count": 31,
   "metadata": {},
   "outputs": [
    {
     "data": {
      "text/html": [
       "<div>\n",
       "<style scoped>\n",
       "    .dataframe tbody tr th:only-of-type {\n",
       "        vertical-align: middle;\n",
       "    }\n",
       "\n",
       "    .dataframe tbody tr th {\n",
       "        vertical-align: top;\n",
       "    }\n",
       "\n",
       "    .dataframe thead th {\n",
       "        text-align: right;\n",
       "    }\n",
       "</style>\n",
       "<table border=\"1\" class=\"dataframe\">\n",
       "  <thead>\n",
       "    <tr style=\"text-align: right;\">\n",
       "      <th></th>\n",
       "      <th>purchase_timestamp</th>\n",
       "      <th>purchased_artwork_id_hash</th>\n",
       "      <th>user_id_hash</th>\n",
       "    </tr>\n",
       "  </thead>\n",
       "  <tbody>\n",
       "    <tr>\n",
       "      <th>0</th>\n",
       "      <td>3474.0</td>\n",
       "      <td>f6128fa6760b35b479edc6e7b7f48bee</td>\n",
       "      <td>000d30d70c64dda2c97c78769844843d</td>\n",
       "    </tr>\n",
       "    <tr>\n",
       "      <th>1</th>\n",
       "      <td>9005.0</td>\n",
       "      <td>505bc35f0cce5292a09e606768e09da1</td>\n",
       "      <td>0026cfda7eec74c9087bf1fc96a21ad4</td>\n",
       "    </tr>\n",
       "    <tr>\n",
       "      <th>2</th>\n",
       "      <td>7059.0</td>\n",
       "      <td>7869559edaa438c628d9f9da66260007</td>\n",
       "      <td>002dc725ee583da01a00c4031552064c</td>\n",
       "    </tr>\n",
       "    <tr>\n",
       "      <th>3</th>\n",
       "      <td>12468.0</td>\n",
       "      <td>5d51971d5dbcff63b8b2371d5f52e65c</td>\n",
       "      <td>00a117bf90fa4cce171cdaf3f82990ab</td>\n",
       "    </tr>\n",
       "    <tr>\n",
       "      <th>4</th>\n",
       "      <td>9108.0</td>\n",
       "      <td>feeea5252425a5bdafff5389b9ac5850</td>\n",
       "      <td>00b46c48bb90dae8fcff3d6779f45644</td>\n",
       "    </tr>\n",
       "  </tbody>\n",
       "</table>\n",
       "</div>"
      ],
      "text/plain": [
       "   purchase_timestamp         purchased_artwork_id_hash  \\\n",
       "0              3474.0  f6128fa6760b35b479edc6e7b7f48bee   \n",
       "1              9005.0  505bc35f0cce5292a09e606768e09da1   \n",
       "2              7059.0  7869559edaa438c628d9f9da66260007   \n",
       "3             12468.0  5d51971d5dbcff63b8b2371d5f52e65c   \n",
       "4              9108.0  feeea5252425a5bdafff5389b9ac5850   \n",
       "\n",
       "                       user_id_hash  \n",
       "0  000d30d70c64dda2c97c78769844843d  \n",
       "1  0026cfda7eec74c9087bf1fc96a21ad4  \n",
       "2  002dc725ee583da01a00c4031552064c  \n",
       "3  00a117bf90fa4cce171cdaf3f82990ab  \n",
       "4  00b46c48bb90dae8fcff3d6779f45644  "
      ]
     },
     "execution_count": 31,
     "metadata": {},
     "output_type": "execute_result"
    }
   ],
   "source": [
    "df_timeline_purchase_test = split_into_multiple_columns(df_timeline_purchase_test)\n",
    "df_timeline_purchase_test.head()"
   ]
  },
  {
   "cell_type": "markdown",
   "metadata": {},
   "source": [
    "**Append the embedding**"
   ]
  },
  {
   "cell_type": "code",
   "execution_count": 32,
   "metadata": {},
   "outputs": [
    {
     "data": {
      "text/html": [
       "<div>\n",
       "<style scoped>\n",
       "    .dataframe tbody tr th:only-of-type {\n",
       "        vertical-align: middle;\n",
       "    }\n",
       "\n",
       "    .dataframe tbody tr th {\n",
       "        vertical-align: top;\n",
       "    }\n",
       "\n",
       "    .dataframe thead th {\n",
       "        text-align: right;\n",
       "    }\n",
       "</style>\n",
       "<table border=\"1\" class=\"dataframe\">\n",
       "  <thead>\n",
       "    <tr style=\"text-align: right;\">\n",
       "      <th></th>\n",
       "      <th>purchase_timestamp</th>\n",
       "      <th>purchased_artwork_id_hash</th>\n",
       "      <th>user_id_hash</th>\n",
       "      <th>embedding</th>\n",
       "    </tr>\n",
       "  </thead>\n",
       "  <tbody>\n",
       "    <tr>\n",
       "      <th>0</th>\n",
       "      <td>3179.0</td>\n",
       "      <td>46cc289e8e526da4537bb323174ea634</td>\n",
       "      <td>000d30d70c64dda2c97c78769844843d</td>\n",
       "      <td>[0.029932459816336632, 0.940303385257721, 0.32...</td>\n",
       "    </tr>\n",
       "    <tr>\n",
       "      <th>1</th>\n",
       "      <td>3179.0</td>\n",
       "      <td>b69c9c3a4a54d64359e4e33ff7af89b2</td>\n",
       "      <td>000d30d70c64dda2c97c78769844843d</td>\n",
       "      <td>[0.0426417775452137, 0.2854911983013153, 0.169...</td>\n",
       "    </tr>\n",
       "    <tr>\n",
       "      <th>2</th>\n",
       "      <td>3179.0</td>\n",
       "      <td>17f864ccb6505a49768f3c4c9cea19aa</td>\n",
       "      <td>000d30d70c64dda2c97c78769844843d</td>\n",
       "      <td>[0.15591482818126678, 0.0, 0.01448272727429866...</td>\n",
       "    </tr>\n",
       "    <tr>\n",
       "      <th>3</th>\n",
       "      <td>3471.0</td>\n",
       "      <td>a215668a82da104a936dd54d98048424</td>\n",
       "      <td>000d30d70c64dda2c97c78769844843d</td>\n",
       "      <td>[0.17633764445781708, 0.0, 0.02903390489518642...</td>\n",
       "    </tr>\n",
       "    <tr>\n",
       "      <th>4</th>\n",
       "      <td>4332.0</td>\n",
       "      <td>ec9865933f6e7dd4957186cd6d25f592</td>\n",
       "      <td>0026cfda7eec74c9087bf1fc96a21ad4</td>\n",
       "      <td>[2.979443311691284, 1.8889333009719849, 0.2755...</td>\n",
       "    </tr>\n",
       "  </tbody>\n",
       "</table>\n",
       "</div>"
      ],
      "text/plain": [
       "   purchase_timestamp         purchased_artwork_id_hash  \\\n",
       "0              3179.0  46cc289e8e526da4537bb323174ea634   \n",
       "1              3179.0  b69c9c3a4a54d64359e4e33ff7af89b2   \n",
       "2              3179.0  17f864ccb6505a49768f3c4c9cea19aa   \n",
       "3              3471.0  a215668a82da104a936dd54d98048424   \n",
       "4              4332.0  ec9865933f6e7dd4957186cd6d25f592   \n",
       "\n",
       "                       user_id_hash  \\\n",
       "0  000d30d70c64dda2c97c78769844843d   \n",
       "1  000d30d70c64dda2c97c78769844843d   \n",
       "2  000d30d70c64dda2c97c78769844843d   \n",
       "3  000d30d70c64dda2c97c78769844843d   \n",
       "4  0026cfda7eec74c9087bf1fc96a21ad4   \n",
       "\n",
       "                                           embedding  \n",
       "0  [0.029932459816336632, 0.940303385257721, 0.32...  \n",
       "1  [0.0426417775452137, 0.2854911983013153, 0.169...  \n",
       "2  [0.15591482818126678, 0.0, 0.01448272727429866...  \n",
       "3  [0.17633764445781708, 0.0, 0.02903390489518642...  \n",
       "4  [2.979443311691284, 1.8889333009719849, 0.2755...  "
      ]
     },
     "execution_count": 32,
     "metadata": {},
     "output_type": "execute_result"
    }
   ],
   "source": [
    "df_timeline_purchase_train['embedding'] = df_timeline_purchase_train['purchased_artwork_id_hash'].apply(get_embedding, df_embeddings_inventory=df_embeddings_inventory)\n",
    "df_timeline_purchase_train.head()"
   ]
  },
  {
   "cell_type": "code",
   "execution_count": 33,
   "metadata": {},
   "outputs": [
    {
     "data": {
      "text/html": [
       "<div>\n",
       "<style scoped>\n",
       "    .dataframe tbody tr th:only-of-type {\n",
       "        vertical-align: middle;\n",
       "    }\n",
       "\n",
       "    .dataframe tbody tr th {\n",
       "        vertical-align: top;\n",
       "    }\n",
       "\n",
       "    .dataframe thead th {\n",
       "        text-align: right;\n",
       "    }\n",
       "</style>\n",
       "<table border=\"1\" class=\"dataframe\">\n",
       "  <thead>\n",
       "    <tr style=\"text-align: right;\">\n",
       "      <th></th>\n",
       "      <th>purchase_timestamp</th>\n",
       "      <th>purchased_artwork_id_hash</th>\n",
       "      <th>user_id_hash</th>\n",
       "      <th>embedding</th>\n",
       "    </tr>\n",
       "  </thead>\n",
       "  <tbody>\n",
       "    <tr>\n",
       "      <th>0</th>\n",
       "      <td>3474.0</td>\n",
       "      <td>f6128fa6760b35b479edc6e7b7f48bee</td>\n",
       "      <td>000d30d70c64dda2c97c78769844843d</td>\n",
       "      <td>[0.2322317212820053, 0.039951227605342865, 0.3...</td>\n",
       "    </tr>\n",
       "    <tr>\n",
       "      <th>1</th>\n",
       "      <td>9005.0</td>\n",
       "      <td>505bc35f0cce5292a09e606768e09da1</td>\n",
       "      <td>0026cfda7eec74c9087bf1fc96a21ad4</td>\n",
       "      <td>[0.2890149652957916, 0.3374137878417969, 0.121...</td>\n",
       "    </tr>\n",
       "    <tr>\n",
       "      <th>2</th>\n",
       "      <td>7059.0</td>\n",
       "      <td>7869559edaa438c628d9f9da66260007</td>\n",
       "      <td>002dc725ee583da01a00c4031552064c</td>\n",
       "      <td>[0.18037135899066925, 0.2207290083169937, 0.0,...</td>\n",
       "    </tr>\n",
       "    <tr>\n",
       "      <th>3</th>\n",
       "      <td>12468.0</td>\n",
       "      <td>5d51971d5dbcff63b8b2371d5f52e65c</td>\n",
       "      <td>00a117bf90fa4cce171cdaf3f82990ab</td>\n",
       "      <td>[0.07336143404245377, 0.09743131697177887, 0.1...</td>\n",
       "    </tr>\n",
       "    <tr>\n",
       "      <th>4</th>\n",
       "      <td>9108.0</td>\n",
       "      <td>feeea5252425a5bdafff5389b9ac5850</td>\n",
       "      <td>00b46c48bb90dae8fcff3d6779f45644</td>\n",
       "      <td>[1.1278334856033325, 0.3756658136844635, 0.0, ...</td>\n",
       "    </tr>\n",
       "  </tbody>\n",
       "</table>\n",
       "</div>"
      ],
      "text/plain": [
       "   purchase_timestamp         purchased_artwork_id_hash  \\\n",
       "0              3474.0  f6128fa6760b35b479edc6e7b7f48bee   \n",
       "1              9005.0  505bc35f0cce5292a09e606768e09da1   \n",
       "2              7059.0  7869559edaa438c628d9f9da66260007   \n",
       "3             12468.0  5d51971d5dbcff63b8b2371d5f52e65c   \n",
       "4              9108.0  feeea5252425a5bdafff5389b9ac5850   \n",
       "\n",
       "                       user_id_hash  \\\n",
       "0  000d30d70c64dda2c97c78769844843d   \n",
       "1  0026cfda7eec74c9087bf1fc96a21ad4   \n",
       "2  002dc725ee583da01a00c4031552064c   \n",
       "3  00a117bf90fa4cce171cdaf3f82990ab   \n",
       "4  00b46c48bb90dae8fcff3d6779f45644   \n",
       "\n",
       "                                           embedding  \n",
       "0  [0.2322317212820053, 0.039951227605342865, 0.3...  \n",
       "1  [0.2890149652957916, 0.3374137878417969, 0.121...  \n",
       "2  [0.18037135899066925, 0.2207290083169937, 0.0,...  \n",
       "3  [0.07336143404245377, 0.09743131697177887, 0.1...  \n",
       "4  [1.1278334856033325, 0.3756658136844635, 0.0, ...  "
      ]
     },
     "execution_count": 33,
     "metadata": {},
     "output_type": "execute_result"
    }
   ],
   "source": [
    "df_timeline_purchase_test['embedding'] = df_timeline_purchase_test['purchased_artwork_id_hash'].apply(get_embedding, df_embeddings_inventory=df_embeddings_inventory)\n",
    "df_timeline_purchase_test.head()"
   ]
  },
  {
   "cell_type": "markdown",
   "metadata": {},
   "source": [
    "### User sequence purchase dataset"
   ]
  },
  {
   "cell_type": "markdown",
   "metadata": {},
   "source": [
    "**Split users into train and test**"
   ]
  },
  {
   "cell_type": "code",
   "execution_count": 34,
   "metadata": {},
   "outputs": [
    {
     "data": {
      "text/plain": [
       "253"
      ]
     },
     "execution_count": 34,
     "metadata": {},
     "output_type": "execute_result"
    }
   ],
   "source": [
    "from sklearn.model_selection import train_test_split\n",
    "\n",
    "users_id = list(df_ugallety_purchases_greather_than['user_id_hash'].unique())\n",
    "\n",
    "X_train, X_test = train_test_split(users_id)\n",
    "len(X_train)"
   ]
  },
  {
   "cell_type": "code",
   "execution_count": 35,
   "metadata": {},
   "outputs": [
    {
     "data": {
      "text/plain": [
       "(1506, 3)"
      ]
     },
     "execution_count": 35,
     "metadata": {},
     "output_type": "execute_result"
    }
   ],
   "source": [
    "df_user_sequence_purchase_train = df_ugallety_purchases_greather_than[df_ugallety_purchases_greather_than['user_id_hash'].isin(X_train)]\n",
    "df_user_sequence_purchase_train.shape"
   ]
  },
  {
   "cell_type": "code",
   "execution_count": 36,
   "metadata": {},
   "outputs": [
    {
     "data": {
      "text/plain": [
       "(420, 3)"
      ]
     },
     "execution_count": 36,
     "metadata": {},
     "output_type": "execute_result"
    }
   ],
   "source": [
    "df_user_sequence_purchase_test = df_ugallety_purchases_greather_than[df_ugallety_purchases_greather_than['user_id_hash'].isin(X_test)]\n",
    "df_user_sequence_purchase_test.shape"
   ]
  },
  {
   "cell_type": "markdown",
   "metadata": {},
   "source": [
    "**Split purchased artworks into multiple columns**"
   ]
  },
  {
   "cell_type": "code",
   "execution_count": 37,
   "metadata": {},
   "outputs": [
    {
     "data": {
      "text/html": [
       "<div>\n",
       "<style scoped>\n",
       "    .dataframe tbody tr th:only-of-type {\n",
       "        vertical-align: middle;\n",
       "    }\n",
       "\n",
       "    .dataframe tbody tr th {\n",
       "        vertical-align: top;\n",
       "    }\n",
       "\n",
       "    .dataframe thead th {\n",
       "        text-align: right;\n",
       "    }\n",
       "</style>\n",
       "<table border=\"1\" class=\"dataframe\">\n",
       "  <thead>\n",
       "    <tr style=\"text-align: right;\">\n",
       "      <th></th>\n",
       "      <th>purchase_timestamp</th>\n",
       "      <th>purchased_artwork_id_hash</th>\n",
       "      <th>user_id_hash</th>\n",
       "    </tr>\n",
       "  </thead>\n",
       "  <tbody>\n",
       "    <tr>\n",
       "      <th>0</th>\n",
       "      <td>1428.0</td>\n",
       "      <td>b6fc99a3b0e095c4527950607d09c5a4</td>\n",
       "      <td>e1e1a69aa5871973082028492101f119</td>\n",
       "    </tr>\n",
       "    <tr>\n",
       "      <th>1</th>\n",
       "      <td>1439.0</td>\n",
       "      <td>b512e5ecc5cc4616731ce60e00bb731e</td>\n",
       "      <td>7ad6745f3bbd4381a711599703623c88</td>\n",
       "    </tr>\n",
       "    <tr>\n",
       "      <th>2</th>\n",
       "      <td>1448.0</td>\n",
       "      <td>20d0fe19c82d11417c5e9900a2987710</td>\n",
       "      <td>97b4a760b728bcc465e3d7456b0c6a9a</td>\n",
       "    </tr>\n",
       "    <tr>\n",
       "      <th>3</th>\n",
       "      <td>1450.0</td>\n",
       "      <td>7a48b7d1c5c60047b2f39f966155873b</td>\n",
       "      <td>97b4a760b728bcc465e3d7456b0c6a9a</td>\n",
       "    </tr>\n",
       "    <tr>\n",
       "      <th>4</th>\n",
       "      <td>1451.0</td>\n",
       "      <td>48a15ae11b45c34a5f5fc4f0238f4993</td>\n",
       "      <td>8978960088332a2535ecb53b3cd2c318</td>\n",
       "    </tr>\n",
       "  </tbody>\n",
       "</table>\n",
       "</div>"
      ],
      "text/plain": [
       "   purchase_timestamp         purchased_artwork_id_hash  \\\n",
       "0              1428.0  b6fc99a3b0e095c4527950607d09c5a4   \n",
       "1              1439.0  b512e5ecc5cc4616731ce60e00bb731e   \n",
       "2              1448.0  20d0fe19c82d11417c5e9900a2987710   \n",
       "3              1450.0  7a48b7d1c5c60047b2f39f966155873b   \n",
       "4              1451.0  48a15ae11b45c34a5f5fc4f0238f4993   \n",
       "\n",
       "                       user_id_hash  \n",
       "0  e1e1a69aa5871973082028492101f119  \n",
       "1  7ad6745f3bbd4381a711599703623c88  \n",
       "2  97b4a760b728bcc465e3d7456b0c6a9a  \n",
       "3  97b4a760b728bcc465e3d7456b0c6a9a  \n",
       "4  8978960088332a2535ecb53b3cd2c318  "
      ]
     },
     "execution_count": 37,
     "metadata": {},
     "output_type": "execute_result"
    }
   ],
   "source": [
    "df_user_sequence_purchase_train = split_into_multiple_columns(df_user_sequence_purchase_train)\n",
    "df_user_sequence_purchase_train.head()"
   ]
  },
  {
   "cell_type": "code",
   "execution_count": 38,
   "metadata": {},
   "outputs": [
    {
     "data": {
      "text/html": [
       "<div>\n",
       "<style scoped>\n",
       "    .dataframe tbody tr th:only-of-type {\n",
       "        vertical-align: middle;\n",
       "    }\n",
       "\n",
       "    .dataframe tbody tr th {\n",
       "        vertical-align: top;\n",
       "    }\n",
       "\n",
       "    .dataframe thead th {\n",
       "        text-align: right;\n",
       "    }\n",
       "</style>\n",
       "<table border=\"1\" class=\"dataframe\">\n",
       "  <thead>\n",
       "    <tr style=\"text-align: right;\">\n",
       "      <th></th>\n",
       "      <th>purchase_timestamp</th>\n",
       "      <th>purchased_artwork_id_hash</th>\n",
       "      <th>user_id_hash</th>\n",
       "    </tr>\n",
       "  </thead>\n",
       "  <tbody>\n",
       "    <tr>\n",
       "      <th>0</th>\n",
       "      <td>1427.0</td>\n",
       "      <td>33a6be0dba2afaae343967d2a6a80964</td>\n",
       "      <td>0df5dbca3f2feb725c6a5d410d7b8617</td>\n",
       "    </tr>\n",
       "    <tr>\n",
       "      <th>1</th>\n",
       "      <td>1429.0</td>\n",
       "      <td>96e2f95e86c78832f8c583ea3af06bd1</td>\n",
       "      <td>bc3fa64cc02d8f346493cfefa069158e</td>\n",
       "    </tr>\n",
       "    <tr>\n",
       "      <th>2</th>\n",
       "      <td>1460.0</td>\n",
       "      <td>038c496d2f4f7aad5cd384fb96e80cd8</td>\n",
       "      <td>bc3fa64cc02d8f346493cfefa069158e</td>\n",
       "    </tr>\n",
       "    <tr>\n",
       "      <th>3</th>\n",
       "      <td>1460.0</td>\n",
       "      <td>6b45dad03e81e18c3fce0c6f3b17a3da</td>\n",
       "      <td>bc3fa64cc02d8f346493cfefa069158e</td>\n",
       "    </tr>\n",
       "    <tr>\n",
       "      <th>4</th>\n",
       "      <td>1604.0</td>\n",
       "      <td>932b0e079203f6cd40fa1cb3940b4dad</td>\n",
       "      <td>e72b4e71331bd76a0aec5434609b4103</td>\n",
       "    </tr>\n",
       "  </tbody>\n",
       "</table>\n",
       "</div>"
      ],
      "text/plain": [
       "   purchase_timestamp         purchased_artwork_id_hash  \\\n",
       "0              1427.0  33a6be0dba2afaae343967d2a6a80964   \n",
       "1              1429.0  96e2f95e86c78832f8c583ea3af06bd1   \n",
       "2              1460.0  038c496d2f4f7aad5cd384fb96e80cd8   \n",
       "3              1460.0  6b45dad03e81e18c3fce0c6f3b17a3da   \n",
       "4              1604.0  932b0e079203f6cd40fa1cb3940b4dad   \n",
       "\n",
       "                       user_id_hash  \n",
       "0  0df5dbca3f2feb725c6a5d410d7b8617  \n",
       "1  bc3fa64cc02d8f346493cfefa069158e  \n",
       "2  bc3fa64cc02d8f346493cfefa069158e  \n",
       "3  bc3fa64cc02d8f346493cfefa069158e  \n",
       "4  e72b4e71331bd76a0aec5434609b4103  "
      ]
     },
     "execution_count": 38,
     "metadata": {},
     "output_type": "execute_result"
    }
   ],
   "source": [
    "df_user_sequence_purchase_test = split_into_multiple_columns(df_user_sequence_purchase_test)\n",
    "df_user_sequence_purchase_test.head()"
   ]
  },
  {
   "cell_type": "markdown",
   "metadata": {},
   "source": [
    "**Append the embedding**"
   ]
  },
  {
   "cell_type": "code",
   "execution_count": 39,
   "metadata": {},
   "outputs": [
    {
     "data": {
      "text/html": [
       "<div>\n",
       "<style scoped>\n",
       "    .dataframe tbody tr th:only-of-type {\n",
       "        vertical-align: middle;\n",
       "    }\n",
       "\n",
       "    .dataframe tbody tr th {\n",
       "        vertical-align: top;\n",
       "    }\n",
       "\n",
       "    .dataframe thead th {\n",
       "        text-align: right;\n",
       "    }\n",
       "</style>\n",
       "<table border=\"1\" class=\"dataframe\">\n",
       "  <thead>\n",
       "    <tr style=\"text-align: right;\">\n",
       "      <th></th>\n",
       "      <th>purchase_timestamp</th>\n",
       "      <th>purchased_artwork_id_hash</th>\n",
       "      <th>user_id_hash</th>\n",
       "      <th>embedding</th>\n",
       "    </tr>\n",
       "  </thead>\n",
       "  <tbody>\n",
       "    <tr>\n",
       "      <th>0</th>\n",
       "      <td>1428.0</td>\n",
       "      <td>b6fc99a3b0e095c4527950607d09c5a4</td>\n",
       "      <td>e1e1a69aa5871973082028492101f119</td>\n",
       "      <td>[0.06319649517536163, 1.9717729091644287, 0.77...</td>\n",
       "    </tr>\n",
       "    <tr>\n",
       "      <th>1</th>\n",
       "      <td>1439.0</td>\n",
       "      <td>b512e5ecc5cc4616731ce60e00bb731e</td>\n",
       "      <td>7ad6745f3bbd4381a711599703623c88</td>\n",
       "      <td>[0.5156646966934204, 0.528059184551239, 0.1402...</td>\n",
       "    </tr>\n",
       "    <tr>\n",
       "      <th>2</th>\n",
       "      <td>1448.0</td>\n",
       "      <td>20d0fe19c82d11417c5e9900a2987710</td>\n",
       "      <td>97b4a760b728bcc465e3d7456b0c6a9a</td>\n",
       "      <td>[0.4082123041152954, 0.3493424654006958, 0.209...</td>\n",
       "    </tr>\n",
       "    <tr>\n",
       "      <th>3</th>\n",
       "      <td>1450.0</td>\n",
       "      <td>7a48b7d1c5c60047b2f39f966155873b</td>\n",
       "      <td>97b4a760b728bcc465e3d7456b0c6a9a</td>\n",
       "      <td>[0.488424152135849, 0.01872713677585125, 0.756...</td>\n",
       "    </tr>\n",
       "    <tr>\n",
       "      <th>4</th>\n",
       "      <td>1451.0</td>\n",
       "      <td>48a15ae11b45c34a5f5fc4f0238f4993</td>\n",
       "      <td>8978960088332a2535ecb53b3cd2c318</td>\n",
       "      <td>[0.031178981065750122, 0.7116988897323608, 0.0...</td>\n",
       "    </tr>\n",
       "  </tbody>\n",
       "</table>\n",
       "</div>"
      ],
      "text/plain": [
       "   purchase_timestamp         purchased_artwork_id_hash  \\\n",
       "0              1428.0  b6fc99a3b0e095c4527950607d09c5a4   \n",
       "1              1439.0  b512e5ecc5cc4616731ce60e00bb731e   \n",
       "2              1448.0  20d0fe19c82d11417c5e9900a2987710   \n",
       "3              1450.0  7a48b7d1c5c60047b2f39f966155873b   \n",
       "4              1451.0  48a15ae11b45c34a5f5fc4f0238f4993   \n",
       "\n",
       "                       user_id_hash  \\\n",
       "0  e1e1a69aa5871973082028492101f119   \n",
       "1  7ad6745f3bbd4381a711599703623c88   \n",
       "2  97b4a760b728bcc465e3d7456b0c6a9a   \n",
       "3  97b4a760b728bcc465e3d7456b0c6a9a   \n",
       "4  8978960088332a2535ecb53b3cd2c318   \n",
       "\n",
       "                                           embedding  \n",
       "0  [0.06319649517536163, 1.9717729091644287, 0.77...  \n",
       "1  [0.5156646966934204, 0.528059184551239, 0.1402...  \n",
       "2  [0.4082123041152954, 0.3493424654006958, 0.209...  \n",
       "3  [0.488424152135849, 0.01872713677585125, 0.756...  \n",
       "4  [0.031178981065750122, 0.7116988897323608, 0.0...  "
      ]
     },
     "execution_count": 39,
     "metadata": {},
     "output_type": "execute_result"
    }
   ],
   "source": [
    "df_user_sequence_purchase_train['embedding'] = df_user_sequence_purchase_train['purchased_artwork_id_hash'].apply(get_embedding, df_embeddings_inventory=df_embeddings_inventory)\n",
    "df_user_sequence_purchase_train.head()"
   ]
  },
  {
   "cell_type": "code",
   "execution_count": 40,
   "metadata": {},
   "outputs": [
    {
     "data": {
      "text/html": [
       "<div>\n",
       "<style scoped>\n",
       "    .dataframe tbody tr th:only-of-type {\n",
       "        vertical-align: middle;\n",
       "    }\n",
       "\n",
       "    .dataframe tbody tr th {\n",
       "        vertical-align: top;\n",
       "    }\n",
       "\n",
       "    .dataframe thead th {\n",
       "        text-align: right;\n",
       "    }\n",
       "</style>\n",
       "<table border=\"1\" class=\"dataframe\">\n",
       "  <thead>\n",
       "    <tr style=\"text-align: right;\">\n",
       "      <th></th>\n",
       "      <th>purchase_timestamp</th>\n",
       "      <th>purchased_artwork_id_hash</th>\n",
       "      <th>user_id_hash</th>\n",
       "      <th>embedding</th>\n",
       "    </tr>\n",
       "  </thead>\n",
       "  <tbody>\n",
       "    <tr>\n",
       "      <th>0</th>\n",
       "      <td>1427.0</td>\n",
       "      <td>33a6be0dba2afaae343967d2a6a80964</td>\n",
       "      <td>0df5dbca3f2feb725c6a5d410d7b8617</td>\n",
       "      <td>[0.04420210048556328, 0.7963171005249023, 0.32...</td>\n",
       "    </tr>\n",
       "    <tr>\n",
       "      <th>1</th>\n",
       "      <td>1429.0</td>\n",
       "      <td>96e2f95e86c78832f8c583ea3af06bd1</td>\n",
       "      <td>bc3fa64cc02d8f346493cfefa069158e</td>\n",
       "      <td>[0.0, 1.4086264371871948, 0.11813192069530487,...</td>\n",
       "    </tr>\n",
       "    <tr>\n",
       "      <th>2</th>\n",
       "      <td>1460.0</td>\n",
       "      <td>038c496d2f4f7aad5cd384fb96e80cd8</td>\n",
       "      <td>bc3fa64cc02d8f346493cfefa069158e</td>\n",
       "      <td>[0.04646970331668854, 1.8823111057281494, 0.01...</td>\n",
       "    </tr>\n",
       "    <tr>\n",
       "      <th>3</th>\n",
       "      <td>1460.0</td>\n",
       "      <td>6b45dad03e81e18c3fce0c6f3b17a3da</td>\n",
       "      <td>bc3fa64cc02d8f346493cfefa069158e</td>\n",
       "      <td>[0.015075620263814926, 1.6799932718276978, 0.0...</td>\n",
       "    </tr>\n",
       "    <tr>\n",
       "      <th>4</th>\n",
       "      <td>1604.0</td>\n",
       "      <td>932b0e079203f6cd40fa1cb3940b4dad</td>\n",
       "      <td>e72b4e71331bd76a0aec5434609b4103</td>\n",
       "      <td>[0.034921109676361084, 0.0, 0.0, 0.00582404900...</td>\n",
       "    </tr>\n",
       "  </tbody>\n",
       "</table>\n",
       "</div>"
      ],
      "text/plain": [
       "   purchase_timestamp         purchased_artwork_id_hash  \\\n",
       "0              1427.0  33a6be0dba2afaae343967d2a6a80964   \n",
       "1              1429.0  96e2f95e86c78832f8c583ea3af06bd1   \n",
       "2              1460.0  038c496d2f4f7aad5cd384fb96e80cd8   \n",
       "3              1460.0  6b45dad03e81e18c3fce0c6f3b17a3da   \n",
       "4              1604.0  932b0e079203f6cd40fa1cb3940b4dad   \n",
       "\n",
       "                       user_id_hash  \\\n",
       "0  0df5dbca3f2feb725c6a5d410d7b8617   \n",
       "1  bc3fa64cc02d8f346493cfefa069158e   \n",
       "2  bc3fa64cc02d8f346493cfefa069158e   \n",
       "3  bc3fa64cc02d8f346493cfefa069158e   \n",
       "4  e72b4e71331bd76a0aec5434609b4103   \n",
       "\n",
       "                                           embedding  \n",
       "0  [0.04420210048556328, 0.7963171005249023, 0.32...  \n",
       "1  [0.0, 1.4086264371871948, 0.11813192069530487,...  \n",
       "2  [0.04646970331668854, 1.8823111057281494, 0.01...  \n",
       "3  [0.015075620263814926, 1.6799932718276978, 0.0...  \n",
       "4  [0.034921109676361084, 0.0, 0.0, 0.00582404900...  "
      ]
     },
     "execution_count": 40,
     "metadata": {},
     "output_type": "execute_result"
    }
   ],
   "source": [
    "df_user_sequence_purchase_test['embedding'] = df_user_sequence_purchase_test['purchased_artwork_id_hash'].apply(get_embedding, df_embeddings_inventory=df_embeddings_inventory)\n",
    "df_user_sequence_purchase_test.head()"
   ]
  },
  {
   "cell_type": "markdown",
   "metadata": {},
   "source": [
    "## Save data"
   ]
  },
  {
   "cell_type": "markdown",
   "metadata": {},
   "source": [
    "### Last purchase dataset"
   ]
  },
  {
   "cell_type": "markdown",
   "metadata": {},
   "source": [
    "**Save matrix**"
   ]
  },
  {
   "cell_type": "code",
   "execution_count": 41,
   "metadata": {},
   "outputs": [
    {
     "data": {
      "text/plain": [
       "(2225, 4)"
      ]
     },
     "execution_count": 41,
     "metadata": {},
     "output_type": "execute_result"
    }
   ],
   "source": [
    "df_timeline_purchase_train.shape"
   ]
  },
  {
   "cell_type": "code",
   "execution_count": 42,
   "metadata": {},
   "outputs": [
    {
     "data": {
      "text/plain": [
       "(2225, 2048)"
      ]
     },
     "execution_count": 42,
     "metadata": {},
     "output_type": "execute_result"
    }
   ],
   "source": [
    "curator_net_train_matrix = np.vstack(list(df_timeline_purchase_train['embedding']))\n",
    "curator_net_train_matrix.shape"
   ]
  },
  {
   "cell_type": "code",
   "execution_count": 43,
   "metadata": {},
   "outputs": [
    {
     "data": {
      "text/plain": [
       "(444, 2048)"
      ]
     },
     "execution_count": 43,
     "metadata": {},
     "output_type": "execute_result"
    }
   ],
   "source": [
    "curator_net_test_matrix = np.vstack(list(df_timeline_purchase_test['embedding']))\n",
    "curator_net_test_matrix.shape"
   ]
  },
  {
   "cell_type": "code",
   "execution_count": 44,
   "metadata": {},
   "outputs": [],
   "source": [
    "np.save(os.path.join(BASE_PATH, 'curatornet_code_train_matrix' ), curator_net_train_matrix)\n",
    "np.save(os.path.join(BASE_PATH, 'curatornet_code_test_matrix' ), curator_net_test_matrix)"
   ]
  },
  {
   "cell_type": "markdown",
   "metadata": {},
   "source": [
    "**Save metadata**"
   ]
  },
  {
   "cell_type": "code",
   "execution_count": 45,
   "metadata": {},
   "outputs": [],
   "source": [
    "df_timeline_purchase_train.to_csv(os.path.join(CURATORNET_DATA_PATH, 'curatornet_purchase_data_train.csv' ), index=False)\n",
    "df_timeline_purchase_test.to_csv(os.path.join(CURATORNET_DATA_PATH, 'curatornet_purchase_data_test.csv' ), index=False)"
   ]
  },
  {
   "cell_type": "markdown",
   "metadata": {},
   "source": [
    "### User sequence purchase dataset"
   ]
  },
  {
   "cell_type": "code",
   "execution_count": 46,
   "metadata": {},
   "outputs": [
    {
     "data": {
      "text/plain": [
       "(2104, 4)"
      ]
     },
     "execution_count": 46,
     "metadata": {},
     "output_type": "execute_result"
    }
   ],
   "source": [
    "df_user_sequence_purchase_train.shape"
   ]
  },
  {
   "cell_type": "markdown",
   "metadata": {},
   "source": [
    "**Save matrix**"
   ]
  },
  {
   "cell_type": "code",
   "execution_count": 52,
   "metadata": {},
   "outputs": [
    {
     "data": {
      "text/plain": [
       "(2104, 2048)"
      ]
     },
     "execution_count": 52,
     "metadata": {},
     "output_type": "execute_result"
    }
   ],
   "source": [
    "curatornet_sequence_train_matrix = np.vstack(list(df_user_sequence_purchase_train['embedding']))\n",
    "curatornet_sequence_train_matrix.shape"
   ]
  },
  {
   "cell_type": "code",
   "execution_count": 53,
   "metadata": {},
   "outputs": [
    {
     "data": {
      "text/plain": [
       "(565, 2048)"
      ]
     },
     "execution_count": 53,
     "metadata": {},
     "output_type": "execute_result"
    }
   ],
   "source": [
    "curatornet_sequence_test_matrix = np.vstack(list(df_user_sequence_purchase_test['embedding']))\n",
    "curatornet_sequence_test_matrix.shape"
   ]
  },
  {
   "cell_type": "code",
   "execution_count": 54,
   "metadata": {},
   "outputs": [],
   "source": [
    "np.save(os.path.join(BASE_PATH, 'curatornet_sequence_train_matrix' ), curatornet_sequence_train_matrix)\n",
    "np.save(os.path.join(BASE_PATH, 'curatornet_sequence_test_matrix' ), curatornet_sequence_test_matrix)"
   ]
  },
  {
   "cell_type": "markdown",
   "metadata": {},
   "source": [
    "**Save metadata**"
   ]
  },
  {
   "cell_type": "code",
   "execution_count": 55,
   "metadata": {},
   "outputs": [],
   "source": [
    "df_user_sequence_purchase_train.to_csv(os.path.join(CURATORNET_DATA_PATH, 'curatornet_sequence_purchase_data_train.csv' ), index=False)\n",
    "df_user_sequence_purchase_test.to_csv(os.path.join(CURATORNET_DATA_PATH, 'curatornet_sequence_purchase_data_test.csv' ), index=False)"
   ]
  }
 ],
 "metadata": {
  "kernelspec": {
   "display_name": "Python 3",
   "language": "python",
   "name": "python3"
  },
  "language_info": {
   "codemirror_mode": {
    "name": "ipython",
    "version": 3
   },
   "file_extension": ".py",
   "mimetype": "text/x-python",
   "name": "python",
   "nbconvert_exporter": "python",
   "pygments_lexer": "ipython3",
   "version": "3.5.2"
  }
 },
 "nbformat": 4,
 "nbformat_minor": 2
}
