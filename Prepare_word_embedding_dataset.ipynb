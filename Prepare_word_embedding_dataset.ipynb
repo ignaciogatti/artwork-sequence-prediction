{
 "cells": [
  {
   "cell_type": "markdown",
   "metadata": {},
   "source": [
    "# Prepare Word Embedding dataset"
   ]
  },
  {
   "cell_type": "code",
   "execution_count": null,
   "metadata": {},
   "outputs": [],
   "source": [
    "import os\n",
    "import pandas as pd\n",
    "import numpy as np"
   ]
  },
  {
   "cell_type": "code",
   "execution_count": null,
   "metadata": {},
   "outputs": [],
   "source": [
    "BASE_PATH = '/root/work/artwork_sequence/train_test_configuration'\n",
    "DATASET_PATH = '/root/work/datasets/artwork_sequence/'"
   ]
  },
  {
   "cell_type": "code",
   "execution_count": null,
   "metadata": {},
   "outputs": [],
   "source": [
    "museum_sequence_path = {\n",
    "    'x_train' : os.path.join(BASE_PATH, 'X_train.csv'),\n",
    "    'x_test' : os.path.join(BASE_PATH, 'X_test.csv'),\n",
    "    'all_embedding_matrix' : os.path.join(DATASET_PATH, 'all_embedding_matrix.npy'),\n",
    "    'all_metadata' : os.path.join(DATASET_PATH, 'all_metadata.csv')\n",
    "}\n",
    "museum_sequence_path"
   ]
  },
  {
   "cell_type": "markdown",
   "metadata": {},
   "source": [
    "## Load train test dataset and embeddings"
   ]
  },
  {
   "cell_type": "code",
   "execution_count": null,
   "metadata": {},
   "outputs": [],
   "source": [
    "df_x_train = pd.read_csv(museum_sequence_path['x_train'], index_col=0)\n",
    "df_x_test = pd.read_csv(museum_sequence_path['x_test'], index_col=0)\n",
    "df_all_metadata = pd.read_csv(museum_sequence_path['all_metadata'])\n",
    "all_embedding_matrix = np.load(museum_sequence_path['all_embedding_matrix'])\n",
    "df_x_train.head()"
   ]
  },
  {
   "cell_type": "code",
   "execution_count": null,
   "metadata": {},
   "outputs": [],
   "source": [
    "df_all_metadata.head()"
   ]
  },
  {
   "cell_type": "code",
   "execution_count": null,
   "metadata": {},
   "outputs": [],
   "source": [
    "df_all_metadata.shape"
   ]
  },
  {
   "cell_type": "markdown",
   "metadata": {},
   "source": [
    "## Define embedding matrix for train and test dataset"
   ]
  },
  {
   "cell_type": "code",
   "execution_count": null,
   "metadata": {},
   "outputs": [],
   "source": [
    "def get_embedding(row):\n",
    "    index = df_all_metadata[(df_all_metadata['author']==row['author']) & (df_all_metadata['title'] == row['title'])].index.values[0]\n",
    "    return all_embedding_matrix[index]"
   ]
  },
  {
   "cell_type": "code",
   "execution_count": null,
   "metadata": {},
   "outputs": [],
   "source": [
    "def get_embedding_matrix(df):\n",
    "    tour_path_list = list(df['tour_path'].values)\n",
    "    X_embedding_list = []\n",
    "    for path in tour_path_list:\n",
    "        #Get the matadata path \n",
    "        metadata_path = os.path.join(path, 'metadata.csv')\n",
    "        df = pd.read_csv(metadata_path)\n",
    "\n",
    "        #Find the emdedding for each artwork\n",
    "        df['embedding'] = df.apply(get_embedding, axis=1 )\n",
    "\n",
    "        #define embedding matrix for the tour\n",
    "        embeddings_list = list(df['embedding'].values)\n",
    "        embeddings_matrix = np.stack(embeddings_list)\n",
    "        #Save\n",
    "        X_embedding_list.append(embeddings_matrix)\n",
    "\n",
    "    return np.concatenate(X_embedding_list)"
   ]
  },
  {
   "cell_type": "code",
   "execution_count": null,
   "metadata": {},
   "outputs": [],
   "source": [
    "embedding_train_matrix = get_embedding_matrix(df_x_train)\n",
    "embedding_test_matrix = get_embedding_matrix(df_x_test)"
   ]
  },
  {
   "cell_type": "markdown",
   "metadata": {},
   "source": [
    "**Save embedding matrix**"
   ]
  },
  {
   "cell_type": "code",
   "execution_count": null,
   "metadata": {},
   "outputs": [],
   "source": [
    "np.save(os.path.join(BASE_PATH, 'embedding_train_matrix' ), embedding_train_matrix)\n",
    "np.save(os.path.join(BASE_PATH, 'embedding_test_matrix' ), embedding_test_matrix)"
   ]
  },
  {
   "cell_type": "code",
   "execution_count": null,
   "metadata": {},
   "outputs": [],
   "source": []
  }
 ],
 "metadata": {
  "kernelspec": {
   "display_name": "Python 3",
   "language": "python",
   "name": "python3"
  },
  "language_info": {
   "codemirror_mode": {
    "name": "ipython",
    "version": 3
   },
   "file_extension": ".py",
   "mimetype": "text/x-python",
   "name": "python",
   "nbconvert_exporter": "python",
   "pygments_lexer": "ipython3",
   "version": "3.5.2"
  }
 },
 "nbformat": 4,
 "nbformat_minor": 2
}
