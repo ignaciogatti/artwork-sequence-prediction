{
 "cells": [
  {
   "cell_type": "markdown",
   "metadata": {},
   "source": [
    "# Artwork Sequence Prediction Evaluation"
   ]
  },
  {
   "cell_type": "code",
   "execution_count": 7,
   "metadata": {},
   "outputs": [],
   "source": [
    "import numpy as np\n",
    "import pandas as pd\n",
    "import tensorflow as tf\n",
    "import os"
   ]
  },
  {
   "cell_type": "code",
   "execution_count": 2,
   "metadata": {},
   "outputs": [],
   "source": [
    "CONFIG_PATH = '/root/work/artwork_sequence/train_test_configuration'"
   ]
  },
  {
   "cell_type": "code",
   "execution_count": 3,
   "metadata": {},
   "outputs": [
    {
     "data": {
      "text/plain": [
       "{'weights_folder': '/root/work/artwork_sequence/train_test_configuration/config_3/trained_model_weights',\n",
       " 'x_test': '/root/work/artwork_sequence/train_test_configuration/X_test.csv',\n",
       " 'x_test_matrix': '/root/work/artwork_sequence/train_test_configuration/X_test_matrix.npy',\n",
       " 'x_train': '/root/work/artwork_sequence/train_test_configuration/X_train.csv',\n",
       " 'x_train_matrix': '/root/work/artwork_sequence/train_test_configuration/X_train_matrix.npy'}"
      ]
     },
     "execution_count": 3,
     "metadata": {},
     "output_type": "execute_result"
    }
   ],
   "source": [
    "window_index = 3\n",
    "\n",
    "museum_sequence_path = {\n",
    "    'x_train' : os.path.join(CONFIG_PATH, 'X_train.csv'),\n",
    "    'x_test' : os.path.join(CONFIG_PATH, 'X_test.csv'),\n",
    "    'x_train_matrix' : os.path.join(CONFIG_PATH, 'X_train_matrix.npy'),\n",
    "    'x_test_matrix' : os.path.join(CONFIG_PATH, 'X_test_matrix.npy'),\n",
    "    'weights_folder' : os.path.join(CONFIG_PATH, 'config_'+str(window_index)+'/trained_model_weights')\n",
    "}\n",
    "museum_sequence_path"
   ]
  },
  {
   "cell_type": "markdown",
   "metadata": {},
   "source": [
    "## Load data"
   ]
  },
  {
   "cell_type": "code",
   "execution_count": 4,
   "metadata": {},
   "outputs": [
    {
     "data": {
      "text/html": [
       "<div>\n",
       "<style scoped>\n",
       "    .dataframe tbody tr th:only-of-type {\n",
       "        vertical-align: middle;\n",
       "    }\n",
       "\n",
       "    .dataframe tbody tr th {\n",
       "        vertical-align: top;\n",
       "    }\n",
       "\n",
       "    .dataframe thead th {\n",
       "        text-align: right;\n",
       "    }\n",
       "</style>\n",
       "<table border=\"1\" class=\"dataframe\">\n",
       "  <thead>\n",
       "    <tr style=\"text-align: right;\">\n",
       "      <th></th>\n",
       "      <th>tour_path</th>\n",
       "    </tr>\n",
       "  </thead>\n",
       "  <tbody>\n",
       "    <tr>\n",
       "      <th>20</th>\n",
       "      <td>/root/work/datasets/artwork_sequence/rijksmuse...</td>\n",
       "    </tr>\n",
       "    <tr>\n",
       "      <th>7</th>\n",
       "      <td>/root/work/datasets/artwork_sequence/rijksmuse...</td>\n",
       "    </tr>\n",
       "    <tr>\n",
       "      <th>40</th>\n",
       "      <td>/root/work/datasets/artwork_sequence/prado_cra...</td>\n",
       "    </tr>\n",
       "    <tr>\n",
       "      <th>0</th>\n",
       "      <td>/root/work/datasets/artwork_sequence/rijksmuse...</td>\n",
       "    </tr>\n",
       "    <tr>\n",
       "      <th>23</th>\n",
       "      <td>/root/work/datasets/artwork_sequence/prado_cra...</td>\n",
       "    </tr>\n",
       "  </tbody>\n",
       "</table>\n",
       "</div>"
      ],
      "text/plain": [
       "                                            tour_path\n",
       "20  /root/work/datasets/artwork_sequence/rijksmuse...\n",
       "7   /root/work/datasets/artwork_sequence/rijksmuse...\n",
       "40  /root/work/datasets/artwork_sequence/prado_cra...\n",
       "0   /root/work/datasets/artwork_sequence/rijksmuse...\n",
       "23  /root/work/datasets/artwork_sequence/prado_cra..."
      ]
     },
     "execution_count": 4,
     "metadata": {},
     "output_type": "execute_result"
    }
   ],
   "source": [
    "df_x_train = pd.read_csv(museum_sequence_path['x_train'], index_col=0)\n",
    "df_x_test = pd.read_csv(museum_sequence_path['x_test'], index_col=0)\n",
    "x_train_matrix = np.load(museum_sequence_path['x_train_matrix'])\n",
    "x_test_matrix = np.load(museum_sequence_path['x_test_matrix'])\n",
    "df_x_train.head()"
   ]
  },
  {
   "cell_type": "code",
   "execution_count": 5,
   "metadata": {},
   "outputs": [
    {
     "data": {
      "text/plain": [
       "(637, 300)"
      ]
     },
     "execution_count": 5,
     "metadata": {},
     "output_type": "execute_result"
    }
   ],
   "source": [
    "x_train_matrix.shape"
   ]
  },
  {
   "cell_type": "code",
   "execution_count": 6,
   "metadata": {},
   "outputs": [
    {
     "data": {
      "text/plain": [
       "'/root/work/datasets/artwork_sequence/prado_crawler/tour_18'"
      ]
     },
     "execution_count": 6,
     "metadata": {},
     "output_type": "execute_result"
    }
   ],
   "source": [
    "df_x_test['tour_path'][39]"
   ]
  },
  {
   "cell_type": "markdown",
   "metadata": {},
   "source": [
    "## Reset Tensorflow session"
   ]
  },
  {
   "cell_type": "code",
   "execution_count": 8,
   "metadata": {},
   "outputs": [],
   "source": [
    "tf.keras.backend.clear_session()"
   ]
  },
  {
   "cell_type": "markdown",
   "metadata": {},
   "source": [
    "## Config  data to fit with the model input\n",
    "\n",
    "Because the **Prediction feature model** split the data into training and validation dataset, it is necessary to give all the data in only one block"
   ]
  },
  {
   "cell_type": "markdown",
   "metadata": {},
   "source": [
    "**Define timeline**"
   ]
  },
  {
   "cell_type": "code",
   "execution_count": 9,
   "metadata": {},
   "outputs": [
    {
     "data": {
      "text/plain": [
       "(859,)"
      ]
     },
     "execution_count": 9,
     "metadata": {},
     "output_type": "execute_result"
    }
   ],
   "source": [
    "timeline = np.arange(x_train_matrix.shape[0] + x_test_matrix.shape[0])\n",
    "timeline.shape"
   ]
  },
  {
   "cell_type": "markdown",
   "metadata": {},
   "source": [
    "**Define configuration to deal with the windowed dataset**"
   ]
  },
  {
   "cell_type": "code",
   "execution_count": 10,
   "metadata": {},
   "outputs": [],
   "source": [
    "split_time = x_train_matrix.shape[0]\n",
    "\n",
    "X = np.concatenate((x_train_matrix, x_test_matrix))\n",
    "\n",
    "window_size = window_index\n",
    "\n",
    "batch_size = 128\n",
    "shuffle_buffer_size = 300"
   ]
  },
  {
   "cell_type": "markdown",
   "metadata": {},
   "source": [
    "## Create and Load models"
   ]
  },
  {
   "cell_type": "markdown",
   "metadata": {},
   "source": [
    "**Helper function to load weights**"
   ]
  },
  {
   "cell_type": "code",
   "execution_count": 11,
   "metadata": {},
   "outputs": [],
   "source": [
    "def load_weights(model, index, museum_sequence_path):\n",
    "    #Find the folder where the weights are saved\n",
    "    model_feature_folder = os.path.join(museum_sequence_path['weights_folder'], 'model_feature_'+str(index))    \n",
    "    #Load weights\n",
    "    model.load_weights(os.path.join(model_feature_folder, 'weights_feature_'+str(index)))\n",
    "    return model"
   ]
  },
  {
   "cell_type": "markdown",
   "metadata": {},
   "source": [
    "**Get models**"
   ]
  },
  {
   "cell_type": "code",
   "execution_count": 12,
   "metadata": {},
   "outputs": [],
   "source": [
    "from Prediction_model_feature import Prediction_model_feature"
   ]
  },
  {
   "cell_type": "code",
   "execution_count": 13,
   "metadata": {},
   "outputs": [],
   "source": [
    "n_features = X.shape[1]\n",
    "models = []"
   ]
  },
  {
   "cell_type": "code",
   "execution_count": 14,
   "metadata": {},
   "outputs": [
    {
     "name": "stdout",
     "output_type": "stream",
     "text": [
      "WARNING:tensorflow:Entity <function standard_lstm at 0x7f1e7da167b8> could not be transformed and will be executed as-is. Please report this to the AutoGraph team. When filing the bug, set the verbosity to 10 (on Linux, `export AUTOGRAPH_VERBOSITY=10`) and attach the full output. Cause: converting <function standard_lstm at 0x7f1e7da167b8>: AttributeError: module 'gast' has no attribute 'Num'\n",
      "WARNING: Entity <function standard_lstm at 0x7f1e7da167b8> could not be transformed and will be executed as-is. Please report this to the AutoGraph team. When filing the bug, set the verbosity to 10 (on Linux, `export AUTOGRAPH_VERBOSITY=10`) and attach the full output. Cause: converting <function standard_lstm at 0x7f1e7da167b8>: AttributeError: module 'gast' has no attribute 'Num'\n",
      "WARNING:tensorflow:Entity <function cudnn_lstm at 0x7f1e7da16840> could not be transformed and will be executed as-is. Please report this to the AutoGraph team. When filing the bug, set the verbosity to 10 (on Linux, `export AUTOGRAPH_VERBOSITY=10`) and attach the full output. Cause: converting <function cudnn_lstm at 0x7f1e7da16840>: AttributeError: module 'gast' has no attribute 'Num'\n",
      "WARNING: Entity <function cudnn_lstm at 0x7f1e7da16840> could not be transformed and will be executed as-is. Please report this to the AutoGraph team. When filing the bug, set the verbosity to 10 (on Linux, `export AUTOGRAPH_VERBOSITY=10`) and attach the full output. Cause: converting <function cudnn_lstm at 0x7f1e7da16840>: AttributeError: module 'gast' has no attribute 'Num'\n",
      "WARNING:tensorflow:Entity <function standard_lstm at 0x7f1e7da167b8> could not be transformed and will be executed as-is. Please report this to the AutoGraph team. When filing the bug, set the verbosity to 10 (on Linux, `export AUTOGRAPH_VERBOSITY=10`) and attach the full output. Cause: converting <function standard_lstm at 0x7f1e7da167b8>: AttributeError: module 'gast' has no attribute 'Num'\n",
      "WARNING: Entity <function standard_lstm at 0x7f1e7da167b8> could not be transformed and will be executed as-is. Please report this to the AutoGraph team. When filing the bug, set the verbosity to 10 (on Linux, `export AUTOGRAPH_VERBOSITY=10`) and attach the full output. Cause: converting <function standard_lstm at 0x7f1e7da167b8>: AttributeError: module 'gast' has no attribute 'Num'\n",
      "WARNING:tensorflow:Entity <function cudnn_lstm at 0x7f1e7da16840> could not be transformed and will be executed as-is. Please report this to the AutoGraph team. When filing the bug, set the verbosity to 10 (on Linux, `export AUTOGRAPH_VERBOSITY=10`) and attach the full output. Cause: converting <function cudnn_lstm at 0x7f1e7da16840>: AttributeError: module 'gast' has no attribute 'Num'\n",
      "WARNING: Entity <function cudnn_lstm at 0x7f1e7da16840> could not be transformed and will be executed as-is. Please report this to the AutoGraph team. When filing the bug, set the verbosity to 10 (on Linux, `export AUTOGRAPH_VERBOSITY=10`) and attach the full output. Cause: converting <function cudnn_lstm at 0x7f1e7da16840>: AttributeError: module 'gast' has no attribute 'Num'\n",
      "--- 419.0789408683777 seconds ---\n"
     ]
    },
    {
     "data": {
      "text/plain": [
       "300"
      ]
     },
     "execution_count": 14,
     "metadata": {},
     "output_type": "execute_result"
    }
   ],
   "source": [
    "from IPython.display import clear_output\n",
    "import time\n",
    "\n",
    "start_time = time.time()\n",
    "\n",
    "for i in range(n_features):\n",
    "    clear_output(wait=True)\n",
    "    #Create model\n",
    "    model_prediction = Prediction_model_feature(\n",
    "        X=X[:, 0],\n",
    "        split_time=split_time,\n",
    "        train_batch_size=batch_size, \n",
    "        val_batch_size=batch_size, \n",
    "        window_size=window_size, \n",
    "        shuffle_buffer=shuffle_buffer_size,\n",
    "        name=\"feature \" + str(0))\n",
    "    model = model_prediction.get_model()\n",
    "    #Load weights\n",
    "    model =load_weights(model, i, museum_sequence_path)\n",
    "    models.append(model)\n",
    "    \n",
    "print(\"--- %s seconds ---\" % (time.time() - start_time))\n",
    "len(models)"
   ]
  },
  {
   "cell_type": "markdown",
   "metadata": {},
   "source": [
    "## Evaluate model"
   ]
  },
  {
   "cell_type": "code",
   "execution_count": 15,
   "metadata": {},
   "outputs": [],
   "source": [
    "from utils_plot import plot_series, plot_train_history, plot_prediction"
   ]
  },
  {
   "cell_type": "code",
   "execution_count": 16,
   "metadata": {},
   "outputs": [],
   "source": [
    "def model_forecast(model, series, window_size, batch_size):\n",
    "    series = tf.expand_dims(series, axis=-1)\n",
    "    ds = tf.data.Dataset.from_tensor_slices(series)\n",
    "    ds = ds.window(window_size, shift=1, drop_remainder=True)\n",
    "    ds = ds.flat_map(lambda w: w.batch(window_size))\n",
    "    ds = ds.map(lambda w: (w[:]))\n",
    "    ds = ds.batch(batch_size)\n",
    "    forecast = model.predict(ds)\n",
    "    return forecast"
   ]
  },
  {
   "cell_type": "markdown",
   "metadata": {},
   "source": [
    "**Predict validation dataset**"
   ]
  },
  {
   "cell_type": "code",
   "execution_count": 22,
   "metadata": {},
   "outputs": [
    {
     "data": {
      "text/html": [
       "<div>\n",
       "<style scoped>\n",
       "    .dataframe tbody tr th:only-of-type {\n",
       "        vertical-align: middle;\n",
       "    }\n",
       "\n",
       "    .dataframe tbody tr th {\n",
       "        vertical-align: top;\n",
       "    }\n",
       "\n",
       "    .dataframe thead th {\n",
       "        text-align: right;\n",
       "    }\n",
       "</style>\n",
       "<table border=\"1\" class=\"dataframe\">\n",
       "  <thead>\n",
       "    <tr style=\"text-align: right;\">\n",
       "      <th></th>\n",
       "      <th>feature</th>\n",
       "      <th>forecast</th>\n",
       "      <th>mae</th>\n",
       "      <th>x_valid</th>\n",
       "    </tr>\n",
       "  </thead>\n",
       "  <tbody>\n",
       "  </tbody>\n",
       "</table>\n",
       "</div>"
      ],
      "text/plain": [
       "Empty DataFrame\n",
       "Columns: [feature, forecast, mae, x_valid]\n",
       "Index: []"
      ]
     },
     "execution_count": 22,
     "metadata": {},
     "output_type": "execute_result"
    }
   ],
   "source": [
    "df_evaluation = pd.DataFrame({'feature' : [],\n",
    "                             'forecast': [],\n",
    "                             'x_valid':[],\n",
    "                             'mae':[]})\n",
    "df_evaluation"
   ]
  },
  {
   "cell_type": "code",
   "execution_count": 23,
   "metadata": {},
   "outputs": [
    {
     "data": {
      "text/html": [
       "<div>\n",
       "<style scoped>\n",
       "    .dataframe tbody tr th:only-of-type {\n",
       "        vertical-align: middle;\n",
       "    }\n",
       "\n",
       "    .dataframe tbody tr th {\n",
       "        vertical-align: top;\n",
       "    }\n",
       "\n",
       "    .dataframe thead th {\n",
       "        text-align: right;\n",
       "    }\n",
       "</style>\n",
       "<table border=\"1\" class=\"dataframe\">\n",
       "  <thead>\n",
       "    <tr style=\"text-align: right;\">\n",
       "      <th></th>\n",
       "      <th>feature</th>\n",
       "      <th>forecast</th>\n",
       "      <th>mae</th>\n",
       "      <th>x_valid</th>\n",
       "    </tr>\n",
       "  </thead>\n",
       "  <tbody>\n",
       "    <tr>\n",
       "      <th>0</th>\n",
       "      <td>0.0</td>\n",
       "      <td>[1.4456891, 0.69242, 0.8847543, 0.7827905, 0.6...</td>\n",
       "      <td>0.788689</td>\n",
       "      <td>[0.20638412, 0.35560545, -0.063230686, -0.2923...</td>\n",
       "    </tr>\n",
       "    <tr>\n",
       "      <th>1</th>\n",
       "      <td>1.0</td>\n",
       "      <td>[0.45196173, 0.28451252, 0.3502167, 0.54971987...</td>\n",
       "      <td>0.368515</td>\n",
       "      <td>[-0.04483192, 0.30764621, 0.34560072, -0.05997...</td>\n",
       "    </tr>\n",
       "    <tr>\n",
       "      <th>2</th>\n",
       "      <td>2.0</td>\n",
       "      <td>[1.3659955, 0.035524927, 0.28225762, 1.2162898...</td>\n",
       "      <td>0.641327</td>\n",
       "      <td>[1.3406808, 0.7786245, 0.37593648, 1.507407, 0...</td>\n",
       "    </tr>\n",
       "    <tr>\n",
       "      <th>3</th>\n",
       "      <td>3.0</td>\n",
       "      <td>[0.27477202, 0.506382, 0.5914582, 1.4466254, 1...</td>\n",
       "      <td>0.429125</td>\n",
       "      <td>[0.7488598, 1.0037854, -0.033646848, 0.7392480...</td>\n",
       "    </tr>\n",
       "    <tr>\n",
       "      <th>4</th>\n",
       "      <td>4.0</td>\n",
       "      <td>[1.3160216, 0.13746098, 0.15059394, 0.18993375...</td>\n",
       "      <td>0.510629</td>\n",
       "      <td>[1.341712, 0.9017248, 1.1617289, 0.21867388, 0...</td>\n",
       "    </tr>\n",
       "  </tbody>\n",
       "</table>\n",
       "</div>"
      ],
      "text/plain": [
       "   feature                                           forecast       mae  \\\n",
       "0      0.0  [1.4456891, 0.69242, 0.8847543, 0.7827905, 0.6...  0.788689   \n",
       "1      1.0  [0.45196173, 0.28451252, 0.3502167, 0.54971987...  0.368515   \n",
       "2      2.0  [1.3659955, 0.035524927, 0.28225762, 1.2162898...  0.641327   \n",
       "3      3.0  [0.27477202, 0.506382, 0.5914582, 1.4466254, 1...  0.429125   \n",
       "4      4.0  [1.3160216, 0.13746098, 0.15059394, 0.18993375...  0.510629   \n",
       "\n",
       "                                             x_valid  \n",
       "0  [0.20638412, 0.35560545, -0.063230686, -0.2923...  \n",
       "1  [-0.04483192, 0.30764621, 0.34560072, -0.05997...  \n",
       "2  [1.3406808, 0.7786245, 0.37593648, 1.507407, 0...  \n",
       "3  [0.7488598, 1.0037854, -0.033646848, 0.7392480...  \n",
       "4  [1.341712, 0.9017248, 1.1617289, 0.21867388, 0...  "
      ]
     },
     "execution_count": 23,
     "metadata": {},
     "output_type": "execute_result"
    }
   ],
   "source": [
    "for feature in range(n_features):\n",
    "    #Predict feature i\n",
    "    x_feature = X[:,feature]\n",
    "    rnn_forecast = model_forecast(models[feature], x_feature, window_size, batch_size)\n",
    "    rnn_forecast = rnn_forecast[split_time-window_size+1:,-1]\n",
    "\n",
    "    #Get validation dataset \n",
    "    x_valid = x_feature[split_time:]\n",
    "\n",
    "    #Compute MAE\n",
    "    mae = tf.keras.metrics.mean_absolute_error(x_valid, rnn_forecast).numpy().mean()\n",
    "\n",
    "    df_evaluation = df_evaluation.append({'feature' : feature,\n",
    "                    'forecast': rnn_forecast,\n",
    "                    'x_valid':x_valid,\n",
    "                    'mae':mae\n",
    "                   }, \n",
    "                   ignore_index=True)\n",
    "\n",
    "df_evaluation.head()"
   ]
  },
  {
   "cell_type": "code",
   "execution_count": 24,
   "metadata": {},
   "outputs": [],
   "source": [
    "df_evaluation.to_csv(os.path.join(CONFIG_PATH, 'config_3/forecast.csv'), index=False)"
   ]
  },
  {
   "cell_type": "markdown",
   "metadata": {},
   "source": [
    "**Plot forecast for a single feature**"
   ]
  },
  {
   "cell_type": "code",
   "execution_count": 25,
   "metadata": {},
   "outputs": [],
   "source": [
    "PLOT_PATH = '/root/work/artwork_sequence/plots'"
   ]
  },
  {
   "cell_type": "code",
   "execution_count": 26,
   "metadata": {},
   "outputs": [],
   "source": [
    "feature = 5\n",
    "rnn_forecast = df_evaluation.loc[feature,'forecast']\n",
    "x_valid = df_evaluation.loc[feature,'x_valid']\n",
    "timeline = np.arange(rnn_forecast.shape[0])"
   ]
  },
  {
   "cell_type": "code",
   "execution_count": 27,
   "metadata": {},
   "outputs": [
    {
     "data": {
      "image/png": "[encoded data removed]",
      "text/plain": [
       "<matplotlib.figure.Figure at 0x7f1d6b79d518>"
      ]
     },
     "metadata": {},
     "output_type": "display_data"
    }
   ],
   "source": [
    "plot = plot_series(timeline, [(x_valid, 'x_valid'), (rnn_forecast, 'rnn')])\n",
    "plot.title('Forescast artwork sequence')\n",
    "plot.savefig(os.path.join(PLOT_PATH, 'forescast_sequence_2.png'))\n",
    "plot.show()"
   ]
  },
  {
   "cell_type": "markdown",
   "metadata": {},
   "source": [
    "**MAE**"
   ]
  },
  {
   "cell_type": "code",
   "execution_count": 28,
   "metadata": {},
   "outputs": [
    {
     "data": {
      "text/plain": [
       "0.5716481815526883"
      ]
     },
     "execution_count": 28,
     "metadata": {},
     "output_type": "execute_result"
    }
   ],
   "source": [
    "df_evaluation['mae'].mean()"
   ]
  }
 ],
 "metadata": {
  "kernelspec": {
   "display_name": "Python 3",
   "language": "python",
   "name": "python3"
  },
  "language_info": {
   "codemirror_mode": {
    "name": "ipython",
    "version": 3
   },
   "file_extension": ".py",
   "mimetype": "text/x-python",
   "name": "python",
   "nbconvert_exporter": "python",
   "pygments_lexer": "ipython3",
   "version": "3.5.2"
  }
 },
 "nbformat": 4,
 "nbformat_minor": 2
}
