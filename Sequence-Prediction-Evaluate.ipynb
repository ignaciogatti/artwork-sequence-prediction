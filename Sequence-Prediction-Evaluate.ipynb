{
 "cells": [
  {
   "cell_type": "markdown",
   "metadata": {},
   "source": [
    "# Artwork Sequence Prediction Evaluation"
   ]
  },
  {
   "cell_type": "code",
   "execution_count": 2,
   "metadata": {},
   "outputs": [],
   "source": [
    "import numpy as np\n",
    "import pandas as pd\n",
    "import tensorflow as tf\n",
    "import os"
   ]
  },
  {
   "cell_type": "code",
   "execution_count": 3,
   "metadata": {},
   "outputs": [],
   "source": [
    "#CONFIG_PATH = '/root/work/artwork_sequence/train_test_configuration/multivariate'\n",
    "#CONFIG_PATH = '/root/work/artwork_sequence/train_test_configuration/univariate'\n",
    "\n",
    "BASE_PATH = '/root/work/artwork_sequence/kfold'\n",
    "folder ='folder_9'\n",
    "\n",
    "DATASET_PATH = os.path.join(BASE_PATH, folder)\n",
    "\n",
    "CONFIG_PATH = os.path.join(BASE_PATH,'univariate')\n",
    "\n",
    "CONFIG_PATH = os.path.join(CONFIG_PATH,folder)\n"
   ]
  },
  {
   "cell_type": "code",
   "execution_count": 4,
   "metadata": {},
   "outputs": [
    {
     "data": {
      "text/plain": [
       "{'weights_folder': '/root/work/artwork_sequence/kfold/univariate/folder_9/config_4/trained_model_weights',\n",
       " 'x_test': '/root/work/artwork_sequence/kfold/folder_9/X_test.csv',\n",
       " 'x_test_matrix': '/root/work/artwork_sequence/kfold/folder_9/X_test_matrix.npy',\n",
       " 'x_train': '/root/work/artwork_sequence/kfold/folder_9/X_train.csv',\n",
       " 'x_train_matrix': '/root/work/artwork_sequence/kfold/folder_9/X_train_matrix.npy'}"
      ]
     },
     "execution_count": 4,
     "metadata": {},
     "output_type": "execute_result"
    }
   ],
   "source": [
    "window_index = 4\n",
    "\n",
    "museum_sequence_path = {\n",
    "    'x_train' : os.path.join(DATASET_PATH, 'X_train.csv'),\n",
    "    'x_test' : os.path.join(DATASET_PATH, 'X_test.csv'),\n",
    "    'x_train_matrix' : os.path.join(DATASET_PATH, 'X_train_matrix.npy'),\n",
    "    'x_test_matrix' : os.path.join(DATASET_PATH, 'X_test_matrix.npy'),\n",
    "    'weights_folder' : os.path.join(CONFIG_PATH, 'config_'+str(window_index)+'/trained_model_weights')\n",
    "}\n",
    "museum_sequence_path"
   ]
  },
  {
   "cell_type": "markdown",
   "metadata": {},
   "source": [
    "## Load data"
   ]
  },
  {
   "cell_type": "code",
   "execution_count": 5,
   "metadata": {},
   "outputs": [
    {
     "data": {
      "text/html": [
       "<div>\n",
       "<style scoped>\n",
       "    .dataframe tbody tr th:only-of-type {\n",
       "        vertical-align: middle;\n",
       "    }\n",
       "\n",
       "    .dataframe tbody tr th {\n",
       "        vertical-align: top;\n",
       "    }\n",
       "\n",
       "    .dataframe thead th {\n",
       "        text-align: right;\n",
       "    }\n",
       "</style>\n",
       "<table border=\"1\" class=\"dataframe\">\n",
       "  <thead>\n",
       "    <tr style=\"text-align: right;\">\n",
       "      <th></th>\n",
       "      <th>tour_path</th>\n",
       "    </tr>\n",
       "  </thead>\n",
       "  <tbody>\n",
       "    <tr>\n",
       "      <th>0</th>\n",
       "      <td>/root/work/datasets/artwork_sequence/rijksmuse...</td>\n",
       "    </tr>\n",
       "    <tr>\n",
       "      <th>1</th>\n",
       "      <td>/root/work/datasets/artwork_sequence/rijksmuse...</td>\n",
       "    </tr>\n",
       "    <tr>\n",
       "      <th>2</th>\n",
       "      <td>/root/work/datasets/artwork_sequence/rijksmuse...</td>\n",
       "    </tr>\n",
       "    <tr>\n",
       "      <th>3</th>\n",
       "      <td>/root/work/datasets/artwork_sequence/rijksmuse...</td>\n",
       "    </tr>\n",
       "    <tr>\n",
       "      <th>4</th>\n",
       "      <td>/root/work/datasets/artwork_sequence/rijksmuse...</td>\n",
       "    </tr>\n",
       "  </tbody>\n",
       "</table>\n",
       "</div>"
      ],
      "text/plain": [
       "                                           tour_path\n",
       "0  /root/work/datasets/artwork_sequence/rijksmuse...\n",
       "1  /root/work/datasets/artwork_sequence/rijksmuse...\n",
       "2  /root/work/datasets/artwork_sequence/rijksmuse...\n",
       "3  /root/work/datasets/artwork_sequence/rijksmuse...\n",
       "4  /root/work/datasets/artwork_sequence/rijksmuse..."
      ]
     },
     "execution_count": 5,
     "metadata": {},
     "output_type": "execute_result"
    }
   ],
   "source": [
    "df_x_train = pd.read_csv(museum_sequence_path['x_train'], index_col=0)\n",
    "df_x_test = pd.read_csv(museum_sequence_path['x_test'], index_col=0)\n",
    "x_train_matrix = np.load(museum_sequence_path['x_train_matrix'])\n",
    "x_test_matrix = np.load(museum_sequence_path['x_test_matrix'])\n",
    "df_x_train.head()"
   ]
  },
  {
   "cell_type": "code",
   "execution_count": 6,
   "metadata": {},
   "outputs": [
    {
     "data": {
      "text/plain": [
       "(776, 300)"
      ]
     },
     "execution_count": 6,
     "metadata": {},
     "output_type": "execute_result"
    }
   ],
   "source": [
    "x_train_matrix.shape"
   ]
  },
  {
   "cell_type": "markdown",
   "metadata": {},
   "source": [
    "## Reset Tensorflow session"
   ]
  },
  {
   "cell_type": "code",
   "execution_count": 7,
   "metadata": {},
   "outputs": [],
   "source": [
    "tf.keras.backend.clear_session()"
   ]
  },
  {
   "cell_type": "markdown",
   "metadata": {},
   "source": [
    "## Config  data to fit with the model input\n",
    "\n",
    "Because the **Prediction feature model** split the data into training and validation dataset, it is necessary to give all the data in only one block"
   ]
  },
  {
   "cell_type": "markdown",
   "metadata": {},
   "source": [
    "**Define timeline**"
   ]
  },
  {
   "cell_type": "code",
   "execution_count": 8,
   "metadata": {},
   "outputs": [
    {
     "data": {
      "text/plain": [
       "(859,)"
      ]
     },
     "execution_count": 8,
     "metadata": {},
     "output_type": "execute_result"
    }
   ],
   "source": [
    "timeline = np.arange(x_train_matrix.shape[0] + x_test_matrix.shape[0])\n",
    "timeline.shape"
   ]
  },
  {
   "cell_type": "markdown",
   "metadata": {},
   "source": [
    "**Define configuration to deal with the windowed dataset**"
   ]
  },
  {
   "cell_type": "code",
   "execution_count": 9,
   "metadata": {},
   "outputs": [],
   "source": [
    "split_time = x_train_matrix.shape[0]\n",
    "\n",
    "X = np.concatenate((x_train_matrix, x_test_matrix))\n",
    "\n",
    "window_size = window_index\n",
    "\n",
    "#Number of artwork's feature\n",
    "n_features = X.shape[1]\n",
    "\n",
    "#Number of feature to take into account\n",
    "n_influence_features=5\n",
    "\n",
    "batch_size = 128\n",
    "shuffle_buffer_size = 300"
   ]
  },
  {
   "cell_type": "code",
   "execution_count": 10,
   "metadata": {},
   "outputs": [
    {
     "data": {
      "text/plain": [
       "(859, 300)"
      ]
     },
     "execution_count": 10,
     "metadata": {},
     "output_type": "execute_result"
    }
   ],
   "source": [
    "X.shape"
   ]
  },
  {
   "cell_type": "markdown",
   "metadata": {},
   "source": [
    "## Create and Load models"
   ]
  },
  {
   "cell_type": "markdown",
   "metadata": {},
   "source": [
    "**Get models**"
   ]
  },
  {
   "cell_type": "code",
   "execution_count": 11,
   "metadata": {},
   "outputs": [],
   "source": [
    "from Sequence_prediction_factory import Sequence_prediction_multivariate, Sequence_prediction_univariate"
   ]
  },
  {
   "cell_type": "code",
   "execution_count": 12,
   "metadata": {},
   "outputs": [],
   "source": [
    "model_univariate = Sequence_prediction_univariate(\n",
    "    X=X, \n",
    "    shuffle_buffer_size=shuffle_buffer_size, \n",
    "    split_time=split_time, \n",
    "    train_batch_size=batch_size, \n",
    "    val_batch_size=batch_size,\n",
    "    CONFIG_PATH=CONFIG_PATH)"
   ]
  },
  {
   "cell_type": "code",
   "execution_count": 13,
   "metadata": {
    "code_folding": []
   },
   "outputs": [
    {
     "ename": "TypeError",
     "evalue": "__init__() got an unexpected keyword argument 'window_size'",
     "output_type": "error",
     "traceback": [
      "\u001b[0;31m---------------------------------------------------------------------------\u001b[0m",
      "\u001b[0;31mTypeError\u001b[0m                                 Traceback (most recent call last)",
      "\u001b[0;32m<ipython-input-13-c4021285c10f>\u001b[0m in \u001b[0;36m<module>\u001b[0;34m()\u001b[0m\n\u001b[1;32m      6\u001b[0m     \u001b[0mval_batch_size\u001b[0m\u001b[0;34m=\u001b[0m\u001b[0mbatch_size\u001b[0m\u001b[0;34m,\u001b[0m\u001b[0;34m\u001b[0m\u001b[0m\n\u001b[1;32m      7\u001b[0m     \u001b[0mwindow_size\u001b[0m\u001b[0;34m=\u001b[0m\u001b[0mwindow_size\u001b[0m\u001b[0;34m,\u001b[0m\u001b[0;34m\u001b[0m\u001b[0m\n\u001b[0;32m----> 8\u001b[0;31m     n_influence_features=n_influence_features)\n\u001b[0m",
      "\u001b[0;31mTypeError\u001b[0m: __init__() got an unexpected keyword argument 'window_size'"
     ]
    }
   ],
   "source": [
    "model_multivariate = Sequence_prediction_multivariate(\n",
    "    X=X, \n",
    "    shuffle_buffer_size=shuffle_buffer_size, \n",
    "    split_time=split_time, \n",
    "    train_batch_size=batch_size, \n",
    "    val_batch_size=batch_size, \n",
    "    window_size=window_size, \n",
    "    n_influence_features=n_influence_features)"
   ]
  },
  {
   "cell_type": "code",
   "execution_count": 15,
   "metadata": {},
   "outputs": [],
   "source": [
    "model_prediction = model_univariate"
   ]
  },
  {
   "cell_type": "code",
   "execution_count": 16,
   "metadata": {},
   "outputs": [
    {
     "name": "stdout",
     "output_type": "stream",
     "text": [
      "WARNING:tensorflow:Entity <function standard_lstm at 0x7f391bd4aae8> could not be transformed and will be executed as-is. Please report this to the AutoGraph team. When filing the bug, set the verbosity to 10 (on Linux, `export AUTOGRAPH_VERBOSITY=10`) and attach the full output. Cause: converting <function standard_lstm at 0x7f391bd4aae8>: AttributeError: module 'gast' has no attribute 'Num'\n",
      "WARNING: Entity <function standard_lstm at 0x7f391bd4aae8> could not be transformed and will be executed as-is. Please report this to the AutoGraph team. When filing the bug, set the verbosity to 10 (on Linux, `export AUTOGRAPH_VERBOSITY=10`) and attach the full output. Cause: converting <function standard_lstm at 0x7f391bd4aae8>: AttributeError: module 'gast' has no attribute 'Num'\n",
      "WARNING:tensorflow:Entity <function cudnn_lstm at 0x7f391bd4ab70> could not be transformed and will be executed as-is. Please report this to the AutoGraph team. When filing the bug, set the verbosity to 10 (on Linux, `export AUTOGRAPH_VERBOSITY=10`) and attach the full output. Cause: converting <function cudnn_lstm at 0x7f391bd4ab70>: AttributeError: module 'gast' has no attribute 'Num'\n",
      "WARNING: Entity <function cudnn_lstm at 0x7f391bd4ab70> could not be transformed and will be executed as-is. Please report this to the AutoGraph team. When filing the bug, set the verbosity to 10 (on Linux, `export AUTOGRAPH_VERBOSITY=10`) and attach the full output. Cause: converting <function cudnn_lstm at 0x7f391bd4ab70>: AttributeError: module 'gast' has no attribute 'Num'\n",
      "WARNING:tensorflow:Entity <function standard_lstm at 0x7f391bd4aae8> could not be transformed and will be executed as-is. Please report this to the AutoGraph team. When filing the bug, set the verbosity to 10 (on Linux, `export AUTOGRAPH_VERBOSITY=10`) and attach the full output. Cause: converting <function standard_lstm at 0x7f391bd4aae8>: AttributeError: module 'gast' has no attribute 'Num'\n",
      "WARNING: Entity <function standard_lstm at 0x7f391bd4aae8> could not be transformed and will be executed as-is. Please report this to the AutoGraph team. When filing the bug, set the verbosity to 10 (on Linux, `export AUTOGRAPH_VERBOSITY=10`) and attach the full output. Cause: converting <function standard_lstm at 0x7f391bd4aae8>: AttributeError: module 'gast' has no attribute 'Num'\n",
      "WARNING:tensorflow:Entity <function cudnn_lstm at 0x7f391bd4ab70> could not be transformed and will be executed as-is. Please report this to the AutoGraph team. When filing the bug, set the verbosity to 10 (on Linux, `export AUTOGRAPH_VERBOSITY=10`) and attach the full output. Cause: converting <function cudnn_lstm at 0x7f391bd4ab70>: AttributeError: module 'gast' has no attribute 'Num'\n",
      "WARNING: Entity <function cudnn_lstm at 0x7f391bd4ab70> could not be transformed and will be executed as-is. Please report this to the AutoGraph team. When filing the bug, set the verbosity to 10 (on Linux, `export AUTOGRAPH_VERBOSITY=10`) and attach the full output. Cause: converting <function cudnn_lstm at 0x7f391bd4ab70>: AttributeError: module 'gast' has no attribute 'Num'\n",
      "Model: \"sequential\"\n",
      "_________________________________________________________________\n",
      "Layer (type)                 Output Shape              Param #   \n",
      "=================================================================\n",
      "conv1d (Conv1D)              (None, 4, 20)             120       \n",
      "_________________________________________________________________\n",
      "lstm (LSTM)                  (None, 4, 40)             9760      \n",
      "_________________________________________________________________\n",
      "lstm_1 (LSTM)                (None, 20)                4880      \n",
      "_________________________________________________________________\n",
      "dense (Dense)                (None, 20)                420       \n",
      "_________________________________________________________________\n",
      "dense_1 (Dense)              (None, 10)                210       \n",
      "_________________________________________________________________\n",
      "dense_2 (Dense)              (None, 1)                 11        \n",
      "_________________________________________________________________\n",
      "lambda (Lambda)              (None, 1)                 0         \n",
      "=================================================================\n",
      "Total params: 15,401\n",
      "Trainable params: 15,401\n",
      "Non-trainable params: 0\n",
      "_________________________________________________________________\n"
     ]
    }
   ],
   "source": [
    "n_features = X.shape[1]\n",
    "#Get and define the RNN model \n",
    "model_prediction.set_window_size(window_size)\n",
    "model = model_prediction.get_model()\n",
    "model.define_model(conv_filter=20, lstm_filter=40, dense_filter=20, prediction_length=1)\n",
    "model.get_model().summary()"
   ]
  },
  {
   "cell_type": "markdown",
   "metadata": {},
   "source": [
    "## Evaluate model"
   ]
  },
  {
   "cell_type": "code",
   "execution_count": 17,
   "metadata": {},
   "outputs": [],
   "source": [
    "from utils_plot import plot_series, plot_train_history, plot_prediction"
   ]
  },
  {
   "cell_type": "code",
   "execution_count": 18,
   "metadata": {},
   "outputs": [],
   "source": [
    "def model_forecast(model, series, window_size, batch_size):\n",
    "    if len(series.shape) == 1:\n",
    "            series = tf.expand_dims(series, axis=-1)\n",
    "    ds = tf.data.Dataset.from_tensor_slices(series)\n",
    "    ds = ds.window(window_size, shift=1, drop_remainder=True)\n",
    "    ds = ds.flat_map(lambda w: w.batch(window_size))\n",
    "    ds = ds.map(lambda w: (w[:]))\n",
    "    ds = ds.batch(batch_size)\n",
    "    forecast = model.predict(ds)\n",
    "    return forecast"
   ]
  },
  {
   "cell_type": "markdown",
   "metadata": {},
   "source": [
    "**Predict validation dataset**"
   ]
  },
  {
   "cell_type": "code",
   "execution_count": 19,
   "metadata": {},
   "outputs": [
    {
     "data": {
      "text/html": [
       "<div>\n",
       "<style scoped>\n",
       "    .dataframe tbody tr th:only-of-type {\n",
       "        vertical-align: middle;\n",
       "    }\n",
       "\n",
       "    .dataframe tbody tr th {\n",
       "        vertical-align: top;\n",
       "    }\n",
       "\n",
       "    .dataframe thead th {\n",
       "        text-align: right;\n",
       "    }\n",
       "</style>\n",
       "<table border=\"1\" class=\"dataframe\">\n",
       "  <thead>\n",
       "    <tr style=\"text-align: right;\">\n",
       "      <th></th>\n",
       "      <th>feature</th>\n",
       "      <th>forecast</th>\n",
       "      <th>mae</th>\n",
       "      <th>x_valid</th>\n",
       "    </tr>\n",
       "  </thead>\n",
       "  <tbody>\n",
       "  </tbody>\n",
       "</table>\n",
       "</div>"
      ],
      "text/plain": [
       "Empty DataFrame\n",
       "Columns: [feature, forecast, mae, x_valid]\n",
       "Index: []"
      ]
     },
     "execution_count": 19,
     "metadata": {},
     "output_type": "execute_result"
    }
   ],
   "source": [
    "df_evaluation = pd.DataFrame({'feature' : [],\n",
    "                             'forecast': [],\n",
    "                             'x_valid':[],\n",
    "                             'mae':[]})\n",
    "df_evaluation"
   ]
  },
  {
   "cell_type": "code",
   "execution_count": 20,
   "metadata": {},
   "outputs": [
    {
     "data": {
      "text/html": [
       "<div>\n",
       "<style scoped>\n",
       "    .dataframe tbody tr th:only-of-type {\n",
       "        vertical-align: middle;\n",
       "    }\n",
       "\n",
       "    .dataframe tbody tr th {\n",
       "        vertical-align: top;\n",
       "    }\n",
       "\n",
       "    .dataframe thead th {\n",
       "        text-align: right;\n",
       "    }\n",
       "</style>\n",
       "<table border=\"1\" class=\"dataframe\">\n",
       "  <thead>\n",
       "    <tr style=\"text-align: right;\">\n",
       "      <th></th>\n",
       "      <th>feature</th>\n",
       "      <th>forecast</th>\n",
       "      <th>mae</th>\n",
       "      <th>x_valid</th>\n",
       "    </tr>\n",
       "  </thead>\n",
       "  <tbody>\n",
       "    <tr>\n",
       "      <th>0</th>\n",
       "      <td>0.0</td>\n",
       "      <td>[1.4101126, 1.189847, 1.4951053, 1.3001746, 0....</td>\n",
       "      <td>0.873951</td>\n",
       "      <td>[0.5038761, 1.995256, -0.0012755014, 1.1650403...</td>\n",
       "    </tr>\n",
       "    <tr>\n",
       "      <th>1</th>\n",
       "      <td>1.0</td>\n",
       "      <td>[0.50963366, 0.50963366, 0.50963366, 0.5096336...</td>\n",
       "      <td>0.398223</td>\n",
       "      <td>[0.42336145, -0.019073749, 1.5969427, -0.06633...</td>\n",
       "    </tr>\n",
       "    <tr>\n",
       "      <th>2</th>\n",
       "      <td>2.0</td>\n",
       "      <td>[0.63292086, 0.58682036, 0.49362928, 0.5331791...</td>\n",
       "      <td>0.420718</td>\n",
       "      <td>[0.66588247, 1.0526909, 0.13114023, 0.8346048,...</td>\n",
       "    </tr>\n",
       "    <tr>\n",
       "      <th>3</th>\n",
       "      <td>3.0</td>\n",
       "      <td>[0.57500607, 0.6972815, 0.48546392, 0.60743064...</td>\n",
       "      <td>0.341754</td>\n",
       "      <td>[0.7844435, 0.2725171, 1.1163402, 0.82578313, ...</td>\n",
       "    </tr>\n",
       "    <tr>\n",
       "      <th>4</th>\n",
       "      <td>4.0</td>\n",
       "      <td>[0.464987, 0.5670622, 0.66146827, 0.7418778, 0...</td>\n",
       "      <td>0.370976</td>\n",
       "      <td>[0.7513504, 0.9384292, 0.5849688, 0.7473986, 1...</td>\n",
       "    </tr>\n",
       "  </tbody>\n",
       "</table>\n",
       "</div>"
      ],
      "text/plain": [
       "   feature                                           forecast       mae  \\\n",
       "0      0.0  [1.4101126, 1.189847, 1.4951053, 1.3001746, 0....  0.873951   \n",
       "1      1.0  [0.50963366, 0.50963366, 0.50963366, 0.5096336...  0.398223   \n",
       "2      2.0  [0.63292086, 0.58682036, 0.49362928, 0.5331791...  0.420718   \n",
       "3      3.0  [0.57500607, 0.6972815, 0.48546392, 0.60743064...  0.341754   \n",
       "4      4.0  [0.464987, 0.5670622, 0.66146827, 0.7418778, 0...  0.370976   \n",
       "\n",
       "                                             x_valid  \n",
       "0  [0.5038761, 1.995256, -0.0012755014, 1.1650403...  \n",
       "1  [0.42336145, -0.019073749, 1.5969427, -0.06633...  \n",
       "2  [0.66588247, 1.0526909, 0.13114023, 0.8346048,...  \n",
       "3  [0.7844435, 0.2725171, 1.1163402, 0.82578313, ...  \n",
       "4  [0.7513504, 0.9384292, 0.5849688, 0.7473986, 1...  "
      ]
     },
     "execution_count": 20,
     "metadata": {},
     "output_type": "execute_result"
    }
   ],
   "source": [
    "for feature in range(n_features):\n",
    "    \n",
    "    #Load weights for feature i\n",
    "    model.set_index(feature)\n",
    "    model.load_weights(museum_sequence_path)\n",
    "    \n",
    "    #Define feature to take into account for prediction\n",
    "    x_influence_features = model.get_indexes_features()\n",
    "    x_influence_features = np.insert(arr=x_influence_features, obj=0, values=int(feature))\n",
    "    x_feature = X[:,x_influence_features.astype(int)]\n",
    "    \n",
    "    #Predict feature i\n",
    "    rnn_forecast = model_forecast(model.get_model(), x_feature, window_size, batch_size)\n",
    "    rnn_forecast = rnn_forecast[split_time-window_size+1:,-1]\n",
    "\n",
    "    #Get validation dataset \n",
    "    x_valid = x_feature[split_time:, 0]\n",
    "\n",
    "    #Compute MAE\n",
    "    mae = tf.keras.metrics.mean_absolute_error(x_valid, rnn_forecast).numpy().mean()\n",
    "\n",
    "    df_evaluation = df_evaluation.append({'feature' : feature,\n",
    "                    'forecast': rnn_forecast,\n",
    "                    'x_valid':x_valid,\n",
    "                    'mae':mae\n",
    "                   }, \n",
    "                   ignore_index=True)\n",
    "\n",
    "df_evaluation.head()"
   ]
  },
  {
   "cell_type": "code",
   "execution_count": null,
   "metadata": {},
   "outputs": [],
   "source": [
    "df_evaluation.to_csv(os.path.join(CONFIG_PATH, 'config_'+str(window_size)+'/forecast.csv'), index=False)"
   ]
  },
  {
   "cell_type": "markdown",
   "metadata": {},
   "source": [
    "**Plot forecast for a single feature**"
   ]
  },
  {
   "cell_type": "code",
   "execution_count": null,
   "metadata": {},
   "outputs": [],
   "source": [
    "PLOT_PATH = '/root/work/artwork_sequence/plots'"
   ]
  },
  {
   "cell_type": "code",
   "execution_count": null,
   "metadata": {},
   "outputs": [],
   "source": [
    "feature = 5\n",
    "rnn_forecast = df_evaluation.loc[feature,'forecast']\n",
    "x_valid = df_evaluation.loc[feature,'x_valid']\n",
    "timeline = np.arange(rnn_forecast.shape[0])"
   ]
  },
  {
   "cell_type": "code",
   "execution_count": null,
   "metadata": {},
   "outputs": [],
   "source": [
    "plot = plot_series(timeline, [(x_valid, 'x_valid'), (rnn_forecast, 'rnn')])\n",
    "plot.title('Forescast artwork sequence')\n",
    "plot.savefig(os.path.join(PLOT_PATH, 'forescast_sequence_2.png'))\n",
    "plot.show()"
   ]
  },
  {
   "cell_type": "markdown",
   "metadata": {},
   "source": [
    "**MAE**"
   ]
  },
  {
   "cell_type": "code",
   "execution_count": 21,
   "metadata": {},
   "outputs": [
    {
     "data": {
      "text/plain": [
       "0.4988902612527211"
      ]
     },
     "execution_count": 21,
     "metadata": {},
     "output_type": "execute_result"
    }
   ],
   "source": [
    "df_evaluation['mae'].mean()"
   ]
  }
 ],
 "metadata": {
  "kernelspec": {
   "display_name": "Python 3",
   "language": "python",
   "name": "python3"
  },
  "language_info": {
   "codemirror_mode": {
    "name": "ipython",
    "version": 3
   },
   "file_extension": ".py",
   "mimetype": "text/x-python",
   "name": "python",
   "nbconvert_exporter": "python",
   "pygments_lexer": "ipython3",
   "version": "3.5.2"
  }
 },
 "nbformat": 4,
 "nbformat_minor": 2
}
