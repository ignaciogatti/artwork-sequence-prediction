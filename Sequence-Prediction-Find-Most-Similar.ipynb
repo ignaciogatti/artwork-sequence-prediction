{
 "cells": [
  {
   "cell_type": "markdown",
   "metadata": {},
   "source": [
    "# Sequence prediction find most similar"
   ]
  },
  {
   "cell_type": "code",
   "execution_count": 4,
   "metadata": {},
   "outputs": [],
   "source": [
    "import numpy as np\n",
    "import pandas as pd\n",
    "import tensorflow as tf\n",
    "import os"
   ]
  },
  {
   "cell_type": "code",
   "execution_count": 2,
   "metadata": {},
   "outputs": [],
   "source": [
    "CONFIG_PATH = '/root/work/artwork_sequence/train_test_configuration'"
   ]
  },
  {
   "cell_type": "code",
   "execution_count": 3,
   "metadata": {},
   "outputs": [
    {
     "data": {
      "text/plain": [
       "{'weights_folder': '/root/work/artwork_sequence/train_test_configuration/config_3/trained_model_weights',\n",
       " 'x_test': '/root/work/artwork_sequence/train_test_configuration/X_test.csv',\n",
       " 'x_test_matrix': '/root/work/artwork_sequence/train_test_configuration/X_test_matrix.npy',\n",
       " 'x_train': '/root/work/artwork_sequence/train_test_configuration/X_train.csv',\n",
       " 'x_train_matrix': '/root/work/artwork_sequence/train_test_configuration/X_train_matrix.npy'}"
      ]
     },
     "execution_count": 3,
     "metadata": {},
     "output_type": "execute_result"
    }
   ],
   "source": [
    "window_index = 3\n",
    "\n",
    "museum_sequence_path = {\n",
    "    'x_train' : os.path.join(CONFIG_PATH, 'X_train.csv'),\n",
    "    'x_test' : os.path.join(CONFIG_PATH, 'X_test.csv'),\n",
    "    'x_train_matrix' : os.path.join(CONFIG_PATH, 'X_train_matrix.npy'),\n",
    "    'x_test_matrix' : os.path.join(CONFIG_PATH, 'X_test_matrix.npy'),\n",
    "    'weights_folder' : os.path.join(CONFIG_PATH, 'config_'+str(window_index)+'/trained_model_weights')\n",
    "}\n",
    "museum_sequence_path"
   ]
  },
  {
   "cell_type": "markdown",
   "metadata": {},
   "source": [
    "## Load data"
   ]
  },
  {
   "cell_type": "code",
   "execution_count": 5,
   "metadata": {},
   "outputs": [
    {
     "data": {
      "text/html": [
       "<div>\n",
       "<style scoped>\n",
       "    .dataframe tbody tr th:only-of-type {\n",
       "        vertical-align: middle;\n",
       "    }\n",
       "\n",
       "    .dataframe tbody tr th {\n",
       "        vertical-align: top;\n",
       "    }\n",
       "\n",
       "    .dataframe thead th {\n",
       "        text-align: right;\n",
       "    }\n",
       "</style>\n",
       "<table border=\"1\" class=\"dataframe\">\n",
       "  <thead>\n",
       "    <tr style=\"text-align: right;\">\n",
       "      <th></th>\n",
       "      <th>tour_path</th>\n",
       "    </tr>\n",
       "  </thead>\n",
       "  <tbody>\n",
       "    <tr>\n",
       "      <th>20</th>\n",
       "      <td>/root/work/datasets/artwork_sequence/rijksmuse...</td>\n",
       "    </tr>\n",
       "    <tr>\n",
       "      <th>7</th>\n",
       "      <td>/root/work/datasets/artwork_sequence/rijksmuse...</td>\n",
       "    </tr>\n",
       "    <tr>\n",
       "      <th>40</th>\n",
       "      <td>/root/work/datasets/artwork_sequence/prado_cra...</td>\n",
       "    </tr>\n",
       "    <tr>\n",
       "      <th>0</th>\n",
       "      <td>/root/work/datasets/artwork_sequence/rijksmuse...</td>\n",
       "    </tr>\n",
       "    <tr>\n",
       "      <th>23</th>\n",
       "      <td>/root/work/datasets/artwork_sequence/prado_cra...</td>\n",
       "    </tr>\n",
       "  </tbody>\n",
       "</table>\n",
       "</div>"
      ],
      "text/plain": [
       "                                            tour_path\n",
       "20  /root/work/datasets/artwork_sequence/rijksmuse...\n",
       "7   /root/work/datasets/artwork_sequence/rijksmuse...\n",
       "40  /root/work/datasets/artwork_sequence/prado_cra...\n",
       "0   /root/work/datasets/artwork_sequence/rijksmuse...\n",
       "23  /root/work/datasets/artwork_sequence/prado_cra..."
      ]
     },
     "execution_count": 5,
     "metadata": {},
     "output_type": "execute_result"
    }
   ],
   "source": [
    "df_x_train = pd.read_csv(museum_sequence_path['x_train'], index_col=0)\n",
    "df_x_test = pd.read_csv(museum_sequence_path['x_test'], index_col=0)\n",
    "x_train_matrix = np.load(museum_sequence_path['x_train_matrix'])\n",
    "x_test_matrix = np.load(museum_sequence_path['x_test_matrix'])\n",
    "df_x_train.head()"
   ]
  },
  {
   "cell_type": "code",
   "execution_count": 6,
   "metadata": {},
   "outputs": [
    {
     "data": {
      "text/plain": [
       "(637, 300)"
      ]
     },
     "execution_count": 6,
     "metadata": {},
     "output_type": "execute_result"
    }
   ],
   "source": [
    "x_train_matrix.shape"
   ]
  },
  {
   "cell_type": "markdown",
   "metadata": {},
   "source": [
    "## Reset Tensorflow session"
   ]
  },
  {
   "cell_type": "code",
   "execution_count": 7,
   "metadata": {},
   "outputs": [],
   "source": [
    "tf.keras.backend.clear_session()"
   ]
  },
  {
   "cell_type": "markdown",
   "metadata": {},
   "source": [
    "## Config data to fit with the model input"
   ]
  },
  {
   "cell_type": "markdown",
   "metadata": {},
   "source": [
    "**Define timeline**"
   ]
  },
  {
   "cell_type": "code",
   "execution_count": 8,
   "metadata": {},
   "outputs": [
    {
     "data": {
      "text/plain": [
       "(222,)"
      ]
     },
     "execution_count": 8,
     "metadata": {},
     "output_type": "execute_result"
    }
   ],
   "source": [
    "timeline = np.arange(x_test_matrix.shape[0])\n",
    "timeline.shape"
   ]
  },
  {
   "cell_type": "code",
   "execution_count": 9,
   "metadata": {},
   "outputs": [],
   "source": [
    "split_time = x_train_matrix.shape[0]\n",
    "\n",
    "X = x_test_matrix\n",
    "\n",
    "window_size = window_index\n",
    "\n",
    "batch_size = 128\n",
    "shuffle_buffer_size = 300"
   ]
  },
  {
   "cell_type": "markdown",
   "metadata": {},
   "source": [
    "## Create and Load model"
   ]
  },
  {
   "cell_type": "markdown",
   "metadata": {},
   "source": [
    "**Helper function to load weights**"
   ]
  },
  {
   "cell_type": "code",
   "execution_count": 10,
   "metadata": {},
   "outputs": [],
   "source": [
    "def load_weights(model, index, museum_sequence_path):\n",
    "    #Find the folder where the weights are saved\n",
    "    model_feature_folder = os.path.join(museum_sequence_path['weights_folder'], 'model_feature_'+str(index))    \n",
    "    #Load weights\n",
    "    model.load_weights(os.path.join(model_feature_folder, 'weights_feature_'+str(index)))\n",
    "    return model"
   ]
  },
  {
   "cell_type": "markdown",
   "metadata": {},
   "source": [
    "**Get models**"
   ]
  },
  {
   "cell_type": "code",
   "execution_count": 11,
   "metadata": {},
   "outputs": [],
   "source": [
    "from Prediction_model_feature import Prediction_model_feature"
   ]
  },
  {
   "cell_type": "code",
   "execution_count": 12,
   "metadata": {},
   "outputs": [],
   "source": [
    "n_features = X.shape[1]\n",
    "models = []"
   ]
  },
  {
   "cell_type": "code",
   "execution_count": 13,
   "metadata": {},
   "outputs": [
    {
     "name": "stdout",
     "output_type": "stream",
     "text": [
      "WARNING:tensorflow:Entity <function standard_lstm at 0x7fcff03f1840> could not be transformed and will be executed as-is. Please report this to the AutoGraph team. When filing the bug, set the verbosity to 10 (on Linux, `export AUTOGRAPH_VERBOSITY=10`) and attach the full output. Cause: converting <function standard_lstm at 0x7fcff03f1840>: AttributeError: module 'gast' has no attribute 'Num'\n",
      "WARNING: Entity <function standard_lstm at 0x7fcff03f1840> could not be transformed and will be executed as-is. Please report this to the AutoGraph team. When filing the bug, set the verbosity to 10 (on Linux, `export AUTOGRAPH_VERBOSITY=10`) and attach the full output. Cause: converting <function standard_lstm at 0x7fcff03f1840>: AttributeError: module 'gast' has no attribute 'Num'\n",
      "WARNING:tensorflow:Entity <function cudnn_lstm at 0x7fcff03f18c8> could not be transformed and will be executed as-is. Please report this to the AutoGraph team. When filing the bug, set the verbosity to 10 (on Linux, `export AUTOGRAPH_VERBOSITY=10`) and attach the full output. Cause: converting <function cudnn_lstm at 0x7fcff03f18c8>: AttributeError: module 'gast' has no attribute 'Num'\n",
      "WARNING: Entity <function cudnn_lstm at 0x7fcff03f18c8> could not be transformed and will be executed as-is. Please report this to the AutoGraph team. When filing the bug, set the verbosity to 10 (on Linux, `export AUTOGRAPH_VERBOSITY=10`) and attach the full output. Cause: converting <function cudnn_lstm at 0x7fcff03f18c8>: AttributeError: module 'gast' has no attribute 'Num'\n",
      "WARNING:tensorflow:Entity <function standard_lstm at 0x7fcff03f1840> could not be transformed and will be executed as-is. Please report this to the AutoGraph team. When filing the bug, set the verbosity to 10 (on Linux, `export AUTOGRAPH_VERBOSITY=10`) and attach the full output. Cause: converting <function standard_lstm at 0x7fcff03f1840>: AttributeError: module 'gast' has no attribute 'Num'\n",
      "WARNING: Entity <function standard_lstm at 0x7fcff03f1840> could not be transformed and will be executed as-is. Please report this to the AutoGraph team. When filing the bug, set the verbosity to 10 (on Linux, `export AUTOGRAPH_VERBOSITY=10`) and attach the full output. Cause: converting <function standard_lstm at 0x7fcff03f1840>: AttributeError: module 'gast' has no attribute 'Num'\n",
      "WARNING:tensorflow:Entity <function cudnn_lstm at 0x7fcff03f18c8> could not be transformed and will be executed as-is. Please report this to the AutoGraph team. When filing the bug, set the verbosity to 10 (on Linux, `export AUTOGRAPH_VERBOSITY=10`) and attach the full output. Cause: converting <function cudnn_lstm at 0x7fcff03f18c8>: AttributeError: module 'gast' has no attribute 'Num'\n",
      "WARNING: Entity <function cudnn_lstm at 0x7fcff03f18c8> could not be transformed and will be executed as-is. Please report this to the AutoGraph team. When filing the bug, set the verbosity to 10 (on Linux, `export AUTOGRAPH_VERBOSITY=10`) and attach the full output. Cause: converting <function cudnn_lstm at 0x7fcff03f18c8>: AttributeError: module 'gast' has no attribute 'Num'\n",
      "--- 443.4200155735016 seconds ---\n"
     ]
    },
    {
     "data": {
      "text/plain": [
       "300"
      ]
     },
     "execution_count": 13,
     "metadata": {},
     "output_type": "execute_result"
    }
   ],
   "source": [
    "from IPython.display import clear_output\n",
    "import time\n",
    "\n",
    "start_time = time.time()\n",
    "\n",
    "for i in range(n_features):\n",
    "    clear_output(wait=True)\n",
    "    #Create model\n",
    "    model_prediction = Prediction_model_feature(\n",
    "        X=X[:, 0],\n",
    "        split_time=split_time,\n",
    "        train_batch_size=batch_size, \n",
    "        val_batch_size=batch_size, \n",
    "        window_size=window_size, \n",
    "        shuffle_buffer=shuffle_buffer_size,\n",
    "        name=\"feature \" + str(0))\n",
    "    model = model_prediction.get_model()\n",
    "    #Load weights\n",
    "    model =load_weights(model, i, museum_sequence_path)\n",
    "    models.append(model)\n",
    "    \n",
    "print(\"--- %s seconds ---\" % (time.time() - start_time))\n",
    "len(models)"
   ]
  },
  {
   "cell_type": "markdown",
   "metadata": {},
   "source": [
    "## Predict tour"
   ]
  },
  {
   "cell_type": "code",
   "execution_count": 14,
   "metadata": {},
   "outputs": [],
   "source": [
    "from utils_plot import plot_series, plot_train_history, plot_prediction"
   ]
  },
  {
   "cell_type": "markdown",
   "metadata": {},
   "source": [
    "**Select a tour**"
   ]
  },
  {
   "cell_type": "code",
   "execution_count": 88,
   "metadata": {},
   "outputs": [
    {
     "data": {
      "text/plain": [
       "'/root/work/datasets/artwork_sequence/prado_crawler/tour_18'"
      ]
     },
     "execution_count": 88,
     "metadata": {},
     "output_type": "execute_result"
    }
   ],
   "source": [
    "df_x_test['tour_path'].values[0]"
   ]
  },
  {
   "cell_type": "code",
   "execution_count": 15,
   "metadata": {},
   "outputs": [
    {
     "data": {
      "text/plain": [
       "(13, 300)"
      ]
     },
     "execution_count": 15,
     "metadata": {},
     "output_type": "execute_result"
    }
   ],
   "source": [
    "images_path = os.path.join(df_x_test['tour_path'].values[0], 'images')\n",
    "tour_length = len(os.listdir(images_path))\n",
    "X_tour = x_test_matrix[:tour_length]\n",
    "X_tour.shape"
   ]
  },
  {
   "cell_type": "markdown",
   "metadata": {},
   "source": [
    "### Predict features artworks for each tours"
   ]
  },
  {
   "cell_type": "markdown",
   "metadata": {},
   "source": [
    "**Function to predict the tour**"
   ]
  },
  {
   "cell_type": "code",
   "execution_count": 16,
   "metadata": {},
   "outputs": [],
   "source": [
    "def model_forecast(model, series, window_size, batch_size):\n",
    "    series = tf.expand_dims(series, axis=-1)\n",
    "    ds = tf.data.Dataset.from_tensor_slices(series)\n",
    "    ds = ds.window(window_size, shift=1, drop_remainder=True)\n",
    "    ds = ds.flat_map(lambda w: w.batch(window_size))\n",
    "    ds = ds.map(lambda w: (w[:]))\n",
    "    ds = ds.batch(batch_size)\n",
    "    forecast = model.predict(ds)\n",
    "    return forecast"
   ]
  },
  {
   "cell_type": "markdown",
   "metadata": {},
   "source": [
    "**Predict feature tours**"
   ]
  },
  {
   "cell_type": "code",
   "execution_count": 17,
   "metadata": {},
   "outputs": [
    {
     "data": {
      "text/html": [
       "<div>\n",
       "<style scoped>\n",
       "    .dataframe tbody tr th:only-of-type {\n",
       "        vertical-align: middle;\n",
       "    }\n",
       "\n",
       "    .dataframe tbody tr th {\n",
       "        vertical-align: top;\n",
       "    }\n",
       "\n",
       "    .dataframe thead th {\n",
       "        text-align: right;\n",
       "    }\n",
       "</style>\n",
       "<table border=\"1\" class=\"dataframe\">\n",
       "  <thead>\n",
       "    <tr style=\"text-align: right;\">\n",
       "      <th></th>\n",
       "      <th>feature</th>\n",
       "      <th>forecast</th>\n",
       "      <th>mae</th>\n",
       "      <th>x_valid</th>\n",
       "    </tr>\n",
       "  </thead>\n",
       "  <tbody>\n",
       "  </tbody>\n",
       "</table>\n",
       "</div>"
      ],
      "text/plain": [
       "Empty DataFrame\n",
       "Columns: [feature, forecast, mae, x_valid]\n",
       "Index: []"
      ]
     },
     "execution_count": 17,
     "metadata": {},
     "output_type": "execute_result"
    }
   ],
   "source": [
    "df_evaluation = pd.DataFrame({'feature' : [],\n",
    "                             'forecast': [],\n",
    "                             'x_valid':[],\n",
    "                             'mae':[]})\n",
    "df_evaluation"
   ]
  },
  {
   "cell_type": "code",
   "execution_count": 19,
   "metadata": {},
   "outputs": [
    {
     "data": {
      "text/html": [
       "<div>\n",
       "<style scoped>\n",
       "    .dataframe tbody tr th:only-of-type {\n",
       "        vertical-align: middle;\n",
       "    }\n",
       "\n",
       "    .dataframe tbody tr th {\n",
       "        vertical-align: top;\n",
       "    }\n",
       "\n",
       "    .dataframe thead th {\n",
       "        text-align: right;\n",
       "    }\n",
       "</style>\n",
       "<table border=\"1\" class=\"dataframe\">\n",
       "  <thead>\n",
       "    <tr style=\"text-align: right;\">\n",
       "      <th></th>\n",
       "      <th>feature</th>\n",
       "      <th>forecast</th>\n",
       "      <th>mae</th>\n",
       "      <th>x_valid</th>\n",
       "    </tr>\n",
       "  </thead>\n",
       "  <tbody>\n",
       "    <tr>\n",
       "      <th>0</th>\n",
       "      <td>0.0</td>\n",
       "      <td>[0.7779827, 0.6571379, 0.7676119, 0.849713, 1....</td>\n",
       "      <td>0.807985</td>\n",
       "      <td>[-0.29230052, 0.8424356, 1.1737278, 1.2865187,...</td>\n",
       "    </tr>\n",
       "    <tr>\n",
       "      <th>1</th>\n",
       "      <td>1.0</td>\n",
       "      <td>[0.43910006, 0.42740887, 0.38457522, 0.3830193...</td>\n",
       "      <td>0.356716</td>\n",
       "      <td>[-0.059978914, 0.28663373, 0.14912537, 1.05441...</td>\n",
       "    </tr>\n",
       "    <tr>\n",
       "      <th>2</th>\n",
       "      <td>2.0</td>\n",
       "      <td>[0.83216864, 0.7574638, 0.7590108, 0.7455342, ...</td>\n",
       "      <td>0.451865</td>\n",
       "      <td>[1.507407, 0.46375805, 0.7856071, 1.6591117, 1...</td>\n",
       "    </tr>\n",
       "    <tr>\n",
       "      <th>3</th>\n",
       "      <td>3.0</td>\n",
       "      <td>[0.85672194, 0.79068613, 0.8290143, 0.79601055...</td>\n",
       "      <td>0.178212</td>\n",
       "      <td>[0.73924804, 0.7568244, 0.559912, 1.042276, 0....</td>\n",
       "    </tr>\n",
       "    <tr>\n",
       "      <th>4</th>\n",
       "      <td>4.0</td>\n",
       "      <td>[0.8756848, 0.895782, 0.75910556, 0.7516807, 0...</td>\n",
       "      <td>0.380421</td>\n",
       "      <td>[0.21867388, 0.31268334, 0.8486078, 0.909141, ...</td>\n",
       "    </tr>\n",
       "  </tbody>\n",
       "</table>\n",
       "</div>"
      ],
      "text/plain": [
       "   feature                                           forecast       mae  \\\n",
       "0      0.0  [0.7779827, 0.6571379, 0.7676119, 0.849713, 1....  0.807985   \n",
       "1      1.0  [0.43910006, 0.42740887, 0.38457522, 0.3830193...  0.356716   \n",
       "2      2.0  [0.83216864, 0.7574638, 0.7590108, 0.7455342, ...  0.451865   \n",
       "3      3.0  [0.85672194, 0.79068613, 0.8290143, 0.79601055...  0.178212   \n",
       "4      4.0  [0.8756848, 0.895782, 0.75910556, 0.7516807, 0...  0.380421   \n",
       "\n",
       "                                             x_valid  \n",
       "0  [-0.29230052, 0.8424356, 1.1737278, 1.2865187,...  \n",
       "1  [-0.059978914, 0.28663373, 0.14912537, 1.05441...  \n",
       "2  [1.507407, 0.46375805, 0.7856071, 1.6591117, 1...  \n",
       "3  [0.73924804, 0.7568244, 0.559912, 1.042276, 0....  \n",
       "4  [0.21867388, 0.31268334, 0.8486078, 0.909141, ...  "
      ]
     },
     "execution_count": 19,
     "metadata": {},
     "output_type": "execute_result"
    }
   ],
   "source": [
    "for feature in range(n_features):\n",
    "    #Predict feature i\n",
    "    x_feature = X_tour[:,feature]\n",
    "    rnn_forecast = model_forecast(models[feature], x_feature, window_size, batch_size)\n",
    "    rnn_forecast = rnn_forecast[1:,-1,0]\n",
    "\n",
    "    #Get validation dataset \n",
    "    x_valid = x_feature[window_size:]\n",
    "\n",
    "    #Compute MAE\n",
    "    mae = tf.keras.metrics.mean_absolute_error(x_valid, rnn_forecast).numpy().mean()\n",
    "\n",
    "    df_evaluation = df_evaluation.append({'feature' : feature,\n",
    "                    'forecast': rnn_forecast,\n",
    "                    'x_valid':x_valid,\n",
    "                    'mae':mae\n",
    "                   }, \n",
    "                   ignore_index=True)\n",
    "\n",
    "df_evaluation.head()"
   ]
  },
  {
   "cell_type": "code",
   "execution_count": 27,
   "metadata": {},
   "outputs": [
    {
     "data": {
      "text/plain": [
       "0.38374367121607067"
      ]
     },
     "execution_count": 27,
     "metadata": {},
     "output_type": "execute_result"
    }
   ],
   "source": [
    "df_evaluation['mae'].mean()"
   ]
  },
  {
   "cell_type": "markdown",
   "metadata": {},
   "source": [
    "**Plot forecast for a single feature**"
   ]
  },
  {
   "cell_type": "code",
   "execution_count": 22,
   "metadata": {},
   "outputs": [],
   "source": [
    "feature = 5\n",
    "rnn_forecast = df_evaluation.loc[feature,'forecast']\n",
    "#discard the first artworks\n",
    "x_valid = df_evaluation.loc[feature,'x_valid']\n",
    "timeline = np.arange(rnn_forecast.shape[0])"
   ]
  },
  {
   "cell_type": "code",
   "execution_count": 23,
   "metadata": {},
   "outputs": [
    {
     "data": {
      "image/png": "[encoded data removed]",
      "text/plain": [
       "<matplotlib.figure.Figure at 0x7fced97e7390>"
      ]
     },
     "metadata": {},
     "output_type": "display_data"
    }
   ],
   "source": [
    "plot = plot_series(timeline, [(x_valid, 'x_valid'), (rnn_forecast, 'rnn')])\n",
    "plot.title('Forescast artwork sequence')\n",
    "#plot.savefig(os.path.join(PLOT_PATH, 'forescast_sequence_2.png'))\n",
    "plot.show()"
   ]
  },
  {
   "cell_type": "markdown",
   "metadata": {},
   "source": [
    "## Find most similar artwork"
   ]
  },
  {
   "cell_type": "markdown",
   "metadata": {},
   "source": [
    "**Load artwork's repository**"
   ]
  },
  {
   "cell_type": "code",
   "execution_count": 24,
   "metadata": {},
   "outputs": [],
   "source": [
    "BASE_PATH = '/root/work/datasets/artwork_sequence/'"
   ]
  },
  {
   "cell_type": "code",
   "execution_count": 25,
   "metadata": {},
   "outputs": [],
   "source": [
    "df_all_metadata = pd.read_csv(os.path.join(BASE_PATH, 'all_metadata.csv'))\n",
    "all_data_matrix = np.load(os.path.join(BASE_PATH, 'all_code_matrix.npy' ))"
   ]
  },
  {
   "cell_type": "code",
   "execution_count": 26,
   "metadata": {},
   "outputs": [
    {
     "name": "stdout",
     "output_type": "stream",
     "text": [
      "(633, 6)\n",
      "(633, 300)\n"
     ]
    }
   ],
   "source": [
    "print(df_all_metadata.shape)\n",
    "print(all_data_matrix.shape)"
   ]
  },
  {
   "cell_type": "markdown",
   "metadata": {},
   "source": [
    "**Reconstruct predicted codes**"
   ]
  },
  {
   "cell_type": "code",
   "execution_count": 28,
   "metadata": {},
   "outputs": [
    {
     "data": {
      "text/plain": [
       "0    [0.7779827, 0.6571379, 0.7676119, 0.849713, 1....\n",
       "1    [0.43910006, 0.42740887, 0.38457522, 0.3830193...\n",
       "2    [0.83216864, 0.7574638, 0.7590108, 0.7455342, ...\n",
       "3    [0.85672194, 0.79068613, 0.8290143, 0.79601055...\n",
       "4    [0.8756848, 0.895782, 0.75910556, 0.7516807, 0...\n",
       "Name: forecast, dtype: object"
      ]
     },
     "execution_count": 28,
     "metadata": {},
     "output_type": "execute_result"
    }
   ],
   "source": [
    "forescast = df_evaluation['forecast']\n",
    "forescast.head()"
   ]
  },
  {
   "cell_type": "code",
   "execution_count": 29,
   "metadata": {},
   "outputs": [],
   "source": [
    "feature_list = list(forescast.values)"
   ]
  },
  {
   "cell_type": "code",
   "execution_count": 30,
   "metadata": {},
   "outputs": [
    {
     "data": {
      "text/plain": [
       "(10, 300)"
      ]
     },
     "execution_count": 30,
     "metadata": {},
     "output_type": "execute_result"
    }
   ],
   "source": [
    "forecast_matrix = np.stack(feature_list)\n",
    "forecast_matrix = forecast_matrix.T\n",
    "forecast_matrix.shape"
   ]
  },
  {
   "cell_type": "markdown",
   "metadata": {},
   "source": [
    "**Compute cosine similarity**"
   ]
  },
  {
   "cell_type": "code",
   "execution_count": 106,
   "metadata": {},
   "outputs": [],
   "source": [
    "from sklearn.metrics.pairwise import cosine_similarity, cosine_distances,euclidean_distances"
   ]
  },
  {
   "cell_type": "code",
   "execution_count": 163,
   "metadata": {},
   "outputs": [
    {
     "data": {
      "text/plain": [
       "id                                                           1\n",
       "author                                         pieter de hooch\n",
       "data                                                      1663\n",
       "image_url    https://lh3.googleusercontent.com/7aWk-x_VNb_Y...\n",
       "title              interior with women beside a linen cupboard\n",
       "tour_path    /root/work/datasets/artwork_sequence/rijksmuse...\n",
       "Name: 89, dtype: object"
      ]
     },
     "execution_count": 163,
     "metadata": {},
     "output_type": "execute_result"
    }
   ],
   "source": [
    "df_all_metadata.iloc[sim_artwork_index]"
   ]
  },
  {
   "cell_type": "code",
   "execution_count": 164,
   "metadata": {},
   "outputs": [
    {
     "data": {
      "text/plain": [
       "'/root/work/datasets/artwork_sequence/rijksmuseum_crawler/tour_20'"
      ]
     },
     "execution_count": 164,
     "metadata": {},
     "output_type": "execute_result"
    }
   ],
   "source": [
    "df_all_metadata.iloc[sim_artwork_index]['tour_path']"
   ]
  },
  {
   "cell_type": "code",
   "execution_count": 113,
   "metadata": {},
   "outputs": [
    {
     "data": {
      "text/plain": [
       "'https://lh3.googleusercontent.com/7aWk-x_VNb_Y1-X8C38nVnZAgmyAGUWDmOIAYiHKVtZG55xUggHFjQ-8l49nCuF_VJFFh2W57yMJrRq2SVNctSFYL7o=w400'"
      ]
     },
     "execution_count": 113,
     "metadata": {},
     "output_type": "execute_result"
    }
   ],
   "source": [
    "df_all_metadata.iloc[sim_artwork_index]['image_url']"
   ]
  },
  {
   "cell_type": "code",
   "execution_count": 172,
   "metadata": {},
   "outputs": [
    {
     "data": {
      "text/html": [
       "<div>\n",
       "<style scoped>\n",
       "    .dataframe tbody tr th:only-of-type {\n",
       "        vertical-align: middle;\n",
       "    }\n",
       "\n",
       "    .dataframe tbody tr th {\n",
       "        vertical-align: top;\n",
       "    }\n",
       "\n",
       "    .dataframe thead th {\n",
       "        text-align: right;\n",
       "    }\n",
       "</style>\n",
       "<table border=\"1\" class=\"dataframe\">\n",
       "  <thead>\n",
       "    <tr style=\"text-align: right;\">\n",
       "      <th></th>\n",
       "      <th>author</th>\n",
       "      <th>image_url</th>\n",
       "      <th>sim_value</th>\n",
       "      <th>title</th>\n",
       "      <th>tour_path</th>\n",
       "    </tr>\n",
       "  </thead>\n",
       "  <tbody>\n",
       "  </tbody>\n",
       "</table>\n",
       "</div>"
      ],
      "text/plain": [
       "Empty DataFrame\n",
       "Columns: [author, image_url, sim_value, title, tour_path]\n",
       "Index: []"
      ]
     },
     "execution_count": 172,
     "metadata": {},
     "output_type": "execute_result"
    }
   ],
   "source": [
    "df_tour = pd.DataFrame({ 'title' : [],\n",
    "                         'author' : [],\n",
    "                         'sim_value' : [],\n",
    "                         'tour_path': [],\n",
    "                         'image_url':[]})\n",
    "df_tour"
   ]
  },
  {
   "cell_type": "code",
   "execution_count": 176,
   "metadata": {},
   "outputs": [
    {
     "data": {
      "text/html": [
       "<div>\n",
       "<style scoped>\n",
       "    .dataframe tbody tr th:only-of-type {\n",
       "        vertical-align: middle;\n",
       "    }\n",
       "\n",
       "    .dataframe tbody tr th {\n",
       "        vertical-align: top;\n",
       "    }\n",
       "\n",
       "    .dataframe thead th {\n",
       "        text-align: right;\n",
       "    }\n",
       "</style>\n",
       "<table border=\"1\" class=\"dataframe\">\n",
       "  <thead>\n",
       "    <tr style=\"text-align: right;\">\n",
       "      <th></th>\n",
       "      <th>author</th>\n",
       "      <th>image_url</th>\n",
       "      <th>sim_value</th>\n",
       "      <th>title</th>\n",
       "      <th>tour_path</th>\n",
       "    </tr>\n",
       "  </thead>\n",
       "  <tbody>\n",
       "    <tr>\n",
       "      <th>0</th>\n",
       "      <td>pieter de hooch</td>\n",
       "      <td>https://lh3.googleusercontent.com/7aWk-x_VNb_Y...</td>\n",
       "      <td>[0.91927314]</td>\n",
       "      <td>interior with women beside a linen cupboard</td>\n",
       "      <td>/root/work/datasets/artwork_sequence/rijksmuse...</td>\n",
       "    </tr>\n",
       "    <tr>\n",
       "      <th>1</th>\n",
       "      <td>pieter de hooch</td>\n",
       "      <td>https://lh3.googleusercontent.com/7aWk-x_VNb_Y...</td>\n",
       "      <td>[0.9110239]</td>\n",
       "      <td>interior with women beside a linen cupboard</td>\n",
       "      <td>/root/work/datasets/artwork_sequence/rijksmuse...</td>\n",
       "    </tr>\n",
       "    <tr>\n",
       "      <th>2</th>\n",
       "      <td>pieter de hooch</td>\n",
       "      <td>https://lh3.googleusercontent.com/7aWk-x_VNb_Y...</td>\n",
       "      <td>[0.91427857]</td>\n",
       "      <td>interior with women beside a linen cupboard</td>\n",
       "      <td>/root/work/datasets/artwork_sequence/rijksmuse...</td>\n",
       "    </tr>\n",
       "    <tr>\n",
       "      <th>3</th>\n",
       "      <td>pieter de hooch</td>\n",
       "      <td>https://lh3.googleusercontent.com/7aWk-x_VNb_Y...</td>\n",
       "      <td>[0.9361559]</td>\n",
       "      <td>interior with women beside a linen cupboard</td>\n",
       "      <td>/root/work/datasets/artwork_sequence/rijksmuse...</td>\n",
       "    </tr>\n",
       "    <tr>\n",
       "      <th>4</th>\n",
       "      <td>pieter de hooch</td>\n",
       "      <td>https://lh3.googleusercontent.com/7aWk-x_VNb_Y...</td>\n",
       "      <td>[0.9330392]</td>\n",
       "      <td>interior with women beside a linen cupboard</td>\n",
       "      <td>/root/work/datasets/artwork_sequence/rijksmuse...</td>\n",
       "    </tr>\n",
       "    <tr>\n",
       "      <th>5</th>\n",
       "      <td>pieter de hooch</td>\n",
       "      <td>https://lh3.googleusercontent.com/7aWk-x_VNb_Y...</td>\n",
       "      <td>[0.9171705]</td>\n",
       "      <td>interior with women beside a linen cupboard</td>\n",
       "      <td>/root/work/datasets/artwork_sequence/rijksmuse...</td>\n",
       "    </tr>\n",
       "    <tr>\n",
       "      <th>6</th>\n",
       "      <td>pieter de hooch</td>\n",
       "      <td>https://lh3.googleusercontent.com/7aWk-x_VNb_Y...</td>\n",
       "      <td>[0.9164647]</td>\n",
       "      <td>interior with women beside a linen cupboard</td>\n",
       "      <td>/root/work/datasets/artwork_sequence/rijksmuse...</td>\n",
       "    </tr>\n",
       "    <tr>\n",
       "      <th>7</th>\n",
       "      <td>pieter de hooch</td>\n",
       "      <td>https://lh3.googleusercontent.com/7aWk-x_VNb_Y...</td>\n",
       "      <td>[0.92137855]</td>\n",
       "      <td>interior with women beside a linen cupboard</td>\n",
       "      <td>/root/work/datasets/artwork_sequence/rijksmuse...</td>\n",
       "    </tr>\n",
       "    <tr>\n",
       "      <th>8</th>\n",
       "      <td>pieter de hooch</td>\n",
       "      <td>https://lh3.googleusercontent.com/7aWk-x_VNb_Y...</td>\n",
       "      <td>[0.9189795]</td>\n",
       "      <td>interior with women beside a linen cupboard</td>\n",
       "      <td>/root/work/datasets/artwork_sequence/rijksmuse...</td>\n",
       "    </tr>\n",
       "    <tr>\n",
       "      <th>9</th>\n",
       "      <td>pieter de hooch</td>\n",
       "      <td>https://lh3.googleusercontent.com/7aWk-x_VNb_Y...</td>\n",
       "      <td>[0.9267774]</td>\n",
       "      <td>interior with women beside a linen cupboard</td>\n",
       "      <td>/root/work/datasets/artwork_sequence/rijksmuse...</td>\n",
       "    </tr>\n",
       "  </tbody>\n",
       "</table>\n",
       "</div>"
      ],
      "text/plain": [
       "            author                                          image_url  \\\n",
       "0  pieter de hooch  https://lh3.googleusercontent.com/7aWk-x_VNb_Y...   \n",
       "1  pieter de hooch  https://lh3.googleusercontent.com/7aWk-x_VNb_Y...   \n",
       "2  pieter de hooch  https://lh3.googleusercontent.com/7aWk-x_VNb_Y...   \n",
       "3  pieter de hooch  https://lh3.googleusercontent.com/7aWk-x_VNb_Y...   \n",
       "4  pieter de hooch  https://lh3.googleusercontent.com/7aWk-x_VNb_Y...   \n",
       "5  pieter de hooch  https://lh3.googleusercontent.com/7aWk-x_VNb_Y...   \n",
       "6  pieter de hooch  https://lh3.googleusercontent.com/7aWk-x_VNb_Y...   \n",
       "7  pieter de hooch  https://lh3.googleusercontent.com/7aWk-x_VNb_Y...   \n",
       "8  pieter de hooch  https://lh3.googleusercontent.com/7aWk-x_VNb_Y...   \n",
       "9  pieter de hooch  https://lh3.googleusercontent.com/7aWk-x_VNb_Y...   \n",
       "\n",
       "      sim_value                                        title  \\\n",
       "0  [0.91927314]  interior with women beside a linen cupboard   \n",
       "1   [0.9110239]  interior with women beside a linen cupboard   \n",
       "2  [0.91427857]  interior with women beside a linen cupboard   \n",
       "3   [0.9361559]  interior with women beside a linen cupboard   \n",
       "4   [0.9330392]  interior with women beside a linen cupboard   \n",
       "5   [0.9171705]  interior with women beside a linen cupboard   \n",
       "6   [0.9164647]  interior with women beside a linen cupboard   \n",
       "7  [0.92137855]  interior with women beside a linen cupboard   \n",
       "8   [0.9189795]  interior with women beside a linen cupboard   \n",
       "9   [0.9267774]  interior with women beside a linen cupboard   \n",
       "\n",
       "                                           tour_path  \n",
       "0  /root/work/datasets/artwork_sequence/rijksmuse...  \n",
       "1  /root/work/datasets/artwork_sequence/rijksmuse...  \n",
       "2  /root/work/datasets/artwork_sequence/rijksmuse...  \n",
       "3  /root/work/datasets/artwork_sequence/rijksmuse...  \n",
       "4  /root/work/datasets/artwork_sequence/rijksmuse...  \n",
       "5  /root/work/datasets/artwork_sequence/rijksmuse...  \n",
       "6  /root/work/datasets/artwork_sequence/rijksmuse...  \n",
       "7  /root/work/datasets/artwork_sequence/rijksmuse...  \n",
       "8  /root/work/datasets/artwork_sequence/rijksmuse...  \n",
       "9  /root/work/datasets/artwork_sequence/rijksmuse...  "
      ]
     },
     "execution_count": 176,
     "metadata": {},
     "output_type": "execute_result"
    }
   ],
   "source": [
    "\n",
    "for i in range(forecast_matrix.shape[0]):\n",
    "    #Find code\n",
    "    code = forecast_matrix[i].reshape((1,-1))\n",
    "    \n",
    "    #Compute cosine similarity\n",
    "    sim_matrix = cosine_similarity(code, all_data_matrix)\n",
    "    #sim_matrix = euclidean_distances(code, all_data_matrix)\n",
    "    \n",
    "    #sort indexes\n",
    "    sort_index = np.argsort(sim_matrix.reshape((-1,)))\n",
    "    \n",
    "    #Find most similar\n",
    "    sim_artwork_index = sort_index[-1]\n",
    "    \n",
    "    #Save in dataframe \n",
    "    df_tour= df_tour.append({'title' : df_all_metadata.iloc[sim_artwork_index]['title'],\n",
    "                    'author': df_all_metadata.iloc[sim_artwork_index]['author'],\n",
    "                    'tour_path':df_all_metadata.iloc[sim_artwork_index]['tour_path'],\n",
    "                    'image_url':df_all_metadata.iloc[sim_artwork_index]['image_url'],\n",
    "                    'sim_value':sim_matrix[:,sim_artwork_index]\n",
    "                   }, \n",
    "                   ignore_index=True)\n",
    "    \n",
    "\n",
    "df_tour"
   ]
  },
  {
   "cell_type": "markdown",
   "metadata": {},
   "source": [
    "**Cosine similarity between predicted and true artwork**"
   ]
  },
  {
   "cell_type": "code",
   "execution_count": 165,
   "metadata": {},
   "outputs": [
    {
     "data": {
      "text/plain": [
       "0    [-0.29230052, 0.8424356, 1.1737278, 1.2865187,...\n",
       "1    [-0.059978914, 0.28663373, 0.14912537, 1.05441...\n",
       "2    [1.507407, 0.46375805, 0.7856071, 1.6591117, 1...\n",
       "3    [0.73924804, 0.7568244, 0.559912, 1.042276, 0....\n",
       "4    [0.21867388, 0.31268334, 0.8486078, 0.909141, ...\n",
       "Name: x_valid, dtype: object"
      ]
     },
     "execution_count": 165,
     "metadata": {},
     "output_type": "execute_result"
    }
   ],
   "source": [
    "x_valid_artwork = df_evaluation['x_valid']\n",
    "x_valid_artwork.head()"
   ]
  },
  {
   "cell_type": "code",
   "execution_count": 166,
   "metadata": {},
   "outputs": [
    {
     "data": {
      "text/plain": [
       "(10, 300)"
      ]
     },
     "execution_count": 166,
     "metadata": {},
     "output_type": "execute_result"
    }
   ],
   "source": [
    "artwork_feature_list = list(x_valid_artwork.values)\n",
    "artwork_matrix = np.stack(artwork_feature_list)\n",
    "artwork_matrix = artwork_matrix.T\n",
    "artwork_matrix.shape"
   ]
  },
  {
   "cell_type": "code",
   "execution_count": 167,
   "metadata": {},
   "outputs": [
    {
     "data": {
      "text/plain": [
       "(1, 300)"
      ]
     },
     "execution_count": 167,
     "metadata": {},
     "output_type": "execute_result"
    }
   ],
   "source": [
    "true_artwork_code = artwork_matrix[3].reshape((1,-1))\n",
    "true_artwork_code.shape"
   ]
  },
  {
   "cell_type": "code",
   "execution_count": 168,
   "metadata": {},
   "outputs": [
    {
     "data": {
      "text/plain": [
       "0.841828"
      ]
     },
     "execution_count": 168,
     "metadata": {},
     "output_type": "execute_result"
    }
   ],
   "source": [
    "cos_sim = cosine_similarity(code, true_artwork_code)[0][0]\n",
    "cos_sim"
   ]
  },
  {
   "cell_type": "code",
   "execution_count": 135,
   "metadata": {},
   "outputs": [
    {
     "data": {
      "text/plain": [
       "array([[  0, 537]])"
      ]
     },
     "execution_count": 135,
     "metadata": {},
     "output_type": "execute_result"
    }
   ],
   "source": [
    "np.argwhere(sim_matrix == cos_sim)"
   ]
  }
 ],
 "metadata": {
  "kernelspec": {
   "display_name": "Python 3",
   "language": "python",
   "name": "python3"
  },
  "language_info": {
   "codemirror_mode": {
    "name": "ipython",
    "version": 3
   },
   "file_extension": ".py",
   "mimetype": "text/x-python",
   "name": "python",
   "nbconvert_exporter": "python",
   "pygments_lexer": "ipython3",
   "version": "3.5.2"
  }
 },
 "nbformat": 4,
 "nbformat_minor": 2
}
