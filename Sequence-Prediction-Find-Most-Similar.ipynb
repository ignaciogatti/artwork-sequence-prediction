{
 "cells": [
  {
   "cell_type": "markdown",
   "metadata": {},
   "source": [
    "# Sequence prediction find most similar"
   ]
  },
  {
   "cell_type": "code",
   "execution_count": null,
   "metadata": {},
   "outputs": [],
   "source": [
    "import numpy as np\n",
    "import pandas as pd\n",
    "import tensorflow as tf\n",
    "import os"
   ]
  },
  {
   "cell_type": "code",
   "execution_count": null,
   "metadata": {},
   "outputs": [],
   "source": [
    "CONFIG_PATH = '/root/work/artwork_sequence/train_test_configuration/multivariate'\n",
    "#CONFIG_PATH = '/root/work/artwork_sequence/train_test_configuration/univariate'"
   ]
  },
  {
   "cell_type": "code",
   "execution_count": null,
   "metadata": {},
   "outputs": [],
   "source": [
    "window_index = 3\n",
    "\n",
    "museum_sequence_path = {\n",
    "    'x_train' : os.path.join(CONFIG_PATH, 'X_train.csv'),\n",
    "    'x_test' : os.path.join(CONFIG_PATH, 'X_test.csv'),\n",
    "    'x_train_matrix' : os.path.join(CONFIG_PATH, 'X_train_matrix.npy'),\n",
    "    'x_test_matrix' : os.path.join(CONFIG_PATH, 'X_test_matrix.npy'),\n",
    "    'weights_folder' : os.path.join(CONFIG_PATH, 'config_'+str(window_index)+'/trained_model_weights')\n",
    "}\n",
    "museum_sequence_path"
   ]
  },
  {
   "cell_type": "markdown",
   "metadata": {},
   "source": [
    "## Load data"
   ]
  },
  {
   "cell_type": "code",
   "execution_count": null,
   "metadata": {},
   "outputs": [],
   "source": [
    "df_x_train = pd.read_csv(museum_sequence_path['x_train'], index_col=0)\n",
    "df_x_test = pd.read_csv(museum_sequence_path['x_test'], index_col=0)\n",
    "x_train_matrix = np.load(museum_sequence_path['x_train_matrix'])\n",
    "x_test_matrix = np.load(museum_sequence_path['x_test_matrix'])\n",
    "df_x_train.head()"
   ]
  },
  {
   "cell_type": "code",
   "execution_count": null,
   "metadata": {},
   "outputs": [],
   "source": [
    "x_train_matrix.shape"
   ]
  },
  {
   "cell_type": "markdown",
   "metadata": {},
   "source": [
    "## Reset Tensorflow session"
   ]
  },
  {
   "cell_type": "code",
   "execution_count": null,
   "metadata": {},
   "outputs": [],
   "source": [
    "tf.keras.backend.clear_session()"
   ]
  },
  {
   "cell_type": "markdown",
   "metadata": {},
   "source": [
    "## Config data to fit with the model input"
   ]
  },
  {
   "cell_type": "markdown",
   "metadata": {},
   "source": [
    "**Define timeline**"
   ]
  },
  {
   "cell_type": "code",
   "execution_count": null,
   "metadata": {},
   "outputs": [],
   "source": [
    "timeline = np.arange(x_test_matrix.shape[0])\n",
    "timeline.shape"
   ]
  },
  {
   "cell_type": "code",
   "execution_count": null,
   "metadata": {},
   "outputs": [],
   "source": [
    "split_time = x_train_matrix.shape[0]\n",
    "\n",
    "X = x_test_matrix\n",
    "\n",
    "window_size = window_index\n",
    "\n",
    "#Number of feature to take into account\n",
    "n_influence_features=3\n",
    "\n",
    "batch_size = 128\n",
    "shuffle_buffer_size = 300"
   ]
  },
  {
   "cell_type": "markdown",
   "metadata": {},
   "source": [
    "## Create and Load model"
   ]
  },
  {
   "cell_type": "markdown",
   "metadata": {},
   "source": [
    "**Get models**"
   ]
  },
  {
   "cell_type": "code",
   "execution_count": null,
   "metadata": {},
   "outputs": [],
   "source": [
    "from Prediction_model_feature import Prediction_model_feature\n",
    "from Prediction_model_feature_multivariate import Prediction_model_feature_multivariate"
   ]
  },
  {
   "cell_type": "code",
   "execution_count": null,
   "metadata": {},
   "outputs": [],
   "source": [
    "n_features = X.shape[1]\n",
    "models = []"
   ]
  },
  {
   "cell_type": "code",
   "execution_count": null,
   "metadata": {},
   "outputs": [],
   "source": [
    "from IPython.display import clear_output\n",
    "import time\n",
    "\n",
    "start_time = time.time()\n",
    "\n",
    "for i in range(n_features):\n",
    "    clear_output(wait=True)\n",
    "    #Create model\n",
    "    model_prediction = Prediction_model_feature_multivariate(\n",
    "        X=X,\n",
    "        split_time=split_time,\n",
    "        train_batch_size=batch_size, \n",
    "        val_batch_size=batch_size, \n",
    "        window_size=window_size, \n",
    "        shuffle_buffer=shuffle_buffer_size,\n",
    "        name=\"feature \" + str(i),\n",
    "        index = i,\n",
    "        n_influence_features=n_influence_features,\n",
    "        n_features=1)\n",
    "    model_prediction.define_model(conv_filter=32, lstm_filter=64, dense_filter=16)\n",
    "\n",
    "    #Load weights\n",
    "    model_prediction.load_weights(museum_sequence_path)\n",
    "\n",
    "    models.append(model_prediction)\n",
    "    \n",
    "print(\"--- %s seconds ---\" % (time.time() - start_time))\n",
    "len(models)"
   ]
  },
  {
   "cell_type": "markdown",
   "metadata": {},
   "source": [
    "## Predict tour"
   ]
  },
  {
   "cell_type": "code",
   "execution_count": null,
   "metadata": {},
   "outputs": [],
   "source": [
    "from utils_plot import plot_series, plot_train_history, plot_prediction"
   ]
  },
  {
   "cell_type": "markdown",
   "metadata": {},
   "source": [
    "**Select a tour**"
   ]
  },
  {
   "cell_type": "code",
   "execution_count": null,
   "metadata": {},
   "outputs": [],
   "source": [
    "df_x_test['tour_path'].values[0]"
   ]
  },
  {
   "cell_type": "code",
   "execution_count": null,
   "metadata": {},
   "outputs": [],
   "source": [
    "images_path = os.path.join(df_x_test['tour_path'].values[0], 'images')\n",
    "tour_length = len(os.listdir(images_path))\n",
    "X_tour = x_test_matrix[:tour_length]\n",
    "X_tour.shape"
   ]
  },
  {
   "cell_type": "code",
   "execution_count": null,
   "metadata": {},
   "outputs": [],
   "source": [
    "metadata_path = os.path.join(df_x_test['tour_path'].values[0], 'metadata.csv')\n",
    "df_X_tour = pd.read_csv(metadata_path)\n",
    "df_X_tour.head()"
   ]
  },
  {
   "cell_type": "markdown",
   "metadata": {},
   "source": [
    "### Predict features artworks for each tours"
   ]
  },
  {
   "cell_type": "markdown",
   "metadata": {},
   "source": [
    "**Function to predict the tour**"
   ]
  },
  {
   "cell_type": "code",
   "execution_count": null,
   "metadata": {},
   "outputs": [],
   "source": [
    "def model_forecast(model, series, window_size, batch_size):\n",
    "    if len(series.shape) == 1:\n",
    "            series = tf.expand_dims(series, axis=-1)\n",
    "    ds = tf.data.Dataset.from_tensor_slices(series)\n",
    "    ds = ds.window(window_size, shift=1, drop_remainder=True)\n",
    "    ds = ds.flat_map(lambda w: w.batch(window_size))\n",
    "    ds = ds.map(lambda w: (w[:]))\n",
    "    ds = ds.batch(batch_size)\n",
    "    forecast = model.predict(ds)\n",
    "    return forecast"
   ]
  },
  {
   "cell_type": "markdown",
   "metadata": {},
   "source": [
    "**Predict feature tours**"
   ]
  },
  {
   "cell_type": "code",
   "execution_count": null,
   "metadata": {},
   "outputs": [],
   "source": [
    "df_evaluation = pd.DataFrame({'feature' : [],\n",
    "                             'forecast': [],\n",
    "                             'x_valid':[],\n",
    "                             'mae':[]})\n",
    "df_evaluation"
   ]
  },
  {
   "cell_type": "code",
   "execution_count": null,
   "metadata": {},
   "outputs": [],
   "source": [
    "for feature in range(n_features):\n",
    "    #Predict feature i\n",
    "    #Define feature to take into account for prediction\n",
    "    x_influence_features = models[feature].get_indexes_features()\n",
    "    x_influence_features = np.insert(arr=x_influence_features, obj=0, values=feature)\n",
    "    x_feature = X_tour[:,x_influence_features]\n",
    "    \n",
    "    rnn_forecast = model_forecast(models[feature].get_model(), x_feature, window_size, batch_size)\n",
    "    rnn_forecast = rnn_forecast[1:,-1]\n",
    "\n",
    "    #Get validation dataset \n",
    "    x_valid = x_feature[window_size:, 0]\n",
    "\n",
    "    #Compute MAE\n",
    "    mae = tf.keras.metrics.mean_absolute_error(x_valid, rnn_forecast).numpy().mean()\n",
    "\n",
    "    df_evaluation = df_evaluation.append({'feature' : feature,\n",
    "                    'forecast': rnn_forecast,\n",
    "                    'x_valid':x_valid,\n",
    "                    'mae':mae\n",
    "                   }, \n",
    "                   ignore_index=True)\n",
    "\n",
    "df_evaluation.head()"
   ]
  },
  {
   "cell_type": "code",
   "execution_count": null,
   "metadata": {},
   "outputs": [],
   "source": [
    "df_evaluation['mae'].mean()"
   ]
  },
  {
   "cell_type": "markdown",
   "metadata": {},
   "source": [
    "**Plot forecast for a single feature**"
   ]
  },
  {
   "cell_type": "code",
   "execution_count": null,
   "metadata": {},
   "outputs": [],
   "source": [
    "feature = 4\n",
    "rnn_forecast = df_evaluation.loc[feature,'forecast']\n",
    "#discard the first artworks\n",
    "x_valid = df_evaluation.loc[feature,'x_valid']\n",
    "timeline = np.arange(rnn_forecast.shape[0])"
   ]
  },
  {
   "cell_type": "code",
   "execution_count": null,
   "metadata": {},
   "outputs": [],
   "source": [
    "plot = plot_series(timeline, [(x_valid, 'x_valid'), (rnn_forecast, 'rnn')])\n",
    "plot.title('Forescast artwork sequence')\n",
    "#plot.savefig(os.path.join(PLOT_PATH, 'forescast_sequence_2.png'))\n",
    "plot.show()"
   ]
  },
  {
   "cell_type": "markdown",
   "metadata": {},
   "source": [
    "## Find most similar artwork"
   ]
  },
  {
   "cell_type": "markdown",
   "metadata": {},
   "source": [
    "**Load artwork's repository**"
   ]
  },
  {
   "cell_type": "code",
   "execution_count": null,
   "metadata": {},
   "outputs": [],
   "source": [
    "BASE_PATH = '/root/work/datasets/artwork_sequence/'"
   ]
  },
  {
   "cell_type": "code",
   "execution_count": null,
   "metadata": {},
   "outputs": [],
   "source": [
    "df_all_metadata = pd.read_csv(os.path.join(BASE_PATH, 'all_metadata.csv'))\n",
    "all_data_matrix = np.load(os.path.join(BASE_PATH, 'all_code_matrix.npy' ))"
   ]
  },
  {
   "cell_type": "code",
   "execution_count": null,
   "metadata": {},
   "outputs": [],
   "source": [
    "print(df_all_metadata.shape)\n",
    "print(all_data_matrix.shape)"
   ]
  },
  {
   "cell_type": "markdown",
   "metadata": {},
   "source": [
    "**Reconstruct predicted codes**"
   ]
  },
  {
   "cell_type": "code",
   "execution_count": null,
   "metadata": {},
   "outputs": [],
   "source": [
    "forescast = df_evaluation['forecast']\n",
    "forescast.head()"
   ]
  },
  {
   "cell_type": "code",
   "execution_count": null,
   "metadata": {},
   "outputs": [],
   "source": [
    "forescast[0].shape"
   ]
  },
  {
   "cell_type": "code",
   "execution_count": null,
   "metadata": {},
   "outputs": [],
   "source": [
    "feature_list = list(forescast.values)"
   ]
  },
  {
   "cell_type": "code",
   "execution_count": null,
   "metadata": {},
   "outputs": [],
   "source": [
    "forecast_matrix = np.stack(feature_list)\n",
    "forecast_matrix = forecast_matrix.T\n",
    "forecast_matrix.shape"
   ]
  },
  {
   "cell_type": "markdown",
   "metadata": {},
   "source": [
    "**Helper function to avoid duplicated artworks in a recommendation**"
   ]
  },
  {
   "cell_type": "code",
   "execution_count": null,
   "metadata": {},
   "outputs": [],
   "source": [
    "def drop_selected_artwork(indexes, df_all_metadata, all_data_matrix):\n",
    "    \n",
    "    #Remove from metadata\n",
    "    df_removed = df_all_metadata.copy()\n",
    "    df_removed = df_removed.drop(indexes)\n",
    "    df_removed = df_removed.reset_index(drop=True)\n",
    "    \n",
    "    #Remove ftom code matrix\n",
    "    code_matrix = all_data_matrix.copy()\n",
    "    code_matrix = np.delete(code_matrix, indexes, 0)\n",
    "    \n",
    "    return df_removed, code_matrix"
   ]
  },
  {
   "cell_type": "markdown",
   "metadata": {},
   "source": [
    "**Compute cosine similarity**"
   ]
  },
  {
   "cell_type": "code",
   "execution_count": null,
   "metadata": {},
   "outputs": [],
   "source": [
    "from sklearn.metrics.pairwise import cosine_similarity, cosine_distances,euclidean_distances"
   ]
  },
  {
   "cell_type": "code",
   "execution_count": null,
   "metadata": {
    "code_folding": []
   },
   "outputs": [],
   "source": [
    "predicted_tour_code_list = []\n",
    "df_predicted_tour = pd.DataFrame({ 'title' : [],\n",
    "                         'author' : [],\n",
    "                         'sim_value' : [],\n",
    "                         'tour_path': [],\n",
    "                         'image_url':[]})\n",
    "df_predicted_tour"
   ]
  },
  {
   "cell_type": "code",
   "execution_count": null,
   "metadata": {},
   "outputs": [],
   "source": [
    "\n",
    "for i in range(forecast_matrix.shape[0]):\n",
    "    #Find code\n",
    "    code = forecast_matrix[i].reshape((1,-1))\n",
    "    \n",
    "    #Compute cosine similarity\n",
    "    sim_matrix = cosine_similarity(code, all_data_matrix)\n",
    "    #sim_matrix = euclidean_distances(code, all_data_matrix)\n",
    "    \n",
    "    #sort indexes\n",
    "    sort_index = np.argsort(sim_matrix.reshape((-1,)))\n",
    "    \n",
    "    #Find most similar\n",
    "    sim_artwork_index = sort_index[-1]\n",
    "    \n",
    "    #Save in dataframe \n",
    "    df_predicted_tour = df_predicted_tour.append({'title' : df_all_metadata.iloc[sim_artwork_index]['title'],\n",
    "                    'author': df_all_metadata.iloc[sim_artwork_index]['author'],\n",
    "                    'tour_path':df_all_metadata.iloc[sim_artwork_index]['tour_path'],\n",
    "                    'image_url':df_all_metadata.iloc[sim_artwork_index]['image_url'],\n",
    "                    'sim_value':sim_matrix[:,sim_artwork_index][0]\n",
    "                   }, \n",
    "                   ignore_index=True)\n",
    "    \n",
    "    #Save predicted artwork's code\n",
    "    predicted_tour_code_list.append(all_data_matrix[sim_artwork_index])\n",
    "    \n",
    "    #Remove selected artworks\n",
    "    df_all_metadata, all_data_matrix = drop_selected_artwork([sim_artwork_index], df_all_metadata, all_data_matrix)\n",
    "\n",
    "    \n",
    "\n",
    "df_predicted_tour"
   ]
  },
  {
   "cell_type": "code",
   "execution_count": null,
   "metadata": {},
   "outputs": [],
   "source": [
    "df_predicted_tour.shape"
   ]
  },
  {
   "cell_type": "markdown",
   "metadata": {},
   "source": [
    "**Cosine similarity between predicted and true artwork**"
   ]
  },
  {
   "cell_type": "code",
   "execution_count": null,
   "metadata": {},
   "outputs": [],
   "source": [
    "x_valid_artwork = df_evaluation['x_valid']\n",
    "x_valid_artwork.head()"
   ]
  },
  {
   "cell_type": "code",
   "execution_count": null,
   "metadata": {},
   "outputs": [],
   "source": [
    "artwork_feature_list = list(x_valid_artwork.values)\n",
    "artwork_matrix = np.stack(artwork_feature_list)\n",
    "artwork_matrix = artwork_matrix.T\n",
    "artwork_matrix.shape"
   ]
  },
  {
   "cell_type": "code",
   "execution_count": null,
   "metadata": {},
   "outputs": [],
   "source": [
    "df_sim_true_predicted = pd.DataFrame({ 'title' : [],\n",
    "                         'author' : [],\n",
    "                         'sim_value' : [],\n",
    "                         'tour_path': [],\n",
    "                         'image_url':[]})\n",
    "df_sim_true_predicted"
   ]
  },
  {
   "cell_type": "code",
   "execution_count": null,
   "metadata": {},
   "outputs": [],
   "source": [
    "for i in range(forecast_matrix.shape[0]):\n",
    "    #Find predicted code\n",
    "    code = forecast_matrix[i].reshape((1,-1))\n",
    "    #Find true code\n",
    "    true_artwork_code = artwork_matrix[i].reshape((1,-1))\n",
    "    \n",
    "    #Compute cosine similarity\n",
    "    cos_sim = cosine_similarity(code, true_artwork_code)[0][0]\n",
    "    #sim_matrix = euclidean_distances(code, all_data_matrix)\n",
    "        \n",
    "    #Save in dataframe \n",
    "    df_sim_true_predicted= df_sim_true_predicted.append({'title' : df_X_tour.iloc[window_size+i]['title'],\n",
    "                    'author': df_X_tour.iloc[window_size+i]['author'],\n",
    "                    'tour_path':df_x_test['tour_path'].values[0],\n",
    "                    'image_url':df_X_tour.iloc[window_size+i]['image_url'],\n",
    "                    'sim_value':cos_sim\n",
    "                   }, \n",
    "                   ignore_index=True)\n",
    "        \n",
    "\n",
    "df_sim_true_predicted"
   ]
  },
  {
   "cell_type": "markdown",
   "metadata": {},
   "source": [
    "## Distance between predicted artwork and true artwork"
   ]
  },
  {
   "cell_type": "code",
   "execution_count": null,
   "metadata": {},
   "outputs": [],
   "source": [
    "from sklearn.metrics import mean_absolute_error"
   ]
  },
  {
   "cell_type": "code",
   "execution_count": null,
   "metadata": {},
   "outputs": [],
   "source": [
    "columns = ['author', 'title', 'sim_value']\n",
    "\n",
    "df_compare = pd.concat([df_predicted_tour[columns], df_sim_true_predicted[columns]], axis=1)\n",
    "\n",
    "df_compare['distance'] = abs(df_predicted_tour['sim_value'] - df_sim_true_predicted['sim_value'])\n",
    "\n",
    "df_compare"
   ]
  },
  {
   "cell_type": "markdown",
   "metadata": {},
   "source": [
    "**MAE**"
   ]
  },
  {
   "cell_type": "code",
   "execution_count": null,
   "metadata": {},
   "outputs": [],
   "source": [
    "predicted_artwork_matrix = np.stack(predicted_tour_code_list)\n",
    "predicted_artwork_matrix = predicted_artwork_matrix.T\n",
    "predicted_artwork_matrix.shape"
   ]
  },
  {
   "cell_type": "code",
   "execution_count": null,
   "metadata": {},
   "outputs": [],
   "source": [
    "np.mean(mean_absolute_error(predicted_artwork_matrix, artwork_matrix.T, multioutput='raw_values' ))"
   ]
  },
  {
   "cell_type": "code",
   "execution_count": null,
   "metadata": {},
   "outputs": [],
   "source": [
    "np.mean(mean_absolute_error(forecast_matrix.T, artwork_matrix.T, multioutput='raw_values' ))"
   ]
  }
 ],
 "metadata": {
  "kernelspec": {
   "display_name": "Python 3",
   "language": "python",
   "name": "python3"
  },
  "language_info": {
   "codemirror_mode": {
    "name": "ipython",
    "version": 3
   },
   "file_extension": ".py",
   "mimetype": "text/x-python",
   "name": "python",
   "nbconvert_exporter": "python",
   "pygments_lexer": "ipython3",
   "version": "3.5.2"
  }
 },
 "nbformat": 4,
 "nbformat_minor": 2
}
