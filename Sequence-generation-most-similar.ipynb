{
 "cells": [
  {
   "cell_type": "markdown",
   "metadata": {},
   "source": [
    "# Sequence generation based on previous most similar"
   ]
  },
  {
   "cell_type": "code",
   "execution_count": 1,
   "metadata": {},
   "outputs": [],
   "source": [
    "import numpy as np\n",
    "import pandas as pd\n",
    "import os"
   ]
  },
  {
   "cell_type": "markdown",
   "metadata": {},
   "source": [
    "## Load data"
   ]
  },
  {
   "cell_type": "markdown",
   "metadata": {},
   "source": [
    "**Load artwork code and metadata**"
   ]
  },
  {
   "cell_type": "code",
   "execution_count": 2,
   "metadata": {},
   "outputs": [],
   "source": [
    "BASE_PATH = '/root/work/datasets/artwork_sequence/'\n",
    "CONFIG_PATH = '/root/work/artwork_sequence/train_test_configuration'\n",
    "RESULT_PATH = '/root/work/artwork_sequence/predicted_tours/generated_sequence_based_previous_most_similar'"
   ]
  },
  {
   "cell_type": "code",
   "execution_count": 3,
   "metadata": {},
   "outputs": [],
   "source": [
    "df_all_metadata = pd.read_csv(os.path.join(BASE_PATH, 'all_metadata.csv'))\n",
    "all_data_matrix = np.load(os.path.join(BASE_PATH, 'all_code_matrix.npy' ))"
   ]
  },
  {
   "cell_type": "code",
   "execution_count": 4,
   "metadata": {},
   "outputs": [
    {
     "name": "stdout",
     "output_type": "stream",
     "text": [
      "(633, 6)\n",
      "(633, 300)\n"
     ]
    }
   ],
   "source": [
    "print(df_all_metadata.shape)\n",
    "print(all_data_matrix.shape)"
   ]
  },
  {
   "cell_type": "markdown",
   "metadata": {},
   "source": [
    "**Load tours**"
   ]
  },
  {
   "cell_type": "code",
   "execution_count": 5,
   "metadata": {},
   "outputs": [
    {
     "data": {
      "text/plain": [
       "{'x_test': '/root/work/artwork_sequence/train_test_configuration/X_test.csv',\n",
       " 'x_test_matrix': '/root/work/artwork_sequence/train_test_configuration/X_test_matrix.npy',\n",
       " 'x_train': '/root/work/artwork_sequence/train_test_configuration/X_train.csv',\n",
       " 'x_train_matrix': '/root/work/artwork_sequence/train_test_configuration/X_train_matrix.npy'}"
      ]
     },
     "execution_count": 5,
     "metadata": {},
     "output_type": "execute_result"
    }
   ],
   "source": [
    "museum_sequence_path = {\n",
    "    'x_train' : os.path.join(CONFIG_PATH, 'X_train.csv'),\n",
    "    'x_test' : os.path.join(CONFIG_PATH, 'X_test.csv'),\n",
    "    'x_train_matrix' : os.path.join(CONFIG_PATH, 'X_train_matrix.npy'),\n",
    "    'x_test_matrix' : os.path.join(CONFIG_PATH, 'X_test_matrix.npy')\n",
    "}\n",
    "museum_sequence_path"
   ]
  },
  {
   "cell_type": "code",
   "execution_count": 6,
   "metadata": {},
   "outputs": [
    {
     "data": {
      "text/html": [
       "<div>\n",
       "<style scoped>\n",
       "    .dataframe tbody tr th:only-of-type {\n",
       "        vertical-align: middle;\n",
       "    }\n",
       "\n",
       "    .dataframe tbody tr th {\n",
       "        vertical-align: top;\n",
       "    }\n",
       "\n",
       "    .dataframe thead th {\n",
       "        text-align: right;\n",
       "    }\n",
       "</style>\n",
       "<table border=\"1\" class=\"dataframe\">\n",
       "  <thead>\n",
       "    <tr style=\"text-align: right;\">\n",
       "      <th></th>\n",
       "      <th>tour_path</th>\n",
       "    </tr>\n",
       "  </thead>\n",
       "  <tbody>\n",
       "    <tr>\n",
       "      <th>20</th>\n",
       "      <td>/root/work/datasets/artwork_sequence/rijksmuse...</td>\n",
       "    </tr>\n",
       "    <tr>\n",
       "      <th>7</th>\n",
       "      <td>/root/work/datasets/artwork_sequence/rijksmuse...</td>\n",
       "    </tr>\n",
       "    <tr>\n",
       "      <th>40</th>\n",
       "      <td>/root/work/datasets/artwork_sequence/prado_cra...</td>\n",
       "    </tr>\n",
       "    <tr>\n",
       "      <th>0</th>\n",
       "      <td>/root/work/datasets/artwork_sequence/rijksmuse...</td>\n",
       "    </tr>\n",
       "    <tr>\n",
       "      <th>23</th>\n",
       "      <td>/root/work/datasets/artwork_sequence/prado_cra...</td>\n",
       "    </tr>\n",
       "  </tbody>\n",
       "</table>\n",
       "</div>"
      ],
      "text/plain": [
       "                                            tour_path\n",
       "20  /root/work/datasets/artwork_sequence/rijksmuse...\n",
       "7   /root/work/datasets/artwork_sequence/rijksmuse...\n",
       "40  /root/work/datasets/artwork_sequence/prado_cra...\n",
       "0   /root/work/datasets/artwork_sequence/rijksmuse...\n",
       "23  /root/work/datasets/artwork_sequence/prado_cra..."
      ]
     },
     "execution_count": 6,
     "metadata": {},
     "output_type": "execute_result"
    }
   ],
   "source": [
    "df_x_train = pd.read_csv(museum_sequence_path['x_train'], index_col=0)\n",
    "df_x_test = pd.read_csv(museum_sequence_path['x_test'], index_col=0)\n",
    "x_train_matrix = np.load(museum_sequence_path['x_train_matrix'])\n",
    "x_test_matrix = np.load(museum_sequence_path['x_test_matrix'])\n",
    "df_x_train.head()"
   ]
  },
  {
   "cell_type": "code",
   "execution_count": 7,
   "metadata": {},
   "outputs": [
    {
     "data": {
      "text/plain": [
       "'/root/work/datasets/artwork_sequence/rijksmuseum_crawler/tour_14'"
      ]
     },
     "execution_count": 7,
     "metadata": {},
     "output_type": "execute_result"
    }
   ],
   "source": [
    "df_x_test['tour_path'].values[1]"
   ]
  },
  {
   "cell_type": "code",
   "execution_count": 8,
   "metadata": {},
   "outputs": [
    {
     "data": {
      "text/plain": [
       "(13, 300)"
      ]
     },
     "execution_count": 8,
     "metadata": {},
     "output_type": "execute_result"
    }
   ],
   "source": [
    "images_path = os.path.join(df_x_test['tour_path'].values[1], 'images')\n",
    "tour_length = len(os.listdir(images_path))\n",
    "X_tour = x_test_matrix[13:13 + tour_length]\n",
    "X_tour.shape"
   ]
  },
  {
   "cell_type": "code",
   "execution_count": 9,
   "metadata": {},
   "outputs": [
    {
     "data": {
      "text/html": [
       "<div>\n",
       "<style scoped>\n",
       "    .dataframe tbody tr th:only-of-type {\n",
       "        vertical-align: middle;\n",
       "    }\n",
       "\n",
       "    .dataframe tbody tr th {\n",
       "        vertical-align: top;\n",
       "    }\n",
       "\n",
       "    .dataframe thead th {\n",
       "        text-align: right;\n",
       "    }\n",
       "</style>\n",
       "<table border=\"1\" class=\"dataframe\">\n",
       "  <thead>\n",
       "    <tr style=\"text-align: right;\">\n",
       "      <th></th>\n",
       "      <th>id</th>\n",
       "      <th>author</th>\n",
       "      <th>data</th>\n",
       "      <th>image_url</th>\n",
       "      <th>title</th>\n",
       "    </tr>\n",
       "  </thead>\n",
       "  <tbody>\n",
       "    <tr>\n",
       "      <th>0</th>\n",
       "      <td>1</td>\n",
       "      <td>pieter claesz.</td>\n",
       "      <td>1627</td>\n",
       "      <td>https://lh3.googleusercontent.com/uqHsSOyPEFvu...</td>\n",
       "      <td>still life with a turkey pie</td>\n",
       "    </tr>\n",
       "    <tr>\n",
       "      <th>1</th>\n",
       "      <td>2</td>\n",
       "      <td>jan havicksz. steen</td>\n",
       "      <td>1655</td>\n",
       "      <td>https://lh3.googleusercontent.com/fLsffYqD3Ex7...</td>\n",
       "      <td>adolf and catharina croeser known as the burgo...</td>\n",
       "    </tr>\n",
       "    <tr>\n",
       "      <th>2</th>\n",
       "      <td>3</td>\n",
       "      <td>jan brueghel (ii)</td>\n",
       "      <td>c. 1625 - c. 1630</td>\n",
       "      <td>https://lh3.googleusercontent.com/Z3PTxWguIfYH...</td>\n",
       "      <td>still life with flowers in a glass</td>\n",
       "    </tr>\n",
       "    <tr>\n",
       "      <th>3</th>\n",
       "      <td>4</td>\n",
       "      <td>jacob jordaens (i)</td>\n",
       "      <td>c. 1635 - c. 1636</td>\n",
       "      <td>https://lh3.googleusercontent.com/iogmFpVbkXpz...</td>\n",
       "      <td>portrait of magdalena de cuyper</td>\n",
       "    </tr>\n",
       "    <tr>\n",
       "      <th>4</th>\n",
       "      <td>5</td>\n",
       "      <td>jacob coeman</td>\n",
       "      <td>1665</td>\n",
       "      <td>https://lh3.googleusercontent.com/-iNszdtfmRNt...</td>\n",
       "      <td>pieter cnoll cornelia van nijenrode and their ...</td>\n",
       "    </tr>\n",
       "  </tbody>\n",
       "</table>\n",
       "</div>"
      ],
      "text/plain": [
       "   id               author               data  \\\n",
       "0   1       pieter claesz.               1627   \n",
       "1   2  jan havicksz. steen               1655   \n",
       "2   3    jan brueghel (ii)  c. 1625 - c. 1630   \n",
       "3   4   jacob jordaens (i)  c. 1635 - c. 1636   \n",
       "4   5         jacob coeman               1665   \n",
       "\n",
       "                                           image_url  \\\n",
       "0  https://lh3.googleusercontent.com/uqHsSOyPEFvu...   \n",
       "1  https://lh3.googleusercontent.com/fLsffYqD3Ex7...   \n",
       "2  https://lh3.googleusercontent.com/Z3PTxWguIfYH...   \n",
       "3  https://lh3.googleusercontent.com/iogmFpVbkXpz...   \n",
       "4  https://lh3.googleusercontent.com/-iNszdtfmRNt...   \n",
       "\n",
       "                                               title  \n",
       "0                       still life with a turkey pie  \n",
       "1  adolf and catharina croeser known as the burgo...  \n",
       "2                 still life with flowers in a glass  \n",
       "3                    portrait of magdalena de cuyper  \n",
       "4  pieter cnoll cornelia van nijenrode and their ...  "
      ]
     },
     "execution_count": 9,
     "metadata": {},
     "output_type": "execute_result"
    }
   ],
   "source": [
    "metadata_path = os.path.join(df_x_test['tour_path'].values[1], 'metadata.csv')\n",
    "df_X_tour = pd.read_csv(metadata_path)\n",
    "df_X_tour.head()"
   ]
  },
  {
   "cell_type": "markdown",
   "metadata": {},
   "source": [
    "## Find similar artwork"
   ]
  },
  {
   "cell_type": "code",
   "execution_count": 10,
   "metadata": {},
   "outputs": [],
   "source": [
    "from sklearn.metrics.pairwise import cosine_similarity, cosine_distances,euclidean_distances"
   ]
  },
  {
   "cell_type": "code",
   "execution_count": 11,
   "metadata": {},
   "outputs": [
    {
     "data": {
      "text/html": [
       "<div>\n",
       "<style scoped>\n",
       "    .dataframe tbody tr th:only-of-type {\n",
       "        vertical-align: middle;\n",
       "    }\n",
       "\n",
       "    .dataframe tbody tr th {\n",
       "        vertical-align: top;\n",
       "    }\n",
       "\n",
       "    .dataframe thead th {\n",
       "        text-align: right;\n",
       "    }\n",
       "</style>\n",
       "<table border=\"1\" class=\"dataframe\">\n",
       "  <thead>\n",
       "    <tr style=\"text-align: right;\">\n",
       "      <th></th>\n",
       "      <th>author</th>\n",
       "      <th>image_url</th>\n",
       "      <th>sim_value</th>\n",
       "      <th>title</th>\n",
       "      <th>tour_path</th>\n",
       "    </tr>\n",
       "  </thead>\n",
       "  <tbody>\n",
       "  </tbody>\n",
       "</table>\n",
       "</div>"
      ],
      "text/plain": [
       "Empty DataFrame\n",
       "Columns: [author, image_url, sim_value, title, tour_path]\n",
       "Index: []"
      ]
     },
     "execution_count": 11,
     "metadata": {},
     "output_type": "execute_result"
    }
   ],
   "source": [
    "df_predicted_tour = pd.DataFrame({ 'title' : [],\n",
    "                         'author' : [],\n",
    "                         'sim_value' : [],\n",
    "                         'tour_path': [],\n",
    "                         'image_url':[]})\n",
    "df_predicted_tour"
   ]
  },
  {
   "cell_type": "code",
   "execution_count": 12,
   "metadata": {},
   "outputs": [],
   "source": [
    "def get_sim_matrix(code, all_data_matrix):\n",
    "    #get the mean vector\n",
    "    mean_code = np.mean(code, axis=0)\n",
    "    mean_code.shape\n",
    "    \n",
    "    #Find most similar\n",
    "    return cosine_similarity(mean_code.reshape((1,-1)), all_data_matrix)\n",
    "    "
   ]
  },
  {
   "cell_type": "code",
   "execution_count": 13,
   "metadata": {},
   "outputs": [],
   "source": [
    "def get_artwork_index(sim_matrix):\n",
    "    \n",
    "    #Sort indexes\n",
    "    sort_index = np.argsort(sim_matrix.reshape((-1,)))\n",
    "    #Find most similar artwork index\n",
    "    sim_artwork_index = sort_index[-1]\n",
    "\n",
    "    if np.isclose(sim_matrix[:,sim_artwork_index][0], 1.):\n",
    "        #Because the top is the current artwork\n",
    "        return sort_index[-2]\n",
    "    else:\n",
    "        return sort_index[-1]"
   ]
  },
  {
   "cell_type": "code",
   "execution_count": 14,
   "metadata": {},
   "outputs": [],
   "source": [
    "def drop_selected_artwork(indexes, df_all_metadata, all_data_matrix):\n",
    "    \n",
    "    #Remove from metadata\n",
    "    df_removed = df_all_metadata.copy()\n",
    "    df_removed = df_removed.drop(indexes)\n",
    "    df_removed = df_removed.reset_index(drop=True)\n",
    "    \n",
    "    #Remove ftom code matrix\n",
    "    code_matrix = all_data_matrix.copy()\n",
    "    code_matrix = np.delete(code_matrix, indexes, 0)\n",
    "    \n",
    "    return df_removed, code_matrix"
   ]
  },
  {
   "cell_type": "code",
   "execution_count": null,
   "metadata": {},
   "outputs": [],
   "source": [
    "def find_artworks_indexes(i, window_size, df_all_metadata, df_X_tour):\n",
    "    \n",
    "    indexes = []\n",
    "    for j in range(window_size):\n",
    "        row = df_all_metadata[(df_all_metadata['author']==df_X_tour.iloc[i+j]['author']) & (df_all_metadata['title']==df_X_tour.iloc[i+j]['title'])]\n",
    "\n",
    "        #Because the artwork may be already deleted\n",
    "        if row.shape[0] != 0:\n",
    "            indexes.append(row.index[0])\n",
    "    \n",
    "    return indexes\n",
    "    "
   ]
  },
  {
   "cell_type": "code",
   "execution_count": null,
   "metadata": {},
   "outputs": [],
   "source": [
    "predicted_code_list =[]\n",
    "\n",
    "window_size = 3\n",
    "\n",
    "for i in range(X_tour.shape[0]-window_size):\n",
    "    \n",
    "    #Get current codes\n",
    "    code = X_tour[i:i+window_size,:]\n",
    "    \n",
    "    index_artwork_selected = find_artworks_indexes(i, window_size, df_all_metadata, df_X_tour)\n",
    "    \n",
    "    df_current_metadata, current_data_matrix = drop_selected_artwork(index_artwork_selected, df_all_metadata, all_data_matrix)\n",
    "    \n",
    "\n",
    "    #Find most similar\n",
    "    sim_matrix = get_sim_matrix(code, current_data_matrix)\n",
    "\n",
    "    #Find most similar artwork index\n",
    "    sim_artwork_index = get_artwork_index(sim_matrix)\n",
    "    \n",
    "    #Save in dataframe \n",
    "    df_predicted_tour = df_predicted_tour.append({'title' : df_all_metadata.iloc[sim_artwork_index]['title'],\n",
    "                    'author': df_all_metadata.iloc[sim_artwork_index]['author'],\n",
    "                    'tour_path':df_all_metadata.iloc[sim_artwork_index]['tour_path'],\n",
    "                    'image_url':df_all_metadata.iloc[sim_artwork_index]['image_url'],\n",
    "                    'sim_value':sim_matrix[:,sim_artwork_index][0]\n",
    "                   }, \n",
    "                   ignore_index=True)\n",
    "    \n",
    "    #Save predicted code\n",
    "    predicted_code_list.append(all_data_matrix[sim_artwork_index])\n",
    "    \n",
    "    #Remove chosen artwork\n",
    "    df_all_metadata, all_data_matrix = drop_selected_artwork(sim_artwork_index, df_all_metadata, all_data_matrix)\n",
    "\n",
    "df_predicted_tour"
   ]
  },
  {
   "cell_type": "code",
   "execution_count": null,
   "metadata": {},
   "outputs": [],
   "source": [
    "tour_name = df_x_test['tour_path'].values[0].split('/')[-1]\n",
    "df_predicted_tour.to_csv(os.path.join(RESULT_PATH, 'predicted_' + tour_name + '.csv'), index=False)"
   ]
  },
  {
   "cell_type": "markdown",
   "metadata": {},
   "source": [
    "## Evaluate model"
   ]
  },
  {
   "cell_type": "markdown",
   "metadata": {},
   "source": [
    "**MAE between predicted artworks and true artworks**"
   ]
  },
  {
   "cell_type": "code",
   "execution_count": null,
   "metadata": {},
   "outputs": [],
   "source": [
    "from sklearn.metrics import mean_absolute_error"
   ]
  },
  {
   "cell_type": "code",
   "execution_count": null,
   "metadata": {},
   "outputs": [],
   "source": [
    "forecast_matrix = np.stack(predicted_code_list)\n",
    "forecast_matrix.shape"
   ]
  },
  {
   "cell_type": "code",
   "execution_count": null,
   "metadata": {},
   "outputs": [],
   "source": [
    "np.mean(mean_absolute_error( X_tour[window_size:,:].T, forecast_matrix.T, multioutput='raw_values' ))"
   ]
  }
 ],
 "metadata": {
  "kernelspec": {
   "display_name": "Python 3",
   "language": "python",
   "name": "python3"
  },
  "language_info": {
   "codemirror_mode": {
    "name": "ipython",
    "version": 3
   },
   "file_extension": ".py",
   "mimetype": "text/x-python",
   "name": "python",
   "nbconvert_exporter": "python",
   "pygments_lexer": "ipython3",
   "version": "3.5.2"
  }
 },
 "nbformat": 4,
 "nbformat_minor": 2
}
