{
 "cells": [
  {
   "cell_type": "markdown",
   "metadata": {},
   "source": [
    "# Sequence generation based on previous most similar"
   ]
  },
  {
   "cell_type": "code",
   "execution_count": 1,
   "metadata": {},
   "outputs": [],
   "source": [
    "import numpy as np\n",
    "import pandas as pd\n",
    "import os"
   ]
  },
  {
   "cell_type": "markdown",
   "metadata": {},
   "source": [
    "## Load data"
   ]
  },
  {
   "cell_type": "markdown",
   "metadata": {},
   "source": [
    "**Load artwork code and metadata**"
   ]
  },
  {
   "cell_type": "code",
   "execution_count": 2,
   "metadata": {},
   "outputs": [],
   "source": [
    "BASE_PATH = '/root/work/datasets/artwork_sequence/'\n",
    "CONFIG_PATH = '/root/work/artwork_sequence/train_test_configuration'"
   ]
  },
  {
   "cell_type": "code",
   "execution_count": 3,
   "metadata": {},
   "outputs": [],
   "source": [
    "df_all_metadata = pd.read_csv(os.path.join(BASE_PATH, 'all_metadata.csv'))\n",
    "all_data_matrix = np.load(os.path.join(BASE_PATH, 'all_code_matrix.npy' ))"
   ]
  },
  {
   "cell_type": "code",
   "execution_count": 4,
   "metadata": {},
   "outputs": [
    {
     "name": "stdout",
     "output_type": "stream",
     "text": [
      "(633, 6)\n",
      "(633, 300)\n"
     ]
    }
   ],
   "source": [
    "print(df_all_metadata.shape)\n",
    "print(all_data_matrix.shape)"
   ]
  },
  {
   "cell_type": "markdown",
   "metadata": {},
   "source": [
    "**Load tours**"
   ]
  },
  {
   "cell_type": "code",
   "execution_count": 5,
   "metadata": {},
   "outputs": [
    {
     "data": {
      "text/plain": [
       "{'x_test': '/root/work/artwork_sequence/train_test_configuration/X_test.csv',\n",
       " 'x_test_matrix': '/root/work/artwork_sequence/train_test_configuration/X_test_matrix.npy',\n",
       " 'x_train': '/root/work/artwork_sequence/train_test_configuration/X_train.csv',\n",
       " 'x_train_matrix': '/root/work/artwork_sequence/train_test_configuration/X_train_matrix.npy'}"
      ]
     },
     "execution_count": 5,
     "metadata": {},
     "output_type": "execute_result"
    }
   ],
   "source": [
    "museum_sequence_path = {\n",
    "    'x_train' : os.path.join(CONFIG_PATH, 'X_train.csv'),\n",
    "    'x_test' : os.path.join(CONFIG_PATH, 'X_test.csv'),\n",
    "    'x_train_matrix' : os.path.join(CONFIG_PATH, 'X_train_matrix.npy'),\n",
    "    'x_test_matrix' : os.path.join(CONFIG_PATH, 'X_test_matrix.npy')\n",
    "}\n",
    "museum_sequence_path"
   ]
  },
  {
   "cell_type": "code",
   "execution_count": 6,
   "metadata": {},
   "outputs": [
    {
     "data": {
      "text/html": [
       "<div>\n",
       "<style scoped>\n",
       "    .dataframe tbody tr th:only-of-type {\n",
       "        vertical-align: middle;\n",
       "    }\n",
       "\n",
       "    .dataframe tbody tr th {\n",
       "        vertical-align: top;\n",
       "    }\n",
       "\n",
       "    .dataframe thead th {\n",
       "        text-align: right;\n",
       "    }\n",
       "</style>\n",
       "<table border=\"1\" class=\"dataframe\">\n",
       "  <thead>\n",
       "    <tr style=\"text-align: right;\">\n",
       "      <th></th>\n",
       "      <th>tour_path</th>\n",
       "    </tr>\n",
       "  </thead>\n",
       "  <tbody>\n",
       "    <tr>\n",
       "      <th>20</th>\n",
       "      <td>/root/work/datasets/artwork_sequence/rijksmuse...</td>\n",
       "    </tr>\n",
       "    <tr>\n",
       "      <th>7</th>\n",
       "      <td>/root/work/datasets/artwork_sequence/rijksmuse...</td>\n",
       "    </tr>\n",
       "    <tr>\n",
       "      <th>40</th>\n",
       "      <td>/root/work/datasets/artwork_sequence/prado_cra...</td>\n",
       "    </tr>\n",
       "    <tr>\n",
       "      <th>0</th>\n",
       "      <td>/root/work/datasets/artwork_sequence/rijksmuse...</td>\n",
       "    </tr>\n",
       "    <tr>\n",
       "      <th>23</th>\n",
       "      <td>/root/work/datasets/artwork_sequence/prado_cra...</td>\n",
       "    </tr>\n",
       "  </tbody>\n",
       "</table>\n",
       "</div>"
      ],
      "text/plain": [
       "                                            tour_path\n",
       "20  /root/work/datasets/artwork_sequence/rijksmuse...\n",
       "7   /root/work/datasets/artwork_sequence/rijksmuse...\n",
       "40  /root/work/datasets/artwork_sequence/prado_cra...\n",
       "0   /root/work/datasets/artwork_sequence/rijksmuse...\n",
       "23  /root/work/datasets/artwork_sequence/prado_cra..."
      ]
     },
     "execution_count": 6,
     "metadata": {},
     "output_type": "execute_result"
    }
   ],
   "source": [
    "df_x_train = pd.read_csv(museum_sequence_path['x_train'], index_col=0)\n",
    "df_x_test = pd.read_csv(museum_sequence_path['x_test'], index_col=0)\n",
    "x_train_matrix = np.load(museum_sequence_path['x_train_matrix'])\n",
    "x_test_matrix = np.load(museum_sequence_path['x_test_matrix'])\n",
    "df_x_train.head()"
   ]
  },
  {
   "cell_type": "code",
   "execution_count": 7,
   "metadata": {},
   "outputs": [
    {
     "data": {
      "text/plain": [
       "'/root/work/datasets/artwork_sequence/prado_crawler/tour_18'"
      ]
     },
     "execution_count": 7,
     "metadata": {},
     "output_type": "execute_result"
    }
   ],
   "source": [
    "df_x_test['tour_path'].values[0]"
   ]
  },
  {
   "cell_type": "code",
   "execution_count": 8,
   "metadata": {},
   "outputs": [
    {
     "data": {
      "text/plain": [
       "(13, 300)"
      ]
     },
     "execution_count": 8,
     "metadata": {},
     "output_type": "execute_result"
    }
   ],
   "source": [
    "images_path = os.path.join(df_x_test['tour_path'].values[0], 'images')\n",
    "tour_length = len(os.listdir(images_path))\n",
    "X_tour = x_test_matrix[:tour_length]\n",
    "X_tour.shape"
   ]
  },
  {
   "cell_type": "code",
   "execution_count": 9,
   "metadata": {},
   "outputs": [
    {
     "data": {
      "text/html": [
       "<div>\n",
       "<style scoped>\n",
       "    .dataframe tbody tr th:only-of-type {\n",
       "        vertical-align: middle;\n",
       "    }\n",
       "\n",
       "    .dataframe tbody tr th {\n",
       "        vertical-align: top;\n",
       "    }\n",
       "\n",
       "    .dataframe thead th {\n",
       "        text-align: right;\n",
       "    }\n",
       "</style>\n",
       "<table border=\"1\" class=\"dataframe\">\n",
       "  <thead>\n",
       "    <tr style=\"text-align: right;\">\n",
       "      <th></th>\n",
       "      <th>id</th>\n",
       "      <th>author</th>\n",
       "      <th>data</th>\n",
       "      <th>image_url</th>\n",
       "      <th>title</th>\n",
       "    </tr>\n",
       "  </thead>\n",
       "  <tbody>\n",
       "    <tr>\n",
       "      <th>0</th>\n",
       "      <td>1</td>\n",
       "      <td>angelico, fra</td>\n",
       "      <td>1425 - 1426. tempera on poplar panel</td>\n",
       "      <td>https://content3.cdnprado.net/imagenes/Documen...</td>\n",
       "      <td>the annunciation</td>\n",
       "    </tr>\n",
       "    <tr>\n",
       "      <th>1</th>\n",
       "      <td>2</td>\n",
       "      <td>weyden, rogier van der</td>\n",
       "      <td>before  1443. oil on panel</td>\n",
       "      <td>https://content3.cdnprado.net/imagenes/Documen...</td>\n",
       "      <td>the descent from the cross</td>\n",
       "    </tr>\n",
       "    <tr>\n",
       "      <th>2</th>\n",
       "      <td>3</td>\n",
       "      <td>juanes, juan de (vicente juan masip)</td>\n",
       "      <td>1555 - 1562. oil on panel</td>\n",
       "      <td>https://content3.cdnprado.net/imagenes/Documen...</td>\n",
       "      <td>the last supper</td>\n",
       "    </tr>\n",
       "    <tr>\n",
       "      <th>3</th>\n",
       "      <td>4</td>\n",
       "      <td>anonymous</td>\n",
       "      <td>xii century. fresco painting on mural transfer...</td>\n",
       "      <td>https://content3.cdnprado.net/imagenes/Documen...</td>\n",
       "      <td>christ pantocrator held by four angels, hermit...</td>\n",
       "    </tr>\n",
       "    <tr>\n",
       "      <th>4</th>\n",
       "      <td>5</td>\n",
       "      <td>piombo, sebastiano del</td>\n",
       "      <td>1516. oil on canvas</td>\n",
       "      <td>https://content3.cdnprado.net/imagenes/Documen...</td>\n",
       "      <td>christs descent into limbo</td>\n",
       "    </tr>\n",
       "  </tbody>\n",
       "</table>\n",
       "</div>"
      ],
      "text/plain": [
       "   id                                author  \\\n",
       "0   1                         angelico, fra   \n",
       "1   2                weyden, rogier van der   \n",
       "2   3  juanes, juan de (vicente juan masip)   \n",
       "3   4                             anonymous   \n",
       "4   5                piombo, sebastiano del   \n",
       "\n",
       "                                                data  \\\n",
       "0               1425 - 1426. tempera on poplar panel   \n",
       "1                         before  1443. oil on panel   \n",
       "2                          1555 - 1562. oil on panel   \n",
       "3  xii century. fresco painting on mural transfer...   \n",
       "4                                1516. oil on canvas   \n",
       "\n",
       "                                           image_url  \\\n",
       "0  https://content3.cdnprado.net/imagenes/Documen...   \n",
       "1  https://content3.cdnprado.net/imagenes/Documen...   \n",
       "2  https://content3.cdnprado.net/imagenes/Documen...   \n",
       "3  https://content3.cdnprado.net/imagenes/Documen...   \n",
       "4  https://content3.cdnprado.net/imagenes/Documen...   \n",
       "\n",
       "                                               title  \n",
       "0                                   the annunciation  \n",
       "1                         the descent from the cross  \n",
       "2                                    the last supper  \n",
       "3  christ pantocrator held by four angels, hermit...  \n",
       "4                         christs descent into limbo  "
      ]
     },
     "execution_count": 9,
     "metadata": {},
     "output_type": "execute_result"
    }
   ],
   "source": [
    "metadata_path = os.path.join(df_x_test['tour_path'].values[0], 'metadata.csv')\n",
    "df_X_tour = pd.read_csv(metadata_path)\n",
    "df_X_tour.head()"
   ]
  },
  {
   "cell_type": "markdown",
   "metadata": {},
   "source": [
    "## Find similar artwork"
   ]
  },
  {
   "cell_type": "code",
   "execution_count": 10,
   "metadata": {},
   "outputs": [],
   "source": [
    "from sklearn.metrics.pairwise import cosine_similarity, cosine_distances,euclidean_distances"
   ]
  },
  {
   "cell_type": "code",
   "execution_count": 42,
   "metadata": {},
   "outputs": [
    {
     "data": {
      "text/html": [
       "<div>\n",
       "<style scoped>\n",
       "    .dataframe tbody tr th:only-of-type {\n",
       "        vertical-align: middle;\n",
       "    }\n",
       "\n",
       "    .dataframe tbody tr th {\n",
       "        vertical-align: top;\n",
       "    }\n",
       "\n",
       "    .dataframe thead th {\n",
       "        text-align: right;\n",
       "    }\n",
       "</style>\n",
       "<table border=\"1\" class=\"dataframe\">\n",
       "  <thead>\n",
       "    <tr style=\"text-align: right;\">\n",
       "      <th></th>\n",
       "      <th>author</th>\n",
       "      <th>image_url</th>\n",
       "      <th>sim_value</th>\n",
       "      <th>title</th>\n",
       "      <th>tour_path</th>\n",
       "    </tr>\n",
       "  </thead>\n",
       "  <tbody>\n",
       "  </tbody>\n",
       "</table>\n",
       "</div>"
      ],
      "text/plain": [
       "Empty DataFrame\n",
       "Columns: [author, image_url, sim_value, title, tour_path]\n",
       "Index: []"
      ]
     },
     "execution_count": 42,
     "metadata": {},
     "output_type": "execute_result"
    }
   ],
   "source": [
    "df_predicted_tour = pd.DataFrame({ 'title' : [],\n",
    "                         'author' : [],\n",
    "                         'sim_value' : [],\n",
    "                         'tour_path': [],\n",
    "                         'image_url':[]})\n",
    "df_predicted_tour"
   ]
  },
  {
   "cell_type": "code",
   "execution_count": 43,
   "metadata": {},
   "outputs": [],
   "source": [
    "def get_sim_matrix(code, all_data_matrix):\n",
    "    #get the mean vector\n",
    "    mean_code = np.mean(code, axis=0)\n",
    "    mean_code.shape\n",
    "    \n",
    "    #Find most similar\n",
    "    return cosine_similarity(mean_code.reshape((1,-1)), all_data_matrix)\n",
    "    "
   ]
  },
  {
   "cell_type": "code",
   "execution_count": 44,
   "metadata": {},
   "outputs": [],
   "source": [
    "def get_artwork_index(sim_matrix):\n",
    "    \n",
    "    #Sort indexes\n",
    "    sort_index = np.argsort(sim_matrix.reshape((-1,)))\n",
    "    #Find most similar artwork index\n",
    "    sim_artwork_index = sort_index[-1]\n",
    "\n",
    "    if np.isclose(sim_matrix[:,sim_artwork_index][0], 1.):\n",
    "        #Because the top is the current artwork\n",
    "        return sort_index[-2]\n",
    "    else:\n",
    "        return sort_index[-1]"
   ]
  },
  {
   "cell_type": "code",
   "execution_count": 45,
   "metadata": {},
   "outputs": [
    {
     "name": "stdout",
     "output_type": "stream",
     "text": [
      "False\n",
      "False\n",
      "False\n",
      "False\n",
      "False\n",
      "False\n",
      "False\n",
      "False\n",
      "False\n",
      "False\n"
     ]
    },
    {
     "data": {
      "text/html": [
       "<div>\n",
       "<style scoped>\n",
       "    .dataframe tbody tr th:only-of-type {\n",
       "        vertical-align: middle;\n",
       "    }\n",
       "\n",
       "    .dataframe tbody tr th {\n",
       "        vertical-align: top;\n",
       "    }\n",
       "\n",
       "    .dataframe thead th {\n",
       "        text-align: right;\n",
       "    }\n",
       "</style>\n",
       "<table border=\"1\" class=\"dataframe\">\n",
       "  <thead>\n",
       "    <tr style=\"text-align: right;\">\n",
       "      <th></th>\n",
       "      <th>author</th>\n",
       "      <th>image_url</th>\n",
       "      <th>sim_value</th>\n",
       "      <th>title</th>\n",
       "      <th>tour_path</th>\n",
       "    </tr>\n",
       "  </thead>\n",
       "  <tbody>\n",
       "    <tr>\n",
       "      <th>0</th>\n",
       "      <td>juanes, juan de (vicente juan masip)</td>\n",
       "      <td>https://content3.cdnprado.net/imagenes/Documen...</td>\n",
       "      <td>0.887453</td>\n",
       "      <td>the last supper</td>\n",
       "      <td>/root/work/datasets/artwork_sequence/prado_cra...</td>\n",
       "    </tr>\n",
       "    <tr>\n",
       "      <th>1</th>\n",
       "      <td>juanes, juan de (vicente juan masip)</td>\n",
       "      <td>https://content3.cdnprado.net/imagenes/Documen...</td>\n",
       "      <td>0.904310</td>\n",
       "      <td>the last supper</td>\n",
       "      <td>/root/work/datasets/artwork_sequence/prado_cra...</td>\n",
       "    </tr>\n",
       "    <tr>\n",
       "      <th>2</th>\n",
       "      <td>juanes, juan de (vicente juan masip)</td>\n",
       "      <td>https://content3.cdnprado.net/imagenes/Documen...</td>\n",
       "      <td>0.900055</td>\n",
       "      <td>the last supper</td>\n",
       "      <td>/root/work/datasets/artwork_sequence/prado_cra...</td>\n",
       "    </tr>\n",
       "    <tr>\n",
       "      <th>3</th>\n",
       "      <td>rubens, peter paul</td>\n",
       "      <td>https://content3.cdnprado.net/imagenes/Documen...</td>\n",
       "      <td>0.923725</td>\n",
       "      <td>the adoration of the magi</td>\n",
       "      <td>/root/work/datasets/artwork_sequence/prado_cra...</td>\n",
       "    </tr>\n",
       "    <tr>\n",
       "      <th>4</th>\n",
       "      <td>rubens, peter paul</td>\n",
       "      <td>https://content3.cdnprado.net/imagenes/Documen...</td>\n",
       "      <td>0.942827</td>\n",
       "      <td>the adoration of the magi</td>\n",
       "      <td>/root/work/datasets/artwork_sequence/prado_cra...</td>\n",
       "    </tr>\n",
       "    <tr>\n",
       "      <th>5</th>\n",
       "      <td>veronese, paolo (paolo cagliari)</td>\n",
       "      <td>https://content3.cdnprado.net/imagenes/Documen...</td>\n",
       "      <td>0.926839</td>\n",
       "      <td>christ among the doctors in the temple</td>\n",
       "      <td>/root/work/datasets/artwork_sequence/prado_cra...</td>\n",
       "    </tr>\n",
       "    <tr>\n",
       "      <th>6</th>\n",
       "      <td>veronese, paolo (paolo cagliari)</td>\n",
       "      <td>https://content3.cdnprado.net/imagenes/Documen...</td>\n",
       "      <td>0.921281</td>\n",
       "      <td>christ among the doctors in the temple</td>\n",
       "      <td>/root/work/datasets/artwork_sequence/prado_cra...</td>\n",
       "    </tr>\n",
       "    <tr>\n",
       "      <th>7</th>\n",
       "      <td>tintoretto, jacopo robusti</td>\n",
       "      <td>https://content3.cdnprado.net/imagenes/Documen...</td>\n",
       "      <td>0.895887</td>\n",
       "      <td>the washing of the feet</td>\n",
       "      <td>/root/work/datasets/artwork_sequence/prado_cra...</td>\n",
       "    </tr>\n",
       "    <tr>\n",
       "      <th>8</th>\n",
       "      <td>zurbaran, francisco de</td>\n",
       "      <td>https://content3.cdnprado.net/imagenes/Documen...</td>\n",
       "      <td>0.910291</td>\n",
       "      <td>agnus dei</td>\n",
       "      <td>/root/work/datasets/artwork_sequence/prado_cra...</td>\n",
       "    </tr>\n",
       "    <tr>\n",
       "      <th>9</th>\n",
       "      <td>velazquez, diego rodriguez de silva y</td>\n",
       "      <td>https://content3.cdnprado.net/imagenes/Documen...</td>\n",
       "      <td>0.914807</td>\n",
       "      <td>the crucified christ</td>\n",
       "      <td>/root/work/datasets/artwork_sequence/prado_cra...</td>\n",
       "    </tr>\n",
       "  </tbody>\n",
       "</table>\n",
       "</div>"
      ],
      "text/plain": [
       "                                  author  \\\n",
       "0   juanes, juan de (vicente juan masip)   \n",
       "1   juanes, juan de (vicente juan masip)   \n",
       "2   juanes, juan de (vicente juan masip)   \n",
       "3                     rubens, peter paul   \n",
       "4                     rubens, peter paul   \n",
       "5       veronese, paolo (paolo cagliari)   \n",
       "6       veronese, paolo (paolo cagliari)   \n",
       "7             tintoretto, jacopo robusti   \n",
       "8                 zurbaran, francisco de   \n",
       "9  velazquez, diego rodriguez de silva y   \n",
       "\n",
       "                                           image_url  sim_value  \\\n",
       "0  https://content3.cdnprado.net/imagenes/Documen...   0.887453   \n",
       "1  https://content3.cdnprado.net/imagenes/Documen...   0.904310   \n",
       "2  https://content3.cdnprado.net/imagenes/Documen...   0.900055   \n",
       "3  https://content3.cdnprado.net/imagenes/Documen...   0.923725   \n",
       "4  https://content3.cdnprado.net/imagenes/Documen...   0.942827   \n",
       "5  https://content3.cdnprado.net/imagenes/Documen...   0.926839   \n",
       "6  https://content3.cdnprado.net/imagenes/Documen...   0.921281   \n",
       "7  https://content3.cdnprado.net/imagenes/Documen...   0.895887   \n",
       "8  https://content3.cdnprado.net/imagenes/Documen...   0.910291   \n",
       "9  https://content3.cdnprado.net/imagenes/Documen...   0.914807   \n",
       "\n",
       "                                    title  \\\n",
       "0                         the last supper   \n",
       "1                         the last supper   \n",
       "2                         the last supper   \n",
       "3               the adoration of the magi   \n",
       "4               the adoration of the magi   \n",
       "5  christ among the doctors in the temple   \n",
       "6  christ among the doctors in the temple   \n",
       "7                 the washing of the feet   \n",
       "8                               agnus dei   \n",
       "9                    the crucified christ   \n",
       "\n",
       "                                           tour_path  \n",
       "0  /root/work/datasets/artwork_sequence/prado_cra...  \n",
       "1  /root/work/datasets/artwork_sequence/prado_cra...  \n",
       "2  /root/work/datasets/artwork_sequence/prado_cra...  \n",
       "3  /root/work/datasets/artwork_sequence/prado_cra...  \n",
       "4  /root/work/datasets/artwork_sequence/prado_cra...  \n",
       "5  /root/work/datasets/artwork_sequence/prado_cra...  \n",
       "6  /root/work/datasets/artwork_sequence/prado_cra...  \n",
       "7  /root/work/datasets/artwork_sequence/prado_cra...  \n",
       "8  /root/work/datasets/artwork_sequence/prado_cra...  \n",
       "9  /root/work/datasets/artwork_sequence/prado_cra...  "
      ]
     },
     "execution_count": 45,
     "metadata": {},
     "output_type": "execute_result"
    }
   ],
   "source": [
    "predicted_code_list =[]\n",
    "\n",
    "window_size = 3\n",
    "\n",
    "for i in range(X_tour.shape[0]-window_size):\n",
    "    \n",
    "    #Get actual code\n",
    "    code = X_tour[i:i+window_size,:]\n",
    "\n",
    "    #Find most similar\n",
    "    sim_matrix = get_sim_matrix(code, all_data_matrix)\n",
    "\n",
    "    #Find most similar artwork index\n",
    "    sim_artwork_index = get_artwork_index(sim_matrix)\n",
    "    \n",
    "    #Save in dataframe \n",
    "    df_predicted_tour = df_predicted_tour.append({'title' : df_all_metadata.iloc[sim_artwork_index]['title'],\n",
    "                    'author': df_all_metadata.iloc[sim_artwork_index]['author'],\n",
    "                    'tour_path':df_all_metadata.iloc[sim_artwork_index]['tour_path'],\n",
    "                    'image_url':df_all_metadata.iloc[sim_artwork_index]['image_url'],\n",
    "                    'sim_value':sim_matrix[:,sim_artwork_index][0]\n",
    "                   }, \n",
    "                   ignore_index=True)\n",
    "    \n",
    "    #Save predicted code\n",
    "    predicted_code_list.append(all_data_matrix[sim_artwork_index])\n",
    "df_predicted_tour"
   ]
  },
  {
   "cell_type": "markdown",
   "metadata": {},
   "source": [
    "## Evaluate model"
   ]
  },
  {
   "cell_type": "markdown",
   "metadata": {},
   "source": [
    "**MAE between predicted artworks and true artworks**"
   ]
  },
  {
   "cell_type": "code",
   "execution_count": 46,
   "metadata": {},
   "outputs": [],
   "source": [
    "from sklearn.metrics import mean_absolute_error"
   ]
  },
  {
   "cell_type": "code",
   "execution_count": 47,
   "metadata": {},
   "outputs": [
    {
     "data": {
      "text/plain": [
       "(10, 300)"
      ]
     },
     "execution_count": 47,
     "metadata": {},
     "output_type": "execute_result"
    }
   ],
   "source": [
    "forecast_matrix = np.stack(predicted_code_list)\n",
    "forecast_matrix.shape"
   ]
  },
  {
   "cell_type": "code",
   "execution_count": 49,
   "metadata": {},
   "outputs": [
    {
     "data": {
      "text/plain": [
       "0.49383798"
      ]
     },
     "execution_count": 49,
     "metadata": {},
     "output_type": "execute_result"
    }
   ],
   "source": [
    "np.mean(mean_absolute_error( X_tour[window_size:,:].T, forecast_matrix.T, multioutput='raw_values' ))"
   ]
  }
 ],
 "metadata": {
  "kernelspec": {
   "display_name": "Python 3",
   "language": "python",
   "name": "python3"
  },
  "language_info": {
   "codemirror_mode": {
    "name": "ipython",
    "version": 3
   },
   "file_extension": ".py",
   "mimetype": "text/x-python",
   "name": "python",
   "nbconvert_exporter": "python",
   "pygments_lexer": "ipython3",
   "version": "3.5.2"
  }
 },
 "nbformat": 4,
 "nbformat_minor": 2
}
