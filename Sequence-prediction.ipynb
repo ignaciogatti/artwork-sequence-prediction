{
 "cells": [
  {
   "cell_type": "markdown",
   "metadata": {},
   "source": [
    "# Artwork sequence prediction"
   ]
  },
  {
   "cell_type": "code",
   "execution_count": null,
   "metadata": {},
   "outputs": [],
   "source": [
    "import numpy as np\n",
    "import pandas as pd\n",
    "import tensorflow as tf\n",
    "import os"
   ]
  },
  {
   "cell_type": "code",
   "execution_count": null,
   "metadata": {},
   "outputs": [],
   "source": [
    "BASE_PATH = '/root/work/artwork_sequence/train_test_configuration'\n",
    "\n",
    "MULTI_CONFIG_PATH = os.path.join(BASE_PATH,'multivariate')\n",
    "UNI_CONFIG_PATH = os.path.join(BASE_PATH,'univariate')\n",
    "UNI_PREDICT_MULTI_CONFIG_PATH = os.path.join(BASE_PATH,'univariate_predict_multiple')\n",
    "EMB_CONFIG_PATH = os.path.join(BASE_PATH,'word_embeddings')\n",
    "CODE_EMB_CONFIG_PATH = os.path.join(BASE_PATH,'code_embedding')\n",
    "ARTIST_CODE_EMB_CONFIG_PATH = os.path.join(BASE_PATH,'artist_code_embedding')\n",
    "CURATORNET_CONFIG_PATH = os.path.join(BASE_PATH,'curatornet')\n",
    "CURATORNET_SEQUENCE_CONFIG_PATH = os.path.join(BASE_PATH,'curatornet_sequence')\n"
   ]
  },
  {
   "cell_type": "code",
   "execution_count": null,
   "metadata": {},
   "outputs": [],
   "source": [
    "museum_sequence_path = {\n",
    "    'x_train' : os.path.join(BASE_PATH, 'X_train.csv'),\n",
    "    'x_test' : os.path.join(BASE_PATH, 'X_test.csv'),\n",
    "    'x_tour' : os.path.join(BASE_PATH, 'style_tours.csv'),\n",
    "    \n",
    "    'x_style_tour_matrix' : os.path.join(BASE_PATH, 'style_tours_matrix.npy'),\n",
    "    'x_train_matrix' : os.path.join(BASE_PATH, 'X_train_matrix.npy'),\n",
    "    'x_test_matrix' : os.path.join(BASE_PATH, 'X_test_matrix.npy'),\n",
    "    \n",
    "    'embedding_train_matrix' : os.path.join(BASE_PATH, 'embedding_train_matrix.npy'),\n",
    "    'embedding_test_matrix' : os.path.join(BASE_PATH, 'embedding_test_matrix.npy'),\n",
    "    'embedding_style_tour_matrix' : os.path.join(BASE_PATH, 'embedding_style_tours_matrix.npy'),\n",
    "    \n",
    "    'artist_code_train_matrix' : os.path.join(BASE_PATH, 'artist_code_train_matrix.npy'),\n",
    "    'artist_code_test_matrix' : os.path.join(BASE_PATH, 'artist_code_test_matrix.npy'),\n",
    "    'artist_style_tour_matrix' : os.path.join(BASE_PATH, 'style_tours_artist_code_matrix.npy'),\n",
    "    \n",
    "    'curatornet_code_train_matrix' : os.path.join(BASE_PATH, 'curatornet_code_train_matrix.npy'),\n",
    "    'curatornet_code_test_matrix' : os.path.join(BASE_PATH, 'curatornet_code_test_matrix.npy'),\n",
    "    \n",
    "    'curatornet_sequence_train_matrix' : os.path.join(BASE_PATH, 'curatornet_sequence_train_matrix.npy'),\n",
    "    'curatornet_sequence_test_matrix' : os.path.join(BASE_PATH, 'curatornet_sequence_test_matrix.npy')\n",
    "}\n",
    "museum_sequence_path"
   ]
  },
  {
   "cell_type": "markdown",
   "metadata": {},
   "source": [
    "## Load data"
   ]
  },
  {
   "cell_type": "code",
   "execution_count": null,
   "metadata": {},
   "outputs": [],
   "source": [
    "df_x_train = pd.read_csv(museum_sequence_path['x_train'], index_col=0)\n",
    "df_x_test = pd.read_csv(museum_sequence_path['x_test'], index_col=0)\n",
    "\n",
    "df_style_tours = pd.read_csv(museum_sequence_path['x_tour'], index_col=0)\n",
    "x_style_tour_matrix = np.load(museum_sequence_path['x_style_tour_matrix'])\n",
    "\n",
    "x_train_matrix = np.load(museum_sequence_path['x_train_matrix'])\n",
    "x_test_matrix = np.load(museum_sequence_path['x_test_matrix'])\n",
    "\n",
    "embedding_train_matrix = np.load(museum_sequence_path['embedding_train_matrix'])\n",
    "embedding_test_matrix = np.load(museum_sequence_path['embedding_test_matrix'])\n",
    "embedding_style_tour_matrix = np.load(museum_sequence_path['embedding_style_tour_matrix'])\n",
    "\n",
    "artist_code_train_matrix = np.load(museum_sequence_path['artist_code_train_matrix'])\n",
    "artist_code_test_matrix = np.load(museum_sequence_path['artist_code_test_matrix'])\n",
    "artist_style_tour_matrix = np.load(museum_sequence_path['artist_style_tour_matrix'])\n",
    "\n",
    "curatornet_code_train_matrix = np.load(museum_sequence_path['curatornet_code_train_matrix'])\n",
    "curatornet_code_test_matrix = np.load(museum_sequence_path['curatornet_code_test_matrix'])\n",
    "\n",
    "curatornet_sequence_train_matrix = np.load(museum_sequence_path['curatornet_sequence_train_matrix'])\n",
    "curatornet_sequence_test_matrix = np.load(museum_sequence_path['curatornet_sequence_test_matrix'])"
   ]
  },
  {
   "cell_type": "markdown",
   "metadata": {},
   "source": [
    "**Combine code data with embedding data**"
   ]
  },
  {
   "cell_type": "code",
   "execution_count": null,
   "metadata": {},
   "outputs": [],
   "source": [
    "x_embedding_train_matrix = np.hstack((x_train_matrix, embedding_train_matrix))\n",
    "x_embedding_test_matrix = np.hstack((x_test_matrix, embedding_test_matrix))\n",
    "x_embedding_style_tour_matrix = np.hstack((x_style_tour_matrix, embedding_style_tour_matrix))"
   ]
  },
  {
   "cell_type": "markdown",
   "metadata": {},
   "source": [
    "**Reduce artist code matrix**"
   ]
  },
  {
   "cell_type": "code",
   "execution_count": null,
   "metadata": {},
   "outputs": [],
   "source": [
    "artist_code_train_matrix = np.mean(artist_code_train_matrix, axis=1)\n",
    "artist_code_test_matrix = np.mean(artist_code_test_matrix, axis=1)\n",
    "artist_style_tour_matrix = np.mean(artist_style_tour_matrix, axis=1)"
   ]
  },
  {
   "cell_type": "code",
   "execution_count": null,
   "metadata": {},
   "outputs": [],
   "source": [
    "x_artist_embedding_train_matrix = np.hstack((x_embedding_train_matrix, artist_code_train_matrix.reshape((-1, 1))))\n",
    "x_artist_embedding_test_matrix = np.hstack((x_embedding_test_matrix, artist_code_test_matrix.reshape((-1, 1))))\n",
    "x_artist_embedding_style_matrix = np.hstack((x_embedding_style_tour_matrix, artist_style_tour_matrix.reshape((-1, 1))))"
   ]
  },
  {
   "cell_type": "markdown",
   "metadata": {},
   "source": [
    "## Reset Tensorflow session"
   ]
  },
  {
   "cell_type": "code",
   "execution_count": null,
   "metadata": {},
   "outputs": [],
   "source": [
    "tf.keras.backend.clear_session()"
   ]
  },
  {
   "cell_type": "markdown",
   "metadata": {},
   "source": [
    "## Config data to fit with the model input\n",
    "\n",
    "Because the **Prediction feature model** split the data into training and validation dataset, it is necessary to give all the data in only one block"
   ]
  },
  {
   "cell_type": "markdown",
   "metadata": {},
   "source": [
    "**Define timeline**"
   ]
  },
  {
   "cell_type": "code",
   "execution_count": null,
   "metadata": {},
   "outputs": [],
   "source": [
    "time = np.arange(x_train_matrix.shape[0] + x_test_matrix.shape[0])\n",
    "time.shape"
   ]
  },
  {
   "cell_type": "markdown",
   "metadata": {},
   "source": [
    "**Define configuration to deal with the windowed dataset**"
   ]
  },
  {
   "cell_type": "code",
   "execution_count": null,
   "metadata": {},
   "outputs": [],
   "source": [
    "def get_tours_conf():\n",
    "    \n",
    "    split_time = x_train_matrix.shape[0]\n",
    "    #code matrix\n",
    "    X = np.concatenate((x_train_matrix, x_test_matrix))\n",
    "    #embedding matrix\n",
    "    X_embeddings = np.concatenate((embedding_train_matrix, embedding_test_matrix))\n",
    "    #code and embedding matrix\n",
    "    X_code_embeddings = np.concatenate((x_embedding_train_matrix, x_embedding_test_matrix))\n",
    "    #code, embedding and artist matrix\n",
    "    X_artist_code_embeddings = np.concatenate((x_artist_embedding_train_matrix, x_artist_embedding_test_matrix))\n",
    "    \n",
    "    return (split_time, X, X_embeddings, X_code_embeddings, X_artist_code_embeddings)"
   ]
  },
  {
   "cell_type": "code",
   "execution_count": null,
   "metadata": {},
   "outputs": [],
   "source": [
    "def get_style_tour_conf():\n",
    "    \n",
    "    split_time = 20000\n",
    "    #code matrix\n",
    "    X = x_style_tour_matrix\n",
    "    #embedding matrix\n",
    "    X_embeddings = embedding_style_tour_matrix\n",
    "    #code and embedding matrix\n",
    "    X_code_embeddings = x_embedding_style_tour_matrix\n",
    "    \n",
    "    #code, embedding and artist matrix\n",
    "    X_artist_code_embeddings = x_artist_embedding_style_matrix\n",
    "    \n",
    "    return (split_time, X, X_embeddings, X_code_embeddings, X_artist_code_embeddings)"
   ]
  },
  {
   "cell_type": "code",
   "execution_count": null,
   "metadata": {},
   "outputs": [],
   "source": [
    "def get_curatornet_tour_conf():\n",
    "    \n",
    "    split_time = 1800\n",
    "    #code matrix\n",
    "    X = curatornet_sequence_train_matrix\n",
    "    \n",
    "    return (split_time, X)"
   ]
  },
  {
   "cell_type": "code",
   "execution_count": null,
   "metadata": {},
   "outputs": [],
   "source": [
    "curatornet_sequence_train_matrix.shape"
   ]
  },
  {
   "cell_type": "code",
   "execution_count": null,
   "metadata": {},
   "outputs": [],
   "source": [
    "#split_time, X, X_embeddings, X_code_embeddings, X_artist_code_embeddings = get_tours_conf()\n",
    "\n",
    "#split_time, X, X_embeddings, X_code_embeddings, X_artist_code_embeddings = get_style_tour_conf()\n",
    "\n",
    "split_time, X = get_curatornet_tour_conf()\n",
    "\n",
    "#Number of feature to take into account\n",
    "n_influence_features=10\n",
    "\n",
    "batch_size = 128\n",
    "shuffle_buffer_size = 300"
   ]
  },
  {
   "cell_type": "code",
   "execution_count": null,
   "metadata": {},
   "outputs": [],
   "source": [
    "X.shape"
   ]
  },
  {
   "cell_type": "code",
   "execution_count": null,
   "metadata": {},
   "outputs": [],
   "source": [
    "X_embeddings.shape"
   ]
  },
  {
   "cell_type": "code",
   "execution_count": null,
   "metadata": {},
   "outputs": [],
   "source": [
    "X_artist_code_embeddings.shape"
   ]
  },
  {
   "cell_type": "markdown",
   "metadata": {},
   "source": [
    "## Create models"
   ]
  },
  {
   "cell_type": "markdown",
   "metadata": {},
   "source": [
    "**Define model**"
   ]
  },
  {
   "cell_type": "code",
   "execution_count": null,
   "metadata": {},
   "outputs": [],
   "source": [
    "from Sequence_prediction_factory import Sequence_prediction_multivariate, Sequence_prediction_univariate, Sequence_prediction_embeddings"
   ]
  },
  {
   "cell_type": "code",
   "execution_count": null,
   "metadata": {},
   "outputs": [],
   "source": [
    "model_curatornet = Sequence_prediction_univariate(\n",
    "    X=X, \n",
    "    shuffle_buffer_size=shuffle_buffer_size, \n",
    "    split_time=split_time, \n",
    "    train_batch_size=batch_size, \n",
    "    val_batch_size=batch_size,\n",
    "    CONFIG_PATH=CURATORNET_SEQUENCE_CONFIG_PATH)"
   ]
  },
  {
   "cell_type": "code",
   "execution_count": null,
   "metadata": {},
   "outputs": [],
   "source": [
    "model_univariate = Sequence_prediction_univariate(\n",
    "    X=X, \n",
    "    shuffle_buffer_size=shuffle_buffer_size, \n",
    "    split_time=split_time, \n",
    "    train_batch_size=batch_size, \n",
    "    val_batch_size=batch_size,\n",
    "    CONFIG_PATH=UNI_PREDICT_MULTI_CONFIG_PATH)"
   ]
  },
  {
   "cell_type": "code",
   "execution_count": null,
   "metadata": {},
   "outputs": [],
   "source": [
    "model_multivariate = Sequence_prediction_multivariate(\n",
    "    X=X, \n",
    "    shuffle_buffer_size=shuffle_buffer_size, \n",
    "    split_time=split_time, \n",
    "    train_batch_size=batch_size, \n",
    "    val_batch_size=batch_size,  \n",
    "    n_influence_features=n_influence_features,\n",
    "    CONFIG_PATH=MULTI_CONFIG_PATH)"
   ]
  },
  {
   "cell_type": "code",
   "execution_count": null,
   "metadata": {},
   "outputs": [],
   "source": [
    "model_embeddings = Sequence_prediction_embeddings(\n",
    "    X=X, \n",
    "    shuffle_buffer_size=shuffle_buffer_size, \n",
    "    split_time=split_time, \n",
    "    train_batch_size=batch_size, \n",
    "    val_batch_size=batch_size,  \n",
    "    X_embeddings=X_embeddings,\n",
    "    CONFIG_PATH=EMB_CONFIG_PATH)"
   ]
  },
  {
   "cell_type": "code",
   "execution_count": null,
   "metadata": {},
   "outputs": [],
   "source": [
    "model_code_embedding = Sequence_prediction_univariate(\n",
    "    X=X_code_embeddings, \n",
    "    shuffle_buffer_size=shuffle_buffer_size, \n",
    "    split_time=split_time, \n",
    "    train_batch_size=batch_size, \n",
    "    val_batch_size=batch_size,\n",
    "    CONFIG_PATH=CODE_EMB_CONFIG_PATH)"
   ]
  },
  {
   "cell_type": "code",
   "execution_count": null,
   "metadata": {},
   "outputs": [],
   "source": [
    "model_artist_code_embedding = Sequence_prediction_univariate(\n",
    "    X=X_artist_code_embeddings, \n",
    "    shuffle_buffer_size=shuffle_buffer_size, \n",
    "    split_time=split_time, \n",
    "    train_batch_size=batch_size, \n",
    "    val_batch_size=batch_size,\n",
    "    CONFIG_PATH=UNI_PREDICT_MULTI_CONFIG_PATH)"
   ]
  },
  {
   "cell_type": "code",
   "execution_count": null,
   "metadata": {},
   "outputs": [],
   "source": [
    "model_prediction = model_curatornet"
   ]
  },
  {
   "cell_type": "code",
   "execution_count": null,
   "metadata": {},
   "outputs": [],
   "source": [
    "from IPython.display import clear_output\n",
    "import time\n",
    "\n",
    "default_index = 0\n",
    "#length of the history\n",
    "for window_size in range(3,4):\n",
    "    \n",
    "    #Define model with the window size\n",
    "    model_prediction.set_window_size(window_size)\n",
    "    tf.keras.backend.clear_session()\n",
    "    model = model_prediction.get_model()\n",
    "    model.define_model(conv_filter=20, lstm_filter=40, dense_filter=20, prediction_length=1)\n",
    "    model.set_index(default_index)\n",
    "    model.save_weights(model_prediction.get_untrained_weights_path())\n",
    "\n",
    "    start_time = time.time()\n",
    "    \n",
    "    for i in range(1930, model_prediction.get_x_features()):\n",
    "        clear_output(wait=True)\n",
    "        print(\"---------- Feature %s -------------\" % (i))\n",
    "        \n",
    "        #Load untrained weights for next training\n",
    "        model.set_index(default_index)\n",
    "        model.load_weights(model_prediction.get_untrained_weights_path())\n",
    "        \n",
    "        #Train model with the feature i\n",
    "        model.set_index(i)\n",
    "        model.train_model(epochs=8, lr=1e-6)\n",
    "\n",
    "        #Save weights\n",
    "        model.save_weights(model_prediction.get_trained_weights_path())\n",
    "        \n",
    "\n",
    "    print(\"--- %s seconds ---\" % (time.time() - start_time))"
   ]
  }
 ],
 "metadata": {
  "kernelspec": {
   "display_name": "Python 3",
   "language": "python",
   "name": "python3"
  },
  "language_info": {
   "codemirror_mode": {
    "name": "ipython",
    "version": 3
   },
   "file_extension": ".py",
   "mimetype": "text/x-python",
   "name": "python",
   "nbconvert_exporter": "python",
   "pygments_lexer": "ipython3",
   "version": "3.5.2"
  }
 },
 "nbformat": 4,
 "nbformat_minor": 2
}
