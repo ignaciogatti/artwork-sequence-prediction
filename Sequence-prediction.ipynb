{
 "cells": [
  {
   "cell_type": "markdown",
   "metadata": {},
   "source": [
    "# Artwork sequence prediction"
   ]
  },
  {
   "cell_type": "code",
   "execution_count": 1,
   "metadata": {},
   "outputs": [
    {
     "name": "stderr",
     "output_type": "stream",
     "text": [
      "/usr/local/lib/python3.5/dist-packages/tensorflow/python/framework/dtypes.py:516: FutureWarning: Passing (type, 1) or '1type' as a synonym of type is deprecated; in a future version of numpy, it will be understood as (type, (1,)) / '(1,)type'.\n",
      "  _np_qint8 = np.dtype([(\"qint8\", np.int8, 1)])\n",
      "/usr/local/lib/python3.5/dist-packages/tensorflow/python/framework/dtypes.py:517: FutureWarning: Passing (type, 1) or '1type' as a synonym of type is deprecated; in a future version of numpy, it will be understood as (type, (1,)) / '(1,)type'.\n",
      "  _np_quint8 = np.dtype([(\"quint8\", np.uint8, 1)])\n",
      "/usr/local/lib/python3.5/dist-packages/tensorflow/python/framework/dtypes.py:518: FutureWarning: Passing (type, 1) or '1type' as a synonym of type is deprecated; in a future version of numpy, it will be understood as (type, (1,)) / '(1,)type'.\n",
      "  _np_qint16 = np.dtype([(\"qint16\", np.int16, 1)])\n",
      "/usr/local/lib/python3.5/dist-packages/tensorflow/python/framework/dtypes.py:519: FutureWarning: Passing (type, 1) or '1type' as a synonym of type is deprecated; in a future version of numpy, it will be understood as (type, (1,)) / '(1,)type'.\n",
      "  _np_quint16 = np.dtype([(\"quint16\", np.uint16, 1)])\n",
      "/usr/local/lib/python3.5/dist-packages/tensorflow/python/framework/dtypes.py:520: FutureWarning: Passing (type, 1) or '1type' as a synonym of type is deprecated; in a future version of numpy, it will be understood as (type, (1,)) / '(1,)type'.\n",
      "  _np_qint32 = np.dtype([(\"qint32\", np.int32, 1)])\n",
      "/usr/local/lib/python3.5/dist-packages/tensorflow/python/framework/dtypes.py:525: FutureWarning: Passing (type, 1) or '1type' as a synonym of type is deprecated; in a future version of numpy, it will be understood as (type, (1,)) / '(1,)type'.\n",
      "  np_resource = np.dtype([(\"resource\", np.ubyte, 1)])\n",
      "/usr/local/lib/python3.5/dist-packages/h5py/__init__.py:34: FutureWarning: Conversion of the second argument of issubdtype from `float` to `np.floating` is deprecated. In future, it will be treated as `np.float64 == np.dtype(float).type`.\n",
      "  from ._conv import register_converters as _register_converters\n",
      "/usr/local/lib/python3.5/dist-packages/tensorboard/compat/tensorflow_stub/dtypes.py:541: FutureWarning: Passing (type, 1) or '1type' as a synonym of type is deprecated; in a future version of numpy, it will be understood as (type, (1,)) / '(1,)type'.\n",
      "  _np_qint8 = np.dtype([(\"qint8\", np.int8, 1)])\n",
      "/usr/local/lib/python3.5/dist-packages/tensorboard/compat/tensorflow_stub/dtypes.py:542: FutureWarning: Passing (type, 1) or '1type' as a synonym of type is deprecated; in a future version of numpy, it will be understood as (type, (1,)) / '(1,)type'.\n",
      "  _np_quint8 = np.dtype([(\"quint8\", np.uint8, 1)])\n",
      "/usr/local/lib/python3.5/dist-packages/tensorboard/compat/tensorflow_stub/dtypes.py:543: FutureWarning: Passing (type, 1) or '1type' as a synonym of type is deprecated; in a future version of numpy, it will be understood as (type, (1,)) / '(1,)type'.\n",
      "  _np_qint16 = np.dtype([(\"qint16\", np.int16, 1)])\n",
      "/usr/local/lib/python3.5/dist-packages/tensorboard/compat/tensorflow_stub/dtypes.py:544: FutureWarning: Passing (type, 1) or '1type' as a synonym of type is deprecated; in a future version of numpy, it will be understood as (type, (1,)) / '(1,)type'.\n",
      "  _np_quint16 = np.dtype([(\"quint16\", np.uint16, 1)])\n",
      "/usr/local/lib/python3.5/dist-packages/tensorboard/compat/tensorflow_stub/dtypes.py:545: FutureWarning: Passing (type, 1) or '1type' as a synonym of type is deprecated; in a future version of numpy, it will be understood as (type, (1,)) / '(1,)type'.\n",
      "  _np_qint32 = np.dtype([(\"qint32\", np.int32, 1)])\n",
      "/usr/local/lib/python3.5/dist-packages/tensorboard/compat/tensorflow_stub/dtypes.py:550: FutureWarning: Passing (type, 1) or '1type' as a synonym of type is deprecated; in a future version of numpy, it will be understood as (type, (1,)) / '(1,)type'.\n",
      "  np_resource = np.dtype([(\"resource\", np.ubyte, 1)])\n"
     ]
    }
   ],
   "source": [
    "import numpy as np\n",
    "import pandas as pd\n",
    "import tensorflow as tf\n",
    "import os"
   ]
  },
  {
   "cell_type": "code",
   "execution_count": 2,
   "metadata": {},
   "outputs": [],
   "source": [
    "BASE_PATH = '/root/work/artwork_sequence/train_test_configuration'\n",
    "\n",
    "MULTI_CONFIG_PATH = os.path.join(BASE_PATH,'multivariate')\n",
    "UNI_CONFIG_PATH = os.path.join(BASE_PATH,'univariate')\n",
    "UNI_PREDICT_MULTI_CONFIG_PATH = os.path.join(BASE_PATH,'univariate_predict_multiple')\n",
    "EMB_CONFIG_PATH = os.path.join(BASE_PATH,'word_embeddings')\n",
    "CODE_EMB_CONFIG_PATH = os.path.join(BASE_PATH,'code_embedding')\n",
    "ARTIST_CODE_EMB_CONFIG_PATH = os.path.join(BASE_PATH,'artist_code_embedding')\n"
   ]
  },
  {
   "cell_type": "code",
   "execution_count": 3,
   "metadata": {},
   "outputs": [
    {
     "data": {
      "text/plain": [
       "{'artist_code_test_matrix': '/root/work/artwork_sequence/train_test_configuration/artist_code_test_matrix.npy',\n",
       " 'artist_code_train_matrix': '/root/work/artwork_sequence/train_test_configuration/artist_code_train_matrix.npy',\n",
       " 'artist_style_tour_matrix': '/root/work/artwork_sequence/train_test_configuration/style_tours_artist_code_matrix.npy',\n",
       " 'embedding_style_tour_matrix': '/root/work/artwork_sequence/train_test_configuration/embedding_style_tours_matrix.npy',\n",
       " 'embedding_test_matrix': '/root/work/artwork_sequence/train_test_configuration/embedding_test_matrix.npy',\n",
       " 'embedding_train_matrix': '/root/work/artwork_sequence/train_test_configuration/embedding_train_matrix.npy',\n",
       " 'x_style_tour_matrix': '/root/work/artwork_sequence/train_test_configuration/style_tours_matrix.npy',\n",
       " 'x_test': '/root/work/artwork_sequence/train_test_configuration/X_test.csv',\n",
       " 'x_test_matrix': '/root/work/artwork_sequence/train_test_configuration/X_test_matrix.npy',\n",
       " 'x_tour': '/root/work/artwork_sequence/train_test_configuration/style_tours.csv',\n",
       " 'x_train': '/root/work/artwork_sequence/train_test_configuration/X_train.csv',\n",
       " 'x_train_matrix': '/root/work/artwork_sequence/train_test_configuration/X_train_matrix.npy'}"
      ]
     },
     "execution_count": 3,
     "metadata": {},
     "output_type": "execute_result"
    }
   ],
   "source": [
    "museum_sequence_path = {\n",
    "    'x_train' : os.path.join(BASE_PATH, 'X_train.csv'),\n",
    "    'x_test' : os.path.join(BASE_PATH, 'X_test.csv'),\n",
    "    'x_tour' : os.path.join(BASE_PATH, 'style_tours.csv'),\n",
    "    \n",
    "    'x_style_tour_matrix' : os.path.join(BASE_PATH, 'style_tours_matrix.npy'),\n",
    "    'x_train_matrix' : os.path.join(BASE_PATH, 'X_train_matrix.npy'),\n",
    "    'x_test_matrix' : os.path.join(BASE_PATH, 'X_test_matrix.npy'),\n",
    "    \n",
    "    'embedding_train_matrix' : os.path.join(BASE_PATH, 'embedding_train_matrix.npy'),\n",
    "    'embedding_test_matrix' : os.path.join(BASE_PATH, 'embedding_test_matrix.npy'),\n",
    "    'embedding_style_tour_matrix' : os.path.join(BASE_PATH, 'embedding_style_tours_matrix.npy'),\n",
    "    \n",
    "    'artist_code_train_matrix' : os.path.join(BASE_PATH, 'artist_code_train_matrix.npy'),\n",
    "    'artist_code_test_matrix' : os.path.join(BASE_PATH, 'artist_code_test_matrix.npy'),\n",
    "    'artist_style_tour_matrix' : os.path.join(BASE_PATH, 'style_tours_artist_code_matrix.npy')\n",
    "}\n",
    "museum_sequence_path"
   ]
  },
  {
   "cell_type": "markdown",
   "metadata": {},
   "source": [
    "## Load data"
   ]
  },
  {
   "cell_type": "code",
   "execution_count": 4,
   "metadata": {},
   "outputs": [],
   "source": [
    "df_x_train = pd.read_csv(museum_sequence_path['x_train'], index_col=0)\n",
    "df_x_test = pd.read_csv(museum_sequence_path['x_test'], index_col=0)\n",
    "\n",
    "df_style_tours = pd.read_csv(museum_sequence_path['x_tour'], index_col=0)\n",
    "x_style_tour_matrix = np.load(museum_sequence_path['x_style_tour_matrix'])\n",
    "\n",
    "x_train_matrix = np.load(museum_sequence_path['x_train_matrix'])\n",
    "x_test_matrix = np.load(museum_sequence_path['x_test_matrix'])\n",
    "\n",
    "embedding_train_matrix = np.load(museum_sequence_path['embedding_train_matrix'])\n",
    "embedding_test_matrix = np.load(museum_sequence_path['embedding_test_matrix'])\n",
    "embedding_style_tour_matrix = np.load(museum_sequence_path['embedding_style_tour_matrix'])\n",
    "\n",
    "artist_code_train_matrix = np.load(museum_sequence_path['artist_code_train_matrix'])\n",
    "artist_code_test_matrix = np.load(museum_sequence_path['artist_code_test_matrix'])\n",
    "artist_style_tour_matrix = np.load(museum_sequence_path['artist_style_tour_matrix'])"
   ]
  },
  {
   "cell_type": "markdown",
   "metadata": {},
   "source": [
    "**Combine code data with embedding data**"
   ]
  },
  {
   "cell_type": "code",
   "execution_count": 5,
   "metadata": {},
   "outputs": [],
   "source": [
    "x_embedding_train_matrix = np.hstack((x_train_matrix, embedding_train_matrix))\n",
    "x_embedding_test_matrix = np.hstack((x_test_matrix, embedding_test_matrix))\n",
    "x_embedding_style_tour_matrix = np.hstack((x_style_tour_matrix, embedding_style_tour_matrix))"
   ]
  },
  {
   "cell_type": "markdown",
   "metadata": {},
   "source": [
    "**Reduce artist code matrix**"
   ]
  },
  {
   "cell_type": "code",
   "execution_count": 6,
   "metadata": {},
   "outputs": [],
   "source": [
    "artist_code_train_matrix = np.mean(artist_code_train_matrix, axis=1)\n",
    "artist_code_test_matrix = np.mean(artist_code_test_matrix, axis=1)\n",
    "artist_style_tour_matrix = np.mean(artist_style_tour_matrix, axis=1)"
   ]
  },
  {
   "cell_type": "code",
   "execution_count": 7,
   "metadata": {},
   "outputs": [],
   "source": [
    "x_artist_embedding_train_matrix = np.hstack((x_embedding_train_matrix, artist_code_train_matrix.reshape((-1, 1))))\n",
    "x_artist_embedding_test_matrix = np.hstack((x_embedding_test_matrix, artist_code_test_matrix.reshape((-1, 1))))\n",
    "x_artist_embedding_style_matrix = np.hstack((x_embedding_style_tour_matrix, artist_style_tour_matrix.reshape((-1, 1))))"
   ]
  },
  {
   "cell_type": "markdown",
   "metadata": {},
   "source": [
    "## Reset Tensorflow session"
   ]
  },
  {
   "cell_type": "code",
   "execution_count": 8,
   "metadata": {},
   "outputs": [],
   "source": [
    "tf.keras.backend.clear_session()"
   ]
  },
  {
   "cell_type": "markdown",
   "metadata": {},
   "source": [
    "## Config data to fit with the model input\n",
    "\n",
    "Because the **Prediction feature model** split the data into training and validation dataset, it is necessary to give all the data in only one block"
   ]
  },
  {
   "cell_type": "markdown",
   "metadata": {},
   "source": [
    "**Define timeline**"
   ]
  },
  {
   "cell_type": "code",
   "execution_count": 9,
   "metadata": {},
   "outputs": [
    {
     "data": {
      "text/plain": [
       "(859,)"
      ]
     },
     "execution_count": 9,
     "metadata": {},
     "output_type": "execute_result"
    }
   ],
   "source": [
    "time = np.arange(x_train_matrix.shape[0] + x_test_matrix.shape[0])\n",
    "time.shape"
   ]
  },
  {
   "cell_type": "markdown",
   "metadata": {},
   "source": [
    "**Define configuration to deal with the windowed dataset**"
   ]
  },
  {
   "cell_type": "code",
   "execution_count": 10,
   "metadata": {},
   "outputs": [],
   "source": [
    "def get_tours_conf():\n",
    "    \n",
    "    split_time = x_train_matrix.shape[0]\n",
    "    #code matrix\n",
    "    X = np.concatenate((x_train_matrix, x_test_matrix))\n",
    "    #embedding matrix\n",
    "    X_embeddings = np.concatenate((embedding_train_matrix, embedding_test_matrix))\n",
    "    #code and embedding matrix\n",
    "    X_code_embeddings = np.concatenate((x_embedding_train_matrix, x_embedding_test_matrix))\n",
    "    #code, embedding and artist matrix\n",
    "    X_artist_code_embeddings = np.concatenate((x_artist_embedding_train_matrix, x_artist_embedding_test_matrix))\n",
    "    \n",
    "    return (split_time, X, X_embeddings, X_code_embeddings, X_artist_code_embeddings)"
   ]
  },
  {
   "cell_type": "code",
   "execution_count": 11,
   "metadata": {},
   "outputs": [],
   "source": [
    "def get_style_tour_conf():\n",
    "    \n",
    "    split_time = 20000\n",
    "    #code matrix\n",
    "    X = x_style_tour_matrix\n",
    "    #embedding matrix\n",
    "    X_embeddings = embedding_style_tour_matrix\n",
    "    #code and embedding matrix\n",
    "    X_code_embeddings = x_embedding_style_tour_matrix\n",
    "    \n",
    "    #code, embedding and artist matrix\n",
    "    X_artist_code_embeddings = x_artist_embedding_style_matrix\n",
    "    \n",
    "    return (split_time, X, X_embeddings, X_code_embeddings, X_artist_code_embeddings)"
   ]
  },
  {
   "cell_type": "code",
   "execution_count": 12,
   "metadata": {},
   "outputs": [],
   "source": [
    "#split_time, X, X_embeddings, X_code_embeddings, X_artist_code_embeddings = get_tours_conf()\n",
    "\n",
    "split_time, X, X_embeddings, X_code_embeddings, X_artist_code_embeddings = get_style_tour_conf()\n",
    "\n",
    "#Number of feature to take into account\n",
    "n_influence_features=10\n",
    "\n",
    "batch_size = 128\n",
    "shuffle_buffer_size = 300"
   ]
  },
  {
   "cell_type": "code",
   "execution_count": 13,
   "metadata": {},
   "outputs": [
    {
     "data": {
      "text/plain": [
       "(27000, 300)"
      ]
     },
     "execution_count": 13,
     "metadata": {},
     "output_type": "execute_result"
    }
   ],
   "source": [
    "X.shape"
   ]
  },
  {
   "cell_type": "code",
   "execution_count": 14,
   "metadata": {},
   "outputs": [
    {
     "data": {
      "text/plain": [
       "(27000, 100)"
      ]
     },
     "execution_count": 14,
     "metadata": {},
     "output_type": "execute_result"
    }
   ],
   "source": [
    "X_embeddings.shape"
   ]
  },
  {
   "cell_type": "code",
   "execution_count": 15,
   "metadata": {},
   "outputs": [
    {
     "data": {
      "text/plain": [
       "(27000, 401)"
      ]
     },
     "execution_count": 15,
     "metadata": {},
     "output_type": "execute_result"
    }
   ],
   "source": [
    "X_artist_code_embeddings.shape"
   ]
  },
  {
   "cell_type": "markdown",
   "metadata": {},
   "source": [
    "## Create models"
   ]
  },
  {
   "cell_type": "markdown",
   "metadata": {},
   "source": [
    "**Define model**"
   ]
  },
  {
   "cell_type": "code",
   "execution_count": 16,
   "metadata": {},
   "outputs": [],
   "source": [
    "from Sequence_prediction_factory import Sequence_prediction_multivariate, Sequence_prediction_univariate, Sequence_prediction_embeddings"
   ]
  },
  {
   "cell_type": "code",
   "execution_count": 17,
   "metadata": {},
   "outputs": [],
   "source": [
    "model_univariate = Sequence_prediction_univariate(\n",
    "    X=X, \n",
    "    shuffle_buffer_size=shuffle_buffer_size, \n",
    "    split_time=split_time, \n",
    "    train_batch_size=batch_size, \n",
    "    val_batch_size=batch_size,\n",
    "    CONFIG_PATH=UNI_PREDICT_MULTI_CONFIG_PATH)"
   ]
  },
  {
   "cell_type": "code",
   "execution_count": 18,
   "metadata": {},
   "outputs": [],
   "source": [
    "model_multivariate = Sequence_prediction_multivariate(\n",
    "    X=X, \n",
    "    shuffle_buffer_size=shuffle_buffer_size, \n",
    "    split_time=split_time, \n",
    "    train_batch_size=batch_size, \n",
    "    val_batch_size=batch_size,  \n",
    "    n_influence_features=n_influence_features,\n",
    "    CONFIG_PATH=MULTI_CONFIG_PATH)"
   ]
  },
  {
   "cell_type": "code",
   "execution_count": 19,
   "metadata": {},
   "outputs": [],
   "source": [
    "model_embeddings = Sequence_prediction_embeddings(\n",
    "    X=X, \n",
    "    shuffle_buffer_size=shuffle_buffer_size, \n",
    "    split_time=split_time, \n",
    "    train_batch_size=batch_size, \n",
    "    val_batch_size=batch_size,  \n",
    "    X_embeddings=X_embeddings,\n",
    "    CONFIG_PATH=EMB_CONFIG_PATH)"
   ]
  },
  {
   "cell_type": "code",
   "execution_count": 20,
   "metadata": {},
   "outputs": [],
   "source": [
    "model_code_embedding = Sequence_prediction_univariate(\n",
    "    X=X_code_embeddings, \n",
    "    shuffle_buffer_size=shuffle_buffer_size, \n",
    "    split_time=split_time, \n",
    "    train_batch_size=batch_size, \n",
    "    val_batch_size=batch_size,\n",
    "    CONFIG_PATH=CODE_EMB_CONFIG_PATH)"
   ]
  },
  {
   "cell_type": "code",
   "execution_count": 21,
   "metadata": {},
   "outputs": [],
   "source": [
    "model_artist_code_embedding = Sequence_prediction_univariate(\n",
    "    X=X_artist_code_embeddings, \n",
    "    shuffle_buffer_size=shuffle_buffer_size, \n",
    "    split_time=split_time, \n",
    "    train_batch_size=batch_size, \n",
    "    val_batch_size=batch_size,\n",
    "    CONFIG_PATH=UNI_PREDICT_MULTI_CONFIG_PATH)"
   ]
  },
  {
   "cell_type": "code",
   "execution_count": 22,
   "metadata": {},
   "outputs": [],
   "source": [
    "model_prediction = model_artist_code_embedding"
   ]
  },
  {
   "cell_type": "code",
   "execution_count": null,
   "metadata": {},
   "outputs": [
    {
     "name": "stdout",
     "output_type": "stream",
     "text": [
      "---------- Feature 48 -------------\n",
      "Epoch 1/8\n",
      "157/157 [==============================] - 17s 108ms/step - loss: 0.2733 - mae: 0.5789 - val_loss: 0.0000e+00 - val_mae: 0.0000e+00\n",
      "Epoch 2/8\n",
      "157/157 [==============================] - 6s 38ms/step - loss: 0.0991 - mae: 0.3498 - val_loss: 0.0978 - val_mae: 0.3500\n",
      "Epoch 3/8\n",
      "157/157 [==============================] - 6s 37ms/step - loss: 0.0943 - mae: 0.3420 - val_loss: 0.0962 - val_mae: 0.3475\n",
      "Epoch 4/8\n",
      " 63/157 [===========>..................] - ETA: 2s - loss: 0.0932 - mae: 0.3401"
     ]
    }
   ],
   "source": [
    "from IPython.display import clear_output\n",
    "import time\n",
    "\n",
    "default_index = 0\n",
    "#length of the history\n",
    "for window_size in range(3,4):\n",
    "    \n",
    "    #Define model with the window size\n",
    "    model_prediction.set_window_size(window_size)\n",
    "    tf.keras.backend.clear_session()\n",
    "    model = model_prediction.get_model()\n",
    "    model.define_model(conv_filter=20, lstm_filter=40, dense_filter=20, prediction_length=15)\n",
    "    model.set_index(default_index)\n",
    "    model.save_weights(model_prediction.get_untrained_weights_path())\n",
    "\n",
    "    start_time = time.time()\n",
    "    \n",
    "    for i in range(model_prediction.get_x_features()):\n",
    "        clear_output(wait=True)\n",
    "        print(\"---------- Feature %s -------------\" % (i))\n",
    "        \n",
    "        #Load untrained weights for next training\n",
    "        model.set_index(default_index)\n",
    "        model.load_weights(model_prediction.get_untrained_weights_path())\n",
    "        \n",
    "        #Train model with the feature i\n",
    "        model.set_index(i)\n",
    "        model.train_model(epochs=8, lr=1e-6)\n",
    "\n",
    "        #Save weights\n",
    "        model.save_weights(model_prediction.get_trained_weights_path())\n",
    "        \n",
    "\n",
    "    print(\"--- %s seconds ---\" % (time.time() - start_time))"
   ]
  }
 ],
 "metadata": {
  "kernelspec": {
   "display_name": "Python 3",
   "language": "python",
   "name": "python3"
  },
  "language_info": {
   "codemirror_mode": {
    "name": "ipython",
    "version": 3
   },
   "file_extension": ".py",
   "mimetype": "text/x-python",
   "name": "python",
   "nbconvert_exporter": "python",
   "pygments_lexer": "ipython3",
   "version": "3.5.2"
  }
 },
 "nbformat": 4,
 "nbformat_minor": 2
}
