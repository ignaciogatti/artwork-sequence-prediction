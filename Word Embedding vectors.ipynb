{
 "cells": [
  {
   "cell_type": "markdown",
   "metadata": {},
   "source": [
    "# Word Embedding Vectors"
   ]
  },
  {
   "cell_type": "code",
   "execution_count": 1,
   "metadata": {},
   "outputs": [],
   "source": [
    "import pandas as pd\n",
    "import numpy as np\n",
    "import unicodedata\n",
    "import os"
   ]
  },
  {
   "cell_type": "code",
   "execution_count": 2,
   "metadata": {},
   "outputs": [],
   "source": [
    "BASE_PATH = '/root/work/datasets/'\n",
    "BASE_SEQUENCE_PATH = os.path.join(BASE_PATH, 'artwork_sequence')\n",
    "EMBEDDINGS_PATH = os.path.join(BASE_PATH, 'Word Embeddings Pretrained Vectors')"
   ]
  },
  {
   "cell_type": "markdown",
   "metadata": {},
   "source": [
    "## Load data"
   ]
  },
  {
   "cell_type": "code",
   "execution_count": 6,
   "metadata": {},
   "outputs": [
    {
     "data": {
      "text/html": [
       "<div>\n",
       "<style scoped>\n",
       "    .dataframe tbody tr th:only-of-type {\n",
       "        vertical-align: middle;\n",
       "    }\n",
       "\n",
       "    .dataframe tbody tr th {\n",
       "        vertical-align: top;\n",
       "    }\n",
       "\n",
       "    .dataframe thead th {\n",
       "        text-align: right;\n",
       "    }\n",
       "</style>\n",
       "<table border=\"1\" class=\"dataframe\">\n",
       "  <thead>\n",
       "    <tr style=\"text-align: right;\">\n",
       "      <th></th>\n",
       "      <th>id</th>\n",
       "      <th>author</th>\n",
       "      <th>data</th>\n",
       "      <th>image_url</th>\n",
       "      <th>title</th>\n",
       "      <th>tour_path</th>\n",
       "      <th>wikiart name</th>\n",
       "      <th>style</th>\n",
       "      <th>genre</th>\n",
       "    </tr>\n",
       "  </thead>\n",
       "  <tbody>\n",
       "    <tr>\n",
       "      <th>0</th>\n",
       "      <td>1</td>\n",
       "      <td>n.v. haagsche plateelfabriek rozenburg</td>\n",
       "      <td>1914</td>\n",
       "      <td>https://lh3.googleusercontent.com/IJn7rB4WvYvv...</td>\n",
       "      <td>vaas beschilderd met paarse seringen en op een...</td>\n",
       "      <td>/root/work/datasets/artwork_sequence/rijksmuse...</td>\n",
       "      <td>jan van eyck</td>\n",
       "      <td>northern renaissance</td>\n",
       "      <td>portrait</td>\n",
       "    </tr>\n",
       "    <tr>\n",
       "      <th>1</th>\n",
       "      <td>2</td>\n",
       "      <td>n.v. haagsche plateelfabriek rozenburg</td>\n",
       "      <td>1900</td>\n",
       "      <td>https://lh3.googleusercontent.com/l0ccWh5aCgP5...</td>\n",
       "      <td>vaas</td>\n",
       "      <td>/root/work/datasets/artwork_sequence/rijksmuse...</td>\n",
       "      <td>jan van eyck</td>\n",
       "      <td>no value</td>\n",
       "      <td>no value</td>\n",
       "    </tr>\n",
       "    <tr>\n",
       "      <th>2</th>\n",
       "      <td>3</td>\n",
       "      <td>n.v. haagsche plateelfabriek rozenburg</td>\n",
       "      <td>1900</td>\n",
       "      <td>https://lh3.googleusercontent.com/uNQWFg-BhiPZ...</td>\n",
       "      <td>vase with lily decoration</td>\n",
       "      <td>/root/work/datasets/artwork_sequence/rijksmuse...</td>\n",
       "      <td>jan van eyck</td>\n",
       "      <td>northern renaissance</td>\n",
       "      <td>portrait</td>\n",
       "    </tr>\n",
       "    <tr>\n",
       "      <th>3</th>\n",
       "      <td>4</td>\n",
       "      <td>n.v. haagsche plateelfabriek rozenburg</td>\n",
       "      <td>1902</td>\n",
       "      <td>https://lh3.googleusercontent.com/QRdRjQDGyvDp...</td>\n",
       "      <td>vaas beschilderd met takken met seringen en ee...</td>\n",
       "      <td>/root/work/datasets/artwork_sequence/rijksmuse...</td>\n",
       "      <td>jan van eyck</td>\n",
       "      <td>northern renaissance</td>\n",
       "      <td>portrait</td>\n",
       "    </tr>\n",
       "    <tr>\n",
       "      <th>4</th>\n",
       "      <td>6</td>\n",
       "      <td>theo colenbrander</td>\n",
       "      <td>1886</td>\n",
       "      <td>https://lh3.googleusercontent.com/TZqVQVxb-1kl...</td>\n",
       "      <td>garniture of five vases</td>\n",
       "      <td>/root/work/datasets/artwork_sequence/rijksmuse...</td>\n",
       "      <td>theo van rysselberghe</td>\n",
       "      <td>impressionism</td>\n",
       "      <td>portrait</td>\n",
       "    </tr>\n",
       "  </tbody>\n",
       "</table>\n",
       "</div>"
      ],
      "text/plain": [
       "   id                                  author  data  \\\n",
       "0   1  n.v. haagsche plateelfabriek rozenburg  1914   \n",
       "1   2  n.v. haagsche plateelfabriek rozenburg  1900   \n",
       "2   3  n.v. haagsche plateelfabriek rozenburg  1900   \n",
       "3   4  n.v. haagsche plateelfabriek rozenburg  1902   \n",
       "4   6                       theo colenbrander  1886   \n",
       "\n",
       "                                           image_url  \\\n",
       "0  https://lh3.googleusercontent.com/IJn7rB4WvYvv...   \n",
       "1  https://lh3.googleusercontent.com/l0ccWh5aCgP5...   \n",
       "2  https://lh3.googleusercontent.com/uNQWFg-BhiPZ...   \n",
       "3  https://lh3.googleusercontent.com/QRdRjQDGyvDp...   \n",
       "4  https://lh3.googleusercontent.com/TZqVQVxb-1kl...   \n",
       "\n",
       "                                               title  \\\n",
       "0  vaas beschilderd met paarse seringen en op een...   \n",
       "1                                               vaas   \n",
       "2                          vase with lily decoration   \n",
       "3  vaas beschilderd met takken met seringen en ee...   \n",
       "4                            garniture of five vases   \n",
       "\n",
       "                                           tour_path           wikiart name  \\\n",
       "0  /root/work/datasets/artwork_sequence/rijksmuse...           jan van eyck   \n",
       "1  /root/work/datasets/artwork_sequence/rijksmuse...           jan van eyck   \n",
       "2  /root/work/datasets/artwork_sequence/rijksmuse...           jan van eyck   \n",
       "3  /root/work/datasets/artwork_sequence/rijksmuse...           jan van eyck   \n",
       "4  /root/work/datasets/artwork_sequence/rijksmuse...  theo van rysselberghe   \n",
       "\n",
       "                  style     genre  \n",
       "0  northern renaissance  portrait  \n",
       "1              no value  no value  \n",
       "2  northern renaissance  portrait  \n",
       "3  northern renaissance  portrait  \n",
       "4         impressionism  portrait  "
      ]
     },
     "execution_count": 6,
     "metadata": {},
     "output_type": "execute_result"
    }
   ],
   "source": [
    "df_metadata = pd.read_csv(os.path.join(BASE_SEQUENCE_PATH, 'all_metadata_with_style_genre.csv'))\n",
    "df_metadata = df_metadata.drop(columns=['name reverse'])\n",
    "df_metadata.head()"
   ]
  },
  {
   "cell_type": "code",
   "execution_count": 4,
   "metadata": {},
   "outputs": [
    {
     "data": {
      "text/plain": [
       "(633, 9)"
      ]
     },
     "execution_count": 4,
     "metadata": {},
     "output_type": "execute_result"
    }
   ],
   "source": [
    "df_metadata.shape"
   ]
  },
  {
   "cell_type": "code",
   "execution_count": 7,
   "metadata": {},
   "outputs": [
    {
     "data": {
      "text/html": [
       "<div>\n",
       "<style scoped>\n",
       "    .dataframe tbody tr th:only-of-type {\n",
       "        vertical-align: middle;\n",
       "    }\n",
       "\n",
       "    .dataframe tbody tr th {\n",
       "        vertical-align: top;\n",
       "    }\n",
       "\n",
       "    .dataframe thead th {\n",
       "        text-align: right;\n",
       "    }\n",
       "</style>\n",
       "<table border=\"1\" class=\"dataframe\">\n",
       "  <thead>\n",
       "    <tr style=\"text-align: right;\">\n",
       "      <th></th>\n",
       "      <th>title</th>\n",
       "      <th>style</th>\n",
       "      <th>genre</th>\n",
       "      <th>date</th>\n",
       "      <th>artist</th>\n",
       "    </tr>\n",
       "  </thead>\n",
       "  <tbody>\n",
       "    <tr>\n",
       "      <th>0</th>\n",
       "      <td>Forbidden Land</td>\n",
       "      <td>Surrealism</td>\n",
       "      <td>landscape</td>\n",
       "      <td>1937.0</td>\n",
       "      <td>Wolfgang Paalen</td>\n",
       "    </tr>\n",
       "    <tr>\n",
       "      <th>1</th>\n",
       "      <td>Storm at sea</td>\n",
       "      <td>Romanticism</td>\n",
       "      <td>marina</td>\n",
       "      <td>1873</td>\n",
       "      <td>Ivan Aivazovsky</td>\n",
       "    </tr>\n",
       "    <tr>\n",
       "      <th>2</th>\n",
       "      <td>Yachting in the Mediterranean</td>\n",
       "      <td>Realism</td>\n",
       "      <td>genre painting</td>\n",
       "      <td>1896</td>\n",
       "      <td>Julius LeBlanc Stewart</td>\n",
       "    </tr>\n",
       "    <tr>\n",
       "      <th>3</th>\n",
       "      <td>Death of Eleazer</td>\n",
       "      <td>Romanticism</td>\n",
       "      <td>religious painting</td>\n",
       "      <td>1866</td>\n",
       "      <td>Gustave Dore</td>\n",
       "    </tr>\n",
       "    <tr>\n",
       "      <th>4</th>\n",
       "      <td>The-Deluge</td>\n",
       "      <td>Romanticism</td>\n",
       "      <td>religious painting</td>\n",
       "      <td>NaN</td>\n",
       "      <td>Gustave Dore</td>\n",
       "    </tr>\n",
       "  </tbody>\n",
       "</table>\n",
       "</div>"
      ],
      "text/plain": [
       "                           title        style               genre    date  \\\n",
       "0                Forbidden Land    Surrealism           landscape  1937.0   \n",
       "1                   Storm at sea  Romanticism              marina    1873   \n",
       "2  Yachting in the Mediterranean      Realism      genre painting    1896   \n",
       "3               Death of Eleazer  Romanticism  religious painting    1866   \n",
       "4                     The-Deluge  Romanticism  religious painting     NaN   \n",
       "\n",
       "                   artist  \n",
       "0         Wolfgang Paalen  \n",
       "1         Ivan Aivazovsky  \n",
       "2  Julius LeBlanc Stewart  \n",
       "3            Gustave Dore  \n",
       "4            Gustave Dore  "
      ]
     },
     "execution_count": 7,
     "metadata": {},
     "output_type": "execute_result"
    }
   ],
   "source": [
    "df_all_metadata = pd.read_csv(os.path.join(BASE_PATH, 'train_mayors_style_encoded.csv'))\n",
    "df_all_metadata = df_all_metadata[['title', 'style', 'genre','date', 'artist']]\n",
    "df_all_metadata.head()"
   ]
  },
  {
   "cell_type": "code",
   "execution_count": null,
   "metadata": {},
   "outputs": [],
   "source": [
    "df_all_metadata.shape"
   ]
  },
  {
   "cell_type": "code",
   "execution_count": null,
   "metadata": {},
   "outputs": [],
   "source": [
    "all_data_matrix = np.load(os.path.join(BASE_PATH, 'train_mayors_style_encode.npy'))\n",
    "all_data_matrix.shape"
   ]
  },
  {
   "cell_type": "code",
   "execution_count": null,
   "metadata": {},
   "outputs": [],
   "source": [
    "df_metadata = df_all_metadata"
   ]
  },
  {
   "cell_type": "markdown",
   "metadata": {},
   "source": [
    "## Load Pre-trained embeddings"
   ]
  },
  {
   "cell_type": "code",
   "execution_count": null,
   "metadata": {},
   "outputs": [],
   "source": [
    "from gensim.test.utils import common_texts, get_tmpfile\n",
    "from gensim.models import Word2Vec, KeyedVectors"
   ]
  },
  {
   "cell_type": "markdown",
   "metadata": {},
   "source": [
    "**Load trained embeddings**"
   ]
  },
  {
   "cell_type": "code",
   "execution_count": null,
   "metadata": {},
   "outputs": [],
   "source": [
    "word2vect_model = KeyedVectors.load_word2vec_format(os.path.join(EMBEDDINGS_PATH, 'GLoVe/glove-w2v.6B.100d.txt'), binary=False)"
   ]
  },
  {
   "cell_type": "code",
   "execution_count": null,
   "metadata": {},
   "outputs": [],
   "source": [
    "vocab = list(word2vect_model.vocab.keys())"
   ]
  },
  {
   "cell_type": "markdown",
   "metadata": {},
   "source": [
    "**Functions to prepare the data and compute the embedding vector**"
   ]
  },
  {
   "cell_type": "code",
   "execution_count": null,
   "metadata": {},
   "outputs": [],
   "source": [
    "def get_w2vec(soap, word2vect_model):\n",
    "    # vector space of embeddings\n",
    "    w2v = np.zeros((word2vect_model.vector_size,))\n",
    "    for s in soap:\n",
    "        w2v += word2vect_model.get_vector(s)\n",
    "    return w2v / len(soap)"
   ]
  },
  {
   "cell_type": "code",
   "execution_count": null,
   "metadata": {},
   "outputs": [],
   "source": [
    "def process_feature(feature, word2vect_model):\n",
    "    \n",
    "    if not isinstance(feature, str):\n",
    "        feature = str(feature)\n",
    "    feature = feature.split(' ')\n",
    "    feature_clean = list(filter(lambda x: x in word2vect_model.vocab, feature))\n",
    "    return feature_clean"
   ]
  },
  {
   "cell_type": "markdown",
   "metadata": {},
   "source": [
    "**Compute the embedding vector**"
   ]
  },
  {
   "cell_type": "code",
   "execution_count": null,
   "metadata": {},
   "outputs": [],
   "source": [
    "df_metadata['w2v data'] = [[]]*df_metadata.shape[0]\n",
    "for f in ['style', 'genre']:\n",
    "    df_metadata['w2v data'] = df_metadata['w2v data'] + df_metadata[f].apply(process_feature, args=(word2vect_model,))\n",
    "\n",
    "target_embeddings = df_metadata['w2v data'].apply(get_w2vec, args=(word2vect_model,))\n",
    "\n",
    "target_embeddings = np.stack(target_embeddings)\n",
    "target_embeddings.shape"
   ]
  },
  {
   "cell_type": "code",
   "execution_count": null,
   "metadata": {},
   "outputs": [],
   "source": [
    "np.save(os.path.join(BASE_PATH, 'train_mayors_style_embedding' ), target_embeddings)"
   ]
  }
 ],
 "metadata": {
  "kernelspec": {
   "display_name": "Python 3",
   "language": "python",
   "name": "python3"
  },
  "language_info": {
   "codemirror_mode": {
    "name": "ipython",
    "version": 3
   },
   "file_extension": ".py",
   "mimetype": "text/x-python",
   "name": "python",
   "nbconvert_exporter": "python",
   "pygments_lexer": "ipython3",
   "version": "3.5.2"
  }
 },
 "nbformat": 4,
 "nbformat_minor": 2
}
