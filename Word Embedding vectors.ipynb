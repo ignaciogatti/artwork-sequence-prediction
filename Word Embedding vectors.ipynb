{
 "cells": [
  {
   "cell_type": "markdown",
   "metadata": {},
   "source": [
    "# Word Embedding Vectors"
   ]
  },
  {
   "cell_type": "code",
   "execution_count": null,
   "metadata": {},
   "outputs": [],
   "source": [
    "import pandas as pd\n",
    "import numpy as np\n",
    "import unicodedata\n",
    "import os"
   ]
  },
  {
   "cell_type": "code",
   "execution_count": null,
   "metadata": {},
   "outputs": [],
   "source": [
    "BASE_PATH = '/root/work/datasets/'\n",
    "BASE_SEQUENCE_PATH = os.path.join(BASE_PATH, 'artwork_sequence')\n",
    "EMBEDDINGS_PATH = os.path.join(BASE_PATH, 'Word Embeddings Pretrained Vectors')"
   ]
  },
  {
   "cell_type": "markdown",
   "metadata": {},
   "source": [
    "## Load data"
   ]
  },
  {
   "cell_type": "code",
   "execution_count": null,
   "metadata": {},
   "outputs": [],
   "source": [
    "df_metadata = pd.read_csv(os.path.join(BASE_SEQUENCE_PATH, 'all_metadata_with_style_genre.csv'))\n",
    "df_metadata = df_metadata.drop(columns=['name reverse'])\n",
    "df_metadata.head()"
   ]
  },
  {
   "cell_type": "code",
   "execution_count": null,
   "metadata": {},
   "outputs": [],
   "source": [
    "df_metadata.shape"
   ]
  },
  {
   "cell_type": "code",
   "execution_count": null,
   "metadata": {},
   "outputs": [],
   "source": [
    "df_all_metadata = pd.read_csv(os.path.join(BASE_PATH, 'train_mayors_style_encoded.csv'))\n",
    "df_all_metadata = df_all_metadata[['title', 'style', 'genre','date', 'artist']]\n",
    "df_all_metadata.head()"
   ]
  },
  {
   "cell_type": "code",
   "execution_count": null,
   "metadata": {},
   "outputs": [],
   "source": [
    "df_all_metadata.shape"
   ]
  },
  {
   "cell_type": "code",
   "execution_count": null,
   "metadata": {},
   "outputs": [],
   "source": [
    "all_data_matrix = np.load(os.path.join(BASE_PATH, 'train_mayors_style_encode.npy'))\n",
    "all_data_matrix.shape"
   ]
  },
  {
   "cell_type": "code",
   "execution_count": null,
   "metadata": {},
   "outputs": [],
   "source": [
    "df_metadata = df_all_metadata"
   ]
  },
  {
   "cell_type": "markdown",
   "metadata": {},
   "source": [
    "## Load Pre-trained embeddings"
   ]
  },
  {
   "cell_type": "code",
   "execution_count": null,
   "metadata": {},
   "outputs": [],
   "source": [
    "from gensim.test.utils import common_texts, get_tmpfile\n",
    "from gensim.models import Word2Vec, KeyedVectors"
   ]
  },
  {
   "cell_type": "markdown",
   "metadata": {},
   "source": [
    "**Load trained embeddings**"
   ]
  },
  {
   "cell_type": "code",
   "execution_count": null,
   "metadata": {},
   "outputs": [],
   "source": [
    "word2vect_model = KeyedVectors.load_word2vec_format(os.path.join(EMBEDDINGS_PATH, 'GLoVe/glove-w2v.6B.100d.txt'), binary=False)"
   ]
  },
  {
   "cell_type": "code",
   "execution_count": null,
   "metadata": {},
   "outputs": [],
   "source": [
    "vocab = list(word2vect_model.vocab.keys())"
   ]
  },
  {
   "cell_type": "markdown",
   "metadata": {},
   "source": [
    "**Functions to prepare the data and compute the embedding vector**"
   ]
  },
  {
   "cell_type": "code",
   "execution_count": null,
   "metadata": {},
   "outputs": [],
   "source": [
    "def get_w2vec(soap, word2vect_model):\n",
    "    # vector space of embeddings\n",
    "    w2v = np.zeros((word2vect_model.vector_size,))\n",
    "    for s in soap:\n",
    "        w2v += word2vect_model.get_vector(s)\n",
    "    return w2v / len(soap)"
   ]
  },
  {
   "cell_type": "code",
   "execution_count": null,
   "metadata": {},
   "outputs": [],
   "source": [
    "def process_feature(feature, word2vect_model):\n",
    "    \n",
    "    if not isinstance(feature, str):\n",
    "        feature = str(feature)\n",
    "    feature = feature.split(' ')\n",
    "    feature_clean = list(filter(lambda x: x in word2vect_model.vocab, feature))\n",
    "    return feature_clean"
   ]
  },
  {
   "cell_type": "markdown",
   "metadata": {},
   "source": [
    "**Compute the embedding vector**"
   ]
  },
  {
   "cell_type": "code",
   "execution_count": null,
   "metadata": {},
   "outputs": [],
   "source": [
    "df_metadata['w2v data'] = [[]]*df_metadata.shape[0]\n",
    "for f in ['style', 'genre']:\n",
    "    df_metadata['w2v data'] = df_metadata['w2v data'] + df_metadata[f].apply(process_feature, args=(word2vect_model,))\n",
    "\n",
    "target_embeddings = df_metadata['w2v data'].apply(get_w2vec, args=(word2vect_model,))\n",
    "\n",
    "target_embeddings = np.stack(target_embeddings)\n",
    "target_embeddings.shape"
   ]
  },
  {
   "cell_type": "code",
   "execution_count": null,
   "metadata": {},
   "outputs": [],
   "source": [
    "np.save(os.path.join(BASE_PATH, 'train_mayors_style_embedding' ), target_embeddings)"
   ]
  }
 ],
 "metadata": {
  "kernelspec": {
   "display_name": "Python 3",
   "language": "python",
   "name": "python3"
  },
  "language_info": {
   "codemirror_mode": {
    "name": "ipython",
    "version": 3
   },
   "file_extension": ".py",
   "mimetype": "text/x-python",
   "name": "python",
   "nbconvert_exporter": "python",
   "pygments_lexer": "ipython3",
   "version": "3.5.2"
  }
 },
 "nbformat": 4,
 "nbformat_minor": 2
}
