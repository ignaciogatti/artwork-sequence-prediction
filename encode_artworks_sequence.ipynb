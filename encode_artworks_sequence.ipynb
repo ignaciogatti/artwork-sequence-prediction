{
 "cells": [
  {
   "cell_type": "code",
   "execution_count": 2,
   "metadata": {},
   "outputs": [
    {
     "name": "stdout",
     "output_type": "stream",
     "text": [
      "2.0.0-beta1\n"
     ]
    }
   ],
   "source": [
    "import tensorflow as tf\n",
    "import tensorflow.python.keras\n",
    "#import keras\n",
    "from tensorflow.python.keras import backend as K\n",
    "import numpy as np\n",
    "import pandas as pd\n",
    "%matplotlib inline\n",
    "import matplotlib.pyplot as plt\n",
    "print(tf.__version__)\n",
    "import cv2  # for image processing\n",
    "from sklearn.model_selection import train_test_split\n",
    "import scipy.io\n",
    "import os\n",
    "import scipy\n",
    "#from scipy.spatial.distance import directed_hausdorff, cosine\n",
    "from IPython import display"
   ]
  },
  {
   "cell_type": "markdown",
   "metadata": {},
   "source": [
    "## Utils function"
   ]
  },
  {
   "cell_type": "markdown",
   "metadata": {},
   "source": [
    "**Create dataframe function**"
   ]
  },
  {
   "cell_type": "code",
   "execution_count": 3,
   "metadata": {},
   "outputs": [],
   "source": [
    "def create_dataframe(path):\n",
    "    abs_path = os.path.join(path, 'items.json' )\n",
    "    print(abs_path)\n",
    "    df_artworks = pd.read_json(abs_path)\n",
    "    df_artworks = df_artworks.set_index('id')\n",
    "    df_artworks = df_artworks.sort_index()\n",
    "    df_artworks = df_artworks.reset_index()\n",
    "    #clean data\n",
    "    df_artworks['data'] = df_artworks['data'].str.replace('\\r','')\n",
    "    return df_artworks"
   ]
  },
  {
   "cell_type": "markdown",
   "metadata": {},
   "source": [
    "**Encode artwork function**"
   ]
  },
  {
   "cell_type": "code",
   "execution_count": 4,
   "metadata": {},
   "outputs": [],
   "source": [
    "from arts_preprocess_utils import get_image\n",
    "\n",
    "def encode_artworks(x, encoder, base_img_path):\n",
    "\n",
    "    try:\n",
    "        img_path = os.path.join(base_img_path, str(x)+'.jpg')\n",
    "        # Images\n",
    "        image = get_image(img_path, img_Height=img_Height, img_Width=img_Width)\n",
    "\n",
    "        # Encode\n",
    "        code = encoder.predict(image)\n",
    "        \n",
    "        return code.reshape((-1,))\n",
    "\n",
    "    except:\n",
    "        print(\"Problem with file \" + x)\n",
    "        return None\n"
   ]
  },
  {
   "cell_type": "markdown",
   "metadata": {},
   "source": [
    "## Load encoder"
   ]
  },
  {
   "cell_type": "code",
   "execution_count": 5,
   "metadata": {},
   "outputs": [
    {
     "name": "stdout",
     "output_type": "stream",
     "text": [
      "WARNING:tensorflow:No training configuration found in save file: the model was *not* compiled. Compile it manually.\n"
     ]
    }
   ],
   "source": [
    "from tensorflow.python.keras.models import load_model\n",
    "\n",
    "autoencoder_model = load_model('/root/work/trained_models/denoisy_encoder.h5')"
   ]
  },
  {
   "cell_type": "markdown",
   "metadata": {},
   "source": [
    "## Load artwork's metadata"
   ]
  },
  {
   "cell_type": "code",
   "execution_count": 6,
   "metadata": {},
   "outputs": [],
   "source": [
    "BASE_PATH = '/root/work/datasets/artwork_sequence/'\n",
    "\n",
    "#According to the dataset input used during autoencoder training\n",
    "img_Height = 128\n",
    "img_Width = 128\n",
    "chanels= 3\n",
    "N_CLASSES = 1"
   ]
  },
  {
   "cell_type": "code",
   "execution_count": 8,
   "metadata": {},
   "outputs": [
    {
     "name": "stdout",
     "output_type": "stream",
     "text": [
      "/root/work/datasets/artwork_sequence/rijksmuseum_crawler/tour_21/items.json\n",
      "/root/work/datasets/artwork_sequence/rijksmuseum_crawler/tour_23/items.json\n",
      "/root/work/datasets/artwork_sequence/rijksmuseum_crawler/tour_15/items.json\n",
      "/root/work/datasets/artwork_sequence/rijksmuseum_crawler/tour_3/items.json\n",
      "Problem with folder tour_3\n",
      "/root/work/datasets/artwork_sequence/rijksmuseum_crawler/tour_2/items.json\n",
      "/root/work/datasets/artwork_sequence/rijksmuseum_crawler/tour_0/items.json\n",
      "/root/work/datasets/artwork_sequence/rijksmuseum_crawler/tour_20/items.json\n",
      "/root/work/datasets/artwork_sequence/rijksmuseum_crawler/tour_22/items.json\n",
      "/root/work/datasets/artwork_sequence/rijksmuseum_crawler/tour_5/items.json\n",
      "/root/work/datasets/artwork_sequence/rijksmuseum_crawler/tour_6/items.json\n",
      "/root/work/datasets/artwork_sequence/rijksmuseum_crawler/tour_11/items.json\n",
      "/root/work/datasets/artwork_sequence/rijksmuseum_crawler/tour_14/items.json\n",
      "/root/work/datasets/artwork_sequence/rijksmuseum_crawler/tour_13/items.json\n",
      "/root/work/datasets/artwork_sequence/rijksmuseum_crawler/tour_18/items.json\n",
      "/root/work/datasets/artwork_sequence/rijksmuseum_crawler/.ipynb_checkpoints/items.json\n",
      "Problem with folder .ipynb_checkpoints\n",
      "/root/work/datasets/artwork_sequence/rijksmuseum_crawler/tour_1/items.json\n",
      "/root/work/datasets/artwork_sequence/rijksmuseum_crawler/tour_17/items.json\n",
      "/root/work/datasets/artwork_sequence/rijksmuseum_crawler/tour_10/items.json\n",
      "/root/work/datasets/artwork_sequence/rijksmuseum_crawler/tour_12/items.json\n",
      "/root/work/datasets/artwork_sequence/rijksmuseum_crawler/tour_9/items.json\n",
      "/root/work/datasets/artwork_sequence/rijksmuseum_crawler/tour_16/items.json\n",
      "/root/work/datasets/artwork_sequence/rijksmuseum_crawler/tour_7/items.json\n",
      "/root/work/datasets/artwork_sequence/rijksmuseum_crawler/tour_8/items.json\n",
      "/root/work/datasets/artwork_sequence/rijksmuseum_crawler/tour_4/items.json\n",
      "/root/work/datasets/artwork_sequence/rijksmuseum_crawler/tour_24/items.json\n",
      "/root/work/datasets/artwork_sequence/prado_crawler/tour_21/items.json\n",
      "/root/work/datasets/artwork_sequence/prado_crawler/tour_23/items.json\n",
      "/root/work/datasets/artwork_sequence/prado_crawler/tour_19/items.json\n",
      "/root/work/datasets/artwork_sequence/prado_crawler/tour_15/items.json\n",
      "/root/work/datasets/artwork_sequence/prado_crawler/tour_3/items.json\n",
      "/root/work/datasets/artwork_sequence/prado_crawler/tour_2/items.json\n",
      "/root/work/datasets/artwork_sequence/prado_crawler/tour_0/items.json\n",
      "/root/work/datasets/artwork_sequence/prado_crawler/tour_20/items.json\n",
      "/root/work/datasets/artwork_sequence/prado_crawler/tour_22/items.json\n",
      "/root/work/datasets/artwork_sequence/prado_crawler/tour_28/items.json\n",
      "/root/work/datasets/artwork_sequence/prado_crawler/tour_26/items.json\n",
      "/root/work/datasets/artwork_sequence/prado_crawler/tour_5/items.json\n",
      "/root/work/datasets/artwork_sequence/prado_crawler/tour_6/items.json\n",
      "/root/work/datasets/artwork_sequence/prado_crawler/tour_11/items.json\n",
      "/root/work/datasets/artwork_sequence/prado_crawler/tour_14/items.json\n",
      "/root/work/datasets/artwork_sequence/prado_crawler/tour_13/items.json\n",
      "/root/work/datasets/artwork_sequence/prado_crawler/tour_18/items.json\n",
      "/root/work/datasets/artwork_sequence/prado_crawler/tour_1/items.json\n",
      "/root/work/datasets/artwork_sequence/prado_crawler/tour_17/items.json\n",
      "/root/work/datasets/artwork_sequence/prado_crawler/tour_25/items.json\n",
      "/root/work/datasets/artwork_sequence/prado_crawler/tour_10/items.json\n",
      "/root/work/datasets/artwork_sequence/prado_crawler/tour_12/items.json\n",
      "/root/work/datasets/artwork_sequence/prado_crawler/tour_9/items.json\n",
      "/root/work/datasets/artwork_sequence/prado_crawler/tour_16/items.json\n",
      "/root/work/datasets/artwork_sequence/prado_crawler/tour_7/items.json\n",
      "/root/work/datasets/artwork_sequence/prado_crawler/tour_8/items.json\n",
      "/root/work/datasets/artwork_sequence/prado_crawler/tour_4/items.json\n",
      "/root/work/datasets/artwork_sequence/prado_crawler/tour_24/items.json\n",
      "/root/work/datasets/artwork_sequence/prado_crawler/tour_27/items.json\n"
     ]
    }
   ],
   "source": [
    "#List museums\n",
    "for folder in os.listdir(BASE_PATH):\n",
    "    museum_path = os.path.join(BASE_PATH, folder)\n",
    "    #List tours inside the museum\n",
    "    for tour_folder in os.listdir(museum_path):\n",
    "        try:\n",
    "            #Load tour data\n",
    "            tour_path = os.path.join(museum_path, tour_folder)\n",
    "            df = create_dataframe(tour_path)\n",
    "            #Save data in csv format\n",
    "            df.to_csv(os.path.join(tour_path, 'metadata.csv' ), index=False)\n",
    "\n",
    "            #Encode artwork's tour\n",
    "            base_img_path = os.path.join(tour_path, 'images' )\n",
    "            df['code'] = df['id'].apply(encode_artworks, encoder=autoencoder_model, base_img_path=base_img_path)\n",
    "\n",
    "            #Save code matrix\n",
    "            encodes_list = list(df['code'])\n",
    "            encode_matrix = np.stack(encodes_list)\n",
    "            np.save(os.path.join(tour_path, 'code_matrix' ), encode_matrix)\n",
    "        except:\n",
    "            print(\"Problem with folder \" + tour_folder)"
   ]
  },
  {
   "cell_type": "code",
   "execution_count": 16,
   "metadata": {},
   "outputs": [
    {
     "data": {
      "text/html": [
       "<div>\n",
       "<table border=\"1\" class=\"dataframe\">\n",
       "  <thead>\n",
       "    <tr style=\"text-align: right;\">\n",
       "      <th></th>\n",
       "      <th>id</th>\n",
       "      <th>author</th>\n",
       "      <th>data</th>\n",
       "      <th>image_url</th>\n",
       "      <th>title</th>\n",
       "    </tr>\n",
       "  </thead>\n",
       "  <tbody>\n",
       "    <tr>\n",
       "      <th>0</th>\n",
       "      <td>1</td>\n",
       "      <td>pieter claesz.</td>\n",
       "      <td>1627</td>\n",
       "      <td>https://lh3.googleusercontent.com/uqHsSOyPEFvu...</td>\n",
       "      <td>still life with a turkey pie</td>\n",
       "    </tr>\n",
       "    <tr>\n",
       "      <th>1</th>\n",
       "      <td>2</td>\n",
       "      <td>jan havicksz. steen</td>\n",
       "      <td>1655</td>\n",
       "      <td>https://lh3.googleusercontent.com/fLsffYqD3Ex7...</td>\n",
       "      <td>adolf and catharina croeser known as the burgo...</td>\n",
       "    </tr>\n",
       "    <tr>\n",
       "      <th>2</th>\n",
       "      <td>3</td>\n",
       "      <td>jan brueghel (ii)</td>\n",
       "      <td>c. 1625 - c. 1630</td>\n",
       "      <td>https://lh3.googleusercontent.com/Z3PTxWguIfYH...</td>\n",
       "      <td>still life with flowers in a glass</td>\n",
       "    </tr>\n",
       "    <tr>\n",
       "      <th>3</th>\n",
       "      <td>4</td>\n",
       "      <td>jacob jordaens (i)</td>\n",
       "      <td>c. 1635 - c. 1636</td>\n",
       "      <td>https://lh3.googleusercontent.com/iogmFpVbkXpz...</td>\n",
       "      <td>portrait of magdalena de cuyper</td>\n",
       "    </tr>\n",
       "    <tr>\n",
       "      <th>4</th>\n",
       "      <td>5</td>\n",
       "      <td>jacob coeman</td>\n",
       "      <td>1665</td>\n",
       "      <td>https://lh3.googleusercontent.com/-iNszdtfmRNt...</td>\n",
       "      <td>pieter cnoll cornelia van nijenrode and their ...</td>\n",
       "    </tr>\n",
       "  </tbody>\n",
       "</table>\n",
       "</div>"
      ],
      "text/plain": [
       "   id               author               data  \\\n",
       "0   1       pieter claesz.               1627   \n",
       "1   2  jan havicksz. steen               1655   \n",
       "2   3    jan brueghel (ii)  c. 1625 - c. 1630   \n",
       "3   4   jacob jordaens (i)  c. 1635 - c. 1636   \n",
       "4   5         jacob coeman               1665   \n",
       "\n",
       "                                           image_url  \\\n",
       "0  https://lh3.googleusercontent.com/uqHsSOyPEFvu...   \n",
       "1  https://lh3.googleusercontent.com/fLsffYqD3Ex7...   \n",
       "2  https://lh3.googleusercontent.com/Z3PTxWguIfYH...   \n",
       "3  https://lh3.googleusercontent.com/iogmFpVbkXpz...   \n",
       "4  https://lh3.googleusercontent.com/-iNszdtfmRNt...   \n",
       "\n",
       "                                               title  \n",
       "0                       still life with a turkey pie  \n",
       "1  adolf and catharina croeser known as the burgo...  \n",
       "2                 still life with flowers in a glass  \n",
       "3                    portrait of magdalena de cuyper  \n",
       "4  pieter cnoll cornelia van nijenrode and their ...  "
      ]
     },
     "execution_count": 16,
     "metadata": {},
     "output_type": "execute_result"
    }
   ],
   "source": [
    "df = pd.read_csv('/root/work/datasets/artwork_sequence/rijksmuseum_crawler/tour_14/metadata.csv')\n",
    "df.head()"
   ]
  }
 ],
 "metadata": {
  "kernelspec": {
   "display_name": "Python 3",
   "language": "python",
   "name": "python3"
  },
  "language_info": {
   "codemirror_mode": {
    "name": "ipython",
    "version": 3
   },
   "file_extension": ".py",
   "mimetype": "text/x-python",
   "name": "python",
   "nbconvert_exporter": "python",
   "pygments_lexer": "ipython3",
   "version": "3.5.2"
  }
 },
 "nbformat": 4,
 "nbformat_minor": 2
}
