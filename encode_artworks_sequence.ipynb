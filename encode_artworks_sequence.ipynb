{
 "cells": [
  {
   "cell_type": "code",
   "execution_count": 2,
   "metadata": {},
   "outputs": [
    {
     "name": "stdout",
     "output_type": "stream",
     "text": [
      "2.0.0-beta1\n"
     ]
    }
   ],
   "source": [
    "import tensorflow as tf\n",
    "import tensorflow.python.keras\n",
    "#import keras\n",
    "from tensorflow.python.keras import backend as K\n",
    "import numpy as np\n",
    "import pandas as pd\n",
    "%matplotlib inline\n",
    "import matplotlib.pyplot as plt\n",
    "print(tf.__version__)\n",
    "import cv2  # for image processing\n",
    "from sklearn.model_selection import train_test_split\n",
    "import scipy.io\n",
    "import os\n",
    "import scipy\n",
    "#from scipy.spatial.distance import directed_hausdorff, cosine\n",
    "from IPython import display"
   ]
  },
  {
   "cell_type": "markdown",
   "metadata": {},
   "source": [
    "## Utils function"
   ]
  },
  {
   "cell_type": "markdown",
   "metadata": {},
   "source": [
    "**Create dataframe function**"
   ]
  },
  {
   "cell_type": "code",
   "execution_count": 3,
   "metadata": {},
   "outputs": [],
   "source": [
    "def create_dataframe(path):\n",
    "    abs_path = os.path.join(path, 'items.json' )\n",
    "    print(abs_path)\n",
    "    df_artworks = pd.read_json(abs_path)\n",
    "    df_artworks = df_artworks.set_index('id')\n",
    "    df_artworks = df_artworks.sort_index()\n",
    "    df_artworks = df_artworks.reset_index()\n",
    "    #clean data\n",
    "    df_artworks['data'] = df_artworks['data'].str.replace('\\r','')\n",
    "    return df_artworks"
   ]
  },
  {
   "cell_type": "markdown",
   "metadata": {},
   "source": [
    "**Encode artwork function**"
   ]
  },
  {
   "cell_type": "code",
   "execution_count": 4,
   "metadata": {},
   "outputs": [],
   "source": [
    "from arts_preprocess_utils import get_image\n",
    "\n",
    "def encode_artworks(x, encoder, base_img_path):\n",
    "\n",
    "    try:\n",
    "        img_path = os.path.join(base_img_path, str(x)+'.jpg')\n",
    "        # Images\n",
    "        image = get_image(img_path, img_Height=img_Height, img_Width=img_Width)\n",
    "\n",
    "        # Encode\n",
    "        code = encoder.predict(image)\n",
    "        \n",
    "        return code.reshape((-1,))\n",
    "\n",
    "    except:\n",
    "        print(\"Problem with file \" + x)\n",
    "        return None\n"
   ]
  },
  {
   "cell_type": "markdown",
   "metadata": {},
   "source": [
    "## Load encoder"
   ]
  },
  {
   "cell_type": "code",
   "execution_count": 5,
   "metadata": {},
   "outputs": [
    {
     "name": "stdout",
     "output_type": "stream",
     "text": [
      "WARNING:tensorflow:No training configuration found in save file: the model was *not* compiled. Compile it manually.\n"
     ]
    }
   ],
   "source": [
    "from tensorflow.python.keras.models import load_model\n",
    "\n",
    "autoencoder_model = load_model('/root/work/trained_models/denoisy_encoder.h5')"
   ]
  },
  {
   "cell_type": "markdown",
   "metadata": {},
   "source": [
    "## Load artwork's metadata"
   ]
  },
  {
   "cell_type": "code",
   "execution_count": null,
   "metadata": {},
   "outputs": [],
   "source": [
    "BASE_PATH = '/root/work/datasets/artwork_sequence/'\n",
    "\n",
    "#According to the dataset input used during autoencoder training\n",
    "img_Height = 128\n",
    "img_Width = 128\n",
    "chanels= 3\n",
    "N_CLASSES = 1"
   ]
  },
  {
   "cell_type": "code",
   "execution_count": null,
   "metadata": {},
   "outputs": [],
   "source": [
    "#List museums\n",
    "for folder in os.listdir(BASE_PATH):\n",
    "    museum_path = os.path.join(BASE_PATH, folder)\n",
    "    #List tours inside the museum\n",
    "    for tour_folder in os.listdir(museum_path):\n",
    "        try:\n",
    "            #Load tour data\n",
    "            tour_path = os.path.join(museum_path, tour_folder)\n",
    "            df = create_dataframe(tour_path)\n",
    "            #Save data in csv format\n",
    "            df.to_csv(os.path.join(tour_path, 'metadata.csv' ), index=False)\n",
    "\n",
    "            #Encode artwork's tour\n",
    "            base_img_path = os.path.join(tour_path, 'images' )\n",
    "            df['code'] = df['id'].apply(encode_artworks, encoder=autoencoder_model, base_img_path=base_img_path)\n",
    "\n",
    "            #Save code matrix\n",
    "            encodes_list = list(df['code'])\n",
    "            encode_matrix = np.stack(encodes_list)\n",
    "            np.save(os.path.join(tour_path, 'code_matrix' ), encode_matrix)\n",
    "        except:\n",
    "            print(\"Problem with folder \" + tour_folder)"
   ]
  },
  {
   "cell_type": "code",
   "execution_count": null,
   "metadata": {},
   "outputs": [],
   "source": [
    "df = pd.read_csv('/root/work/datasets/artwork_sequence/rijksmuseum_crawler/tour_14/metadata.csv')\n",
    "df.head()"
   ]
  },
  {
   "cell_type": "markdown",
   "metadata": {},
   "source": [
    "## Load all_metadata artworks dataframe"
   ]
  },
  {
   "cell_type": "code",
   "execution_count": 6,
   "metadata": {},
   "outputs": [],
   "source": [
    "BASE_PATH = '/root/work/datasets/artwork_sequence/'\n",
    "\n",
    "#According to the dataset input used during autoencoder training\n",
    "img_Height = 128\n",
    "img_Width = 128\n",
    "chanels= 3\n",
    "N_CLASSES = 1"
   ]
  },
  {
   "cell_type": "code",
   "execution_count": 7,
   "metadata": {},
   "outputs": [
    {
     "data": {
      "text/html": [
       "<div>\n",
       "<style scoped>\n",
       "    .dataframe tbody tr th:only-of-type {\n",
       "        vertical-align: middle;\n",
       "    }\n",
       "\n",
       "    .dataframe tbody tr th {\n",
       "        vertical-align: top;\n",
       "    }\n",
       "\n",
       "    .dataframe thead th {\n",
       "        text-align: right;\n",
       "    }\n",
       "</style>\n",
       "<table border=\"1\" class=\"dataframe\">\n",
       "  <thead>\n",
       "    <tr style=\"text-align: right;\">\n",
       "      <th></th>\n",
       "      <th>id</th>\n",
       "      <th>author</th>\n",
       "      <th>data</th>\n",
       "      <th>image_url</th>\n",
       "      <th>title</th>\n",
       "      <th>tour_path</th>\n",
       "    </tr>\n",
       "  </thead>\n",
       "  <tbody>\n",
       "    <tr>\n",
       "      <th>0</th>\n",
       "      <td>1</td>\n",
       "      <td>n.v. haagsche plateelfabriek rozenburg</td>\n",
       "      <td>1914</td>\n",
       "      <td>https://lh3.googleusercontent.com/IJn7rB4WvYvv...</td>\n",
       "      <td>vaas beschilderd met paarse seringen en op een...</td>\n",
       "      <td>/root/work/datasets/artwork_sequence/rijksmuse...</td>\n",
       "    </tr>\n",
       "    <tr>\n",
       "      <th>1</th>\n",
       "      <td>2</td>\n",
       "      <td>n.v. haagsche plateelfabriek rozenburg</td>\n",
       "      <td>1900</td>\n",
       "      <td>https://lh3.googleusercontent.com/l0ccWh5aCgP5...</td>\n",
       "      <td>vaas</td>\n",
       "      <td>/root/work/datasets/artwork_sequence/rijksmuse...</td>\n",
       "    </tr>\n",
       "    <tr>\n",
       "      <th>2</th>\n",
       "      <td>3</td>\n",
       "      <td>n.v. haagsche plateelfabriek rozenburg</td>\n",
       "      <td>1900</td>\n",
       "      <td>https://lh3.googleusercontent.com/uNQWFg-BhiPZ...</td>\n",
       "      <td>vase with lily decoration</td>\n",
       "      <td>/root/work/datasets/artwork_sequence/rijksmuse...</td>\n",
       "    </tr>\n",
       "    <tr>\n",
       "      <th>3</th>\n",
       "      <td>4</td>\n",
       "      <td>n.v. haagsche plateelfabriek rozenburg</td>\n",
       "      <td>1902</td>\n",
       "      <td>https://lh3.googleusercontent.com/QRdRjQDGyvDp...</td>\n",
       "      <td>vaas beschilderd met takken met seringen en ee...</td>\n",
       "      <td>/root/work/datasets/artwork_sequence/rijksmuse...</td>\n",
       "    </tr>\n",
       "    <tr>\n",
       "      <th>4</th>\n",
       "      <td>6</td>\n",
       "      <td>theo colenbrander</td>\n",
       "      <td>1886</td>\n",
       "      <td>https://lh3.googleusercontent.com/TZqVQVxb-1kl...</td>\n",
       "      <td>garniture of five vases</td>\n",
       "      <td>/root/work/datasets/artwork_sequence/rijksmuse...</td>\n",
       "    </tr>\n",
       "  </tbody>\n",
       "</table>\n",
       "</div>"
      ],
      "text/plain": [
       "   id                                  author  data  \\\n",
       "0   1  n.v. haagsche plateelfabriek rozenburg  1914   \n",
       "1   2  n.v. haagsche plateelfabriek rozenburg  1900   \n",
       "2   3  n.v. haagsche plateelfabriek rozenburg  1900   \n",
       "3   4  n.v. haagsche plateelfabriek rozenburg  1902   \n",
       "4   6                       theo colenbrander  1886   \n",
       "\n",
       "                                           image_url  \\\n",
       "0  https://lh3.googleusercontent.com/IJn7rB4WvYvv...   \n",
       "1  https://lh3.googleusercontent.com/l0ccWh5aCgP5...   \n",
       "2  https://lh3.googleusercontent.com/uNQWFg-BhiPZ...   \n",
       "3  https://lh3.googleusercontent.com/QRdRjQDGyvDp...   \n",
       "4  https://lh3.googleusercontent.com/TZqVQVxb-1kl...   \n",
       "\n",
       "                                               title  \\\n",
       "0  vaas beschilderd met paarse seringen en op een...   \n",
       "1                                               vaas   \n",
       "2                          vase with lily decoration   \n",
       "3  vaas beschilderd met takken met seringen en ee...   \n",
       "4                            garniture of five vases   \n",
       "\n",
       "                                           tour_path  \n",
       "0  /root/work/datasets/artwork_sequence/rijksmuse...  \n",
       "1  /root/work/datasets/artwork_sequence/rijksmuse...  \n",
       "2  /root/work/datasets/artwork_sequence/rijksmuse...  \n",
       "3  /root/work/datasets/artwork_sequence/rijksmuse...  \n",
       "4  /root/work/datasets/artwork_sequence/rijksmuse...  "
      ]
     },
     "execution_count": 7,
     "metadata": {},
     "output_type": "execute_result"
    }
   ],
   "source": [
    "df_all_metadata = pd.read_csv(os.path.join(BASE_PATH, 'all_metadata.csv'))\n",
    "df_all_metadata.head()"
   ]
  },
  {
   "cell_type": "code",
   "execution_count": 8,
   "metadata": {},
   "outputs": [
    {
     "data": {
      "text/plain": [
       "'/root/work/datasets/artwork_sequence/rijksmuseum_crawler/tour_21/images'"
      ]
     },
     "execution_count": 8,
     "metadata": {},
     "output_type": "execute_result"
    }
   ],
   "source": [
    "df_all_metadata['img_path'] = df_all_metadata['tour_path'].apply(lambda x : os.path.join(x, 'images'))\n",
    "df_all_metadata['img_path'].iloc[0]"
   ]
  },
  {
   "cell_type": "code",
   "execution_count": 9,
   "metadata": {},
   "outputs": [],
   "source": [
    "#Encode artwork's tour\n",
    "df_all_metadata.loc[:,'code'] = df_all_metadata.apply( lambda row : encode_artworks(x= row['id'], encoder=autoencoder_model, base_img_path=row['img_path']), axis = 1) \n",
    "\n",
    "#Save code matrix\n",
    "encodes_list = list(df_all_metadata['code'])\n",
    "encode_matrix = np.stack(encodes_list)\n",
    "np.save(os.path.join(BASE_PATH, 'all_code_matrix' ), encode_matrix)"
   ]
  },
  {
   "cell_type": "code",
   "execution_count": 10,
   "metadata": {},
   "outputs": [
    {
     "data": {
      "text/plain": [
       "(633, 300)"
      ]
     },
     "execution_count": 10,
     "metadata": {},
     "output_type": "execute_result"
    }
   ],
   "source": [
    "encode_matrix.shape"
   ]
  }
 ],
 "metadata": {
  "kernelspec": {
   "display_name": "Python 3",
   "language": "python",
   "name": "python3"
  },
  "language_info": {
   "codemirror_mode": {
    "name": "ipython",
    "version": 3
   },
   "file_extension": ".py",
   "mimetype": "text/x-python",
   "name": "python",
   "nbconvert_exporter": "python",
   "pygments_lexer": "ipython3",
   "version": "3.5.2"
  }
 },
 "nbformat": 4,
 "nbformat_minor": 2
}
