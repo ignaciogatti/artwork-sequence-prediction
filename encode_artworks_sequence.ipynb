{
 "cells": [
  {
   "cell_type": "code",
   "execution_count": null,
   "metadata": {},
   "outputs": [],
   "source": [
    "import tensorflow as tf\n",
    "import tensorflow.python.keras\n",
    "#import keras\n",
    "from tensorflow.python.keras import backend as K\n",
    "import numpy as np\n",
    "import pandas as pd\n",
    "%matplotlib inline\n",
    "import matplotlib.pyplot as plt\n",
    "print(tf.__version__)\n",
    "import cv2  # for image processing\n",
    "from sklearn.model_selection import train_test_split\n",
    "import scipy.io\n",
    "import os\n",
    "import scipy\n",
    "#from scipy.spatial.distance import directed_hausdorff, cosine\n",
    "from IPython import display"
   ]
  },
  {
   "cell_type": "markdown",
   "metadata": {},
   "source": [
    "## Utils function"
   ]
  },
  {
   "cell_type": "markdown",
   "metadata": {},
   "source": [
    "**Create dataframe function**"
   ]
  },
  {
   "cell_type": "code",
   "execution_count": null,
   "metadata": {},
   "outputs": [],
   "source": [
    "def create_dataframe(path):\n",
    "    abs_path = os.path.join(path, 'items.json' )\n",
    "    print(abs_path)\n",
    "    df_artworks = pd.read_json(abs_path)\n",
    "    df_artworks = df_artworks.set_index('id')\n",
    "    df_artworks = df_artworks.sort_index()\n",
    "    df_artworks = df_artworks.reset_index()\n",
    "    #clean data\n",
    "    df_artworks['data'] = df_artworks['data'].str.replace('\\r','')\n",
    "    return df_artworks"
   ]
  },
  {
   "cell_type": "markdown",
   "metadata": {},
   "source": [
    "**Encode artwork function**"
   ]
  },
  {
   "cell_type": "code",
   "execution_count": null,
   "metadata": {},
   "outputs": [],
   "source": [
    "from arts_preprocess_utils import get_image\n",
    "\n",
    "def encode_artworks(x, encoder, base_img_path):\n",
    "\n",
    "    try:\n",
    "        img_path = os.path.join(base_img_path, str(x)+'.jpg')\n",
    "        # Images\n",
    "        image = get_image(img_path, img_Height=img_Height, img_Width=img_Width)\n",
    "\n",
    "        # Encode\n",
    "        code = encoder.predict(image)\n",
    "        \n",
    "        return code.reshape((-1,))\n",
    "\n",
    "    except:\n",
    "        print(\"Problem with file \" + x)\n",
    "        return None\n"
   ]
  },
  {
   "cell_type": "markdown",
   "metadata": {},
   "source": [
    "## Load encoder"
   ]
  },
  {
   "cell_type": "code",
   "execution_count": null,
   "metadata": {},
   "outputs": [],
   "source": [
    "from tensorflow.python.keras.models import load_model\n",
    "\n",
    "autoencoder_model = load_model('/root/work/trained_models/denoisy_encoder.h5')"
   ]
  },
  {
   "cell_type": "markdown",
   "metadata": {},
   "source": [
    "## Load artwork's metadata"
   ]
  },
  {
   "cell_type": "code",
   "execution_count": null,
   "metadata": {},
   "outputs": [],
   "source": [
    "BASE_PATH = '/root/work/datasets/artwork_sequence/'\n",
    "\n",
    "#According to the dataset input used during autoencoder training\n",
    "img_Height = 128\n",
    "img_Width = 128\n",
    "chanels= 3\n",
    "N_CLASSES = 1"
   ]
  },
  {
   "cell_type": "code",
   "execution_count": null,
   "metadata": {},
   "outputs": [],
   "source": [
    "#List museums\n",
    "for folder in os.listdir(BASE_PATH):\n",
    "    museum_path = os.path.join(BASE_PATH, folder)\n",
    "    #List tours inside the museum\n",
    "    for tour_folder in os.listdir(museum_path):\n",
    "        try:\n",
    "            #Load tour data\n",
    "            tour_path = os.path.join(museum_path, tour_folder)\n",
    "            df = create_dataframe(tour_path)\n",
    "            #Save data in csv format\n",
    "            df.to_csv(os.path.join(tour_path, 'metadata.csv' ), index=False)\n",
    "\n",
    "            #Encode artwork's tour\n",
    "            base_img_path = os.path.join(tour_path, 'images' )\n",
    "            df['code'] = df['id'].apply(encode_artworks, encoder=autoencoder_model, base_img_path=base_img_path)\n",
    "\n",
    "            #Save code matrix\n",
    "            encodes_list = list(df['code'])\n",
    "            encode_matrix = np.stack(encodes_list)\n",
    "            np.save(os.path.join(tour_path, 'code_matrix' ), encode_matrix)\n",
    "        except:\n",
    "            print(\"Problem with folder \" + tour_folder)"
   ]
  },
  {
   "cell_type": "code",
   "execution_count": null,
   "metadata": {},
   "outputs": [],
   "source": [
    "df = pd.read_csv('/root/work/datasets/artwork_sequence/rijksmuseum_crawler/tour_14/metadata.csv')\n",
    "df.head()"
   ]
  },
  {
   "cell_type": "markdown",
   "metadata": {},
   "source": [
    "## Load all_metadata artworks dataframe"
   ]
  },
  {
   "cell_type": "code",
   "execution_count": null,
   "metadata": {},
   "outputs": [],
   "source": [
    "BASE_PATH = '/root/work/datasets/artwork_sequence/'\n",
    "\n",
    "#According to the dataset input used during autoencoder training\n",
    "img_Height = 128\n",
    "img_Width = 128\n",
    "chanels= 3\n",
    "N_CLASSES = 1"
   ]
  },
  {
   "cell_type": "code",
   "execution_count": null,
   "metadata": {},
   "outputs": [],
   "source": [
    "df_all_metadata = pd.read_csv(os.path.join(BASE_PATH, 'all_metadata.csv'))\n",
    "df_all_metadata.head()"
   ]
  },
  {
   "cell_type": "code",
   "execution_count": null,
   "metadata": {},
   "outputs": [],
   "source": [
    "df_all_metadata['img_path'] = df_all_metadata['tour_path'].apply(lambda x : os.path.join(x, 'images'))\n",
    "df_all_metadata['img_path'].iloc[0]"
   ]
  },
  {
   "cell_type": "code",
   "execution_count": null,
   "metadata": {},
   "outputs": [],
   "source": [
    "#Encode artwork's tour\n",
    "df_all_metadata.loc[:,'code'] = df_all_metadata.apply( lambda row : encode_artworks(x= row['id'], encoder=autoencoder_model, base_img_path=row['img_path']), axis = 1) \n",
    "\n",
    "#Save code matrix\n",
    "encodes_list = list(df_all_metadata['code'])\n",
    "encode_matrix = np.stack(encodes_list)\n",
    "np.save(os.path.join(BASE_PATH, 'all_code_matrix' ), encode_matrix)"
   ]
  },
  {
   "cell_type": "code",
   "execution_count": null,
   "metadata": {},
   "outputs": [],
   "source": [
    "encode_matrix.shape"
   ]
  }
 ],
 "metadata": {
  "kernelspec": {
   "display_name": "Python 3",
   "language": "python",
   "name": "python3"
  },
  "language_info": {
   "codemirror_mode": {
    "name": "ipython",
    "version": 3
   },
   "file_extension": ".py",
   "mimetype": "text/x-python",
   "name": "python",
   "nbconvert_exporter": "python",
   "pygments_lexer": "ipython3",
   "version": "3.5.2"
  }
 },
 "nbformat": 4,
 "nbformat_minor": 2
}
